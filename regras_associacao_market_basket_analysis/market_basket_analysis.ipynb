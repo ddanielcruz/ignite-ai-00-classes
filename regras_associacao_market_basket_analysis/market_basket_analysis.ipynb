{
 "cells": [
  {
   "cell_type": "code",
   "execution_count": 1,
   "metadata": {},
   "outputs": [],
   "source": [
    "# pipenv install pandas plotly mlxtend ipywidgets ipykernel nbformat matplotlib seaborn\n",
    "\n",
    "# EDA e Visualização de Dados\n",
    "import pandas as pd\n",
    "import numpy as np\n",
    "import plotly.express as px\n",
    "from plotly.subplots import make_subplots\n",
    "import matplotlib.pyplot as plt\n",
    "import seaborn as sns\n",
    "\n",
    "# ML\n",
    "from mlxtend.frequent_patterns import apriori, association_rules"
   ]
  },
  {
   "cell_type": "markdown",
   "metadata": {},
   "source": [
    "### Carregar os Dados"
   ]
  },
  {
   "cell_type": "code",
   "execution_count": 3,
   "metadata": {},
   "outputs": [],
   "source": [
    "# Carregar os dados no DF\n",
    "df_transacoes = pd.read_csv('./datasets/transactions_by_dept.csv', sep=',')"
   ]
  },
  {
   "cell_type": "code",
   "execution_count": 4,
   "metadata": {},
   "outputs": [
    {
     "name": "stdout",
     "output_type": "stream",
     "text": [
      "<class 'pandas.core.frame.DataFrame'>\n",
      "RangeIndex: 4539 entries, 0 to 4538\n",
      "Data columns (total 4 columns):\n",
      " #   Column   Non-Null Count  Dtype \n",
      "---  ------   --------------  ----- \n",
      " 0   POS Txn  4539 non-null   uint64\n",
      " 1   Dept     4539 non-null   object\n",
      " 2   ID       4539 non-null   int64 \n",
      " 3   Sales U  4539 non-null   int64 \n",
      "dtypes: int64(2), object(1), uint64(1)\n",
      "memory usage: 142.0+ KB\n"
     ]
    }
   ],
   "source": [
    "# Visualizar estrutura\n",
    "df_transacoes.info()"
   ]
  },
  {
   "cell_type": "code",
   "execution_count": 5,
   "metadata": {},
   "outputs": [
    {
     "data": {
      "text/html": [
       "<div>\n",
       "<style scoped>\n",
       "    .dataframe tbody tr th:only-of-type {\n",
       "        vertical-align: middle;\n",
       "    }\n",
       "\n",
       "    .dataframe tbody tr th {\n",
       "        vertical-align: top;\n",
       "    }\n",
       "\n",
       "    .dataframe thead th {\n",
       "        text-align: right;\n",
       "    }\n",
       "</style>\n",
       "<table border=\"1\" class=\"dataframe\">\n",
       "  <thead>\n",
       "    <tr style=\"text-align: right;\">\n",
       "      <th></th>\n",
       "      <th>POS Txn</th>\n",
       "      <th>Dept</th>\n",
       "      <th>ID</th>\n",
       "      <th>Sales U</th>\n",
       "    </tr>\n",
       "  </thead>\n",
       "  <tbody>\n",
       "    <tr>\n",
       "      <th>0</th>\n",
       "      <td>16120100160021008773</td>\n",
       "      <td>0261:HOSIERY</td>\n",
       "      <td>250</td>\n",
       "      <td>2</td>\n",
       "    </tr>\n",
       "    <tr>\n",
       "      <th>1</th>\n",
       "      <td>16120100160021008773</td>\n",
       "      <td>0634:VITAMINS &amp; HLTH AIDS</td>\n",
       "      <td>102</td>\n",
       "      <td>1</td>\n",
       "    </tr>\n",
       "    <tr>\n",
       "      <th>2</th>\n",
       "      <td>16120100160021008773</td>\n",
       "      <td>0879:PET SUPPLIES</td>\n",
       "      <td>158</td>\n",
       "      <td>2</td>\n",
       "    </tr>\n",
       "    <tr>\n",
       "      <th>3</th>\n",
       "      <td>16120100160021008773</td>\n",
       "      <td>0973:CANDY</td>\n",
       "      <td>175</td>\n",
       "      <td>2</td>\n",
       "    </tr>\n",
       "    <tr>\n",
       "      <th>4</th>\n",
       "      <td>16120100160021008773</td>\n",
       "      <td>0982:SPIRITS</td>\n",
       "      <td>176</td>\n",
       "      <td>1</td>\n",
       "    </tr>\n",
       "    <tr>\n",
       "      <th>5</th>\n",
       "      <td>16120100160021008773</td>\n",
       "      <td>0983:WINE</td>\n",
       "      <td>177</td>\n",
       "      <td>4</td>\n",
       "    </tr>\n",
       "    <tr>\n",
       "      <th>6</th>\n",
       "      <td>16120100160021008773</td>\n",
       "      <td>0991:TOBACCO</td>\n",
       "      <td>179</td>\n",
       "      <td>2</td>\n",
       "    </tr>\n",
       "    <tr>\n",
       "      <th>7</th>\n",
       "      <td>16120100160021008774</td>\n",
       "      <td>0597:HEALTH AIDS</td>\n",
       "      <td>93</td>\n",
       "      <td>1</td>\n",
       "    </tr>\n",
       "    <tr>\n",
       "      <th>8</th>\n",
       "      <td>16120100160021008774</td>\n",
       "      <td>0604:PERSONAL CARE</td>\n",
       "      <td>100</td>\n",
       "      <td>5</td>\n",
       "    </tr>\n",
       "    <tr>\n",
       "      <th>9</th>\n",
       "      <td>16120100160021008775</td>\n",
       "      <td>0819:PRE-RECORDED A/V</td>\n",
       "      <td>135</td>\n",
       "      <td>1</td>\n",
       "    </tr>\n",
       "  </tbody>\n",
       "</table>\n",
       "</div>"
      ],
      "text/plain": [
       "                POS Txn                       Dept   ID  Sales U\n",
       "0  16120100160021008773               0261:HOSIERY  250        2\n",
       "1  16120100160021008773  0634:VITAMINS & HLTH AIDS  102        1\n",
       "2  16120100160021008773          0879:PET SUPPLIES  158        2\n",
       "3  16120100160021008773                 0973:CANDY  175        2\n",
       "4  16120100160021008773               0982:SPIRITS  176        1\n",
       "5  16120100160021008773                  0983:WINE  177        4\n",
       "6  16120100160021008773               0991:TOBACCO  179        2\n",
       "7  16120100160021008774           0597:HEALTH AIDS   93        1\n",
       "8  16120100160021008774         0604:PERSONAL CARE  100        5\n",
       "9  16120100160021008775      0819:PRE-RECORDED A/V  135        1"
      ]
     },
     "execution_count": 5,
     "metadata": {},
     "output_type": "execute_result"
    }
   ],
   "source": [
    "# Visualizar os primeiros registros\n",
    "df_transacoes.head(10)"
   ]
  },
  {
   "cell_type": "code",
   "execution_count": 6,
   "metadata": {},
   "outputs": [
    {
     "data": {
      "text/html": [
       "<div>\n",
       "<style scoped>\n",
       "    .dataframe tbody tr th:only-of-type {\n",
       "        vertical-align: middle;\n",
       "    }\n",
       "\n",
       "    .dataframe tbody tr th {\n",
       "        vertical-align: top;\n",
       "    }\n",
       "\n",
       "    .dataframe thead th {\n",
       "        text-align: right;\n",
       "    }\n",
       "</style>\n",
       "<table border=\"1\" class=\"dataframe\">\n",
       "  <thead>\n",
       "    <tr style=\"text-align: right;\">\n",
       "      <th></th>\n",
       "      <th>POS Txn</th>\n",
       "      <th>Dept</th>\n",
       "      <th>ID</th>\n",
       "      <th>Sales U</th>\n",
       "    </tr>\n",
       "  </thead>\n",
       "  <tbody>\n",
       "    <tr>\n",
       "      <th>4529</th>\n",
       "      <td>16120100160162000841</td>\n",
       "      <td>0857:PC PERIPH/OFFICE ACC</td>\n",
       "      <td>155</td>\n",
       "      <td>1</td>\n",
       "    </tr>\n",
       "    <tr>\n",
       "      <th>4530</th>\n",
       "      <td>16120100160162000841</td>\n",
       "      <td>0931:BATH</td>\n",
       "      <td>165</td>\n",
       "      <td>1</td>\n",
       "    </tr>\n",
       "    <tr>\n",
       "      <th>4531</th>\n",
       "      <td>16120100160162000841</td>\n",
       "      <td>0941:BEDDING</td>\n",
       "      <td>167</td>\n",
       "      <td>1</td>\n",
       "    </tr>\n",
       "    <tr>\n",
       "      <th>4532</th>\n",
       "      <td>16120100160162000841</td>\n",
       "      <td>0991:TOBACCO</td>\n",
       "      <td>179</td>\n",
       "      <td>1</td>\n",
       "    </tr>\n",
       "    <tr>\n",
       "      <th>4533</th>\n",
       "      <td>16120100160162000842</td>\n",
       "      <td>0815:AUDIO ELECTRONICS</td>\n",
       "      <td>132</td>\n",
       "      <td>1</td>\n",
       "    </tr>\n",
       "    <tr>\n",
       "      <th>4534</th>\n",
       "      <td>16120100160162000843</td>\n",
       "      <td>0857:PC PERIPH/OFFICE ACC</td>\n",
       "      <td>155</td>\n",
       "      <td>1</td>\n",
       "    </tr>\n",
       "    <tr>\n",
       "      <th>4535</th>\n",
       "      <td>16120100160162000845</td>\n",
       "      <td>0395:MENS ATHLETIC SHOES</td>\n",
       "      <td>49</td>\n",
       "      <td>1</td>\n",
       "    </tr>\n",
       "    <tr>\n",
       "      <th>4536</th>\n",
       "      <td>16120100160162000845</td>\n",
       "      <td>0815:AUDIO ELECTRONICS</td>\n",
       "      <td>132</td>\n",
       "      <td>1</td>\n",
       "    </tr>\n",
       "    <tr>\n",
       "      <th>4537</th>\n",
       "      <td>16120100160162000846</td>\n",
       "      <td>0532:AMERICAN GREETINGS</td>\n",
       "      <td>72</td>\n",
       "      <td>1</td>\n",
       "    </tr>\n",
       "    <tr>\n",
       "      <th>4538</th>\n",
       "      <td>16120100160221001467</td>\n",
       "      <td>0066:VENDING/AMUSEMENT MA</td>\n",
       "      <td>242</td>\n",
       "      <td>1</td>\n",
       "    </tr>\n",
       "  </tbody>\n",
       "</table>\n",
       "</div>"
      ],
      "text/plain": [
       "                   POS Txn                       Dept   ID  Sales U\n",
       "4529  16120100160162000841  0857:PC PERIPH/OFFICE ACC  155        1\n",
       "4530  16120100160162000841                  0931:BATH  165        1\n",
       "4531  16120100160162000841               0941:BEDDING  167        1\n",
       "4532  16120100160162000841               0991:TOBACCO  179        1\n",
       "4533  16120100160162000842     0815:AUDIO ELECTRONICS  132        1\n",
       "4534  16120100160162000843  0857:PC PERIPH/OFFICE ACC  155        1\n",
       "4535  16120100160162000845   0395:MENS ATHLETIC SHOES   49        1\n",
       "4536  16120100160162000845     0815:AUDIO ELECTRONICS  132        1\n",
       "4537  16120100160162000846    0532:AMERICAN GREETINGS   72        1\n",
       "4538  16120100160221001467  0066:VENDING/AMUSEMENT MA  242        1"
      ]
     },
     "execution_count": 6,
     "metadata": {},
     "output_type": "execute_result"
    }
   ],
   "source": [
    "# Visualizar os últimos registros\n",
    "df_transacoes.tail(10)"
   ]
  },
  {
   "cell_type": "markdown",
   "metadata": {},
   "source": [
    "### EDA"
   ]
  },
  {
   "cell_type": "code",
   "execution_count": 10,
   "metadata": {},
   "outputs": [],
   "source": [
    "# Renomear as colunas para facilitar o entendimento\n",
    "df_transacoes.rename(columns={'POS Txn': 'ID_Transacao', 'Dept': 'Departamento',\n",
    "                              'ID': 'ID_Departamento', 'Sales U': 'Qtde_Vendida'}, inplace=True)"
   ]
  },
  {
   "cell_type": "code",
   "execution_count": 11,
   "metadata": {},
   "outputs": [
    {
     "name": "stdout",
     "output_type": "stream",
     "text": [
      "<class 'pandas.core.frame.DataFrame'>\n",
      "RangeIndex: 4539 entries, 0 to 4538\n",
      "Data columns (total 4 columns):\n",
      " #   Column           Non-Null Count  Dtype \n",
      "---  ------           --------------  ----- \n",
      " 0   ID_Transacao     4539 non-null   uint64\n",
      " 1   Departamento     4539 non-null   object\n",
      " 2   ID_Departamento  4539 non-null   int64 \n",
      " 3   Qtde_Vendida     4539 non-null   int64 \n",
      "dtypes: int64(2), object(1), uint64(1)\n",
      "memory usage: 142.0+ KB\n"
     ]
    }
   ],
   "source": [
    "# Visualizar estrutura\n",
    "df_transacoes.info()"
   ]
  },
  {
   "cell_type": "code",
   "execution_count": 19,
   "metadata": {},
   "outputs": [
    {
     "data": {
      "text/plain": [
       "156"
      ]
     },
     "execution_count": 19,
     "metadata": {},
     "output_type": "execute_result"
    }
   ],
   "source": [
    "# Quantidade de Departamentos\n",
    "df_transacoes['Departamento'].nunique()"
   ]
  },
  {
   "cell_type": "code",
   "execution_count": 18,
   "metadata": {},
   "outputs": [
    {
     "data": {
      "text/plain": [
       "156"
      ]
     },
     "execution_count": 18,
     "metadata": {},
     "output_type": "execute_result"
    }
   ],
   "source": [
    "# Quantidade de ID Departamentos\n",
    "df_transacoes['ID_Departamento'].nunique()"
   ]
  },
  {
   "cell_type": "code",
   "execution_count": 20,
   "metadata": {},
   "outputs": [
    {
     "data": {
      "text/plain": [
       "1943"
      ]
     },
     "execution_count": 20,
     "metadata": {},
     "output_type": "execute_result"
    }
   ],
   "source": [
    "# Quantidade de Transações\n",
    "df_transacoes['ID_Transacao'].nunique()"
   ]
  },
  {
   "cell_type": "code",
   "execution_count": 15,
   "metadata": {},
   "outputs": [
    {
     "data": {
      "text/plain": [
       "False"
      ]
     },
     "execution_count": 15,
     "metadata": {},
     "output_type": "execute_result"
    }
   ],
   "source": [
    "# Um departamento pode aparecer mais de uma vez na mesma transação?\n",
    "(len(df_transacoes.groupby(['ID_Transacao', 'Departamento'])) != len(df_transacoes))"
   ]
  },
  {
   "cell_type": "code",
   "execution_count": 16,
   "metadata": {},
   "outputs": [
    {
     "data": {
      "text/plain": [
       "149"
      ]
     },
     "execution_count": 16,
     "metadata": {},
     "output_type": "execute_result"
    }
   ],
   "source": [
    "# Checar se há quantidades negativas e iguais a zero (<=0)\n",
    "len(df_transacoes[df_transacoes['Qtde_Vendida'] <= 0])"
   ]
  },
  {
   "cell_type": "code",
   "execution_count": 17,
   "metadata": {},
   "outputs": [],
   "source": [
    "# Remover as linhas com quantidades vendidas <= 0\n",
    "df_transacoes = df_transacoes[df_transacoes['Qtde_Vendida'] > 0]"
   ]
  },
  {
   "cell_type": "code",
   "execution_count": 21,
   "metadata": {},
   "outputs": [
    {
     "data": {
      "application/vnd.plotly.v1+json": {
       "config": {
        "plotlyServerURL": "https://plot.ly"
       },
       "data": [
        {
         "alignmentgroup": "True",
         "hovertemplate": "Departamento=%{y}<br>value=%{x}<extra></extra>",
         "legendgroup": "0982:SPIRITS",
         "marker": {
          "color": "#636efa",
          "pattern": {
           "shape": ""
          }
         },
         "name": "0982:SPIRITS",
         "offsetgroup": "0982:SPIRITS",
         "orientation": "h",
         "showlegend": true,
         "textposition": "auto",
         "type": "bar",
         "x": [
          314
         ],
         "xaxis": "x",
         "y": [
          "0982:SPIRITS"
         ],
         "yaxis": "y"
        },
        {
         "alignmentgroup": "True",
         "hovertemplate": "Departamento=%{y}<br>value=%{x}<extra></extra>",
         "legendgroup": "0973:CANDY",
         "marker": {
          "color": "#EF553B",
          "pattern": {
           "shape": ""
          }
         },
         "name": "0973:CANDY",
         "offsetgroup": "0973:CANDY",
         "orientation": "h",
         "showlegend": true,
         "textposition": "auto",
         "type": "bar",
         "x": [
          275
         ],
         "xaxis": "x",
         "y": [
          "0973:CANDY"
         ],
         "yaxis": "y"
        },
        {
         "alignmentgroup": "True",
         "hovertemplate": "Departamento=%{y}<br>value=%{x}<extra></extra>",
         "legendgroup": "0962:BEVERAGES",
         "marker": {
          "color": "#00cc96",
          "pattern": {
           "shape": ""
          }
         },
         "name": "0962:BEVERAGES",
         "offsetgroup": "0962:BEVERAGES",
         "orientation": "h",
         "showlegend": true,
         "textposition": "auto",
         "type": "bar",
         "x": [
          253
         ],
         "xaxis": "x",
         "y": [
          "0962:BEVERAGES"
         ],
         "yaxis": "y"
        },
        {
         "alignmentgroup": "True",
         "hovertemplate": "Departamento=%{y}<br>value=%{x}<extra></extra>",
         "legendgroup": "0597:HEALTH AIDS",
         "marker": {
          "color": "#ab63fa",
          "pattern": {
           "shape": ""
          }
         },
         "name": "0597:HEALTH AIDS",
         "offsetgroup": "0597:HEALTH AIDS",
         "orientation": "h",
         "showlegend": true,
         "textposition": "auto",
         "type": "bar",
         "x": [
          200
         ],
         "xaxis": "x",
         "y": [
          "0597:HEALTH AIDS"
         ],
         "yaxis": "y"
        },
        {
         "alignmentgroup": "True",
         "hovertemplate": "Departamento=%{y}<br>value=%{x}<extra></extra>",
         "legendgroup": "0983:WINE",
         "marker": {
          "color": "#FFA15A",
          "pattern": {
           "shape": ""
          }
         },
         "name": "0983:WINE",
         "offsetgroup": "0983:WINE",
         "orientation": "h",
         "showlegend": true,
         "textposition": "auto",
         "type": "bar",
         "x": [
          191
         ],
         "xaxis": "x",
         "y": [
          "0983:WINE"
         ],
         "yaxis": "y"
        },
        {
         "alignmentgroup": "True",
         "hovertemplate": "Departamento=%{y}<br>value=%{x}<extra></extra>",
         "legendgroup": "0991:TOBACCO",
         "marker": {
          "color": "#19d3f3",
          "pattern": {
           "shape": ""
          }
         },
         "name": "0991:TOBACCO",
         "offsetgroup": "0991:TOBACCO",
         "orientation": "h",
         "showlegend": true,
         "textposition": "auto",
         "type": "bar",
         "x": [
          185
         ],
         "xaxis": "x",
         "y": [
          "0991:TOBACCO"
         ],
         "yaxis": "y"
        },
        {
         "alignmentgroup": "True",
         "hovertemplate": "Departamento=%{y}<br>value=%{x}<extra></extra>",
         "legendgroup": "0836:HOUSEHOLD CLEANING",
         "marker": {
          "color": "#FF6692",
          "pattern": {
           "shape": ""
          }
         },
         "name": "0836:HOUSEHOLD CLEANING",
         "offsetgroup": "0836:HOUSEHOLD CLEANING",
         "orientation": "h",
         "showlegend": true,
         "textposition": "auto",
         "type": "bar",
         "x": [
          158
         ],
         "xaxis": "x",
         "y": [
          "0836:HOUSEHOLD CLEANING"
         ],
         "yaxis": "y"
        },
        {
         "alignmentgroup": "True",
         "hovertemplate": "Departamento=%{y}<br>value=%{x}<extra></extra>",
         "legendgroup": "0604:PERSONAL CARE",
         "marker": {
          "color": "#B6E880",
          "pattern": {
           "shape": ""
          }
         },
         "name": "0604:PERSONAL CARE",
         "offsetgroup": "0604:PERSONAL CARE",
         "orientation": "h",
         "showlegend": true,
         "textposition": "auto",
         "type": "bar",
         "x": [
          150
         ],
         "xaxis": "x",
         "y": [
          "0604:PERSONAL CARE"
         ],
         "yaxis": "y"
        },
        {
         "alignmentgroup": "True",
         "hovertemplate": "Departamento=%{y}<br>value=%{x}<extra></extra>",
         "legendgroup": "0984:BEER",
         "marker": {
          "color": "#FF97FF",
          "pattern": {
           "shape": ""
          }
         },
         "name": "0984:BEER",
         "offsetgroup": "0984:BEER",
         "orientation": "h",
         "showlegend": true,
         "textposition": "auto",
         "type": "bar",
         "x": [
          132
         ],
         "xaxis": "x",
         "y": [
          "0984:BEER"
         ],
         "yaxis": "y"
        },
        {
         "alignmentgroup": "True",
         "hovertemplate": "Departamento=%{y}<br>value=%{x}<extra></extra>",
         "legendgroup": "0603:BEAUTY CARE",
         "marker": {
          "color": "#FECB52",
          "pattern": {
           "shape": ""
          }
         },
         "name": "0603:BEAUTY CARE",
         "offsetgroup": "0603:BEAUTY CARE",
         "orientation": "h",
         "showlegend": true,
         "textposition": "auto",
         "type": "bar",
         "x": [
          132
         ],
         "xaxis": "x",
         "y": [
          "0603:BEAUTY CARE"
         ],
         "yaxis": "y"
        },
        {
         "alignmentgroup": "True",
         "hovertemplate": "Departamento=%{y}<br>value=%{x}<extra></extra>",
         "legendgroup": "0072:BARBER SERVICES",
         "marker": {
          "color": "#636efa",
          "pattern": {
           "shape": ""
          }
         },
         "name": "0072:BARBER SERVICES",
         "offsetgroup": "0072:BARBER SERVICES",
         "orientation": "h",
         "showlegend": true,
         "textposition": "auto",
         "type": "bar",
         "x": [
          112
         ],
         "xaxis": "x",
         "y": [
          "0072:BARBER SERVICES"
         ],
         "yaxis": "y"
        },
        {
         "alignmentgroup": "True",
         "hovertemplate": "Departamento=%{y}<br>value=%{x}<extra></extra>",
         "legendgroup": "0532:AMERICAN GREETINGS",
         "marker": {
          "color": "#EF553B",
          "pattern": {
           "shape": ""
          }
         },
         "name": "0532:AMERICAN GREETINGS",
         "offsetgroup": "0532:AMERICAN GREETINGS",
         "orientation": "h",
         "showlegend": true,
         "textposition": "auto",
         "type": "bar",
         "x": [
          103
         ],
         "xaxis": "x",
         "y": [
          "0532:AMERICAN GREETINGS"
         ],
         "yaxis": "y"
        },
        {
         "alignmentgroup": "True",
         "hovertemplate": "Departamento=%{y}<br>value=%{x}<extra></extra>",
         "legendgroup": "0879:PET SUPPLIES",
         "marker": {
          "color": "#00cc96",
          "pattern": {
           "shape": ""
          }
         },
         "name": "0879:PET SUPPLIES",
         "offsetgroup": "0879:PET SUPPLIES",
         "orientation": "h",
         "showlegend": true,
         "textposition": "auto",
         "type": "bar",
         "x": [
          101
         ],
         "xaxis": "x",
         "y": [
          "0879:PET SUPPLIES"
         ],
         "yaxis": "y"
        },
        {
         "alignmentgroup": "True",
         "hovertemplate": "Departamento=%{y}<br>value=%{x}<extra></extra>",
         "legendgroup": "0961:GENERAL GROCERIES",
         "marker": {
          "color": "#ab63fa",
          "pattern": {
           "shape": ""
          }
         },
         "name": "0961:GENERAL GROCERIES",
         "offsetgroup": "0961:GENERAL GROCERIES",
         "orientation": "h",
         "showlegend": true,
         "textposition": "auto",
         "type": "bar",
         "x": [
          99
         ],
         "xaxis": "x",
         "y": [
          "0961:GENERAL GROCERIES"
         ],
         "yaxis": "y"
        },
        {
         "alignmentgroup": "True",
         "hovertemplate": "Departamento=%{y}<br>value=%{x}<extra></extra>",
         "legendgroup": "0646:SEASONAL",
         "marker": {
          "color": "#FFA15A",
          "pattern": {
           "shape": ""
          }
         },
         "name": "0646:SEASONAL",
         "offsetgroup": "0646:SEASONAL",
         "orientation": "h",
         "showlegend": true,
         "textposition": "auto",
         "type": "bar",
         "x": [
          87
         ],
         "xaxis": "x",
         "y": [
          "0646:SEASONAL"
         ],
         "yaxis": "y"
        },
        {
         "alignmentgroup": "True",
         "hovertemplate": "Departamento=%{y}<br>value=%{x}<extra></extra>",
         "legendgroup": "0640:TOYS",
         "marker": {
          "color": "#19d3f3",
          "pattern": {
           "shape": ""
          }
         },
         "name": "0640:TOYS",
         "offsetgroup": "0640:TOYS",
         "orientation": "h",
         "showlegend": true,
         "textposition": "auto",
         "type": "bar",
         "x": [
          65
         ],
         "xaxis": "x",
         "y": [
          "0640:TOYS"
         ],
         "yaxis": "y"
        },
        {
         "alignmentgroup": "True",
         "hovertemplate": "Departamento=%{y}<br>value=%{x}<extra></extra>",
         "legendgroup": "0530:SCHOOL/OFFIC SUPP",
         "marker": {
          "color": "#FF6692",
          "pattern": {
           "shape": ""
          }
         },
         "name": "0530:SCHOOL/OFFIC SUPP",
         "offsetgroup": "0530:SCHOOL/OFFIC SUPP",
         "orientation": "h",
         "showlegend": true,
         "textposition": "auto",
         "type": "bar",
         "x": [
          53
         ],
         "xaxis": "x",
         "y": [
          "0530:SCHOOL/OFFIC SUPP"
         ],
         "yaxis": "y"
        },
        {
         "alignmentgroup": "True",
         "hovertemplate": "Departamento=%{y}<br>value=%{x}<extra></extra>",
         "legendgroup": "0590:MASS COSMETICS",
         "marker": {
          "color": "#B6E880",
          "pattern": {
           "shape": ""
          }
         },
         "name": "0590:MASS COSMETICS",
         "offsetgroup": "0590:MASS COSMETICS",
         "orientation": "h",
         "showlegend": true,
         "textposition": "auto",
         "type": "bar",
         "x": [
          51
         ],
         "xaxis": "x",
         "y": [
          "0590:MASS COSMETICS"
         ],
         "yaxis": "y"
        },
        {
         "alignmentgroup": "True",
         "hovertemplate": "Departamento=%{y}<br>value=%{x}<extra></extra>",
         "legendgroup": "0837:GENERAL HOUSEWARES",
         "marker": {
          "color": "#FF97FF",
          "pattern": {
           "shape": ""
          }
         },
         "name": "0837:GENERAL HOUSEWARES",
         "offsetgroup": "0837:GENERAL HOUSEWARES",
         "orientation": "h",
         "showlegend": true,
         "textposition": "auto",
         "type": "bar",
         "x": [
          50
         ],
         "xaxis": "x",
         "y": [
          "0837:GENERAL HOUSEWARES"
         ],
         "yaxis": "y"
        },
        {
         "alignmentgroup": "True",
         "hovertemplate": "Departamento=%{y}<br>value=%{x}<extra></extra>",
         "legendgroup": "0826:SMALL ELECTRICS",
         "marker": {
          "color": "#FECB52",
          "pattern": {
           "shape": ""
          }
         },
         "name": "0826:SMALL ELECTRICS",
         "offsetgroup": "0826:SMALL ELECTRICS",
         "orientation": "h",
         "showlegend": true,
         "textposition": "auto",
         "type": "bar",
         "x": [
          48
         ],
         "xaxis": "x",
         "y": [
          "0826:SMALL ELECTRICS"
         ],
         "yaxis": "y"
        },
        {
         "alignmentgroup": "True",
         "hovertemplate": "Departamento=%{y}<br>value=%{x}<extra></extra>",
         "legendgroup": "0884:LAWN & GARDEN",
         "marker": {
          "color": "#636efa",
          "pattern": {
           "shape": ""
          }
         },
         "name": "0884:LAWN & GARDEN",
         "offsetgroup": "0884:LAWN & GARDEN",
         "orientation": "h",
         "showlegend": true,
         "textposition": "auto",
         "type": "bar",
         "x": [
          48
         ],
         "xaxis": "x",
         "y": [
          "0884:LAWN & GARDEN"
         ],
         "yaxis": "y"
        },
        {
         "alignmentgroup": "True",
         "hovertemplate": "Departamento=%{y}<br>value=%{x}<extra></extra>",
         "legendgroup": "0360:MENS FURNISHINGS",
         "marker": {
          "color": "#EF553B",
          "pattern": {
           "shape": ""
          }
         },
         "name": "0360:MENS FURNISHINGS",
         "offsetgroup": "0360:MENS FURNISHINGS",
         "orientation": "h",
         "showlegend": true,
         "textposition": "auto",
         "type": "bar",
         "x": [
          48
         ],
         "xaxis": "x",
         "y": [
          "0360:MENS FURNISHINGS"
         ],
         "yaxis": "y"
        },
        {
         "alignmentgroup": "True",
         "hovertemplate": "Departamento=%{y}<br>value=%{x}<extra></extra>",
         "legendgroup": "0380:MENS ACTIVEWEAR",
         "marker": {
          "color": "#00cc96",
          "pattern": {
           "shape": ""
          }
         },
         "name": "0380:MENS ACTIVEWEAR",
         "offsetgroup": "0380:MENS ACTIVEWEAR",
         "orientation": "h",
         "showlegend": true,
         "textposition": "auto",
         "type": "bar",
         "x": [
          47
         ],
         "xaxis": "x",
         "y": [
          "0380:MENS ACTIVEWEAR"
         ],
         "yaxis": "y"
        },
        {
         "alignmentgroup": "True",
         "hovertemplate": "Departamento=%{y}<br>value=%{x}<extra></extra>",
         "legendgroup": "0593:PRESTIGE COSMETICS",
         "marker": {
          "color": "#ab63fa",
          "pattern": {
           "shape": ""
          }
         },
         "name": "0593:PRESTIGE COSMETICS",
         "offsetgroup": "0593:PRESTIGE COSMETICS",
         "orientation": "h",
         "showlegend": true,
         "textposition": "auto",
         "type": "bar",
         "x": [
          44
         ],
         "xaxis": "x",
         "y": [
          "0593:PRESTIGE COSMETICS"
         ],
         "yaxis": "y"
        },
        {
         "alignmentgroup": "True",
         "hovertemplate": "Departamento=%{y}<br>value=%{x}<extra></extra>",
         "legendgroup": "0638:GEN SPORTING GOODS",
         "marker": {
          "color": "#FFA15A",
          "pattern": {
           "shape": ""
          }
         },
         "name": "0638:GEN SPORTING GOODS",
         "offsetgroup": "0638:GEN SPORTING GOODS",
         "orientation": "h",
         "showlegend": true,
         "textposition": "auto",
         "type": "bar",
         "x": [
          36
         ],
         "xaxis": "x",
         "y": [
          "0638:GEN SPORTING GOODS"
         ],
         "yaxis": "y"
        },
        {
         "alignmentgroup": "True",
         "hovertemplate": "Departamento=%{y}<br>value=%{x}<extra></extra>",
         "legendgroup": "0644:SPORTS NUTRITION",
         "marker": {
          "color": "#19d3f3",
          "pattern": {
           "shape": ""
          }
         },
         "name": "0644:SPORTS NUTRITION",
         "offsetgroup": "0644:SPORTS NUTRITION",
         "orientation": "h",
         "showlegend": true,
         "textposition": "auto",
         "type": "bar",
         "x": [
          36
         ],
         "xaxis": "x",
         "y": [
          "0644:SPORTS NUTRITION"
         ],
         "yaxis": "y"
        },
        {
         "alignmentgroup": "True",
         "hovertemplate": "Departamento=%{y}<br>value=%{x}<extra></extra>",
         "legendgroup": "0861:GENERAL HARDWARE",
         "marker": {
          "color": "#FF6692",
          "pattern": {
           "shape": ""
          }
         },
         "name": "0861:GENERAL HARDWARE",
         "offsetgroup": "0861:GENERAL HARDWARE",
         "orientation": "h",
         "showlegend": true,
         "textposition": "auto",
         "type": "bar",
         "x": [
          35
         ],
         "xaxis": "x",
         "y": [
          "0861:GENERAL HARDWARE"
         ],
         "yaxis": "y"
        },
        {
         "alignmentgroup": "True",
         "hovertemplate": "Departamento=%{y}<br>value=%{x}<extra></extra>",
         "legendgroup": "0598:BABY CARE",
         "marker": {
          "color": "#B6E880",
          "pattern": {
           "shape": ""
          }
         },
         "name": "0598:BABY CARE",
         "offsetgroup": "0598:BABY CARE",
         "orientation": "h",
         "showlegend": true,
         "textposition": "auto",
         "type": "bar",
         "x": [
          34
         ],
         "xaxis": "x",
         "y": [
          "0598:BABY CARE"
         ],
         "yaxis": "y"
        },
        {
         "alignmentgroup": "True",
         "hovertemplate": "Departamento=%{y}<br>value=%{x}<extra></extra>",
         "legendgroup": "0261:HOSIERY",
         "marker": {
          "color": "#FF97FF",
          "pattern": {
           "shape": ""
          }
         },
         "name": "0261:HOSIERY",
         "offsetgroup": "0261:HOSIERY",
         "orientation": "h",
         "showlegend": true,
         "textposition": "auto",
         "type": "bar",
         "x": [
          33
         ],
         "xaxis": "x",
         "y": [
          "0261:HOSIERY"
         ],
         "yaxis": "y"
        },
        {
         "alignmentgroup": "True",
         "hovertemplate": "Departamento=%{y}<br>value=%{x}<extra></extra>",
         "legendgroup": "0797:SEASONAL GIFTS",
         "marker": {
          "color": "#FECB52",
          "pattern": {
           "shape": ""
          }
         },
         "name": "0797:SEASONAL GIFTS",
         "offsetgroup": "0797:SEASONAL GIFTS",
         "orientation": "h",
         "showlegend": true,
         "textposition": "auto",
         "type": "bar",
         "x": [
          26
         ],
         "xaxis": "x",
         "y": [
          "0797:SEASONAL GIFTS"
         ],
         "yaxis": "y"
        },
        {
         "alignmentgroup": "True",
         "hovertemplate": "Departamento=%{y}<br>value=%{x}<extra></extra>",
         "legendgroup": "0359:MENS ACCESSORIES",
         "marker": {
          "color": "#636efa",
          "pattern": {
           "shape": ""
          }
         },
         "name": "0359:MENS ACCESSORIES",
         "offsetgroup": "0359:MENS ACCESSORIES",
         "orientation": "h",
         "showlegend": true,
         "textposition": "auto",
         "type": "bar",
         "x": [
          25
         ],
         "xaxis": "x",
         "y": [
          "0359:MENS ACCESSORIES"
         ],
         "yaxis": "y"
        },
        {
         "alignmentgroup": "True",
         "hovertemplate": "Departamento=%{y}<br>value=%{x}<extra></extra>",
         "legendgroup": "0822:THIRD PARTY GIFTCARD",
         "marker": {
          "color": "#EF553B",
          "pattern": {
           "shape": ""
          }
         },
         "name": "0822:THIRD PARTY GIFTCARD",
         "offsetgroup": "0822:THIRD PARTY GIFTCARD",
         "orientation": "h",
         "showlegend": true,
         "textposition": "auto",
         "type": "bar",
         "x": [
          24
         ],
         "xaxis": "x",
         "y": [
          "0822:THIRD PARTY GIFTCARD"
         ],
         "yaxis": "y"
        },
        {
         "alignmentgroup": "True",
         "hovertemplate": "Departamento=%{y}<br>value=%{x}<extra></extra>",
         "legendgroup": "0595:HOME/BATH",
         "marker": {
          "color": "#00cc96",
          "pattern": {
           "shape": ""
          }
         },
         "name": "0595:HOME/BATH",
         "offsetgroup": "0595:HOME/BATH",
         "orientation": "h",
         "showlegend": true,
         "textposition": "auto",
         "type": "bar",
         "x": [
          24
         ],
         "xaxis": "x",
         "y": [
          "0595:HOME/BATH"
         ],
         "yaxis": "y"
        },
        {
         "alignmentgroup": "True",
         "hovertemplate": "Departamento=%{y}<br>value=%{x}<extra></extra>",
         "legendgroup": "0391:MENS SHOES",
         "marker": {
          "color": "#ab63fa",
          "pattern": {
           "shape": ""
          }
         },
         "name": "0391:MENS SHOES",
         "offsetgroup": "0391:MENS SHOES",
         "orientation": "h",
         "showlegend": true,
         "textposition": "auto",
         "type": "bar",
         "x": [
          23
         ],
         "xaxis": "x",
         "y": [
          "0391:MENS SHOES"
         ],
         "yaxis": "y"
        },
        {
         "alignmentgroup": "True",
         "hovertemplate": "Departamento=%{y}<br>value=%{x}<extra></extra>",
         "legendgroup": "0815:AUDIO ELECTRONICS",
         "marker": {
          "color": "#FFA15A",
          "pattern": {
           "shape": ""
          }
         },
         "name": "0815:AUDIO ELECTRONICS",
         "offsetgroup": "0815:AUDIO ELECTRONICS",
         "orientation": "h",
         "showlegend": true,
         "textposition": "auto",
         "type": "bar",
         "x": [
          23
         ],
         "xaxis": "x",
         "y": [
          "0815:AUDIO ELECTRONICS"
         ],
         "yaxis": "y"
        },
        {
         "alignmentgroup": "True",
         "hovertemplate": "Departamento=%{y}<br>value=%{x}<extra></extra>",
         "legendgroup": "0634:VITAMINS & HLTH AIDS",
         "marker": {
          "color": "#19d3f3",
          "pattern": {
           "shape": ""
          }
         },
         "name": "0634:VITAMINS & HLTH AIDS",
         "offsetgroup": "0634:VITAMINS & HLTH AIDS",
         "orientation": "h",
         "showlegend": true,
         "textposition": "auto",
         "type": "bar",
         "x": [
          23
         ],
         "xaxis": "x",
         "y": [
          "0634:VITAMINS & HLTH AIDS"
         ],
         "yaxis": "y"
        },
        {
         "alignmentgroup": "True",
         "hovertemplate": "Departamento=%{y}<br>value=%{x}<extra></extra>",
         "legendgroup": "0240:SLEEPWEAR/LOUNGEWEAR",
         "marker": {
          "color": "#FF6692",
          "pattern": {
           "shape": ""
          }
         },
         "name": "0240:SLEEPWEAR/LOUNGEWEAR",
         "offsetgroup": "0240:SLEEPWEAR/LOUNGEWEAR",
         "orientation": "h",
         "showlegend": true,
         "textposition": "auto",
         "type": "bar",
         "x": [
          21
         ],
         "xaxis": "x",
         "y": [
          "0240:SLEEPWEAR/LOUNGEWEAR"
         ],
         "yaxis": "y"
        },
        {
         "alignmentgroup": "True",
         "hovertemplate": "Departamento=%{y}<br>value=%{x}<extra></extra>",
         "legendgroup": "0369:YOUNG MENS",
         "marker": {
          "color": "#B6E880",
          "pattern": {
           "shape": ""
          }
         },
         "name": "0369:YOUNG MENS",
         "offsetgroup": "0369:YOUNG MENS",
         "orientation": "h",
         "showlegend": true,
         "textposition": "auto",
         "type": "bar",
         "x": [
          21
         ],
         "xaxis": "x",
         "y": [
          "0369:YOUNG MENS"
         ],
         "yaxis": "y"
        },
        {
         "alignmentgroup": "True",
         "hovertemplate": "Departamento=%{y}<br>value=%{x}<extra></extra>",
         "legendgroup": "0581:BRIDGE JEWELRY",
         "marker": {
          "color": "#FF97FF",
          "pattern": {
           "shape": ""
          }
         },
         "name": "0581:BRIDGE JEWELRY",
         "offsetgroup": "0581:BRIDGE JEWELRY",
         "orientation": "h",
         "showlegend": true,
         "textposition": "auto",
         "type": "bar",
         "x": [
          21
         ],
         "xaxis": "x",
         "y": [
          "0581:BRIDGE JEWELRY"
         ],
         "yaxis": "y"
        },
        {
         "alignmentgroup": "True",
         "hovertemplate": "Departamento=%{y}<br>value=%{x}<extra></extra>",
         "legendgroup": "0845:AS SEEN ON TV",
         "marker": {
          "color": "#FECB52",
          "pattern": {
           "shape": ""
          }
         },
         "name": "0845:AS SEEN ON TV",
         "offsetgroup": "0845:AS SEEN ON TV",
         "orientation": "h",
         "showlegend": true,
         "textposition": "auto",
         "type": "bar",
         "x": [
          20
         ],
         "xaxis": "x",
         "y": [
          "0845:AS SEEN ON TV"
         ],
         "yaxis": "y"
        },
        {
         "alignmentgroup": "True",
         "hovertemplate": "Departamento=%{y}<br>value=%{x}<extra></extra>",
         "legendgroup": "0846:BATTERIES",
         "marker": {
          "color": "#636efa",
          "pattern": {
           "shape": ""
          }
         },
         "name": "0846:BATTERIES",
         "offsetgroup": "0846:BATTERIES",
         "orientation": "h",
         "showlegend": true,
         "textposition": "auto",
         "type": "bar",
         "x": [
          20
         ],
         "xaxis": "x",
         "y": [
          "0846:BATTERIES"
         ],
         "yaxis": "y"
        },
        {
         "alignmentgroup": "True",
         "hovertemplate": "Departamento=%{y}<br>value=%{x}<extra></extra>",
         "legendgroup": "0486:CHILDRENS FOOTWEAR",
         "marker": {
          "color": "#EF553B",
          "pattern": {
           "shape": ""
          }
         },
         "name": "0486:CHILDRENS FOOTWEAR",
         "offsetgroup": "0486:CHILDRENS FOOTWEAR",
         "orientation": "h",
         "showlegend": true,
         "textposition": "auto",
         "type": "bar",
         "x": [
          20
         ],
         "xaxis": "x",
         "y": [
          "0486:CHILDRENS FOOTWEAR"
         ],
         "yaxis": "y"
        },
        {
         "alignmentgroup": "True",
         "hovertemplate": "Departamento=%{y}<br>value=%{x}<extra></extra>",
         "legendgroup": "0589:SUNGLASSES",
         "marker": {
          "color": "#00cc96",
          "pattern": {
           "shape": ""
          }
         },
         "name": "0589:SUNGLASSES",
         "offsetgroup": "0589:SUNGLASSES",
         "orientation": "h",
         "showlegend": true,
         "textposition": "auto",
         "type": "bar",
         "x": [
          20
         ],
         "xaxis": "x",
         "y": [
          "0589:SUNGLASSES"
         ],
         "yaxis": "y"
        },
        {
         "alignmentgroup": "True",
         "hovertemplate": "Departamento=%{y}<br>value=%{x}<extra></extra>",
         "legendgroup": "0353:MENS OUTDOOR",
         "marker": {
          "color": "#ab63fa",
          "pattern": {
           "shape": ""
          }
         },
         "name": "0353:MENS OUTDOOR",
         "offsetgroup": "0353:MENS OUTDOOR",
         "orientation": "h",
         "showlegend": true,
         "textposition": "auto",
         "type": "bar",
         "x": [
          20
         ],
         "xaxis": "x",
         "y": [
          "0353:MENS OUTDOOR"
         ],
         "yaxis": "y"
        },
        {
         "alignmentgroup": "True",
         "hovertemplate": "Departamento=%{y}<br>value=%{x}<extra></extra>",
         "legendgroup": "0531:STATIONERY SUNDRIES",
         "marker": {
          "color": "#FFA15A",
          "pattern": {
           "shape": ""
          }
         },
         "name": "0531:STATIONERY SUNDRIES",
         "offsetgroup": "0531:STATIONERY SUNDRIES",
         "orientation": "h",
         "showlegend": true,
         "textposition": "auto",
         "type": "bar",
         "x": [
          19
         ],
         "xaxis": "x",
         "y": [
          "0531:STATIONERY SUNDRIES"
         ],
         "yaxis": "y"
        },
        {
         "alignmentgroup": "True",
         "hovertemplate": "Departamento=%{y}<br>value=%{x}<extra></extra>",
         "legendgroup": "0585:WATCHES",
         "marker": {
          "color": "#19d3f3",
          "pattern": {
           "shape": ""
          }
         },
         "name": "0585:WATCHES",
         "offsetgroup": "0585:WATCHES",
         "orientation": "h",
         "showlegend": true,
         "textposition": "auto",
         "type": "bar",
         "x": [
          19
         ],
         "xaxis": "x",
         "y": [
          "0585:WATCHES"
         ],
         "yaxis": "y"
        },
        {
         "alignmentgroup": "True",
         "hovertemplate": "Departamento=%{y}<br>value=%{x}<extra></extra>",
         "legendgroup": "0271:HANDBAGS",
         "marker": {
          "color": "#FF6692",
          "pattern": {
           "shape": ""
          }
         },
         "name": "0271:HANDBAGS",
         "offsetgroup": "0271:HANDBAGS",
         "orientation": "h",
         "showlegend": true,
         "textposition": "auto",
         "type": "bar",
         "x": [
          19
         ],
         "xaxis": "x",
         "y": [
          "0271:HANDBAGS"
         ],
         "yaxis": "y"
        },
        {
         "alignmentgroup": "True",
         "hovertemplate": "Departamento=%{y}<br>value=%{x}<extra></extra>",
         "legendgroup": "0110:LDS OUTERWEAR/OUTDR",
         "marker": {
          "color": "#B6E880",
          "pattern": {
           "shape": ""
          }
         },
         "name": "0110:LDS OUTERWEAR/OUTDR",
         "offsetgroup": "0110:LDS OUTERWEAR/OUTDR",
         "orientation": "h",
         "showlegend": true,
         "textposition": "auto",
         "type": "bar",
         "x": [
          19
         ],
         "xaxis": "x",
         "y": [
          "0110:LDS OUTERWEAR/OUTDR"
         ],
         "yaxis": "y"
        },
        {
         "alignmentgroup": "True",
         "hovertemplate": "Departamento=%{y}<br>value=%{x}<extra></extra>",
         "legendgroup": "0395:MENS ATHLETIC SHOES",
         "marker": {
          "color": "#FF97FF",
          "pattern": {
           "shape": ""
          }
         },
         "name": "0395:MENS ATHLETIC SHOES",
         "offsetgroup": "0395:MENS ATHLETIC SHOES",
         "orientation": "h",
         "showlegend": true,
         "textposition": "auto",
         "type": "bar",
         "x": [
          18
         ],
         "xaxis": "x",
         "y": [
          "0395:MENS ATHLETIC SHOES"
         ],
         "yaxis": "y"
        },
        {
         "alignmentgroup": "True",
         "hovertemplate": "Departamento=%{y}<br>value=%{x}<extra></extra>",
         "legendgroup": "0071:BEAUTY RETAIL",
         "marker": {
          "color": "#FECB52",
          "pattern": {
           "shape": ""
          }
         },
         "name": "0071:BEAUTY RETAIL",
         "offsetgroup": "0071:BEAUTY RETAIL",
         "orientation": "h",
         "showlegend": true,
         "textposition": "auto",
         "type": "bar",
         "x": [
          18
         ],
         "xaxis": "x",
         "y": [
          "0071:BEAUTY RETAIL"
         ],
         "yaxis": "y"
        },
        {
         "alignmentgroup": "True",
         "hovertemplate": "Departamento=%{y}<br>value=%{x}<extra></extra>",
         "legendgroup": "0811:TELEVISION",
         "marker": {
          "color": "#636efa",
          "pattern": {
           "shape": ""
          }
         },
         "name": "0811:TELEVISION",
         "offsetgroup": "0811:TELEVISION",
         "orientation": "h",
         "showlegend": true,
         "textposition": "auto",
         "type": "bar",
         "x": [
          18
         ],
         "xaxis": "x",
         "y": [
          "0811:TELEVISION"
         ],
         "yaxis": "y"
        },
        {
         "alignmentgroup": "True",
         "hovertemplate": "Departamento=%{y}<br>value=%{x}<extra></extra>",
         "legendgroup": "0415:NEWBORN APPAREL",
         "marker": {
          "color": "#EF553B",
          "pattern": {
           "shape": ""
          }
         },
         "name": "0415:NEWBORN APPAREL",
         "offsetgroup": "0415:NEWBORN APPAREL",
         "orientation": "h",
         "showlegend": true,
         "textposition": "auto",
         "type": "bar",
         "x": [
          18
         ],
         "xaxis": "x",
         "y": [
          "0415:NEWBORN APPAREL"
         ],
         "yaxis": "y"
        },
        {
         "alignmentgroup": "True",
         "hovertemplate": "Departamento=%{y}<br>value=%{x}<extra></extra>",
         "legendgroup": "0931:BATH",
         "marker": {
          "color": "#00cc96",
          "pattern": {
           "shape": ""
          }
         },
         "name": "0931:BATH",
         "offsetgroup": "0931:BATH",
         "orientation": "h",
         "showlegend": true,
         "textposition": "auto",
         "type": "bar",
         "x": [
          17
         ],
         "xaxis": "x",
         "y": [
          "0931:BATH"
         ],
         "yaxis": "y"
        },
        {
         "alignmentgroup": "True",
         "hovertemplate": "Departamento=%{y}<br>value=%{x}<extra></extra>",
         "legendgroup": "0795:HOME DECOR",
         "marker": {
          "color": "#ab63fa",
          "pattern": {
           "shape": ""
          }
         },
         "name": "0795:HOME DECOR",
         "offsetgroup": "0795:HOME DECOR",
         "orientation": "h",
         "showlegend": true,
         "textposition": "auto",
         "type": "bar",
         "x": [
          16
         ],
         "xaxis": "x",
         "y": [
          "0795:HOME DECOR"
         ],
         "yaxis": "y"
        },
        {
         "alignmentgroup": "True",
         "hovertemplate": "Departamento=%{y}<br>value=%{x}<extra></extra>",
         "legendgroup": "0554:TELECOMMUNICATIONS",
         "marker": {
          "color": "#FFA15A",
          "pattern": {
           "shape": ""
          }
         },
         "name": "0554:TELECOMMUNICATIONS",
         "offsetgroup": "0554:TELECOMMUNICATIONS",
         "orientation": "h",
         "showlegend": true,
         "textposition": "auto",
         "type": "bar",
         "x": [
          16
         ],
         "xaxis": "x",
         "y": [
          "0554:TELECOMMUNICATIONS"
         ],
         "yaxis": "y"
        },
        {
         "alignmentgroup": "True",
         "hovertemplate": "Departamento=%{y}<br>value=%{x}<extra></extra>",
         "legendgroup": "0280:FASHION ACCESSORIES",
         "marker": {
          "color": "#19d3f3",
          "pattern": {
           "shape": ""
          }
         },
         "name": "0280:FASHION ACCESSORIES",
         "offsetgroup": "0280:FASHION ACCESSORIES",
         "orientation": "h",
         "showlegend": true,
         "textposition": "auto",
         "type": "bar",
         "x": [
          16
         ],
         "xaxis": "x",
         "y": [
          "0280:FASHION ACCESSORIES"
         ],
         "yaxis": "y"
        },
        {
         "alignmentgroup": "True",
         "hovertemplate": "Departamento=%{y}<br>value=%{x}<extra></extra>",
         "legendgroup": "0230:DAYWEAR",
         "marker": {
          "color": "#FF6692",
          "pattern": {
           "shape": ""
          }
         },
         "name": "0230:DAYWEAR",
         "offsetgroup": "0230:DAYWEAR",
         "orientation": "h",
         "showlegend": true,
         "textposition": "auto",
         "type": "bar",
         "x": [
          16
         ],
         "xaxis": "x",
         "y": [
          "0230:DAYWEAR"
         ],
         "yaxis": "y"
        },
        {
         "alignmentgroup": "True",
         "hovertemplate": "Departamento=%{y}<br>value=%{x}<extra></extra>",
         "legendgroup": "0416:INFANT APPAREL",
         "marker": {
          "color": "#B6E880",
          "pattern": {
           "shape": ""
          }
         },
         "name": "0416:INFANT APPAREL",
         "offsetgroup": "0416:INFANT APPAREL",
         "orientation": "h",
         "showlegend": true,
         "textposition": "auto",
         "type": "bar",
         "x": [
          16
         ],
         "xaxis": "x",
         "y": [
          "0416:INFANT APPAREL"
         ],
         "yaxis": "y"
        },
        {
         "alignmentgroup": "True",
         "hovertemplate": "Departamento=%{y}<br>value=%{x}<extra></extra>",
         "legendgroup": "0161:MISSY KAREN SCOTT",
         "marker": {
          "color": "#FF97FF",
          "pattern": {
           "shape": ""
          }
         },
         "name": "0161:MISSY KAREN SCOTT",
         "offsetgroup": "0161:MISSY KAREN SCOTT",
         "orientation": "h",
         "showlegend": true,
         "textposition": "auto",
         "type": "bar",
         "x": [
          15
         ],
         "xaxis": "x",
         "y": [
          "0161:MISSY KAREN SCOTT"
         ],
         "yaxis": "y"
        },
        {
         "alignmentgroup": "True",
         "hovertemplate": "Departamento=%{y}<br>value=%{x}<extra></extra>",
         "legendgroup": "0167:MISSY TOPS",
         "marker": {
          "color": "#FECB52",
          "pattern": {
           "shape": ""
          }
         },
         "name": "0167:MISSY TOPS",
         "offsetgroup": "0167:MISSY TOPS",
         "orientation": "h",
         "showlegend": true,
         "textposition": "auto",
         "type": "bar",
         "x": [
          15
         ],
         "xaxis": "x",
         "y": [
          "0167:MISSY TOPS"
         ],
         "yaxis": "y"
        },
        {
         "alignmentgroup": "True",
         "hovertemplate": "Departamento=%{y}<br>value=%{x}<extra></extra>",
         "legendgroup": "0163:JUNIOR TOPS",
         "marker": {
          "color": "#636efa",
          "pattern": {
           "shape": ""
          }
         },
         "name": "0163:JUNIOR TOPS",
         "offsetgroup": "0163:JUNIOR TOPS",
         "orientation": "h",
         "showlegend": true,
         "textposition": "auto",
         "type": "bar",
         "x": [
          15
         ],
         "xaxis": "x",
         "y": [
          "0163:JUNIOR TOPS"
         ],
         "yaxis": "y"
        },
        {
         "alignmentgroup": "True",
         "hovertemplate": "Departamento=%{y}<br>value=%{x}<extra></extra>",
         "legendgroup": "0343:MENS DENIM JEANS",
         "marker": {
          "color": "#EF553B",
          "pattern": {
           "shape": ""
          }
         },
         "name": "0343:MENS DENIM JEANS",
         "offsetgroup": "0343:MENS DENIM JEANS",
         "orientation": "h",
         "showlegend": true,
         "textposition": "auto",
         "type": "bar",
         "x": [
          15
         ],
         "xaxis": "x",
         "y": [
          "0343:MENS DENIM JEANS"
         ],
         "yaxis": "y"
        },
        {
         "alignmentgroup": "True",
         "hovertemplate": "Departamento=%{y}<br>value=%{x}<extra></extra>",
         "legendgroup": "0941:BEDDING",
         "marker": {
          "color": "#00cc96",
          "pattern": {
           "shape": ""
          }
         },
         "name": "0941:BEDDING",
         "offsetgroup": "0941:BEDDING",
         "orientation": "h",
         "showlegend": true,
         "textposition": "auto",
         "type": "bar",
         "x": [
          15
         ],
         "xaxis": "x",
         "y": [
          "0941:BEDDING"
         ],
         "yaxis": "y"
        },
        {
         "alignmentgroup": "True",
         "hovertemplate": "Departamento=%{y}<br>value=%{x}<extra></extra>",
         "legendgroup": "0056:SOUVENIR",
         "marker": {
          "color": "#ab63fa",
          "pattern": {
           "shape": ""
          }
         },
         "name": "0056:SOUVENIR",
         "offsetgroup": "0056:SOUVENIR",
         "orientation": "h",
         "showlegend": true,
         "textposition": "auto",
         "type": "bar",
         "x": [
          15
         ],
         "xaxis": "x",
         "y": [
          "0056:SOUVENIR"
         ],
         "yaxis": "y"
        },
        {
         "alignmentgroup": "True",
         "hovertemplate": "Departamento=%{y}<br>value=%{x}<extra></extra>",
         "legendgroup": "0850:PC HDWR & OFFICE EQP",
         "marker": {
          "color": "#FFA15A",
          "pattern": {
           "shape": ""
          }
         },
         "name": "0850:PC HDWR & OFFICE EQP",
         "offsetgroup": "0850:PC HDWR & OFFICE EQP",
         "orientation": "h",
         "showlegend": true,
         "textposition": "auto",
         "type": "bar",
         "x": [
          15
         ],
         "xaxis": "x",
         "y": [
          "0850:PC HDWR & OFFICE EQP"
         ],
         "yaxis": "y"
        },
        {
         "alignmentgroup": "True",
         "hovertemplate": "Departamento=%{y}<br>value=%{x}<extra></extra>",
         "legendgroup": "0469:BOYS ACCESSORIES",
         "marker": {
          "color": "#19d3f3",
          "pattern": {
           "shape": ""
          }
         },
         "name": "0469:BOYS ACCESSORIES",
         "offsetgroup": "0469:BOYS ACCESSORIES",
         "orientation": "h",
         "showlegend": true,
         "textposition": "auto",
         "type": "bar",
         "x": [
          14
         ],
         "xaxis": "x",
         "y": [
          "0469:BOYS ACCESSORIES"
         ],
         "yaxis": "y"
        },
        {
         "alignmentgroup": "True",
         "hovertemplate": "Departamento=%{y}<br>value=%{x}<extra></extra>",
         "legendgroup": "0854:VIDEO GAMES",
         "marker": {
          "color": "#FF6692",
          "pattern": {
           "shape": ""
          }
         },
         "name": "0854:VIDEO GAMES",
         "offsetgroup": "0854:VIDEO GAMES",
         "orientation": "h",
         "showlegend": true,
         "textposition": "auto",
         "type": "bar",
         "x": [
          14
         ],
         "xaxis": "x",
         "y": [
          "0854:VIDEO GAMES"
         ],
         "yaxis": "y"
        },
        {
         "alignmentgroup": "True",
         "hovertemplate": "Departamento=%{y}<br>value=%{x}<extra></extra>",
         "legendgroup": "0449:GIRLS ACCESSORIES",
         "marker": {
          "color": "#B6E880",
          "pattern": {
           "shape": ""
          }
         },
         "name": "0449:GIRLS ACCESSORIES",
         "offsetgroup": "0449:GIRLS ACCESSORIES",
         "orientation": "h",
         "showlegend": true,
         "textposition": "auto",
         "type": "bar",
         "x": [
          14
         ],
         "xaxis": "x",
         "y": [
          "0449:GIRLS ACCESSORIES"
         ],
         "yaxis": "y"
        },
        {
         "alignmentgroup": "True",
         "hovertemplate": "Departamento=%{y}<br>value=%{x}<extra></extra>",
         "legendgroup": "0639:TEAM SPORTING GOODS",
         "marker": {
          "color": "#FF97FF",
          "pattern": {
           "shape": ""
          }
         },
         "name": "0639:TEAM SPORTING GOODS",
         "offsetgroup": "0639:TEAM SPORTING GOODS",
         "orientation": "h",
         "showlegend": true,
         "textposition": "auto",
         "type": "bar",
         "x": [
          14
         ],
         "xaxis": "x",
         "y": [
          "0639:TEAM SPORTING GOODS"
         ],
         "yaxis": "y"
        },
        {
         "alignmentgroup": "True",
         "hovertemplate": "Departamento=%{y}<br>value=%{x}<extra></extra>",
         "legendgroup": "0680:AUTOMOTIVE",
         "marker": {
          "color": "#FECB52",
          "pattern": {
           "shape": ""
          }
         },
         "name": "0680:AUTOMOTIVE",
         "offsetgroup": "0680:AUTOMOTIVE",
         "orientation": "h",
         "showlegend": true,
         "textposition": "auto",
         "type": "bar",
         "x": [
          14
         ],
         "xaxis": "x",
         "y": [
          "0680:AUTOMOTIVE"
         ],
         "yaxis": "y"
        },
        {
         "alignmentgroup": "True",
         "hovertemplate": "Departamento=%{y}<br>value=%{x}<extra></extra>",
         "legendgroup": "0368:TRAD COLLECTIONS",
         "marker": {
          "color": "#636efa",
          "pattern": {
           "shape": ""
          }
         },
         "name": "0368:TRAD COLLECTIONS",
         "offsetgroup": "0368:TRAD COLLECTIONS",
         "orientation": "h",
         "showlegend": true,
         "textposition": "auto",
         "type": "bar",
         "x": [
          14
         ],
         "xaxis": "x",
         "y": [
          "0368:TRAD COLLECTIONS"
         ],
         "yaxis": "y"
        },
        {
         "alignmentgroup": "True",
         "hovertemplate": "Departamento=%{y}<br>value=%{x}<extra></extra>",
         "legendgroup": "0421:TODDLER GIRL APPAREL",
         "marker": {
          "color": "#EF553B",
          "pattern": {
           "shape": ""
          }
         },
         "name": "0421:TODDLER GIRL APPAREL",
         "offsetgroup": "0421:TODDLER GIRL APPAREL",
         "orientation": "h",
         "showlegend": true,
         "textposition": "auto",
         "type": "bar",
         "x": [
          14
         ],
         "xaxis": "x",
         "y": [
          "0421:TODDLER GIRL APPAREL"
         ],
         "yaxis": "y"
        },
        {
         "alignmentgroup": "True",
         "hovertemplate": "Departamento=%{y}<br>value=%{x}<extra></extra>",
         "legendgroup": "0636:FITNESS/EXERCISE",
         "marker": {
          "color": "#00cc96",
          "pattern": {
           "shape": ""
          }
         },
         "name": "0636:FITNESS/EXERCISE",
         "offsetgroup": "0636:FITNESS/EXERCISE",
         "orientation": "h",
         "showlegend": true,
         "textposition": "auto",
         "type": "bar",
         "x": [
          13
         ],
         "xaxis": "x",
         "y": [
          "0636:FITNESS/EXERCISE"
         ],
         "yaxis": "y"
        },
        {
         "alignmentgroup": "True",
         "hovertemplate": "Departamento=%{y}<br>value=%{x}<extra></extra>",
         "legendgroup": "0965:PERISHABLES",
         "marker": {
          "color": "#ab63fa",
          "pattern": {
           "shape": ""
          }
         },
         "name": "0965:PERISHABLES",
         "offsetgroup": "0965:PERISHABLES",
         "orientation": "h",
         "showlegend": true,
         "textposition": "auto",
         "type": "bar",
         "x": [
          13
         ],
         "xaxis": "x",
         "y": [
          "0965:PERISHABLES"
         ],
         "yaxis": "y"
        },
        {
         "alignmentgroup": "True",
         "hovertemplate": "Departamento=%{y}<br>value=%{x}<extra></extra>",
         "legendgroup": "0411:PEGABLES",
         "marker": {
          "color": "#FFA15A",
          "pattern": {
           "shape": ""
          }
         },
         "name": "0411:PEGABLES",
         "offsetgroup": "0411:PEGABLES",
         "orientation": "h",
         "showlegend": true,
         "textposition": "auto",
         "type": "bar",
         "x": [
          13
         ],
         "xaxis": "x",
         "y": [
          "0411:PEGABLES"
         ],
         "yaxis": "y"
        },
        {
         "alignmentgroup": "True",
         "hovertemplate": "Departamento=%{y}<br>value=%{x}<extra></extra>",
         "legendgroup": "0930:TABLE TOP & KITCHEN",
         "marker": {
          "color": "#19d3f3",
          "pattern": {
           "shape": ""
          }
         },
         "name": "0930:TABLE TOP & KITCHEN",
         "offsetgroup": "0930:TABLE TOP & KITCHEN",
         "orientation": "h",
         "showlegend": true,
         "textposition": "auto",
         "type": "bar",
         "x": [
          13
         ],
         "xaxis": "x",
         "y": [
          "0930:TABLE TOP & KITCHEN"
         ],
         "yaxis": "y"
        },
        {
         "alignmentgroup": "True",
         "hovertemplate": "Departamento=%{y}<br>value=%{x}<extra></extra>",
         "legendgroup": "0999:UNSCANNED ITEMS",
         "marker": {
          "color": "#FF6692",
          "pattern": {
           "shape": ""
          }
         },
         "name": "0999:UNSCANNED ITEMS",
         "offsetgroup": "0999:UNSCANNED ITEMS",
         "orientation": "h",
         "showlegend": true,
         "textposition": "auto",
         "type": "bar",
         "x": [
          13
         ],
         "xaxis": "x",
         "y": [
          "0999:UNSCANNED ITEMS"
         ],
         "yaxis": "y"
        },
        {
         "alignmentgroup": "True",
         "hovertemplate": "Departamento=%{y}<br>value=%{x}<extra></extra>",
         "legendgroup": "0193:LADIES ACTIVEWEAR",
         "marker": {
          "color": "#B6E880",
          "pattern": {
           "shape": ""
          }
         },
         "name": "0193:LADIES ACTIVEWEAR",
         "offsetgroup": "0193:LADIES ACTIVEWEAR",
         "orientation": "h",
         "showlegend": true,
         "textposition": "auto",
         "type": "bar",
         "x": [
          12
         ],
         "xaxis": "x",
         "y": [
          "0193:LADIES ACTIVEWEAR"
         ],
         "yaxis": "y"
        },
        {
         "alignmentgroup": "True",
         "hovertemplate": "Departamento=%{y}<br>value=%{x}<extra></extra>",
         "legendgroup": "0857:PC PERIPH/OFFICE ACC",
         "marker": {
          "color": "#FF97FF",
          "pattern": {
           "shape": ""
          }
         },
         "name": "0857:PC PERIPH/OFFICE ACC",
         "offsetgroup": "0857:PC PERIPH/OFFICE ACC",
         "orientation": "h",
         "showlegend": true,
         "textposition": "auto",
         "type": "bar",
         "x": [
          12
         ],
         "xaxis": "x",
         "y": [
          "0857:PC PERIPH/OFFICE ACC"
         ],
         "yaxis": "y"
        },
        {
         "alignmentgroup": "True",
         "hovertemplate": "Departamento=%{y}<br>value=%{x}<extra></extra>",
         "legendgroup": "0291:WOMENS FTWR:DRS/CAS",
         "marker": {
          "color": "#FECB52",
          "pattern": {
           "shape": ""
          }
         },
         "name": "0291:WOMENS FTWR:DRS/CAS",
         "offsetgroup": "0291:WOMENS FTWR:DRS/CAS",
         "orientation": "h",
         "showlegend": true,
         "textposition": "auto",
         "type": "bar",
         "x": [
          12
         ],
         "xaxis": "x",
         "y": [
          "0291:WOMENS FTWR:DRS/CAS"
         ],
         "yaxis": "y"
        },
        {
         "alignmentgroup": "True",
         "hovertemplate": "Departamento=%{y}<br>value=%{x}<extra></extra>",
         "legendgroup": "0510:NAVY PRIDE HARDLINES",
         "marker": {
          "color": "#636efa",
          "pattern": {
           "shape": ""
          }
         },
         "name": "0510:NAVY PRIDE HARDLINES",
         "offsetgroup": "0510:NAVY PRIDE HARDLINES",
         "orientation": "h",
         "showlegend": true,
         "textposition": "auto",
         "type": "bar",
         "x": [
          12
         ],
         "xaxis": "x",
         "y": [
          "0510:NAVY PRIDE HARDLINES"
         ],
         "yaxis": "y"
        },
        {
         "alignmentgroup": "True",
         "hovertemplate": "Departamento=%{y}<br>value=%{x}<extra></extra>",
         "legendgroup": "0833:TABLETOP",
         "marker": {
          "color": "#EF553B",
          "pattern": {
           "shape": ""
          }
         },
         "name": "0833:TABLETOP",
         "offsetgroup": "0833:TABLETOP",
         "orientation": "h",
         "showlegend": true,
         "textposition": "auto",
         "type": "bar",
         "x": [
          11
         ],
         "xaxis": "x",
         "y": [
          "0833:TABLETOP"
         ],
         "yaxis": "y"
        },
        {
         "alignmentgroup": "True",
         "hovertemplate": "Departamento=%{y}<br>value=%{x}<extra></extra>",
         "legendgroup": "0839:HOME ORG/SOLUTIONS",
         "marker": {
          "color": "#00cc96",
          "pattern": {
           "shape": ""
          }
         },
         "name": "0839:HOME ORG/SOLUTIONS",
         "offsetgroup": "0839:HOME ORG/SOLUTIONS",
         "orientation": "h",
         "showlegend": true,
         "textposition": "auto",
         "type": "bar",
         "x": [
          11
         ],
         "xaxis": "x",
         "y": [
          "0839:HOME ORG/SOLUTIONS"
         ],
         "yaxis": "y"
        },
        {
         "alignmentgroup": "True",
         "hovertemplate": "Departamento=%{y}<br>value=%{x}<extra></extra>",
         "legendgroup": "0722:OUTDOOR LIVING",
         "marker": {
          "color": "#ab63fa",
          "pattern": {
           "shape": ""
          }
         },
         "name": "0722:OUTDOOR LIVING",
         "offsetgroup": "0722:OUTDOOR LIVING",
         "orientation": "h",
         "showlegend": true,
         "textposition": "auto",
         "type": "bar",
         "x": [
          11
         ],
         "xaxis": "x",
         "y": [
          "0722:OUTDOOR LIVING"
         ],
         "yaxis": "y"
        },
        {
         "alignmentgroup": "True",
         "hovertemplate": "Departamento=%{y}<br>value=%{x}<extra></extra>",
         "legendgroup": "0856:GLUES/TAPES/ACC",
         "marker": {
          "color": "#FFA15A",
          "pattern": {
           "shape": ""
          }
         },
         "name": "0856:GLUES/TAPES/ACC",
         "offsetgroup": "0856:GLUES/TAPES/ACC",
         "orientation": "h",
         "showlegend": true,
         "textposition": "auto",
         "type": "bar",
         "x": [
          10
         ],
         "xaxis": "x",
         "y": [
          "0856:GLUES/TAPES/ACC"
         ],
         "yaxis": "y"
        },
        {
         "alignmentgroup": "True",
         "hovertemplate": "Departamento=%{y}<br>value=%{x}<extra></extra>",
         "legendgroup": "0551:CAMERAS & EQUIP",
         "marker": {
          "color": "#19d3f3",
          "pattern": {
           "shape": ""
          }
         },
         "name": "0551:CAMERAS & EQUIP",
         "offsetgroup": "0551:CAMERAS & EQUIP",
         "orientation": "h",
         "showlegend": true,
         "textposition": "auto",
         "type": "bar",
         "x": [
          10
         ],
         "xaxis": "x",
         "y": [
          "0551:CAMERAS & EQUIP"
         ],
         "yaxis": "y"
        },
        {
         "alignmentgroup": "True",
         "hovertemplate": "Departamento=%{y}<br>value=%{x}<extra></extra>",
         "legendgroup": "0440:GIRLS 7-16 CLOTHING",
         "marker": {
          "color": "#FF6692",
          "pattern": {
           "shape": ""
          }
         },
         "name": "0440:GIRLS 7-16 CLOTHING",
         "offsetgroup": "0440:GIRLS 7-16 CLOTHING",
         "orientation": "h",
         "showlegend": true,
         "textposition": "auto",
         "type": "bar",
         "x": [
          10
         ],
         "xaxis": "x",
         "y": [
          "0440:GIRLS 7-16 CLOTHING"
         ],
         "yaxis": "y"
        },
        {
         "alignmentgroup": "True",
         "hovertemplate": "Departamento=%{y}<br>value=%{x}<extra></extra>",
         "legendgroup": "0470:BOYS 8-20 CLOTHING",
         "marker": {
          "color": "#B6E880",
          "pattern": {
           "shape": ""
          }
         },
         "name": "0470:BOYS 8-20 CLOTHING",
         "offsetgroup": "0470:BOYS 8-20 CLOTHING",
         "orientation": "h",
         "showlegend": true,
         "textposition": "auto",
         "type": "bar",
         "x": [
          10
         ],
         "xaxis": "x",
         "y": [
          "0470:BOYS 8-20 CLOTHING"
         ],
         "yaxis": "y"
        },
        {
         "alignmentgroup": "True",
         "hovertemplate": "Departamento=%{y}<br>value=%{x}<extra></extra>",
         "legendgroup": "0592:WMNS PRESTIGE FRAG",
         "marker": {
          "color": "#FF97FF",
          "pattern": {
           "shape": ""
          }
         },
         "name": "0592:WMNS PRESTIGE FRAG",
         "offsetgroup": "0592:WMNS PRESTIGE FRAG",
         "orientation": "h",
         "showlegend": true,
         "textposition": "auto",
         "type": "bar",
         "x": [
          9
         ],
         "xaxis": "x",
         "y": [
          "0592:WMNS PRESTIGE FRAG"
         ],
         "yaxis": "y"
        },
        {
         "alignmentgroup": "True",
         "hovertemplate": "Departamento=%{y}<br>value=%{x}<extra></extra>",
         "legendgroup": "0358:MENS DRESS SHIRTS",
         "marker": {
          "color": "#FECB52",
          "pattern": {
           "shape": ""
          }
         },
         "name": "0358:MENS DRESS SHIRTS",
         "offsetgroup": "0358:MENS DRESS SHIRTS",
         "orientation": "h",
         "showlegend": true,
         "textposition": "auto",
         "type": "bar",
         "x": [
          9
         ],
         "xaxis": "x",
         "y": [
          "0358:MENS DRESS SHIRTS"
         ],
         "yaxis": "y"
        },
        {
         "alignmentgroup": "True",
         "hovertemplate": "Departamento=%{y}<br>value=%{x}<extra></extra>",
         "legendgroup": "0511:NAVY PRIDE SOFTLINES",
         "marker": {
          "color": "#636efa",
          "pattern": {
           "shape": ""
          }
         },
         "name": "0511:NAVY PRIDE SOFTLINES",
         "offsetgroup": "0511:NAVY PRIDE SOFTLINES",
         "orientation": "h",
         "showlegend": true,
         "textposition": "auto",
         "type": "bar",
         "x": [
          8
         ],
         "xaxis": "x",
         "y": [
          "0511:NAVY PRIDE SOFTLINES"
         ],
         "yaxis": "y"
        },
        {
         "alignmentgroup": "True",
         "hovertemplate": "Departamento=%{y}<br>value=%{x}<extra></extra>",
         "legendgroup": "0016:FINANCIAL SERVICES",
         "marker": {
          "color": "#EF553B",
          "pattern": {
           "shape": ""
          }
         },
         "name": "0016:FINANCIAL SERVICES",
         "offsetgroup": "0016:FINANCIAL SERVICES",
         "orientation": "h",
         "showlegend": true,
         "textposition": "auto",
         "type": "bar",
         "x": [
          8
         ],
         "xaxis": "x",
         "y": [
          "0016:FINANCIAL SERVICES"
         ],
         "yaxis": "y"
        },
        {
         "alignmentgroup": "True",
         "hovertemplate": "Departamento=%{y}<br>value=%{x}<extra></extra>",
         "legendgroup": "0645:BIKES",
         "marker": {
          "color": "#00cc96",
          "pattern": {
           "shape": ""
          }
         },
         "name": "0645:BIKES",
         "offsetgroup": "0645:BIKES",
         "orientation": "h",
         "showlegend": true,
         "textposition": "auto",
         "type": "bar",
         "x": [
          8
         ],
         "xaxis": "x",
         "y": [
          "0645:BIKES"
         ],
         "yaxis": "y"
        },
        {
         "alignmentgroup": "True",
         "hovertemplate": "Departamento=%{y}<br>value=%{x}<extra></extra>",
         "legendgroup": "0009:FLORAL SERV/SUPPLIES",
         "marker": {
          "color": "#ab63fa",
          "pattern": {
           "shape": ""
          }
         },
         "name": "0009:FLORAL SERV/SUPPLIES",
         "offsetgroup": "0009:FLORAL SERV/SUPPLIES",
         "orientation": "h",
         "showlegend": true,
         "textposition": "auto",
         "type": "bar",
         "x": [
          8
         ],
         "xaxis": "x",
         "y": [
          "0009:FLORAL SERV/SUPPLIES"
         ],
         "yaxis": "y"
        },
        {
         "alignmentgroup": "True",
         "hovertemplate": "Departamento=%{y}<br>value=%{x}<extra></extra>",
         "legendgroup": "0819:PRE-RECORDED A/V",
         "marker": {
          "color": "#FFA15A",
          "pattern": {
           "shape": ""
          }
         },
         "name": "0819:PRE-RECORDED A/V",
         "offsetgroup": "0819:PRE-RECORDED A/V",
         "orientation": "h",
         "showlegend": true,
         "textposition": "auto",
         "type": "bar",
         "x": [
          8
         ],
         "xaxis": "x",
         "y": [
          "0819:PRE-RECORDED A/V"
         ],
         "yaxis": "y"
        },
        {
         "alignmentgroup": "True",
         "hovertemplate": "Departamento=%{y}<br>value=%{x}<extra></extra>",
         "legendgroup": "0632:DIGITAL FITNESS",
         "marker": {
          "color": "#19d3f3",
          "pattern": {
           "shape": ""
          }
         },
         "name": "0632:DIGITAL FITNESS",
         "offsetgroup": "0632:DIGITAL FITNESS",
         "orientation": "h",
         "showlegend": true,
         "textposition": "auto",
         "type": "bar",
         "x": [
          7
         ],
         "xaxis": "x",
         "y": [
          "0632:DIGITAL FITNESS"
         ],
         "yaxis": "y"
        },
        {
         "alignmentgroup": "True",
         "hovertemplate": "Departamento=%{y}<br>value=%{x}<extra></extra>",
         "legendgroup": "0355:MENS SPORT SHIRTS",
         "marker": {
          "color": "#FF6692",
          "pattern": {
           "shape": ""
          }
         },
         "name": "0355:MENS SPORT SHIRTS",
         "offsetgroup": "0355:MENS SPORT SHIRTS",
         "orientation": "h",
         "showlegend": true,
         "textposition": "auto",
         "type": "bar",
         "x": [
          7
         ],
         "xaxis": "x",
         "y": [
          "0355:MENS SPORT SHIRTS"
         ],
         "yaxis": "y"
        },
        {
         "alignmentgroup": "True",
         "hovertemplate": "Departamento=%{y}<br>value=%{x}<extra></extra>",
         "legendgroup": "0838:FLOOR CARE",
         "marker": {
          "color": "#B6E880",
          "pattern": {
           "shape": ""
          }
         },
         "name": "0838:FLOOR CARE",
         "offsetgroup": "0838:FLOOR CARE",
         "orientation": "h",
         "showlegend": true,
         "textposition": "auto",
         "type": "bar",
         "x": [
          7
         ],
         "xaxis": "x",
         "y": [
          "0838:FLOOR CARE"
         ],
         "yaxis": "y"
        },
        {
         "alignmentgroup": "True",
         "hovertemplate": "Departamento=%{y}<br>value=%{x}<extra></extra>",
         "legendgroup": "0586:COSTUME JEWELRY",
         "marker": {
          "color": "#FF97FF",
          "pattern": {
           "shape": ""
          }
         },
         "name": "0586:COSTUME JEWELRY",
         "offsetgroup": "0586:COSTUME JEWELRY",
         "orientation": "h",
         "showlegend": true,
         "textposition": "auto",
         "type": "bar",
         "x": [
          7
         ],
         "xaxis": "x",
         "y": [
          "0586:COSTUME JEWELRY"
         ],
         "yaxis": "y"
        },
        {
         "alignmentgroup": "True",
         "hovertemplate": "Departamento=%{y}<br>value=%{x}<extra></extra>",
         "legendgroup": "0177:PETITE SEPARATES",
         "marker": {
          "color": "#FECB52",
          "pattern": {
           "shape": ""
          }
         },
         "name": "0177:PETITE SEPARATES",
         "offsetgroup": "0177:PETITE SEPARATES",
         "orientation": "h",
         "showlegend": true,
         "textposition": "auto",
         "type": "bar",
         "x": [
          7
         ],
         "xaxis": "x",
         "y": [
          "0177:PETITE SEPARATES"
         ],
         "yaxis": "y"
        },
        {
         "alignmentgroup": "True",
         "hovertemplate": "Departamento=%{y}<br>value=%{x}<extra></extra>",
         "legendgroup": "0860:NETWORKING",
         "marker": {
          "color": "#636efa",
          "pattern": {
           "shape": ""
          }
         },
         "name": "0860:NETWORKING",
         "offsetgroup": "0860:NETWORKING",
         "orientation": "h",
         "showlegend": true,
         "textposition": "auto",
         "type": "bar",
         "x": [
          7
         ],
         "xaxis": "x",
         "y": [
          "0860:NETWORKING"
         ],
         "yaxis": "y"
        },
        {
         "alignmentgroup": "True",
         "hovertemplate": "Departamento=%{y}<br>value=%{x}<extra></extra>",
         "legendgroup": "0601:VALUE ZONE",
         "marker": {
          "color": "#EF553B",
          "pattern": {
           "shape": ""
          }
         },
         "name": "0601:VALUE ZONE",
         "offsetgroup": "0601:VALUE ZONE",
         "orientation": "h",
         "showlegend": true,
         "textposition": "auto",
         "type": "bar",
         "x": [
          7
         ],
         "xaxis": "x",
         "y": [
          "0601:VALUE ZONE"
         ],
         "yaxis": "y"
        },
        {
         "alignmentgroup": "True",
         "hovertemplate": "Departamento=%{y}<br>value=%{x}<extra></extra>",
         "legendgroup": "0596:MENS PRESTIGE FRAG",
         "marker": {
          "color": "#00cc96",
          "pattern": {
           "shape": ""
          }
         },
         "name": "0596:MENS PRESTIGE FRAG",
         "offsetgroup": "0596:MENS PRESTIGE FRAG",
         "orientation": "h",
         "showlegend": true,
         "textposition": "auto",
         "type": "bar",
         "x": [
          7
         ],
         "xaxis": "x",
         "y": [
          "0596:MENS PRESTIGE FRAG"
         ],
         "yaxis": "y"
        },
        {
         "alignmentgroup": "True",
         "hovertemplate": "Departamento=%{y}<br>value=%{x}<extra></extra>",
         "legendgroup": "0098:WAREHOUSED EXPENSES",
         "marker": {
          "color": "#ab63fa",
          "pattern": {
           "shape": ""
          }
         },
         "name": "0098:WAREHOUSED EXPENSES",
         "offsetgroup": "0098:WAREHOUSED EXPENSES",
         "orientation": "h",
         "showlegend": true,
         "textposition": "auto",
         "type": "bar",
         "x": [
          7
         ],
         "xaxis": "x",
         "y": [
          "0098:WAREHOUSED EXPENSES"
         ],
         "yaxis": "y"
        },
        {
         "alignmentgroup": "True",
         "hovertemplate": "Departamento=%{y}<br>value=%{x}<extra></extra>",
         "legendgroup": "0460:BOYS 4-7 CLOTHING",
         "marker": {
          "color": "#FFA15A",
          "pattern": {
           "shape": ""
          }
         },
         "name": "0460:BOYS 4-7 CLOTHING",
         "offsetgroup": "0460:BOYS 4-7 CLOTHING",
         "orientation": "h",
         "showlegend": true,
         "textposition": "auto",
         "type": "bar",
         "x": [
          6
         ],
         "xaxis": "x",
         "y": [
          "0460:BOYS 4-7 CLOTHING"
         ],
         "yaxis": "y"
        },
        {
         "alignmentgroup": "True",
         "hovertemplate": "Departamento=%{y}<br>value=%{x}<extra></extra>",
         "legendgroup": "0541:BOOKS AND MAPS",
         "marker": {
          "color": "#19d3f3",
          "pattern": {
           "shape": ""
          }
         },
         "name": "0541:BOOKS AND MAPS",
         "offsetgroup": "0541:BOOKS AND MAPS",
         "orientation": "h",
         "showlegend": true,
         "textposition": "auto",
         "type": "bar",
         "x": [
          6
         ],
         "xaxis": "x",
         "y": [
          "0541:BOOKS AND MAPS"
         ],
         "yaxis": "y"
        },
        {
         "alignmentgroup": "True",
         "hovertemplate": "Departamento=%{y}<br>value=%{x}<extra></extra>",
         "legendgroup": "0430:GIRLS 4-6X CLOTHING",
         "marker": {
          "color": "#FF6692",
          "pattern": {
           "shape": ""
          }
         },
         "name": "0430:GIRLS 4-6X CLOTHING",
         "offsetgroup": "0430:GIRLS 4-6X CLOTHING",
         "orientation": "h",
         "showlegend": true,
         "textposition": "auto",
         "type": "bar",
         "x": [
          6
         ],
         "xaxis": "x",
         "y": [
          "0430:GIRLS 4-6X CLOTHING"
         ],
         "yaxis": "y"
        },
        {
         "alignmentgroup": "True",
         "hovertemplate": "Departamento=%{y}<br>value=%{x}<extra></extra>",
         "legendgroup": "0188:STYLE & CO",
         "marker": {
          "color": "#B6E880",
          "pattern": {
           "shape": ""
          }
         },
         "name": "0188:STYLE & CO",
         "offsetgroup": "0188:STYLE & CO",
         "orientation": "h",
         "showlegend": true,
         "textposition": "auto",
         "type": "bar",
         "x": [
          6
         ],
         "xaxis": "x",
         "y": [
          "0188:STYLE & CO"
         ],
         "yaxis": "y"
        },
        {
         "alignmentgroup": "True",
         "hovertemplate": "Departamento=%{y}<br>value=%{x}<extra></extra>",
         "legendgroup": "0583:DIAMONDS/BRIDAL",
         "marker": {
          "color": "#FF97FF",
          "pattern": {
           "shape": ""
          }
         },
         "name": "0583:DIAMONDS/BRIDAL",
         "offsetgroup": "0583:DIAMONDS/BRIDAL",
         "orientation": "h",
         "showlegend": true,
         "textposition": "auto",
         "type": "bar",
         "x": [
          6
         ],
         "xaxis": "x",
         "y": [
          "0583:DIAMONDS/BRIDAL"
         ],
         "yaxis": "y"
        },
        {
         "alignmentgroup": "True",
         "hovertemplate": "Departamento=%{y}<br>value=%{x}<extra></extra>",
         "legendgroup": "0354:MENS MODERN COLLECT",
         "marker": {
          "color": "#FECB52",
          "pattern": {
           "shape": ""
          }
         },
         "name": "0354:MENS MODERN COLLECT",
         "offsetgroup": "0354:MENS MODERN COLLECT",
         "orientation": "h",
         "showlegend": true,
         "textposition": "auto",
         "type": "bar",
         "x": [
          6
         ],
         "xaxis": "x",
         "y": [
          "0354:MENS MODERN COLLECT"
         ],
         "yaxis": "y"
        },
        {
         "alignmentgroup": "True",
         "hovertemplate": "Departamento=%{y}<br>value=%{x}<extra></extra>",
         "legendgroup": "0295:WOMENS ATHLTIC SHOES",
         "marker": {
          "color": "#636efa",
          "pattern": {
           "shape": ""
          }
         },
         "name": "0295:WOMENS ATHLTIC SHOES",
         "offsetgroup": "0295:WOMENS ATHLTIC SHOES",
         "orientation": "h",
         "showlegend": true,
         "textposition": "auto",
         "type": "bar",
         "x": [
          6
         ],
         "xaxis": "x",
         "y": [
          "0295:WOMENS ATHLTIC SHOES"
         ],
         "yaxis": "y"
        },
        {
         "alignmentgroup": "True",
         "hovertemplate": "Departamento=%{y}<br>value=%{x}<extra></extra>",
         "legendgroup": "0851:PC HARDWARE",
         "marker": {
          "color": "#EF553B",
          "pattern": {
           "shape": ""
          }
         },
         "name": "0851:PC HARDWARE",
         "offsetgroup": "0851:PC HARDWARE",
         "orientation": "h",
         "showlegend": true,
         "textposition": "auto",
         "type": "bar",
         "x": [
          5
         ],
         "xaxis": "x",
         "y": [
          "0851:PC HARDWARE"
         ],
         "yaxis": "y"
        },
        {
         "alignmentgroup": "True",
         "hovertemplate": "Departamento=%{y}<br>value=%{x}<extra></extra>",
         "legendgroup": "0179:MODERATE DENIM",
         "marker": {
          "color": "#00cc96",
          "pattern": {
           "shape": ""
          }
         },
         "name": "0179:MODERATE DENIM",
         "offsetgroup": "0179:MODERATE DENIM",
         "orientation": "h",
         "showlegend": true,
         "textposition": "auto",
         "type": "bar",
         "x": [
          5
         ],
         "xaxis": "x",
         "y": [
          "0179:MODERATE DENIM"
         ],
         "yaxis": "y"
        },
        {
         "alignmentgroup": "True",
         "hovertemplate": "Departamento=%{y}<br>value=%{x}<extra></extra>",
         "legendgroup": "0076:FLORAL RETAIL",
         "marker": {
          "color": "#ab63fa",
          "pattern": {
           "shape": ""
          }
         },
         "name": "0076:FLORAL RETAIL",
         "offsetgroup": "0076:FLORAL RETAIL",
         "orientation": "h",
         "showlegend": true,
         "textposition": "auto",
         "type": "bar",
         "x": [
          5
         ],
         "xaxis": "x",
         "y": [
          "0076:FLORAL RETAIL"
         ],
         "yaxis": "y"
        },
        {
         "alignmentgroup": "True",
         "hovertemplate": "Departamento=%{y}<br>value=%{x}<extra></extra>",
         "legendgroup": "0834:COOKWARE",
         "marker": {
          "color": "#FFA15A",
          "pattern": {
           "shape": ""
          }
         },
         "name": "0834:COOKWARE",
         "offsetgroup": "0834:COOKWARE",
         "orientation": "h",
         "showlegend": true,
         "textposition": "auto",
         "type": "bar",
         "x": [
          5
         ],
         "xaxis": "x",
         "y": [
          "0834:COOKWARE"
         ],
         "yaxis": "y"
        },
        {
         "alignmentgroup": "True",
         "hovertemplate": "Departamento=%{y}<br>value=%{x}<extra></extra>",
         "legendgroup": "0002:BARBER RETAIL",
         "marker": {
          "color": "#19d3f3",
          "pattern": {
           "shape": ""
          }
         },
         "name": "0002:BARBER RETAIL",
         "offsetgroup": "0002:BARBER RETAIL",
         "orientation": "h",
         "showlegend": true,
         "textposition": "auto",
         "type": "bar",
         "x": [
          5
         ],
         "xaxis": "x",
         "y": [
          "0002:BARBER RETAIL"
         ],
         "yaxis": "y"
        },
        {
         "alignmentgroup": "True",
         "hovertemplate": "Departamento=%{y}<br>value=%{x}<extra></extra>",
         "legendgroup": "0540:PERIODICALS/COMICS",
         "marker": {
          "color": "#FF6692",
          "pattern": {
           "shape": ""
          }
         },
         "name": "0540:PERIODICALS/COMICS",
         "offsetgroup": "0540:PERIODICALS/COMICS",
         "orientation": "h",
         "showlegend": true,
         "textposition": "auto",
         "type": "bar",
         "x": [
          5
         ],
         "xaxis": "x",
         "y": [
          "0540:PERIODICALS/COMICS"
         ],
         "yaxis": "y"
        },
        {
         "alignmentgroup": "True",
         "hovertemplate": "Departamento=%{y}<br>value=%{x}<extra></extra>",
         "legendgroup": "0340:MENS CASUAL SLACKS",
         "marker": {
          "color": "#B6E880",
          "pattern": {
           "shape": ""
          }
         },
         "name": "0340:MENS CASUAL SLACKS",
         "offsetgroup": "0340:MENS CASUAL SLACKS",
         "orientation": "h",
         "showlegend": true,
         "textposition": "auto",
         "type": "bar",
         "x": [
          5
         ],
         "xaxis": "x",
         "y": [
          "0340:MENS CASUAL SLACKS"
         ],
         "yaxis": "y"
        },
        {
         "alignmentgroup": "True",
         "hovertemplate": "Departamento=%{y}<br>value=%{x}<extra></extra>",
         "legendgroup": "0816:VIDEO ELECTRONICS",
         "marker": {
          "color": "#FF97FF",
          "pattern": {
           "shape": ""
          }
         },
         "name": "0816:VIDEO ELECTRONICS",
         "offsetgroup": "0816:VIDEO ELECTRONICS",
         "orientation": "h",
         "showlegend": true,
         "textposition": "auto",
         "type": "bar",
         "x": [
          4
         ],
         "xaxis": "x",
         "y": [
          "0816:VIDEO ELECTRONICS"
         ],
         "yaxis": "y"
        },
        {
         "alignmentgroup": "True",
         "hovertemplate": "Departamento=%{y}<br>value=%{x}<extra></extra>",
         "legendgroup": "0584:GEMSTONES",
         "marker": {
          "color": "#FECB52",
          "pattern": {
           "shape": ""
          }
         },
         "name": "0584:GEMSTONES",
         "offsetgroup": "0584:GEMSTONES",
         "orientation": "h",
         "showlegend": true,
         "textposition": "auto",
         "type": "bar",
         "x": [
          4
         ],
         "xaxis": "x",
         "y": [
          "0584:GEMSTONES"
         ],
         "yaxis": "y"
        },
        {
         "alignmentgroup": "True",
         "hovertemplate": "Departamento=%{y}<br>value=%{x}<extra></extra>",
         "legendgroup": "0173:JUNIOR BOTTOMS",
         "marker": {
          "color": "#636efa",
          "pattern": {
           "shape": ""
          }
         },
         "name": "0173:JUNIOR BOTTOMS",
         "offsetgroup": "0173:JUNIOR BOTTOMS",
         "orientation": "h",
         "showlegend": true,
         "textposition": "auto",
         "type": "bar",
         "x": [
          4
         ],
         "xaxis": "x",
         "y": [
          "0173:JUNIOR BOTTOMS"
         ],
         "yaxis": "y"
        },
        {
         "alignmentgroup": "True",
         "hovertemplate": "Departamento=%{y}<br>value=%{x}<extra></extra>",
         "legendgroup": "0859:iPAD",
         "marker": {
          "color": "#EF553B",
          "pattern": {
           "shape": ""
          }
         },
         "name": "0859:iPAD",
         "offsetgroup": "0859:iPAD",
         "orientation": "h",
         "showlegend": true,
         "textposition": "auto",
         "type": "bar",
         "x": [
          4
         ],
         "xaxis": "x",
         "y": [
          "0859:iPAD"
         ],
         "yaxis": "y"
        },
        {
         "alignmentgroup": "True",
         "hovertemplate": "Departamento=%{y}<br>value=%{x}<extra></extra>",
         "legendgroup": "0178:DENIM COLLECTIONS",
         "marker": {
          "color": "#00cc96",
          "pattern": {
           "shape": ""
          }
         },
         "name": "0178:DENIM COLLECTIONS",
         "offsetgroup": "0178:DENIM COLLECTIONS",
         "orientation": "h",
         "showlegend": true,
         "textposition": "auto",
         "type": "bar",
         "x": [
          4
         ],
         "xaxis": "x",
         "y": [
          "0178:DENIM COLLECTIONS"
         ],
         "yaxis": "y"
        },
        {
         "alignmentgroup": "True",
         "hovertemplate": "Departamento=%{y}<br>value=%{x}<extra></extra>",
         "legendgroup": "0130:JUNIORS SURF",
         "marker": {
          "color": "#ab63fa",
          "pattern": {
           "shape": ""
          }
         },
         "name": "0130:JUNIORS SURF",
         "offsetgroup": "0130:JUNIORS SURF",
         "orientation": "h",
         "showlegend": true,
         "textposition": "auto",
         "type": "bar",
         "x": [
          4
         ],
         "xaxis": "x",
         "y": [
          "0130:JUNIORS SURF"
         ],
         "yaxis": "y"
        },
        {
         "alignmentgroup": "True",
         "hovertemplate": "Departamento=%{y}<br>value=%{x}<extra></extra>",
         "legendgroup": "0637:FISHING",
         "marker": {
          "color": "#FFA15A",
          "pattern": {
           "shape": ""
          }
         },
         "name": "0637:FISHING",
         "offsetgroup": "0637:FISHING",
         "orientation": "h",
         "showlegend": true,
         "textposition": "auto",
         "type": "bar",
         "x": [
          4
         ],
         "xaxis": "x",
         "y": [
          "0637:FISHING"
         ],
         "yaxis": "y"
        },
        {
         "alignmentgroup": "True",
         "hovertemplate": "Departamento=%{y}<br>value=%{x}<extra></extra>",
         "legendgroup": "0018:OTHER DIRECT SERVICE",
         "marker": {
          "color": "#19d3f3",
          "pattern": {
           "shape": ""
          }
         },
         "name": "0018:OTHER DIRECT SERVICE",
         "offsetgroup": "0018:OTHER DIRECT SERVICE",
         "orientation": "h",
         "showlegend": true,
         "textposition": "auto",
         "type": "bar",
         "x": [
          4
         ],
         "xaxis": "x",
         "y": [
          "0018:OTHER DIRECT SERVICE"
         ],
         "yaxis": "y"
        },
        {
         "alignmentgroup": "True",
         "hovertemplate": "Departamento=%{y}<br>value=%{x}<extra></extra>",
         "legendgroup": "0582:GOLD",
         "marker": {
          "color": "#FF6692",
          "pattern": {
           "shape": ""
          }
         },
         "name": "0582:GOLD",
         "offsetgroup": "0582:GOLD",
         "orientation": "h",
         "showlegend": true,
         "textposition": "auto",
         "type": "bar",
         "x": [
          4
         ],
         "xaxis": "x",
         "y": [
          "0582:GOLD"
         ],
         "yaxis": "y"
        },
        {
         "alignmentgroup": "True",
         "hovertemplate": "Departamento=%{y}<br>value=%{x}<extra></extra>",
         "legendgroup": "0426:TODDLER BOY APPAREL",
         "marker": {
          "color": "#B6E880",
          "pattern": {
           "shape": ""
          }
         },
         "name": "0426:TODDLER BOY APPAREL",
         "offsetgroup": "0426:TODDLER BOY APPAREL",
         "orientation": "h",
         "showlegend": true,
         "textposition": "auto",
         "type": "bar",
         "x": [
          4
         ],
         "xaxis": "x",
         "y": [
          "0426:TODDLER BOY APPAREL"
         ],
         "yaxis": "y"
        },
        {
         "alignmentgroup": "True",
         "hovertemplate": "Departamento=%{y}<br>value=%{x}<extra></extra>",
         "legendgroup": "0210:FOUNDATIONS",
         "marker": {
          "color": "#FF97FF",
          "pattern": {
           "shape": ""
          }
         },
         "name": "0210:FOUNDATIONS",
         "offsetgroup": "0210:FOUNDATIONS",
         "orientation": "h",
         "showlegend": true,
         "textposition": "auto",
         "type": "bar",
         "x": [
          4
         ],
         "xaxis": "x",
         "y": [
          "0210:FOUNDATIONS"
         ],
         "yaxis": "y"
        },
        {
         "alignmentgroup": "True",
         "hovertemplate": "Departamento=%{y}<br>value=%{x}<extra></extra>",
         "legendgroup": "0346:LIFE STYLE DENIM",
         "marker": {
          "color": "#FECB52",
          "pattern": {
           "shape": ""
          }
         },
         "name": "0346:LIFE STYLE DENIM",
         "offsetgroup": "0346:LIFE STYLE DENIM",
         "orientation": "h",
         "showlegend": true,
         "textposition": "auto",
         "type": "bar",
         "x": [
          4
         ],
         "xaxis": "x",
         "y": [
          "0346:LIFE STYLE DENIM"
         ],
         "yaxis": "y"
        },
        {
         "alignmentgroup": "True",
         "hovertemplate": "Departamento=%{y}<br>value=%{x}<extra></extra>",
         "legendgroup": "0012:LOCAL GIFTS/FOODS",
         "marker": {
          "color": "#636efa",
          "pattern": {
           "shape": ""
          }
         },
         "name": "0012:LOCAL GIFTS/FOODS",
         "offsetgroup": "0012:LOCAL GIFTS/FOODS",
         "orientation": "h",
         "showlegend": true,
         "textposition": "auto",
         "type": "bar",
         "x": [
          4
         ],
         "xaxis": "x",
         "y": [
          "0012:LOCAL GIFTS/FOODS"
         ],
         "yaxis": "y"
        },
        {
         "alignmentgroup": "True",
         "hovertemplate": "Departamento=%{y}<br>value=%{x}<extra></extra>",
         "legendgroup": "0823:SMART HOME",
         "marker": {
          "color": "#EF553B",
          "pattern": {
           "shape": ""
          }
         },
         "name": "0823:SMART HOME",
         "offsetgroup": "0823:SMART HOME",
         "orientation": "h",
         "showlegend": true,
         "textposition": "auto",
         "type": "bar",
         "x": [
          4
         ],
         "xaxis": "x",
         "y": [
          "0823:SMART HOME"
         ],
         "yaxis": "y"
        },
        {
         "alignmentgroup": "True",
         "hovertemplate": "Departamento=%{y}<br>value=%{x}<extra></extra>",
         "legendgroup": "0171:MISSY BOTTOMS",
         "marker": {
          "color": "#00cc96",
          "pattern": {
           "shape": ""
          }
         },
         "name": "0171:MISSY BOTTOMS",
         "offsetgroup": "0171:MISSY BOTTOMS",
         "orientation": "h",
         "showlegend": true,
         "textposition": "auto",
         "type": "bar",
         "x": [
          4
         ],
         "xaxis": "x",
         "y": [
          "0171:MISSY BOTTOMS"
         ],
         "yaxis": "y"
        },
        {
         "alignmentgroup": "True",
         "hovertemplate": "Departamento=%{y}<br>value=%{x}<extra></extra>",
         "legendgroup": "0661:LUGGAGE",
         "marker": {
          "color": "#ab63fa",
          "pattern": {
           "shape": ""
          }
         },
         "name": "0661:LUGGAGE",
         "offsetgroup": "0661:LUGGAGE",
         "orientation": "h",
         "showlegend": true,
         "textposition": "auto",
         "type": "bar",
         "x": [
          3
         ],
         "xaxis": "x",
         "y": [
          "0661:LUGGAGE"
         ],
         "yaxis": "y"
        },
        {
         "alignmentgroup": "True",
         "hovertemplate": "Departamento=%{y}<br>value=%{x}<extra></extra>",
         "legendgroup": "0439:JUVENILLE FURNITURE",
         "marker": {
          "color": "#FFA15A",
          "pattern": {
           "shape": ""
          }
         },
         "name": "0439:JUVENILLE FURNITURE",
         "offsetgroup": "0439:JUVENILLE FURNITURE",
         "orientation": "h",
         "showlegend": true,
         "textposition": "auto",
         "type": "bar",
         "x": [
          3
         ],
         "xaxis": "x",
         "y": [
          "0439:JUVENILLE FURNITURE"
         ],
         "yaxis": "y"
        },
        {
         "alignmentgroup": "True",
         "hovertemplate": "Departamento=%{y}<br>value=%{x}<extra></extra>",
         "legendgroup": "0533:PAPYRUS",
         "marker": {
          "color": "#19d3f3",
          "pattern": {
           "shape": ""
          }
         },
         "name": "0533:PAPYRUS",
         "offsetgroup": "0533:PAPYRUS",
         "orientation": "h",
         "showlegend": true,
         "textposition": "auto",
         "type": "bar",
         "x": [
          3
         ],
         "xaxis": "x",
         "y": [
          "0533:PAPYRUS"
         ],
         "yaxis": "y"
        },
        {
         "alignmentgroup": "True",
         "hovertemplate": "Departamento=%{y}<br>value=%{x}<extra></extra>",
         "legendgroup": "0131:LADIES DRESSES",
         "marker": {
          "color": "#FF6692",
          "pattern": {
           "shape": ""
          }
         },
         "name": "0131:LADIES DRESSES",
         "offsetgroup": "0131:LADIES DRESSES",
         "orientation": "h",
         "showlegend": true,
         "textposition": "auto",
         "type": "bar",
         "x": [
          3
         ],
         "xaxis": "x",
         "y": [
          "0131:LADIES DRESSES"
         ],
         "yaxis": "y"
        },
        {
         "alignmentgroup": "True",
         "hovertemplate": "Departamento=%{y}<br>value=%{x}<extra></extra>",
         "legendgroup": "0310:MENS OUTERWEAR",
         "marker": {
          "color": "#B6E880",
          "pattern": {
           "shape": ""
          }
         },
         "name": "0310:MENS OUTERWEAR",
         "offsetgroup": "0310:MENS OUTERWEAR",
         "orientation": "h",
         "showlegend": true,
         "textposition": "auto",
         "type": "bar",
         "x": [
          3
         ],
         "xaxis": "x",
         "y": [
          "0310:MENS OUTERWEAR"
         ],
         "yaxis": "y"
        },
        {
         "alignmentgroup": "True",
         "hovertemplate": "Departamento=%{y}<br>value=%{x}<extra></extra>",
         "legendgroup": "0320:MNS TAILORED CLOTHNG",
         "marker": {
          "color": "#FF97FF",
          "pattern": {
           "shape": ""
          }
         },
         "name": "0320:MNS TAILORED CLOTHNG",
         "offsetgroup": "0320:MNS TAILORED CLOTHNG",
         "orientation": "h",
         "showlegend": true,
         "textposition": "auto",
         "type": "bar",
         "x": [
          3
         ],
         "xaxis": "x",
         "y": [
          "0320:MNS TAILORED CLOTHNG"
         ],
         "yaxis": "y"
        },
        {
         "alignmentgroup": "True",
         "hovertemplate": "Departamento=%{y}<br>value=%{x}<extra></extra>",
         "legendgroup": "0863:POWER EQUIPMENT",
         "marker": {
          "color": "#FECB52",
          "pattern": {
           "shape": ""
          }
         },
         "name": "0863:POWER EQUIPMENT",
         "offsetgroup": "0863:POWER EQUIPMENT",
         "orientation": "h",
         "showlegend": true,
         "textposition": "auto",
         "type": "bar",
         "x": [
          3
         ],
         "xaxis": "x",
         "y": [
          "0863:POWER EQUIPMENT"
         ],
         "yaxis": "y"
        },
        {
         "alignmentgroup": "True",
         "hovertemplate": "Departamento=%{y}<br>value=%{x}<extra></extra>",
         "legendgroup": "0165:LIFE IS GOOD",
         "marker": {
          "color": "#636efa",
          "pattern": {
           "shape": ""
          }
         },
         "name": "0165:LIFE IS GOOD",
         "offsetgroup": "0165:LIFE IS GOOD",
         "orientation": "h",
         "showlegend": true,
         "textposition": "auto",
         "type": "bar",
         "x": [
          2
         ],
         "xaxis": "x",
         "y": [
          "0165:LIFE IS GOOD"
         ],
         "yaxis": "y"
        },
        {
         "alignmentgroup": "True",
         "hovertemplate": "Departamento=%{y}<br>value=%{x}<extra></extra>",
         "legendgroup": "0940:HOME TEXTILES",
         "marker": {
          "color": "#EF553B",
          "pattern": {
           "shape": ""
          }
         },
         "name": "0940:HOME TEXTILES",
         "offsetgroup": "0940:HOME TEXTILES",
         "orientation": "h",
         "showlegend": true,
         "textposition": "auto",
         "type": "bar",
         "x": [
          2
         ],
         "xaxis": "x",
         "y": [
          "0940:HOME TEXTILES"
         ],
         "yaxis": "y"
        },
        {
         "alignmentgroup": "True",
         "hovertemplate": "Departamento=%{y}<br>value=%{x}<extra></extra>",
         "legendgroup": "0175:WOMENS SEPARATES",
         "marker": {
          "color": "#00cc96",
          "pattern": {
           "shape": ""
          }
         },
         "name": "0175:WOMENS SEPARATES",
         "offsetgroup": "0175:WOMENS SEPARATES",
         "orientation": "h",
         "showlegend": true,
         "textposition": "auto",
         "type": "bar",
         "x": [
          2
         ],
         "xaxis": "x",
         "y": [
          "0175:WOMENS SEPARATES"
         ],
         "yaxis": "y"
        },
        {
         "alignmentgroup": "True",
         "hovertemplate": "Departamento=%{y}<br>value=%{x}<extra></extra>",
         "legendgroup": "0853:DIMAGE/PHONE/GPS/ACC",
         "marker": {
          "color": "#ab63fa",
          "pattern": {
           "shape": ""
          }
         },
         "name": "0853:DIMAGE/PHONE/GPS/ACC",
         "offsetgroup": "0853:DIMAGE/PHONE/GPS/ACC",
         "orientation": "h",
         "showlegend": true,
         "textposition": "auto",
         "type": "bar",
         "x": [
          2
         ],
         "xaxis": "x",
         "y": [
          "0853:DIMAGE/PHONE/GPS/ACC"
         ],
         "yaxis": "y"
        },
        {
         "alignmentgroup": "True",
         "hovertemplate": "Departamento=%{y}<br>value=%{x}<extra></extra>",
         "legendgroup": "0852:COMPUTER SOFTWARE",
         "marker": {
          "color": "#FFA15A",
          "pattern": {
           "shape": ""
          }
         },
         "name": "0852:COMPUTER SOFTWARE",
         "offsetgroup": "0852:COMPUTER SOFTWARE",
         "orientation": "h",
         "showlegend": true,
         "textposition": "auto",
         "type": "bar",
         "x": [
          2
         ],
         "xaxis": "x",
         "y": [
          "0852:COMPUTER SOFTWARE"
         ],
         "yaxis": "y"
        },
        {
         "alignmentgroup": "True",
         "hovertemplate": "Departamento=%{y}<br>value=%{x}<extra></extra>",
         "legendgroup": "0181:LADIES MODERN COLLEC",
         "marker": {
          "color": "#19d3f3",
          "pattern": {
           "shape": ""
          }
         },
         "name": "0181:LADIES MODERN COLLEC",
         "offsetgroup": "0181:LADIES MODERN COLLEC",
         "orientation": "h",
         "showlegend": true,
         "textposition": "auto",
         "type": "bar",
         "x": [
          2
         ],
         "xaxis": "x",
         "y": [
          "0181:LADIES MODERN COLLEC"
         ],
         "yaxis": "y"
        },
        {
         "alignmentgroup": "True",
         "hovertemplate": "Departamento=%{y}<br>value=%{x}<extra></extra>",
         "legendgroup": "0182:CLASSIC COLLECTIONS",
         "marker": {
          "color": "#FF6692",
          "pattern": {
           "shape": ""
          }
         },
         "name": "0182:CLASSIC COLLECTIONS",
         "offsetgroup": "0182:CLASSIC COLLECTIONS",
         "orientation": "h",
         "showlegend": true,
         "textposition": "auto",
         "type": "bar",
         "x": [
          2
         ],
         "xaxis": "x",
         "y": [
          "0182:CLASSIC COLLECTIONS"
         ],
         "yaxis": "y"
        },
        {
         "alignmentgroup": "True",
         "hovertemplate": "Departamento=%{y}<br>value=%{x}<extra></extra>",
         "legendgroup": "0186:JUNIOR DRESSES",
         "marker": {
          "color": "#B6E880",
          "pattern": {
           "shape": ""
          }
         },
         "name": "0186:JUNIOR DRESSES",
         "offsetgroup": "0186:JUNIOR DRESSES",
         "orientation": "h",
         "showlegend": true,
         "textposition": "auto",
         "type": "bar",
         "x": [
          2
         ],
         "xaxis": "x",
         "y": [
          "0186:JUNIOR DRESSES"
         ],
         "yaxis": "y"
        },
        {
         "alignmentgroup": "True",
         "hovertemplate": "Departamento=%{y}<br>value=%{x}<extra></extra>",
         "legendgroup": "0220:SHAPEWEAR",
         "marker": {
          "color": "#FF97FF",
          "pattern": {
           "shape": ""
          }
         },
         "name": "0220:SHAPEWEAR",
         "offsetgroup": "0220:SHAPEWEAR",
         "orientation": "h",
         "showlegend": true,
         "textposition": "auto",
         "type": "bar",
         "x": [
          2
         ],
         "xaxis": "x",
         "y": [
          "0220:SHAPEWEAR"
         ],
         "yaxis": "y"
        },
        {
         "alignmentgroup": "True",
         "hovertemplate": "Departamento=%{y}<br>value=%{x}<extra></extra>",
         "legendgroup": "0587:JEWELRY CONSIGNMENT",
         "marker": {
          "color": "#FECB52",
          "pattern": {
           "shape": ""
          }
         },
         "name": "0587:JEWELRY CONSIGNMENT",
         "offsetgroup": "0587:JEWELRY CONSIGNMENT",
         "orientation": "h",
         "showlegend": true,
         "textposition": "auto",
         "type": "bar",
         "x": [
          2
         ],
         "xaxis": "x",
         "y": [
          "0587:JEWELRY CONSIGNMENT"
         ],
         "yaxis": "y"
        },
        {
         "alignmentgroup": "True",
         "hovertemplate": "Departamento=%{y}<br>value=%{x}<extra></extra>",
         "legendgroup": "0817:WEARABLES",
         "marker": {
          "color": "#636efa",
          "pattern": {
           "shape": ""
          }
         },
         "name": "0817:WEARABLES",
         "offsetgroup": "0817:WEARABLES",
         "orientation": "h",
         "showlegend": true,
         "textposition": "auto",
         "type": "bar",
         "x": [
          1
         ],
         "xaxis": "x",
         "y": [
          "0817:WEARABLES"
         ],
         "yaxis": "y"
        },
        {
         "alignmentgroup": "True",
         "hovertemplate": "Departamento=%{y}<br>value=%{x}<extra></extra>",
         "legendgroup": "0099:MISC CUSTOM SERVICES",
         "marker": {
          "color": "#EF553B",
          "pattern": {
           "shape": ""
          }
         },
         "name": "0099:MISC CUSTOM SERVICES",
         "offsetgroup": "0099:MISC CUSTOM SERVICES",
         "orientation": "h",
         "showlegend": true,
         "textposition": "auto",
         "type": "bar",
         "x": [
          1
         ],
         "xaxis": "x",
         "y": [
          "0099:MISC CUSTOM SERVICES"
         ],
         "yaxis": "y"
        },
        {
         "alignmentgroup": "True",
         "hovertemplate": "Departamento=%{y}<br>value=%{x}<extra></extra>",
         "legendgroup": "0591:MASS FRAGRANCES",
         "marker": {
          "color": "#00cc96",
          "pattern": {
           "shape": ""
          }
         },
         "name": "0591:MASS FRAGRANCES",
         "offsetgroup": "0591:MASS FRAGRANCES",
         "orientation": "h",
         "showlegend": true,
         "textposition": "auto",
         "type": "bar",
         "x": [
          1
         ],
         "xaxis": "x",
         "y": [
          "0591:MASS FRAGRANCES"
         ],
         "yaxis": "y"
        },
        {
         "alignmentgroup": "True",
         "hovertemplate": "Departamento=%{y}<br>value=%{x}<extra></extra>",
         "legendgroup": "0066:VENDING/AMUSEMENT MA",
         "marker": {
          "color": "#ab63fa",
          "pattern": {
           "shape": ""
          }
         },
         "name": "0066:VENDING/AMUSEMENT MA",
         "offsetgroup": "0066:VENDING/AMUSEMENT MA",
         "orientation": "h",
         "showlegend": true,
         "textposition": "auto",
         "type": "bar",
         "x": [
          1
         ],
         "xaxis": "x",
         "y": [
          "0066:VENDING/AMUSEMENT MA"
         ],
         "yaxis": "y"
        },
        {
         "alignmentgroup": "True",
         "hovertemplate": "Departamento=%{y}<br>value=%{x}<extra></extra>",
         "legendgroup": "0033:VENDING RETAIL",
         "marker": {
          "color": "#FFA15A",
          "pattern": {
           "shape": ""
          }
         },
         "name": "0033:VENDING RETAIL",
         "offsetgroup": "0033:VENDING RETAIL",
         "orientation": "h",
         "showlegend": true,
         "textposition": "auto",
         "type": "bar",
         "x": [
          1
         ],
         "xaxis": "x",
         "y": [
          "0033:VENDING RETAIL"
         ],
         "yaxis": "y"
        },
        {
         "alignmentgroup": "True",
         "hovertemplate": "Departamento=%{y}<br>value=%{x}<extra></extra>",
         "legendgroup": "0014:REPAIRS",
         "marker": {
          "color": "#19d3f3",
          "pattern": {
           "shape": ""
          }
         },
         "name": "0014:REPAIRS",
         "offsetgroup": "0014:REPAIRS",
         "orientation": "h",
         "showlegend": true,
         "textposition": "auto",
         "type": "bar",
         "x": [
          1
         ],
         "xaxis": "x",
         "y": [
          "0014:REPAIRS"
         ],
         "yaxis": "y"
        }
       ],
       "layout": {
        "barmode": "relative",
        "legend": {
         "title": {
          "text": "Departamento"
         },
         "tracegroupgap": 0
        },
        "margin": {
         "t": 60
        },
        "showlegend": false,
        "template": {
         "data": {
          "bar": [
           {
            "error_x": {
             "color": "#2a3f5f"
            },
            "error_y": {
             "color": "#2a3f5f"
            },
            "marker": {
             "line": {
              "color": "#E5ECF6",
              "width": 0.5
             },
             "pattern": {
              "fillmode": "overlay",
              "size": 10,
              "solidity": 0.2
             }
            },
            "type": "bar"
           }
          ],
          "barpolar": [
           {
            "marker": {
             "line": {
              "color": "#E5ECF6",
              "width": 0.5
             },
             "pattern": {
              "fillmode": "overlay",
              "size": 10,
              "solidity": 0.2
             }
            },
            "type": "barpolar"
           }
          ],
          "carpet": [
           {
            "aaxis": {
             "endlinecolor": "#2a3f5f",
             "gridcolor": "white",
             "linecolor": "white",
             "minorgridcolor": "white",
             "startlinecolor": "#2a3f5f"
            },
            "baxis": {
             "endlinecolor": "#2a3f5f",
             "gridcolor": "white",
             "linecolor": "white",
             "minorgridcolor": "white",
             "startlinecolor": "#2a3f5f"
            },
            "type": "carpet"
           }
          ],
          "choropleth": [
           {
            "colorbar": {
             "outlinewidth": 0,
             "ticks": ""
            },
            "type": "choropleth"
           }
          ],
          "contour": [
           {
            "colorbar": {
             "outlinewidth": 0,
             "ticks": ""
            },
            "colorscale": [
             [
              0,
              "#0d0887"
             ],
             [
              0.1111111111111111,
              "#46039f"
             ],
             [
              0.2222222222222222,
              "#7201a8"
             ],
             [
              0.3333333333333333,
              "#9c179e"
             ],
             [
              0.4444444444444444,
              "#bd3786"
             ],
             [
              0.5555555555555556,
              "#d8576b"
             ],
             [
              0.6666666666666666,
              "#ed7953"
             ],
             [
              0.7777777777777778,
              "#fb9f3a"
             ],
             [
              0.8888888888888888,
              "#fdca26"
             ],
             [
              1,
              "#f0f921"
             ]
            ],
            "type": "contour"
           }
          ],
          "contourcarpet": [
           {
            "colorbar": {
             "outlinewidth": 0,
             "ticks": ""
            },
            "type": "contourcarpet"
           }
          ],
          "heatmap": [
           {
            "colorbar": {
             "outlinewidth": 0,
             "ticks": ""
            },
            "colorscale": [
             [
              0,
              "#0d0887"
             ],
             [
              0.1111111111111111,
              "#46039f"
             ],
             [
              0.2222222222222222,
              "#7201a8"
             ],
             [
              0.3333333333333333,
              "#9c179e"
             ],
             [
              0.4444444444444444,
              "#bd3786"
             ],
             [
              0.5555555555555556,
              "#d8576b"
             ],
             [
              0.6666666666666666,
              "#ed7953"
             ],
             [
              0.7777777777777778,
              "#fb9f3a"
             ],
             [
              0.8888888888888888,
              "#fdca26"
             ],
             [
              1,
              "#f0f921"
             ]
            ],
            "type": "heatmap"
           }
          ],
          "heatmapgl": [
           {
            "colorbar": {
             "outlinewidth": 0,
             "ticks": ""
            },
            "colorscale": [
             [
              0,
              "#0d0887"
             ],
             [
              0.1111111111111111,
              "#46039f"
             ],
             [
              0.2222222222222222,
              "#7201a8"
             ],
             [
              0.3333333333333333,
              "#9c179e"
             ],
             [
              0.4444444444444444,
              "#bd3786"
             ],
             [
              0.5555555555555556,
              "#d8576b"
             ],
             [
              0.6666666666666666,
              "#ed7953"
             ],
             [
              0.7777777777777778,
              "#fb9f3a"
             ],
             [
              0.8888888888888888,
              "#fdca26"
             ],
             [
              1,
              "#f0f921"
             ]
            ],
            "type": "heatmapgl"
           }
          ],
          "histogram": [
           {
            "marker": {
             "pattern": {
              "fillmode": "overlay",
              "size": 10,
              "solidity": 0.2
             }
            },
            "type": "histogram"
           }
          ],
          "histogram2d": [
           {
            "colorbar": {
             "outlinewidth": 0,
             "ticks": ""
            },
            "colorscale": [
             [
              0,
              "#0d0887"
             ],
             [
              0.1111111111111111,
              "#46039f"
             ],
             [
              0.2222222222222222,
              "#7201a8"
             ],
             [
              0.3333333333333333,
              "#9c179e"
             ],
             [
              0.4444444444444444,
              "#bd3786"
             ],
             [
              0.5555555555555556,
              "#d8576b"
             ],
             [
              0.6666666666666666,
              "#ed7953"
             ],
             [
              0.7777777777777778,
              "#fb9f3a"
             ],
             [
              0.8888888888888888,
              "#fdca26"
             ],
             [
              1,
              "#f0f921"
             ]
            ],
            "type": "histogram2d"
           }
          ],
          "histogram2dcontour": [
           {
            "colorbar": {
             "outlinewidth": 0,
             "ticks": ""
            },
            "colorscale": [
             [
              0,
              "#0d0887"
             ],
             [
              0.1111111111111111,
              "#46039f"
             ],
             [
              0.2222222222222222,
              "#7201a8"
             ],
             [
              0.3333333333333333,
              "#9c179e"
             ],
             [
              0.4444444444444444,
              "#bd3786"
             ],
             [
              0.5555555555555556,
              "#d8576b"
             ],
             [
              0.6666666666666666,
              "#ed7953"
             ],
             [
              0.7777777777777778,
              "#fb9f3a"
             ],
             [
              0.8888888888888888,
              "#fdca26"
             ],
             [
              1,
              "#f0f921"
             ]
            ],
            "type": "histogram2dcontour"
           }
          ],
          "mesh3d": [
           {
            "colorbar": {
             "outlinewidth": 0,
             "ticks": ""
            },
            "type": "mesh3d"
           }
          ],
          "parcoords": [
           {
            "line": {
             "colorbar": {
              "outlinewidth": 0,
              "ticks": ""
             }
            },
            "type": "parcoords"
           }
          ],
          "pie": [
           {
            "automargin": true,
            "type": "pie"
           }
          ],
          "scatter": [
           {
            "fillpattern": {
             "fillmode": "overlay",
             "size": 10,
             "solidity": 0.2
            },
            "type": "scatter"
           }
          ],
          "scatter3d": [
           {
            "line": {
             "colorbar": {
              "outlinewidth": 0,
              "ticks": ""
             }
            },
            "marker": {
             "colorbar": {
              "outlinewidth": 0,
              "ticks": ""
             }
            },
            "type": "scatter3d"
           }
          ],
          "scattercarpet": [
           {
            "marker": {
             "colorbar": {
              "outlinewidth": 0,
              "ticks": ""
             }
            },
            "type": "scattercarpet"
           }
          ],
          "scattergeo": [
           {
            "marker": {
             "colorbar": {
              "outlinewidth": 0,
              "ticks": ""
             }
            },
            "type": "scattergeo"
           }
          ],
          "scattergl": [
           {
            "marker": {
             "colorbar": {
              "outlinewidth": 0,
              "ticks": ""
             }
            },
            "type": "scattergl"
           }
          ],
          "scattermapbox": [
           {
            "marker": {
             "colorbar": {
              "outlinewidth": 0,
              "ticks": ""
             }
            },
            "type": "scattermapbox"
           }
          ],
          "scatterpolar": [
           {
            "marker": {
             "colorbar": {
              "outlinewidth": 0,
              "ticks": ""
             }
            },
            "type": "scatterpolar"
           }
          ],
          "scatterpolargl": [
           {
            "marker": {
             "colorbar": {
              "outlinewidth": 0,
              "ticks": ""
             }
            },
            "type": "scatterpolargl"
           }
          ],
          "scatterternary": [
           {
            "marker": {
             "colorbar": {
              "outlinewidth": 0,
              "ticks": ""
             }
            },
            "type": "scatterternary"
           }
          ],
          "surface": [
           {
            "colorbar": {
             "outlinewidth": 0,
             "ticks": ""
            },
            "colorscale": [
             [
              0,
              "#0d0887"
             ],
             [
              0.1111111111111111,
              "#46039f"
             ],
             [
              0.2222222222222222,
              "#7201a8"
             ],
             [
              0.3333333333333333,
              "#9c179e"
             ],
             [
              0.4444444444444444,
              "#bd3786"
             ],
             [
              0.5555555555555556,
              "#d8576b"
             ],
             [
              0.6666666666666666,
              "#ed7953"
             ],
             [
              0.7777777777777778,
              "#fb9f3a"
             ],
             [
              0.8888888888888888,
              "#fdca26"
             ],
             [
              1,
              "#f0f921"
             ]
            ],
            "type": "surface"
           }
          ],
          "table": [
           {
            "cells": {
             "fill": {
              "color": "#EBF0F8"
             },
             "line": {
              "color": "white"
             }
            },
            "header": {
             "fill": {
              "color": "#C8D4E3"
             },
             "line": {
              "color": "white"
             }
            },
            "type": "table"
           }
          ]
         },
         "layout": {
          "annotationdefaults": {
           "arrowcolor": "#2a3f5f",
           "arrowhead": 0,
           "arrowwidth": 1
          },
          "autotypenumbers": "strict",
          "coloraxis": {
           "colorbar": {
            "outlinewidth": 0,
            "ticks": ""
           }
          },
          "colorscale": {
           "diverging": [
            [
             0,
             "#8e0152"
            ],
            [
             0.1,
             "#c51b7d"
            ],
            [
             0.2,
             "#de77ae"
            ],
            [
             0.3,
             "#f1b6da"
            ],
            [
             0.4,
             "#fde0ef"
            ],
            [
             0.5,
             "#f7f7f7"
            ],
            [
             0.6,
             "#e6f5d0"
            ],
            [
             0.7,
             "#b8e186"
            ],
            [
             0.8,
             "#7fbc41"
            ],
            [
             0.9,
             "#4d9221"
            ],
            [
             1,
             "#276419"
            ]
           ],
           "sequential": [
            [
             0,
             "#0d0887"
            ],
            [
             0.1111111111111111,
             "#46039f"
            ],
            [
             0.2222222222222222,
             "#7201a8"
            ],
            [
             0.3333333333333333,
             "#9c179e"
            ],
            [
             0.4444444444444444,
             "#bd3786"
            ],
            [
             0.5555555555555556,
             "#d8576b"
            ],
            [
             0.6666666666666666,
             "#ed7953"
            ],
            [
             0.7777777777777778,
             "#fb9f3a"
            ],
            [
             0.8888888888888888,
             "#fdca26"
            ],
            [
             1,
             "#f0f921"
            ]
           ],
           "sequentialminus": [
            [
             0,
             "#0d0887"
            ],
            [
             0.1111111111111111,
             "#46039f"
            ],
            [
             0.2222222222222222,
             "#7201a8"
            ],
            [
             0.3333333333333333,
             "#9c179e"
            ],
            [
             0.4444444444444444,
             "#bd3786"
            ],
            [
             0.5555555555555556,
             "#d8576b"
            ],
            [
             0.6666666666666666,
             "#ed7953"
            ],
            [
             0.7777777777777778,
             "#fb9f3a"
            ],
            [
             0.8888888888888888,
             "#fdca26"
            ],
            [
             1,
             "#f0f921"
            ]
           ]
          },
          "colorway": [
           "#636efa",
           "#EF553B",
           "#00cc96",
           "#ab63fa",
           "#FFA15A",
           "#19d3f3",
           "#FF6692",
           "#B6E880",
           "#FF97FF",
           "#FECB52"
          ],
          "font": {
           "color": "#2a3f5f"
          },
          "geo": {
           "bgcolor": "white",
           "lakecolor": "white",
           "landcolor": "#E5ECF6",
           "showlakes": true,
           "showland": true,
           "subunitcolor": "white"
          },
          "hoverlabel": {
           "align": "left"
          },
          "hovermode": "closest",
          "mapbox": {
           "style": "light"
          },
          "paper_bgcolor": "white",
          "plot_bgcolor": "#E5ECF6",
          "polar": {
           "angularaxis": {
            "gridcolor": "white",
            "linecolor": "white",
            "ticks": ""
           },
           "bgcolor": "#E5ECF6",
           "radialaxis": {
            "gridcolor": "white",
            "linecolor": "white",
            "ticks": ""
           }
          },
          "scene": {
           "xaxis": {
            "backgroundcolor": "#E5ECF6",
            "gridcolor": "white",
            "gridwidth": 2,
            "linecolor": "white",
            "showbackground": true,
            "ticks": "",
            "zerolinecolor": "white"
           },
           "yaxis": {
            "backgroundcolor": "#E5ECF6",
            "gridcolor": "white",
            "gridwidth": 2,
            "linecolor": "white",
            "showbackground": true,
            "ticks": "",
            "zerolinecolor": "white"
           },
           "zaxis": {
            "backgroundcolor": "#E5ECF6",
            "gridcolor": "white",
            "gridwidth": 2,
            "linecolor": "white",
            "showbackground": true,
            "ticks": "",
            "zerolinecolor": "white"
           }
          },
          "shapedefaults": {
           "line": {
            "color": "#2a3f5f"
           }
          },
          "ternary": {
           "aaxis": {
            "gridcolor": "white",
            "linecolor": "white",
            "ticks": ""
           },
           "baxis": {
            "gridcolor": "white",
            "linecolor": "white",
            "ticks": ""
           },
           "bgcolor": "#E5ECF6",
           "caxis": {
            "gridcolor": "white",
            "linecolor": "white",
            "ticks": ""
           }
          },
          "title": {
           "x": 0.05
          },
          "xaxis": {
           "automargin": true,
           "gridcolor": "white",
           "linecolor": "white",
           "ticks": "",
           "title": {
            "standoff": 15
           },
           "zerolinecolor": "white",
           "zerolinewidth": 2
          },
          "yaxis": {
           "automargin": true,
           "gridcolor": "white",
           "linecolor": "white",
           "ticks": "",
           "title": {
            "standoff": 15
           },
           "zerolinecolor": "white",
           "zerolinewidth": 2
          }
         }
        },
        "xaxis": {
         "anchor": "y",
         "domain": [
          0,
          1
         ],
         "title": {
          "text": "value"
         }
        },
        "yaxis": {
         "anchor": "x",
         "categoryarray": [
          "0014:REPAIRS",
          "0033:VENDING RETAIL",
          "0066:VENDING/AMUSEMENT MA",
          "0591:MASS FRAGRANCES",
          "0099:MISC CUSTOM SERVICES",
          "0817:WEARABLES",
          "0587:JEWELRY CONSIGNMENT",
          "0220:SHAPEWEAR",
          "0186:JUNIOR DRESSES",
          "0182:CLASSIC COLLECTIONS",
          "0181:LADIES MODERN COLLEC",
          "0852:COMPUTER SOFTWARE",
          "0853:DIMAGE/PHONE/GPS/ACC",
          "0175:WOMENS SEPARATES",
          "0940:HOME TEXTILES",
          "0165:LIFE IS GOOD",
          "0863:POWER EQUIPMENT",
          "0320:MNS TAILORED CLOTHNG",
          "0310:MENS OUTERWEAR",
          "0131:LADIES DRESSES",
          "0533:PAPYRUS",
          "0439:JUVENILLE FURNITURE",
          "0661:LUGGAGE",
          "0171:MISSY BOTTOMS",
          "0823:SMART HOME",
          "0012:LOCAL GIFTS/FOODS",
          "0346:LIFE STYLE DENIM",
          "0210:FOUNDATIONS",
          "0426:TODDLER BOY APPAREL",
          "0582:GOLD",
          "0018:OTHER DIRECT SERVICE",
          "0637:FISHING",
          "0130:JUNIORS SURF",
          "0178:DENIM COLLECTIONS",
          "0859:iPAD",
          "0173:JUNIOR BOTTOMS",
          "0584:GEMSTONES",
          "0816:VIDEO ELECTRONICS",
          "0340:MENS CASUAL SLACKS",
          "0540:PERIODICALS/COMICS",
          "0002:BARBER RETAIL",
          "0834:COOKWARE",
          "0076:FLORAL RETAIL",
          "0179:MODERATE DENIM",
          "0851:PC HARDWARE",
          "0295:WOMENS ATHLTIC SHOES",
          "0354:MENS MODERN COLLECT",
          "0583:DIAMONDS/BRIDAL",
          "0188:STYLE & CO",
          "0430:GIRLS 4-6X CLOTHING",
          "0541:BOOKS AND MAPS",
          "0460:BOYS 4-7 CLOTHING",
          "0098:WAREHOUSED EXPENSES",
          "0596:MENS PRESTIGE FRAG",
          "0601:VALUE ZONE",
          "0860:NETWORKING",
          "0177:PETITE SEPARATES",
          "0586:COSTUME JEWELRY",
          "0838:FLOOR CARE",
          "0355:MENS SPORT SHIRTS",
          "0632:DIGITAL FITNESS",
          "0819:PRE-RECORDED A/V",
          "0009:FLORAL SERV/SUPPLIES",
          "0645:BIKES",
          "0016:FINANCIAL SERVICES",
          "0511:NAVY PRIDE SOFTLINES",
          "0358:MENS DRESS SHIRTS",
          "0592:WMNS PRESTIGE FRAG",
          "0470:BOYS 8-20 CLOTHING",
          "0440:GIRLS 7-16 CLOTHING",
          "0551:CAMERAS & EQUIP",
          "0856:GLUES/TAPES/ACC",
          "0722:OUTDOOR LIVING",
          "0839:HOME ORG/SOLUTIONS",
          "0833:TABLETOP",
          "0510:NAVY PRIDE HARDLINES",
          "0291:WOMENS FTWR:DRS/CAS",
          "0857:PC PERIPH/OFFICE ACC",
          "0193:LADIES ACTIVEWEAR",
          "0999:UNSCANNED ITEMS",
          "0930:TABLE TOP & KITCHEN",
          "0411:PEGABLES",
          "0965:PERISHABLES",
          "0636:FITNESS/EXERCISE",
          "0421:TODDLER GIRL APPAREL",
          "0368:TRAD COLLECTIONS",
          "0680:AUTOMOTIVE",
          "0639:TEAM SPORTING GOODS",
          "0449:GIRLS ACCESSORIES",
          "0854:VIDEO GAMES",
          "0469:BOYS ACCESSORIES",
          "0850:PC HDWR & OFFICE EQP",
          "0056:SOUVENIR",
          "0941:BEDDING",
          "0343:MENS DENIM JEANS",
          "0163:JUNIOR TOPS",
          "0167:MISSY TOPS",
          "0161:MISSY KAREN SCOTT",
          "0416:INFANT APPAREL",
          "0230:DAYWEAR",
          "0280:FASHION ACCESSORIES",
          "0554:TELECOMMUNICATIONS",
          "0795:HOME DECOR",
          "0931:BATH",
          "0415:NEWBORN APPAREL",
          "0811:TELEVISION",
          "0071:BEAUTY RETAIL",
          "0395:MENS ATHLETIC SHOES",
          "0110:LDS OUTERWEAR/OUTDR",
          "0271:HANDBAGS",
          "0585:WATCHES",
          "0531:STATIONERY SUNDRIES",
          "0353:MENS OUTDOOR",
          "0589:SUNGLASSES",
          "0486:CHILDRENS FOOTWEAR",
          "0846:BATTERIES",
          "0845:AS SEEN ON TV",
          "0581:BRIDGE JEWELRY",
          "0369:YOUNG MENS",
          "0240:SLEEPWEAR/LOUNGEWEAR",
          "0634:VITAMINS & HLTH AIDS",
          "0815:AUDIO ELECTRONICS",
          "0391:MENS SHOES",
          "0595:HOME/BATH",
          "0822:THIRD PARTY GIFTCARD",
          "0359:MENS ACCESSORIES",
          "0797:SEASONAL GIFTS",
          "0261:HOSIERY",
          "0598:BABY CARE",
          "0861:GENERAL HARDWARE",
          "0644:SPORTS NUTRITION",
          "0638:GEN SPORTING GOODS",
          "0593:PRESTIGE COSMETICS",
          "0380:MENS ACTIVEWEAR",
          "0360:MENS FURNISHINGS",
          "0884:LAWN & GARDEN",
          "0826:SMALL ELECTRICS",
          "0837:GENERAL HOUSEWARES",
          "0590:MASS COSMETICS",
          "0530:SCHOOL/OFFIC SUPP",
          "0640:TOYS",
          "0646:SEASONAL",
          "0961:GENERAL GROCERIES",
          "0879:PET SUPPLIES",
          "0532:AMERICAN GREETINGS",
          "0072:BARBER SERVICES",
          "0603:BEAUTY CARE",
          "0984:BEER",
          "0604:PERSONAL CARE",
          "0836:HOUSEHOLD CLEANING",
          "0991:TOBACCO",
          "0983:WINE",
          "0597:HEALTH AIDS",
          "0962:BEVERAGES",
          "0973:CANDY",
          "0982:SPIRITS"
         ],
         "categoryorder": "array",
         "domain": [
          0,
          1
         ],
         "title": {
          "text": "Departamento"
         }
        }
       }
      }
     },
     "metadata": {},
     "output_type": "display_data"
    }
   ],
   "source": [
    "# Quais departamentos têm o maior volume de transações e maior quantidade de unidades vendidas?\n",
    "# Parte 1: Volume de Transações\n",
    "\n",
    "# Quantidade de transações únicas onde cada departamento aparece\n",
    "contagem_transacoes_por_departamento = df_transacoes.value_counts('Departamento')\n",
    "\n",
    "# Plot\n",
    "fig_volume_transacoes = px.bar(contagem_transacoes_por_departamento, color=contagem_transacoes_por_departamento.index, orientation='h')\n",
    "fig_volume_transacoes.update_layout(showlegend=False)\n",
    "fig_volume_transacoes.show()"
   ]
  },
  {
   "cell_type": "code",
   "execution_count": 22,
   "metadata": {},
   "outputs": [
    {
     "data": {
      "application/vnd.plotly.v1+json": {
       "config": {
        "plotlyServerURL": "https://plot.ly"
       },
       "data": [
        {
         "alignmentgroup": "True",
         "hovertemplate": "Departamento=%{y}<br>value=%{x}<extra></extra>",
         "legendgroup": "0982:SPIRITS",
         "marker": {
          "color": "#636efa",
          "pattern": {
           "shape": ""
          }
         },
         "name": "0982:SPIRITS",
         "offsetgroup": "0982:SPIRITS",
         "orientation": "h",
         "showlegend": true,
         "textposition": "auto",
         "type": "bar",
         "x": [
          314
         ],
         "xaxis": "x",
         "y": [
          "0982:SPIRITS"
         ],
         "yaxis": "y"
        },
        {
         "alignmentgroup": "True",
         "hovertemplate": "Departamento=%{y}<br>value=%{x}<extra></extra>",
         "legendgroup": "0973:CANDY",
         "marker": {
          "color": "#EF553B",
          "pattern": {
           "shape": ""
          }
         },
         "name": "0973:CANDY",
         "offsetgroup": "0973:CANDY",
         "orientation": "h",
         "showlegend": true,
         "textposition": "auto",
         "type": "bar",
         "x": [
          275
         ],
         "xaxis": "x",
         "y": [
          "0973:CANDY"
         ],
         "yaxis": "y"
        },
        {
         "alignmentgroup": "True",
         "hovertemplate": "Departamento=%{y}<br>value=%{x}<extra></extra>",
         "legendgroup": "0962:BEVERAGES",
         "marker": {
          "color": "#00cc96",
          "pattern": {
           "shape": ""
          }
         },
         "name": "0962:BEVERAGES",
         "offsetgroup": "0962:BEVERAGES",
         "orientation": "h",
         "showlegend": true,
         "textposition": "auto",
         "type": "bar",
         "x": [
          253
         ],
         "xaxis": "x",
         "y": [
          "0962:BEVERAGES"
         ],
         "yaxis": "y"
        },
        {
         "alignmentgroup": "True",
         "hovertemplate": "Departamento=%{y}<br>value=%{x}<extra></extra>",
         "legendgroup": "0597:HEALTH AIDS",
         "marker": {
          "color": "#ab63fa",
          "pattern": {
           "shape": ""
          }
         },
         "name": "0597:HEALTH AIDS",
         "offsetgroup": "0597:HEALTH AIDS",
         "orientation": "h",
         "showlegend": true,
         "textposition": "auto",
         "type": "bar",
         "x": [
          200
         ],
         "xaxis": "x",
         "y": [
          "0597:HEALTH AIDS"
         ],
         "yaxis": "y"
        },
        {
         "alignmentgroup": "True",
         "hovertemplate": "Departamento=%{y}<br>value=%{x}<extra></extra>",
         "legendgroup": "0983:WINE",
         "marker": {
          "color": "#FFA15A",
          "pattern": {
           "shape": ""
          }
         },
         "name": "0983:WINE",
         "offsetgroup": "0983:WINE",
         "orientation": "h",
         "showlegend": true,
         "textposition": "auto",
         "type": "bar",
         "x": [
          191
         ],
         "xaxis": "x",
         "y": [
          "0983:WINE"
         ],
         "yaxis": "y"
        },
        {
         "alignmentgroup": "True",
         "hovertemplate": "Departamento=%{y}<br>value=%{x}<extra></extra>",
         "legendgroup": "0991:TOBACCO",
         "marker": {
          "color": "#19d3f3",
          "pattern": {
           "shape": ""
          }
         },
         "name": "0991:TOBACCO",
         "offsetgroup": "0991:TOBACCO",
         "orientation": "h",
         "showlegend": true,
         "textposition": "auto",
         "type": "bar",
         "x": [
          185
         ],
         "xaxis": "x",
         "y": [
          "0991:TOBACCO"
         ],
         "yaxis": "y"
        },
        {
         "alignmentgroup": "True",
         "hovertemplate": "Departamento=%{y}<br>value=%{x}<extra></extra>",
         "legendgroup": "0836:HOUSEHOLD CLEANING",
         "marker": {
          "color": "#FF6692",
          "pattern": {
           "shape": ""
          }
         },
         "name": "0836:HOUSEHOLD CLEANING",
         "offsetgroup": "0836:HOUSEHOLD CLEANING",
         "orientation": "h",
         "showlegend": true,
         "textposition": "auto",
         "type": "bar",
         "x": [
          158
         ],
         "xaxis": "x",
         "y": [
          "0836:HOUSEHOLD CLEANING"
         ],
         "yaxis": "y"
        },
        {
         "alignmentgroup": "True",
         "hovertemplate": "Departamento=%{y}<br>value=%{x}<extra></extra>",
         "legendgroup": "0604:PERSONAL CARE",
         "marker": {
          "color": "#B6E880",
          "pattern": {
           "shape": ""
          }
         },
         "name": "0604:PERSONAL CARE",
         "offsetgroup": "0604:PERSONAL CARE",
         "orientation": "h",
         "showlegend": true,
         "textposition": "auto",
         "type": "bar",
         "x": [
          150
         ],
         "xaxis": "x",
         "y": [
          "0604:PERSONAL CARE"
         ],
         "yaxis": "y"
        },
        {
         "alignmentgroup": "True",
         "hovertemplate": "Departamento=%{y}<br>value=%{x}<extra></extra>",
         "legendgroup": "0984:BEER",
         "marker": {
          "color": "#FF97FF",
          "pattern": {
           "shape": ""
          }
         },
         "name": "0984:BEER",
         "offsetgroup": "0984:BEER",
         "orientation": "h",
         "showlegend": true,
         "textposition": "auto",
         "type": "bar",
         "x": [
          132
         ],
         "xaxis": "x",
         "y": [
          "0984:BEER"
         ],
         "yaxis": "y"
        },
        {
         "alignmentgroup": "True",
         "hovertemplate": "Departamento=%{y}<br>value=%{x}<extra></extra>",
         "legendgroup": "0603:BEAUTY CARE",
         "marker": {
          "color": "#FECB52",
          "pattern": {
           "shape": ""
          }
         },
         "name": "0603:BEAUTY CARE",
         "offsetgroup": "0603:BEAUTY CARE",
         "orientation": "h",
         "showlegend": true,
         "textposition": "auto",
         "type": "bar",
         "x": [
          132
         ],
         "xaxis": "x",
         "y": [
          "0603:BEAUTY CARE"
         ],
         "yaxis": "y"
        }
       ],
       "layout": {
        "barmode": "relative",
        "legend": {
         "title": {
          "text": "Departamento"
         },
         "tracegroupgap": 0
        },
        "margin": {
         "t": 60
        },
        "showlegend": false,
        "template": {
         "data": {
          "bar": [
           {
            "error_x": {
             "color": "#2a3f5f"
            },
            "error_y": {
             "color": "#2a3f5f"
            },
            "marker": {
             "line": {
              "color": "#E5ECF6",
              "width": 0.5
             },
             "pattern": {
              "fillmode": "overlay",
              "size": 10,
              "solidity": 0.2
             }
            },
            "type": "bar"
           }
          ],
          "barpolar": [
           {
            "marker": {
             "line": {
              "color": "#E5ECF6",
              "width": 0.5
             },
             "pattern": {
              "fillmode": "overlay",
              "size": 10,
              "solidity": 0.2
             }
            },
            "type": "barpolar"
           }
          ],
          "carpet": [
           {
            "aaxis": {
             "endlinecolor": "#2a3f5f",
             "gridcolor": "white",
             "linecolor": "white",
             "minorgridcolor": "white",
             "startlinecolor": "#2a3f5f"
            },
            "baxis": {
             "endlinecolor": "#2a3f5f",
             "gridcolor": "white",
             "linecolor": "white",
             "minorgridcolor": "white",
             "startlinecolor": "#2a3f5f"
            },
            "type": "carpet"
           }
          ],
          "choropleth": [
           {
            "colorbar": {
             "outlinewidth": 0,
             "ticks": ""
            },
            "type": "choropleth"
           }
          ],
          "contour": [
           {
            "colorbar": {
             "outlinewidth": 0,
             "ticks": ""
            },
            "colorscale": [
             [
              0,
              "#0d0887"
             ],
             [
              0.1111111111111111,
              "#46039f"
             ],
             [
              0.2222222222222222,
              "#7201a8"
             ],
             [
              0.3333333333333333,
              "#9c179e"
             ],
             [
              0.4444444444444444,
              "#bd3786"
             ],
             [
              0.5555555555555556,
              "#d8576b"
             ],
             [
              0.6666666666666666,
              "#ed7953"
             ],
             [
              0.7777777777777778,
              "#fb9f3a"
             ],
             [
              0.8888888888888888,
              "#fdca26"
             ],
             [
              1,
              "#f0f921"
             ]
            ],
            "type": "contour"
           }
          ],
          "contourcarpet": [
           {
            "colorbar": {
             "outlinewidth": 0,
             "ticks": ""
            },
            "type": "contourcarpet"
           }
          ],
          "heatmap": [
           {
            "colorbar": {
             "outlinewidth": 0,
             "ticks": ""
            },
            "colorscale": [
             [
              0,
              "#0d0887"
             ],
             [
              0.1111111111111111,
              "#46039f"
             ],
             [
              0.2222222222222222,
              "#7201a8"
             ],
             [
              0.3333333333333333,
              "#9c179e"
             ],
             [
              0.4444444444444444,
              "#bd3786"
             ],
             [
              0.5555555555555556,
              "#d8576b"
             ],
             [
              0.6666666666666666,
              "#ed7953"
             ],
             [
              0.7777777777777778,
              "#fb9f3a"
             ],
             [
              0.8888888888888888,
              "#fdca26"
             ],
             [
              1,
              "#f0f921"
             ]
            ],
            "type": "heatmap"
           }
          ],
          "heatmapgl": [
           {
            "colorbar": {
             "outlinewidth": 0,
             "ticks": ""
            },
            "colorscale": [
             [
              0,
              "#0d0887"
             ],
             [
              0.1111111111111111,
              "#46039f"
             ],
             [
              0.2222222222222222,
              "#7201a8"
             ],
             [
              0.3333333333333333,
              "#9c179e"
             ],
             [
              0.4444444444444444,
              "#bd3786"
             ],
             [
              0.5555555555555556,
              "#d8576b"
             ],
             [
              0.6666666666666666,
              "#ed7953"
             ],
             [
              0.7777777777777778,
              "#fb9f3a"
             ],
             [
              0.8888888888888888,
              "#fdca26"
             ],
             [
              1,
              "#f0f921"
             ]
            ],
            "type": "heatmapgl"
           }
          ],
          "histogram": [
           {
            "marker": {
             "pattern": {
              "fillmode": "overlay",
              "size": 10,
              "solidity": 0.2
             }
            },
            "type": "histogram"
           }
          ],
          "histogram2d": [
           {
            "colorbar": {
             "outlinewidth": 0,
             "ticks": ""
            },
            "colorscale": [
             [
              0,
              "#0d0887"
             ],
             [
              0.1111111111111111,
              "#46039f"
             ],
             [
              0.2222222222222222,
              "#7201a8"
             ],
             [
              0.3333333333333333,
              "#9c179e"
             ],
             [
              0.4444444444444444,
              "#bd3786"
             ],
             [
              0.5555555555555556,
              "#d8576b"
             ],
             [
              0.6666666666666666,
              "#ed7953"
             ],
             [
              0.7777777777777778,
              "#fb9f3a"
             ],
             [
              0.8888888888888888,
              "#fdca26"
             ],
             [
              1,
              "#f0f921"
             ]
            ],
            "type": "histogram2d"
           }
          ],
          "histogram2dcontour": [
           {
            "colorbar": {
             "outlinewidth": 0,
             "ticks": ""
            },
            "colorscale": [
             [
              0,
              "#0d0887"
             ],
             [
              0.1111111111111111,
              "#46039f"
             ],
             [
              0.2222222222222222,
              "#7201a8"
             ],
             [
              0.3333333333333333,
              "#9c179e"
             ],
             [
              0.4444444444444444,
              "#bd3786"
             ],
             [
              0.5555555555555556,
              "#d8576b"
             ],
             [
              0.6666666666666666,
              "#ed7953"
             ],
             [
              0.7777777777777778,
              "#fb9f3a"
             ],
             [
              0.8888888888888888,
              "#fdca26"
             ],
             [
              1,
              "#f0f921"
             ]
            ],
            "type": "histogram2dcontour"
           }
          ],
          "mesh3d": [
           {
            "colorbar": {
             "outlinewidth": 0,
             "ticks": ""
            },
            "type": "mesh3d"
           }
          ],
          "parcoords": [
           {
            "line": {
             "colorbar": {
              "outlinewidth": 0,
              "ticks": ""
             }
            },
            "type": "parcoords"
           }
          ],
          "pie": [
           {
            "automargin": true,
            "type": "pie"
           }
          ],
          "scatter": [
           {
            "fillpattern": {
             "fillmode": "overlay",
             "size": 10,
             "solidity": 0.2
            },
            "type": "scatter"
           }
          ],
          "scatter3d": [
           {
            "line": {
             "colorbar": {
              "outlinewidth": 0,
              "ticks": ""
             }
            },
            "marker": {
             "colorbar": {
              "outlinewidth": 0,
              "ticks": ""
             }
            },
            "type": "scatter3d"
           }
          ],
          "scattercarpet": [
           {
            "marker": {
             "colorbar": {
              "outlinewidth": 0,
              "ticks": ""
             }
            },
            "type": "scattercarpet"
           }
          ],
          "scattergeo": [
           {
            "marker": {
             "colorbar": {
              "outlinewidth": 0,
              "ticks": ""
             }
            },
            "type": "scattergeo"
           }
          ],
          "scattergl": [
           {
            "marker": {
             "colorbar": {
              "outlinewidth": 0,
              "ticks": ""
             }
            },
            "type": "scattergl"
           }
          ],
          "scattermapbox": [
           {
            "marker": {
             "colorbar": {
              "outlinewidth": 0,
              "ticks": ""
             }
            },
            "type": "scattermapbox"
           }
          ],
          "scatterpolar": [
           {
            "marker": {
             "colorbar": {
              "outlinewidth": 0,
              "ticks": ""
             }
            },
            "type": "scatterpolar"
           }
          ],
          "scatterpolargl": [
           {
            "marker": {
             "colorbar": {
              "outlinewidth": 0,
              "ticks": ""
             }
            },
            "type": "scatterpolargl"
           }
          ],
          "scatterternary": [
           {
            "marker": {
             "colorbar": {
              "outlinewidth": 0,
              "ticks": ""
             }
            },
            "type": "scatterternary"
           }
          ],
          "surface": [
           {
            "colorbar": {
             "outlinewidth": 0,
             "ticks": ""
            },
            "colorscale": [
             [
              0,
              "#0d0887"
             ],
             [
              0.1111111111111111,
              "#46039f"
             ],
             [
              0.2222222222222222,
              "#7201a8"
             ],
             [
              0.3333333333333333,
              "#9c179e"
             ],
             [
              0.4444444444444444,
              "#bd3786"
             ],
             [
              0.5555555555555556,
              "#d8576b"
             ],
             [
              0.6666666666666666,
              "#ed7953"
             ],
             [
              0.7777777777777778,
              "#fb9f3a"
             ],
             [
              0.8888888888888888,
              "#fdca26"
             ],
             [
              1,
              "#f0f921"
             ]
            ],
            "type": "surface"
           }
          ],
          "table": [
           {
            "cells": {
             "fill": {
              "color": "#EBF0F8"
             },
             "line": {
              "color": "white"
             }
            },
            "header": {
             "fill": {
              "color": "#C8D4E3"
             },
             "line": {
              "color": "white"
             }
            },
            "type": "table"
           }
          ]
         },
         "layout": {
          "annotationdefaults": {
           "arrowcolor": "#2a3f5f",
           "arrowhead": 0,
           "arrowwidth": 1
          },
          "autotypenumbers": "strict",
          "coloraxis": {
           "colorbar": {
            "outlinewidth": 0,
            "ticks": ""
           }
          },
          "colorscale": {
           "diverging": [
            [
             0,
             "#8e0152"
            ],
            [
             0.1,
             "#c51b7d"
            ],
            [
             0.2,
             "#de77ae"
            ],
            [
             0.3,
             "#f1b6da"
            ],
            [
             0.4,
             "#fde0ef"
            ],
            [
             0.5,
             "#f7f7f7"
            ],
            [
             0.6,
             "#e6f5d0"
            ],
            [
             0.7,
             "#b8e186"
            ],
            [
             0.8,
             "#7fbc41"
            ],
            [
             0.9,
             "#4d9221"
            ],
            [
             1,
             "#276419"
            ]
           ],
           "sequential": [
            [
             0,
             "#0d0887"
            ],
            [
             0.1111111111111111,
             "#46039f"
            ],
            [
             0.2222222222222222,
             "#7201a8"
            ],
            [
             0.3333333333333333,
             "#9c179e"
            ],
            [
             0.4444444444444444,
             "#bd3786"
            ],
            [
             0.5555555555555556,
             "#d8576b"
            ],
            [
             0.6666666666666666,
             "#ed7953"
            ],
            [
             0.7777777777777778,
             "#fb9f3a"
            ],
            [
             0.8888888888888888,
             "#fdca26"
            ],
            [
             1,
             "#f0f921"
            ]
           ],
           "sequentialminus": [
            [
             0,
             "#0d0887"
            ],
            [
             0.1111111111111111,
             "#46039f"
            ],
            [
             0.2222222222222222,
             "#7201a8"
            ],
            [
             0.3333333333333333,
             "#9c179e"
            ],
            [
             0.4444444444444444,
             "#bd3786"
            ],
            [
             0.5555555555555556,
             "#d8576b"
            ],
            [
             0.6666666666666666,
             "#ed7953"
            ],
            [
             0.7777777777777778,
             "#fb9f3a"
            ],
            [
             0.8888888888888888,
             "#fdca26"
            ],
            [
             1,
             "#f0f921"
            ]
           ]
          },
          "colorway": [
           "#636efa",
           "#EF553B",
           "#00cc96",
           "#ab63fa",
           "#FFA15A",
           "#19d3f3",
           "#FF6692",
           "#B6E880",
           "#FF97FF",
           "#FECB52"
          ],
          "font": {
           "color": "#2a3f5f"
          },
          "geo": {
           "bgcolor": "white",
           "lakecolor": "white",
           "landcolor": "#E5ECF6",
           "showlakes": true,
           "showland": true,
           "subunitcolor": "white"
          },
          "hoverlabel": {
           "align": "left"
          },
          "hovermode": "closest",
          "mapbox": {
           "style": "light"
          },
          "paper_bgcolor": "white",
          "plot_bgcolor": "#E5ECF6",
          "polar": {
           "angularaxis": {
            "gridcolor": "white",
            "linecolor": "white",
            "ticks": ""
           },
           "bgcolor": "#E5ECF6",
           "radialaxis": {
            "gridcolor": "white",
            "linecolor": "white",
            "ticks": ""
           }
          },
          "scene": {
           "xaxis": {
            "backgroundcolor": "#E5ECF6",
            "gridcolor": "white",
            "gridwidth": 2,
            "linecolor": "white",
            "showbackground": true,
            "ticks": "",
            "zerolinecolor": "white"
           },
           "yaxis": {
            "backgroundcolor": "#E5ECF6",
            "gridcolor": "white",
            "gridwidth": 2,
            "linecolor": "white",
            "showbackground": true,
            "ticks": "",
            "zerolinecolor": "white"
           },
           "zaxis": {
            "backgroundcolor": "#E5ECF6",
            "gridcolor": "white",
            "gridwidth": 2,
            "linecolor": "white",
            "showbackground": true,
            "ticks": "",
            "zerolinecolor": "white"
           }
          },
          "shapedefaults": {
           "line": {
            "color": "#2a3f5f"
           }
          },
          "ternary": {
           "aaxis": {
            "gridcolor": "white",
            "linecolor": "white",
            "ticks": ""
           },
           "baxis": {
            "gridcolor": "white",
            "linecolor": "white",
            "ticks": ""
           },
           "bgcolor": "#E5ECF6",
           "caxis": {
            "gridcolor": "white",
            "linecolor": "white",
            "ticks": ""
           }
          },
          "title": {
           "x": 0.05
          },
          "xaxis": {
           "automargin": true,
           "gridcolor": "white",
           "linecolor": "white",
           "ticks": "",
           "title": {
            "standoff": 15
           },
           "zerolinecolor": "white",
           "zerolinewidth": 2
          },
          "yaxis": {
           "automargin": true,
           "gridcolor": "white",
           "linecolor": "white",
           "ticks": "",
           "title": {
            "standoff": 15
           },
           "zerolinecolor": "white",
           "zerolinewidth": 2
          }
         }
        },
        "xaxis": {
         "anchor": "y",
         "domain": [
          0,
          1
         ],
         "title": {
          "text": "value"
         }
        },
        "yaxis": {
         "anchor": "x",
         "categoryarray": [
          "0603:BEAUTY CARE",
          "0984:BEER",
          "0604:PERSONAL CARE",
          "0836:HOUSEHOLD CLEANING",
          "0991:TOBACCO",
          "0983:WINE",
          "0597:HEALTH AIDS",
          "0962:BEVERAGES",
          "0973:CANDY",
          "0982:SPIRITS"
         ],
         "categoryorder": "array",
         "domain": [
          0,
          1
         ],
         "title": {
          "text": "Departamento"
         }
        }
       }
      }
     },
     "metadata": {},
     "output_type": "display_data"
    }
   ],
   "source": [
    "# Qual o top 10 de departamentos têm o maior volume de transações e maior quantidade de unidades vendidas?\n",
    "# Parte 1: Volume de Transações\n",
    "\n",
    "# Quantidade de transações únicas onde cada departamento aparece\n",
    "contagem_transacoes_por_departamento_top10 = df_transacoes.value_counts('Departamento').head(10)\n",
    "\n",
    "# Plot\n",
    "fig_volume_transacoes_top10 = px.bar(contagem_transacoes_por_departamento_top10, color=contagem_transacoes_por_departamento_top10.index, orientation='h')\n",
    "fig_volume_transacoes_top10.update_layout(showlegend=False)\n",
    "fig_volume_transacoes_top10.show()"
   ]
  },
  {
   "cell_type": "code",
   "execution_count": 23,
   "metadata": {},
   "outputs": [
    {
     "data": {
      "application/vnd.plotly.v1+json": {
       "config": {
        "plotlyServerURL": "https://plot.ly"
       },
       "data": [
        {
         "alignmentgroup": "True",
         "hovertemplate": "Departamento=%{y}<br>value=%{x}<extra></extra>",
         "legendgroup": "0982:SPIRITS",
         "marker": {
          "color": "#636efa",
          "pattern": {
           "shape": ""
          }
         },
         "name": "0982:SPIRITS",
         "offsetgroup": "0982:SPIRITS",
         "orientation": "h",
         "showlegend": true,
         "textposition": "auto",
         "type": "bar",
         "x": [
          661
         ],
         "xaxis": "x",
         "y": [
          "0982:SPIRITS"
         ],
         "yaxis": "y"
        },
        {
         "alignmentgroup": "True",
         "hovertemplate": "Departamento=%{y}<br>value=%{x}<extra></extra>",
         "legendgroup": "0973:CANDY",
         "marker": {
          "color": "#EF553B",
          "pattern": {
           "shape": ""
          }
         },
         "name": "0973:CANDY",
         "offsetgroup": "0973:CANDY",
         "orientation": "h",
         "showlegend": true,
         "textposition": "auto",
         "type": "bar",
         "x": [
          646
         ],
         "xaxis": "x",
         "y": [
          "0973:CANDY"
         ],
         "yaxis": "y"
        },
        {
         "alignmentgroup": "True",
         "hovertemplate": "Departamento=%{y}<br>value=%{x}<extra></extra>",
         "legendgroup": "0983:WINE",
         "marker": {
          "color": "#00cc96",
          "pattern": {
           "shape": ""
          }
         },
         "name": "0983:WINE",
         "offsetgroup": "0983:WINE",
         "orientation": "h",
         "showlegend": true,
         "textposition": "auto",
         "type": "bar",
         "x": [
          528
         ],
         "xaxis": "x",
         "y": [
          "0983:WINE"
         ],
         "yaxis": "y"
        },
        {
         "alignmentgroup": "True",
         "hovertemplate": "Departamento=%{y}<br>value=%{x}<extra></extra>",
         "legendgroup": "0962:BEVERAGES",
         "marker": {
          "color": "#ab63fa",
          "pattern": {
           "shape": ""
          }
         },
         "name": "0962:BEVERAGES",
         "offsetgroup": "0962:BEVERAGES",
         "orientation": "h",
         "showlegend": true,
         "textposition": "auto",
         "type": "bar",
         "x": [
          418
         ],
         "xaxis": "x",
         "y": [
          "0962:BEVERAGES"
         ],
         "yaxis": "y"
        },
        {
         "alignmentgroup": "True",
         "hovertemplate": "Departamento=%{y}<br>value=%{x}<extra></extra>",
         "legendgroup": "0836:HOUSEHOLD CLEANING",
         "marker": {
          "color": "#FFA15A",
          "pattern": {
           "shape": ""
          }
         },
         "name": "0836:HOUSEHOLD CLEANING",
         "offsetgroup": "0836:HOUSEHOLD CLEANING",
         "orientation": "h",
         "showlegend": true,
         "textposition": "auto",
         "type": "bar",
         "x": [
          371
         ],
         "xaxis": "x",
         "y": [
          "0836:HOUSEHOLD CLEANING"
         ],
         "yaxis": "y"
        },
        {
         "alignmentgroup": "True",
         "hovertemplate": "Departamento=%{y}<br>value=%{x}<extra></extra>",
         "legendgroup": "0597:HEALTH AIDS",
         "marker": {
          "color": "#19d3f3",
          "pattern": {
           "shape": ""
          }
         },
         "name": "0597:HEALTH AIDS",
         "offsetgroup": "0597:HEALTH AIDS",
         "orientation": "h",
         "showlegend": true,
         "textposition": "auto",
         "type": "bar",
         "x": [
          342
         ],
         "xaxis": "x",
         "y": [
          "0597:HEALTH AIDS"
         ],
         "yaxis": "y"
        },
        {
         "alignmentgroup": "True",
         "hovertemplate": "Departamento=%{y}<br>value=%{x}<extra></extra>",
         "legendgroup": "0646:SEASONAL",
         "marker": {
          "color": "#FF6692",
          "pattern": {
           "shape": ""
          }
         },
         "name": "0646:SEASONAL",
         "offsetgroup": "0646:SEASONAL",
         "orientation": "h",
         "showlegend": true,
         "textposition": "auto",
         "type": "bar",
         "x": [
          326
         ],
         "xaxis": "x",
         "y": [
          "0646:SEASONAL"
         ],
         "yaxis": "y"
        },
        {
         "alignmentgroup": "True",
         "hovertemplate": "Departamento=%{y}<br>value=%{x}<extra></extra>",
         "legendgroup": "0991:TOBACCO",
         "marker": {
          "color": "#B6E880",
          "pattern": {
           "shape": ""
          }
         },
         "name": "0991:TOBACCO",
         "offsetgroup": "0991:TOBACCO",
         "orientation": "h",
         "showlegend": true,
         "textposition": "auto",
         "type": "bar",
         "x": [
          313
         ],
         "xaxis": "x",
         "y": [
          "0991:TOBACCO"
         ],
         "yaxis": "y"
        },
        {
         "alignmentgroup": "True",
         "hovertemplate": "Departamento=%{y}<br>value=%{x}<extra></extra>",
         "legendgroup": "0604:PERSONAL CARE",
         "marker": {
          "color": "#FF97FF",
          "pattern": {
           "shape": ""
          }
         },
         "name": "0604:PERSONAL CARE",
         "offsetgroup": "0604:PERSONAL CARE",
         "orientation": "h",
         "showlegend": true,
         "textposition": "auto",
         "type": "bar",
         "x": [
          292
         ],
         "xaxis": "x",
         "y": [
          "0604:PERSONAL CARE"
         ],
         "yaxis": "y"
        },
        {
         "alignmentgroup": "True",
         "hovertemplate": "Departamento=%{y}<br>value=%{x}<extra></extra>",
         "legendgroup": "0879:PET SUPPLIES",
         "marker": {
          "color": "#FECB52",
          "pattern": {
           "shape": ""
          }
         },
         "name": "0879:PET SUPPLIES",
         "offsetgroup": "0879:PET SUPPLIES",
         "orientation": "h",
         "showlegend": true,
         "textposition": "auto",
         "type": "bar",
         "x": [
          243
         ],
         "xaxis": "x",
         "y": [
          "0879:PET SUPPLIES"
         ],
         "yaxis": "y"
        },
        {
         "alignmentgroup": "True",
         "hovertemplate": "Departamento=%{y}<br>value=%{x}<extra></extra>",
         "legendgroup": "0603:BEAUTY CARE",
         "marker": {
          "color": "#636efa",
          "pattern": {
           "shape": ""
          }
         },
         "name": "0603:BEAUTY CARE",
         "offsetgroup": "0603:BEAUTY CARE",
         "orientation": "h",
         "showlegend": true,
         "textposition": "auto",
         "type": "bar",
         "x": [
          240
         ],
         "xaxis": "x",
         "y": [
          "0603:BEAUTY CARE"
         ],
         "yaxis": "y"
        },
        {
         "alignmentgroup": "True",
         "hovertemplate": "Departamento=%{y}<br>value=%{x}<extra></extra>",
         "legendgroup": "0984:BEER",
         "marker": {
          "color": "#EF553B",
          "pattern": {
           "shape": ""
          }
         },
         "name": "0984:BEER",
         "offsetgroup": "0984:BEER",
         "orientation": "h",
         "showlegend": true,
         "textposition": "auto",
         "type": "bar",
         "x": [
          223
         ],
         "xaxis": "x",
         "y": [
          "0984:BEER"
         ],
         "yaxis": "y"
        },
        {
         "alignmentgroup": "True",
         "hovertemplate": "Departamento=%{y}<br>value=%{x}<extra></extra>",
         "legendgroup": "0532:AMERICAN GREETINGS",
         "marker": {
          "color": "#00cc96",
          "pattern": {
           "shape": ""
          }
         },
         "name": "0532:AMERICAN GREETINGS",
         "offsetgroup": "0532:AMERICAN GREETINGS",
         "orientation": "h",
         "showlegend": true,
         "textposition": "auto",
         "type": "bar",
         "x": [
          206
         ],
         "xaxis": "x",
         "y": [
          "0532:AMERICAN GREETINGS"
         ],
         "yaxis": "y"
        },
        {
         "alignmentgroup": "True",
         "hovertemplate": "Departamento=%{y}<br>value=%{x}<extra></extra>",
         "legendgroup": "0961:GENERAL GROCERIES",
         "marker": {
          "color": "#ab63fa",
          "pattern": {
           "shape": ""
          }
         },
         "name": "0961:GENERAL GROCERIES",
         "offsetgroup": "0961:GENERAL GROCERIES",
         "orientation": "h",
         "showlegend": true,
         "textposition": "auto",
         "type": "bar",
         "x": [
          169
         ],
         "xaxis": "x",
         "y": [
          "0961:GENERAL GROCERIES"
         ],
         "yaxis": "y"
        },
        {
         "alignmentgroup": "True",
         "hovertemplate": "Departamento=%{y}<br>value=%{x}<extra></extra>",
         "legendgroup": "0640:TOYS",
         "marker": {
          "color": "#FFA15A",
          "pattern": {
           "shape": ""
          }
         },
         "name": "0640:TOYS",
         "offsetgroup": "0640:TOYS",
         "orientation": "h",
         "showlegend": true,
         "textposition": "auto",
         "type": "bar",
         "x": [
          142
         ],
         "xaxis": "x",
         "y": [
          "0640:TOYS"
         ],
         "yaxis": "y"
        },
        {
         "alignmentgroup": "True",
         "hovertemplate": "Departamento=%{y}<br>value=%{x}<extra></extra>",
         "legendgroup": "0530:SCHOOL/OFFIC SUPP",
         "marker": {
          "color": "#19d3f3",
          "pattern": {
           "shape": ""
          }
         },
         "name": "0530:SCHOOL/OFFIC SUPP",
         "offsetgroup": "0530:SCHOOL/OFFIC SUPP",
         "orientation": "h",
         "showlegend": true,
         "textposition": "auto",
         "type": "bar",
         "x": [
          134
         ],
         "xaxis": "x",
         "y": [
          "0530:SCHOOL/OFFIC SUPP"
         ],
         "yaxis": "y"
        },
        {
         "alignmentgroup": "True",
         "hovertemplate": "Departamento=%{y}<br>value=%{x}<extra></extra>",
         "legendgroup": "0072:BARBER SERVICES",
         "marker": {
          "color": "#FF6692",
          "pattern": {
           "shape": ""
          }
         },
         "name": "0072:BARBER SERVICES",
         "offsetgroup": "0072:BARBER SERVICES",
         "orientation": "h",
         "showlegend": true,
         "textposition": "auto",
         "type": "bar",
         "x": [
          117
         ],
         "xaxis": "x",
         "y": [
          "0072:BARBER SERVICES"
         ],
         "yaxis": "y"
        },
        {
         "alignmentgroup": "True",
         "hovertemplate": "Departamento=%{y}<br>value=%{x}<extra></extra>",
         "legendgroup": "0360:MENS FURNISHINGS",
         "marker": {
          "color": "#B6E880",
          "pattern": {
           "shape": ""
          }
         },
         "name": "0360:MENS FURNISHINGS",
         "offsetgroup": "0360:MENS FURNISHINGS",
         "orientation": "h",
         "showlegend": true,
         "textposition": "auto",
         "type": "bar",
         "x": [
          96
         ],
         "xaxis": "x",
         "y": [
          "0360:MENS FURNISHINGS"
         ],
         "yaxis": "y"
        },
        {
         "alignmentgroup": "True",
         "hovertemplate": "Departamento=%{y}<br>value=%{x}<extra></extra>",
         "legendgroup": "0837:GENERAL HOUSEWARES",
         "marker": {
          "color": "#FF97FF",
          "pattern": {
           "shape": ""
          }
         },
         "name": "0837:GENERAL HOUSEWARES",
         "offsetgroup": "0837:GENERAL HOUSEWARES",
         "orientation": "h",
         "showlegend": true,
         "textposition": "auto",
         "type": "bar",
         "x": [
          92
         ],
         "xaxis": "x",
         "y": [
          "0837:GENERAL HOUSEWARES"
         ],
         "yaxis": "y"
        },
        {
         "alignmentgroup": "True",
         "hovertemplate": "Departamento=%{y}<br>value=%{x}<extra></extra>",
         "legendgroup": "0644:SPORTS NUTRITION",
         "marker": {
          "color": "#FECB52",
          "pattern": {
           "shape": ""
          }
         },
         "name": "0644:SPORTS NUTRITION",
         "offsetgroup": "0644:SPORTS NUTRITION",
         "orientation": "h",
         "showlegend": true,
         "textposition": "auto",
         "type": "bar",
         "x": [
          92
         ],
         "xaxis": "x",
         "y": [
          "0644:SPORTS NUTRITION"
         ],
         "yaxis": "y"
        },
        {
         "alignmentgroup": "True",
         "hovertemplate": "Departamento=%{y}<br>value=%{x}<extra></extra>",
         "legendgroup": "0590:MASS COSMETICS",
         "marker": {
          "color": "#636efa",
          "pattern": {
           "shape": ""
          }
         },
         "name": "0590:MASS COSMETICS",
         "offsetgroup": "0590:MASS COSMETICS",
         "orientation": "h",
         "showlegend": true,
         "textposition": "auto",
         "type": "bar",
         "x": [
          89
         ],
         "xaxis": "x",
         "y": [
          "0590:MASS COSMETICS"
         ],
         "yaxis": "y"
        },
        {
         "alignmentgroup": "True",
         "hovertemplate": "Departamento=%{y}<br>value=%{x}<extra></extra>",
         "legendgroup": "0638:GEN SPORTING GOODS",
         "marker": {
          "color": "#EF553B",
          "pattern": {
           "shape": ""
          }
         },
         "name": "0638:GEN SPORTING GOODS",
         "offsetgroup": "0638:GEN SPORTING GOODS",
         "orientation": "h",
         "showlegend": true,
         "textposition": "auto",
         "type": "bar",
         "x": [
          78
         ],
         "xaxis": "x",
         "y": [
          "0638:GEN SPORTING GOODS"
         ],
         "yaxis": "y"
        },
        {
         "alignmentgroup": "True",
         "hovertemplate": "Departamento=%{y}<br>value=%{x}<extra></extra>",
         "legendgroup": "0884:LAWN & GARDEN",
         "marker": {
          "color": "#00cc96",
          "pattern": {
           "shape": ""
          }
         },
         "name": "0884:LAWN & GARDEN",
         "offsetgroup": "0884:LAWN & GARDEN",
         "orientation": "h",
         "showlegend": true,
         "textposition": "auto",
         "type": "bar",
         "x": [
          77
         ],
         "xaxis": "x",
         "y": [
          "0884:LAWN & GARDEN"
         ],
         "yaxis": "y"
        },
        {
         "alignmentgroup": "True",
         "hovertemplate": "Departamento=%{y}<br>value=%{x}<extra></extra>",
         "legendgroup": "0593:PRESTIGE COSMETICS",
         "marker": {
          "color": "#ab63fa",
          "pattern": {
           "shape": ""
          }
         },
         "name": "0593:PRESTIGE COSMETICS",
         "offsetgroup": "0593:PRESTIGE COSMETICS",
         "orientation": "h",
         "showlegend": true,
         "textposition": "auto",
         "type": "bar",
         "x": [
          73
         ],
         "xaxis": "x",
         "y": [
          "0593:PRESTIGE COSMETICS"
         ],
         "yaxis": "y"
        },
        {
         "alignmentgroup": "True",
         "hovertemplate": "Departamento=%{y}<br>value=%{x}<extra></extra>",
         "legendgroup": "0380:MENS ACTIVEWEAR",
         "marker": {
          "color": "#FFA15A",
          "pattern": {
           "shape": ""
          }
         },
         "name": "0380:MENS ACTIVEWEAR",
         "offsetgroup": "0380:MENS ACTIVEWEAR",
         "orientation": "h",
         "showlegend": true,
         "textposition": "auto",
         "type": "bar",
         "x": [
          69
         ],
         "xaxis": "x",
         "y": [
          "0380:MENS ACTIVEWEAR"
         ],
         "yaxis": "y"
        },
        {
         "alignmentgroup": "True",
         "hovertemplate": "Departamento=%{y}<br>value=%{x}<extra></extra>",
         "legendgroup": "0826:SMALL ELECTRICS",
         "marker": {
          "color": "#19d3f3",
          "pattern": {
           "shape": ""
          }
         },
         "name": "0826:SMALL ELECTRICS",
         "offsetgroup": "0826:SMALL ELECTRICS",
         "orientation": "h",
         "showlegend": true,
         "textposition": "auto",
         "type": "bar",
         "x": [
          65
         ],
         "xaxis": "x",
         "y": [
          "0826:SMALL ELECTRICS"
         ],
         "yaxis": "y"
        },
        {
         "alignmentgroup": "True",
         "hovertemplate": "Departamento=%{y}<br>value=%{x}<extra></extra>",
         "legendgroup": "0261:HOSIERY",
         "marker": {
          "color": "#FF6692",
          "pattern": {
           "shape": ""
          }
         },
         "name": "0261:HOSIERY",
         "offsetgroup": "0261:HOSIERY",
         "orientation": "h",
         "showlegend": true,
         "textposition": "auto",
         "type": "bar",
         "x": [
          63
         ],
         "xaxis": "x",
         "y": [
          "0261:HOSIERY"
         ],
         "yaxis": "y"
        },
        {
         "alignmentgroup": "True",
         "hovertemplate": "Departamento=%{y}<br>value=%{x}<extra></extra>",
         "legendgroup": "0595:HOME/BATH",
         "marker": {
          "color": "#B6E880",
          "pattern": {
           "shape": ""
          }
         },
         "name": "0595:HOME/BATH",
         "offsetgroup": "0595:HOME/BATH",
         "orientation": "h",
         "showlegend": true,
         "textposition": "auto",
         "type": "bar",
         "x": [
          58
         ],
         "xaxis": "x",
         "y": [
          "0595:HOME/BATH"
         ],
         "yaxis": "y"
        },
        {
         "alignmentgroup": "True",
         "hovertemplate": "Departamento=%{y}<br>value=%{x}<extra></extra>",
         "legendgroup": "0598:BABY CARE",
         "marker": {
          "color": "#FF97FF",
          "pattern": {
           "shape": ""
          }
         },
         "name": "0598:BABY CARE",
         "offsetgroup": "0598:BABY CARE",
         "orientation": "h",
         "showlegend": true,
         "textposition": "auto",
         "type": "bar",
         "x": [
          58
         ],
         "xaxis": "x",
         "y": [
          "0598:BABY CARE"
         ],
         "yaxis": "y"
        },
        {
         "alignmentgroup": "True",
         "hovertemplate": "Departamento=%{y}<br>value=%{x}<extra></extra>",
         "legendgroup": "0240:SLEEPWEAR/LOUNGEWEAR",
         "marker": {
          "color": "#FECB52",
          "pattern": {
           "shape": ""
          }
         },
         "name": "0240:SLEEPWEAR/LOUNGEWEAR",
         "offsetgroup": "0240:SLEEPWEAR/LOUNGEWEAR",
         "orientation": "h",
         "showlegend": true,
         "textposition": "auto",
         "type": "bar",
         "x": [
          49
         ],
         "xaxis": "x",
         "y": [
          "0240:SLEEPWEAR/LOUNGEWEAR"
         ],
         "yaxis": "y"
        },
        {
         "alignmentgroup": "True",
         "hovertemplate": "Departamento=%{y}<br>value=%{x}<extra></extra>",
         "legendgroup": "0531:STATIONERY SUNDRIES",
         "marker": {
          "color": "#636efa",
          "pattern": {
           "shape": ""
          }
         },
         "name": "0531:STATIONERY SUNDRIES",
         "offsetgroup": "0531:STATIONERY SUNDRIES",
         "orientation": "h",
         "showlegend": true,
         "textposition": "auto",
         "type": "bar",
         "x": [
          48
         ],
         "xaxis": "x",
         "y": [
          "0531:STATIONERY SUNDRIES"
         ],
         "yaxis": "y"
        },
        {
         "alignmentgroup": "True",
         "hovertemplate": "Departamento=%{y}<br>value=%{x}<extra></extra>",
         "legendgroup": "0797:SEASONAL GIFTS",
         "marker": {
          "color": "#EF553B",
          "pattern": {
           "shape": ""
          }
         },
         "name": "0797:SEASONAL GIFTS",
         "offsetgroup": "0797:SEASONAL GIFTS",
         "orientation": "h",
         "showlegend": true,
         "textposition": "auto",
         "type": "bar",
         "x": [
          47
         ],
         "xaxis": "x",
         "y": [
          "0797:SEASONAL GIFTS"
         ],
         "yaxis": "y"
        },
        {
         "alignmentgroup": "True",
         "hovertemplate": "Departamento=%{y}<br>value=%{x}<extra></extra>",
         "legendgroup": "0861:GENERAL HARDWARE",
         "marker": {
          "color": "#00cc96",
          "pattern": {
           "shape": ""
          }
         },
         "name": "0861:GENERAL HARDWARE",
         "offsetgroup": "0861:GENERAL HARDWARE",
         "orientation": "h",
         "showlegend": true,
         "textposition": "auto",
         "type": "bar",
         "x": [
          44
         ],
         "xaxis": "x",
         "y": [
          "0861:GENERAL HARDWARE"
         ],
         "yaxis": "y"
        },
        {
         "alignmentgroup": "True",
         "hovertemplate": "Departamento=%{y}<br>value=%{x}<extra></extra>",
         "legendgroup": "0415:NEWBORN APPAREL",
         "marker": {
          "color": "#ab63fa",
          "pattern": {
           "shape": ""
          }
         },
         "name": "0415:NEWBORN APPAREL",
         "offsetgroup": "0415:NEWBORN APPAREL",
         "orientation": "h",
         "showlegend": true,
         "textposition": "auto",
         "type": "bar",
         "x": [
          43
         ],
         "xaxis": "x",
         "y": [
          "0415:NEWBORN APPAREL"
         ],
         "yaxis": "y"
        },
        {
         "alignmentgroup": "True",
         "hovertemplate": "Departamento=%{y}<br>value=%{x}<extra></extra>",
         "legendgroup": "0581:BRIDGE JEWELRY",
         "marker": {
          "color": "#FFA15A",
          "pattern": {
           "shape": ""
          }
         },
         "name": "0581:BRIDGE JEWELRY",
         "offsetgroup": "0581:BRIDGE JEWELRY",
         "orientation": "h",
         "showlegend": true,
         "textposition": "auto",
         "type": "bar",
         "x": [
          40
         ],
         "xaxis": "x",
         "y": [
          "0581:BRIDGE JEWELRY"
         ],
         "yaxis": "y"
        },
        {
         "alignmentgroup": "True",
         "hovertemplate": "Departamento=%{y}<br>value=%{x}<extra></extra>",
         "legendgroup": "0815:AUDIO ELECTRONICS",
         "marker": {
          "color": "#19d3f3",
          "pattern": {
           "shape": ""
          }
         },
         "name": "0815:AUDIO ELECTRONICS",
         "offsetgroup": "0815:AUDIO ELECTRONICS",
         "orientation": "h",
         "showlegend": true,
         "textposition": "auto",
         "type": "bar",
         "x": [
          38
         ],
         "xaxis": "x",
         "y": [
          "0815:AUDIO ELECTRONICS"
         ],
         "yaxis": "y"
        },
        {
         "alignmentgroup": "True",
         "hovertemplate": "Departamento=%{y}<br>value=%{x}<extra></extra>",
         "legendgroup": "0822:THIRD PARTY GIFTCARD",
         "marker": {
          "color": "#FF6692",
          "pattern": {
           "shape": ""
          }
         },
         "name": "0822:THIRD PARTY GIFTCARD",
         "offsetgroup": "0822:THIRD PARTY GIFTCARD",
         "orientation": "h",
         "showlegend": true,
         "textposition": "auto",
         "type": "bar",
         "x": [
          38
         ],
         "xaxis": "x",
         "y": [
          "0822:THIRD PARTY GIFTCARD"
         ],
         "yaxis": "y"
        },
        {
         "alignmentgroup": "True",
         "hovertemplate": "Departamento=%{y}<br>value=%{x}<extra></extra>",
         "legendgroup": "0931:BATH",
         "marker": {
          "color": "#B6E880",
          "pattern": {
           "shape": ""
          }
         },
         "name": "0931:BATH",
         "offsetgroup": "0931:BATH",
         "orientation": "h",
         "showlegend": true,
         "textposition": "auto",
         "type": "bar",
         "x": [
          37
         ],
         "xaxis": "x",
         "y": [
          "0931:BATH"
         ],
         "yaxis": "y"
        },
        {
         "alignmentgroup": "True",
         "hovertemplate": "Departamento=%{y}<br>value=%{x}<extra></extra>",
         "legendgroup": "0634:VITAMINS & HLTH AIDS",
         "marker": {
          "color": "#FF97FF",
          "pattern": {
           "shape": ""
          }
         },
         "name": "0634:VITAMINS & HLTH AIDS",
         "offsetgroup": "0634:VITAMINS & HLTH AIDS",
         "orientation": "h",
         "showlegend": true,
         "textposition": "auto",
         "type": "bar",
         "x": [
          36
         ],
         "xaxis": "x",
         "y": [
          "0634:VITAMINS & HLTH AIDS"
         ],
         "yaxis": "y"
        },
        {
         "alignmentgroup": "True",
         "hovertemplate": "Departamento=%{y}<br>value=%{x}<extra></extra>",
         "legendgroup": "0416:INFANT APPAREL",
         "marker": {
          "color": "#FECB52",
          "pattern": {
           "shape": ""
          }
         },
         "name": "0416:INFANT APPAREL",
         "offsetgroup": "0416:INFANT APPAREL",
         "orientation": "h",
         "showlegend": true,
         "textposition": "auto",
         "type": "bar",
         "x": [
          32
         ],
         "xaxis": "x",
         "y": [
          "0416:INFANT APPAREL"
         ],
         "yaxis": "y"
        },
        {
         "alignmentgroup": "True",
         "hovertemplate": "Departamento=%{y}<br>value=%{x}<extra></extra>",
         "legendgroup": "0930:TABLE TOP & KITCHEN",
         "marker": {
          "color": "#636efa",
          "pattern": {
           "shape": ""
          }
         },
         "name": "0930:TABLE TOP & KITCHEN",
         "offsetgroup": "0930:TABLE TOP & KITCHEN",
         "orientation": "h",
         "showlegend": true,
         "textposition": "auto",
         "type": "bar",
         "x": [
          32
         ],
         "xaxis": "x",
         "y": [
          "0930:TABLE TOP & KITCHEN"
         ],
         "yaxis": "y"
        },
        {
         "alignmentgroup": "True",
         "hovertemplate": "Departamento=%{y}<br>value=%{x}<extra></extra>",
         "legendgroup": "0230:DAYWEAR",
         "marker": {
          "color": "#EF553B",
          "pattern": {
           "shape": ""
          }
         },
         "name": "0230:DAYWEAR",
         "offsetgroup": "0230:DAYWEAR",
         "orientation": "h",
         "showlegend": true,
         "textposition": "auto",
         "type": "bar",
         "x": [
          32
         ],
         "xaxis": "x",
         "y": [
          "0230:DAYWEAR"
         ],
         "yaxis": "y"
        },
        {
         "alignmentgroup": "True",
         "hovertemplate": "Departamento=%{y}<br>value=%{x}<extra></extra>",
         "legendgroup": "0449:GIRLS ACCESSORIES",
         "marker": {
          "color": "#00cc96",
          "pattern": {
           "shape": ""
          }
         },
         "name": "0449:GIRLS ACCESSORIES",
         "offsetgroup": "0449:GIRLS ACCESSORIES",
         "orientation": "h",
         "showlegend": true,
         "textposition": "auto",
         "type": "bar",
         "x": [
          31
         ],
         "xaxis": "x",
         "y": [
          "0449:GIRLS ACCESSORIES"
         ],
         "yaxis": "y"
        },
        {
         "alignmentgroup": "True",
         "hovertemplate": "Departamento=%{y}<br>value=%{x}<extra></extra>",
         "legendgroup": "0161:MISSY KAREN SCOTT",
         "marker": {
          "color": "#ab63fa",
          "pattern": {
           "shape": ""
          }
         },
         "name": "0161:MISSY KAREN SCOTT",
         "offsetgroup": "0161:MISSY KAREN SCOTT",
         "orientation": "h",
         "showlegend": true,
         "textposition": "auto",
         "type": "bar",
         "x": [
          30
         ],
         "xaxis": "x",
         "y": [
          "0161:MISSY KAREN SCOTT"
         ],
         "yaxis": "y"
        },
        {
         "alignmentgroup": "True",
         "hovertemplate": "Departamento=%{y}<br>value=%{x}<extra></extra>",
         "legendgroup": "0359:MENS ACCESSORIES",
         "marker": {
          "color": "#FFA15A",
          "pattern": {
           "shape": ""
          }
         },
         "name": "0359:MENS ACCESSORIES",
         "offsetgroup": "0359:MENS ACCESSORIES",
         "orientation": "h",
         "showlegend": true,
         "textposition": "auto",
         "type": "bar",
         "x": [
          29
         ],
         "xaxis": "x",
         "y": [
          "0359:MENS ACCESSORIES"
         ],
         "yaxis": "y"
        },
        {
         "alignmentgroup": "True",
         "hovertemplate": "Departamento=%{y}<br>value=%{x}<extra></extra>",
         "legendgroup": "0469:BOYS ACCESSORIES",
         "marker": {
          "color": "#19d3f3",
          "pattern": {
           "shape": ""
          }
         },
         "name": "0469:BOYS ACCESSORIES",
         "offsetgroup": "0469:BOYS ACCESSORIES",
         "orientation": "h",
         "showlegend": true,
         "textposition": "auto",
         "type": "bar",
         "x": [
          29
         ],
         "xaxis": "x",
         "y": [
          "0469:BOYS ACCESSORIES"
         ],
         "yaxis": "y"
        },
        {
         "alignmentgroup": "True",
         "hovertemplate": "Departamento=%{y}<br>value=%{x}<extra></extra>",
         "legendgroup": "0795:HOME DECOR",
         "marker": {
          "color": "#FF6692",
          "pattern": {
           "shape": ""
          }
         },
         "name": "0795:HOME DECOR",
         "offsetgroup": "0795:HOME DECOR",
         "orientation": "h",
         "showlegend": true,
         "textposition": "auto",
         "type": "bar",
         "x": [
          28
         ],
         "xaxis": "x",
         "y": [
          "0795:HOME DECOR"
         ],
         "yaxis": "y"
        },
        {
         "alignmentgroup": "True",
         "hovertemplate": "Departamento=%{y}<br>value=%{x}<extra></extra>",
         "legendgroup": "0369:YOUNG MENS",
         "marker": {
          "color": "#B6E880",
          "pattern": {
           "shape": ""
          }
         },
         "name": "0369:YOUNG MENS",
         "offsetgroup": "0369:YOUNG MENS",
         "orientation": "h",
         "showlegend": true,
         "textposition": "auto",
         "type": "bar",
         "x": [
          27
         ],
         "xaxis": "x",
         "y": [
          "0369:YOUNG MENS"
         ],
         "yaxis": "y"
        },
        {
         "alignmentgroup": "True",
         "hovertemplate": "Departamento=%{y}<br>value=%{x}<extra></extra>",
         "legendgroup": "0440:GIRLS 7-16 CLOTHING",
         "marker": {
          "color": "#FF97FF",
          "pattern": {
           "shape": ""
          }
         },
         "name": "0440:GIRLS 7-16 CLOTHING",
         "offsetgroup": "0440:GIRLS 7-16 CLOTHING",
         "orientation": "h",
         "showlegend": true,
         "textposition": "auto",
         "type": "bar",
         "x": [
          27
         ],
         "xaxis": "x",
         "y": [
          "0440:GIRLS 7-16 CLOTHING"
         ],
         "yaxis": "y"
        },
        {
         "alignmentgroup": "True",
         "hovertemplate": "Departamento=%{y}<br>value=%{x}<extra></extra>",
         "legendgroup": "0846:BATTERIES",
         "marker": {
          "color": "#FECB52",
          "pattern": {
           "shape": ""
          }
         },
         "name": "0846:BATTERIES",
         "offsetgroup": "0846:BATTERIES",
         "orientation": "h",
         "showlegend": true,
         "textposition": "auto",
         "type": "bar",
         "x": [
          26
         ],
         "xaxis": "x",
         "y": [
          "0846:BATTERIES"
         ],
         "yaxis": "y"
        },
        {
         "alignmentgroup": "True",
         "hovertemplate": "Departamento=%{y}<br>value=%{x}<extra></extra>",
         "legendgroup": "0280:FASHION ACCESSORIES",
         "marker": {
          "color": "#636efa",
          "pattern": {
           "shape": ""
          }
         },
         "name": "0280:FASHION ACCESSORIES",
         "offsetgroup": "0280:FASHION ACCESSORIES",
         "orientation": "h",
         "showlegend": true,
         "textposition": "auto",
         "type": "bar",
         "x": [
          26
         ],
         "xaxis": "x",
         "y": [
          "0280:FASHION ACCESSORIES"
         ],
         "yaxis": "y"
        },
        {
         "alignmentgroup": "True",
         "hovertemplate": "Departamento=%{y}<br>value=%{x}<extra></extra>",
         "legendgroup": "0845:AS SEEN ON TV",
         "marker": {
          "color": "#EF553B",
          "pattern": {
           "shape": ""
          }
         },
         "name": "0845:AS SEEN ON TV",
         "offsetgroup": "0845:AS SEEN ON TV",
         "orientation": "h",
         "showlegend": true,
         "textposition": "auto",
         "type": "bar",
         "x": [
          25
         ],
         "xaxis": "x",
         "y": [
          "0845:AS SEEN ON TV"
         ],
         "yaxis": "y"
        },
        {
         "alignmentgroup": "True",
         "hovertemplate": "Departamento=%{y}<br>value=%{x}<extra></extra>",
         "legendgroup": "0589:SUNGLASSES",
         "marker": {
          "color": "#00cc96",
          "pattern": {
           "shape": ""
          }
         },
         "name": "0589:SUNGLASSES",
         "offsetgroup": "0589:SUNGLASSES",
         "orientation": "h",
         "showlegend": true,
         "textposition": "auto",
         "type": "bar",
         "x": [
          25
         ],
         "xaxis": "x",
         "y": [
          "0589:SUNGLASSES"
         ],
         "yaxis": "y"
        },
        {
         "alignmentgroup": "True",
         "hovertemplate": "Departamento=%{y}<br>value=%{x}<extra></extra>",
         "legendgroup": "0391:MENS SHOES",
         "marker": {
          "color": "#ab63fa",
          "pattern": {
           "shape": ""
          }
         },
         "name": "0391:MENS SHOES",
         "offsetgroup": "0391:MENS SHOES",
         "orientation": "h",
         "showlegend": true,
         "textposition": "auto",
         "type": "bar",
         "x": [
          24
         ],
         "xaxis": "x",
         "y": [
          "0391:MENS SHOES"
         ],
         "yaxis": "y"
        },
        {
         "alignmentgroup": "True",
         "hovertemplate": "Departamento=%{y}<br>value=%{x}<extra></extra>",
         "legendgroup": "0071:BEAUTY RETAIL",
         "marker": {
          "color": "#FFA15A",
          "pattern": {
           "shape": ""
          }
         },
         "name": "0071:BEAUTY RETAIL",
         "offsetgroup": "0071:BEAUTY RETAIL",
         "orientation": "h",
         "showlegend": true,
         "textposition": "auto",
         "type": "bar",
         "x": [
          24
         ],
         "xaxis": "x",
         "y": [
          "0071:BEAUTY RETAIL"
         ],
         "yaxis": "y"
        },
        {
         "alignmentgroup": "True",
         "hovertemplate": "Departamento=%{y}<br>value=%{x}<extra></extra>",
         "legendgroup": "0271:HANDBAGS",
         "marker": {
          "color": "#19d3f3",
          "pattern": {
           "shape": ""
          }
         },
         "name": "0271:HANDBAGS",
         "offsetgroup": "0271:HANDBAGS",
         "orientation": "h",
         "showlegend": true,
         "textposition": "auto",
         "type": "bar",
         "x": [
          24
         ],
         "xaxis": "x",
         "y": [
          "0271:HANDBAGS"
         ],
         "yaxis": "y"
        },
        {
         "alignmentgroup": "True",
         "hovertemplate": "Departamento=%{y}<br>value=%{x}<extra></extra>",
         "legendgroup": "0368:TRAD COLLECTIONS",
         "marker": {
          "color": "#FF6692",
          "pattern": {
           "shape": ""
          }
         },
         "name": "0368:TRAD COLLECTIONS",
         "offsetgroup": "0368:TRAD COLLECTIONS",
         "orientation": "h",
         "showlegend": true,
         "textposition": "auto",
         "type": "bar",
         "x": [
          24
         ],
         "xaxis": "x",
         "y": [
          "0368:TRAD COLLECTIONS"
         ],
         "yaxis": "y"
        },
        {
         "alignmentgroup": "True",
         "hovertemplate": "Departamento=%{y}<br>value=%{x}<extra></extra>",
         "legendgroup": "0811:TELEVISION",
         "marker": {
          "color": "#B6E880",
          "pattern": {
           "shape": ""
          }
         },
         "name": "0811:TELEVISION",
         "offsetgroup": "0811:TELEVISION",
         "orientation": "h",
         "showlegend": true,
         "textposition": "auto",
         "type": "bar",
         "x": [
          23
         ],
         "xaxis": "x",
         "y": [
          "0811:TELEVISION"
         ],
         "yaxis": "y"
        },
        {
         "alignmentgroup": "True",
         "hovertemplate": "Departamento=%{y}<br>value=%{x}<extra></extra>",
         "legendgroup": "0850:PC HDWR & OFFICE EQP",
         "marker": {
          "color": "#FF97FF",
          "pattern": {
           "shape": ""
          }
         },
         "name": "0850:PC HDWR & OFFICE EQP",
         "offsetgroup": "0850:PC HDWR & OFFICE EQP",
         "orientation": "h",
         "showlegend": true,
         "textposition": "auto",
         "type": "bar",
         "x": [
          23
         ],
         "xaxis": "x",
         "y": [
          "0850:PC HDWR & OFFICE EQP"
         ],
         "yaxis": "y"
        },
        {
         "alignmentgroup": "True",
         "hovertemplate": "Departamento=%{y}<br>value=%{x}<extra></extra>",
         "legendgroup": "0486:CHILDRENS FOOTWEAR",
         "marker": {
          "color": "#FECB52",
          "pattern": {
           "shape": ""
          }
         },
         "name": "0486:CHILDRENS FOOTWEAR",
         "offsetgroup": "0486:CHILDRENS FOOTWEAR",
         "orientation": "h",
         "showlegend": true,
         "textposition": "auto",
         "type": "bar",
         "x": [
          23
         ],
         "xaxis": "x",
         "y": [
          "0486:CHILDRENS FOOTWEAR"
         ],
         "yaxis": "y"
        },
        {
         "alignmentgroup": "True",
         "hovertemplate": "Departamento=%{y}<br>value=%{x}<extra></extra>",
         "legendgroup": "0585:WATCHES",
         "marker": {
          "color": "#636efa",
          "pattern": {
           "shape": ""
          }
         },
         "name": "0585:WATCHES",
         "offsetgroup": "0585:WATCHES",
         "orientation": "h",
         "showlegend": true,
         "textposition": "auto",
         "type": "bar",
         "x": [
          23
         ],
         "xaxis": "x",
         "y": [
          "0585:WATCHES"
         ],
         "yaxis": "y"
        },
        {
         "alignmentgroup": "True",
         "hovertemplate": "Departamento=%{y}<br>value=%{x}<extra></extra>",
         "legendgroup": "0193:LADIES ACTIVEWEAR",
         "marker": {
          "color": "#EF553B",
          "pattern": {
           "shape": ""
          }
         },
         "name": "0193:LADIES ACTIVEWEAR",
         "offsetgroup": "0193:LADIES ACTIVEWEAR",
         "orientation": "h",
         "showlegend": true,
         "textposition": "auto",
         "type": "bar",
         "x": [
          22
         ],
         "xaxis": "x",
         "y": [
          "0193:LADIES ACTIVEWEAR"
         ],
         "yaxis": "y"
        },
        {
         "alignmentgroup": "True",
         "hovertemplate": "Departamento=%{y}<br>value=%{x}<extra></extra>",
         "legendgroup": "0353:MENS OUTDOOR",
         "marker": {
          "color": "#00cc96",
          "pattern": {
           "shape": ""
          }
         },
         "name": "0353:MENS OUTDOOR",
         "offsetgroup": "0353:MENS OUTDOOR",
         "orientation": "h",
         "showlegend": true,
         "textposition": "auto",
         "type": "bar",
         "x": [
          22
         ],
         "xaxis": "x",
         "y": [
          "0353:MENS OUTDOOR"
         ],
         "yaxis": "y"
        },
        {
         "alignmentgroup": "True",
         "hovertemplate": "Departamento=%{y}<br>value=%{x}<extra></extra>",
         "legendgroup": "0110:LDS OUTERWEAR/OUTDR",
         "marker": {
          "color": "#ab63fa",
          "pattern": {
           "shape": ""
          }
         },
         "name": "0110:LDS OUTERWEAR/OUTDR",
         "offsetgroup": "0110:LDS OUTERWEAR/OUTDR",
         "orientation": "h",
         "showlegend": true,
         "textposition": "auto",
         "type": "bar",
         "x": [
          22
         ],
         "xaxis": "x",
         "y": [
          "0110:LDS OUTERWEAR/OUTDR"
         ],
         "yaxis": "y"
        },
        {
         "alignmentgroup": "True",
         "hovertemplate": "Departamento=%{y}<br>value=%{x}<extra></extra>",
         "legendgroup": "0167:MISSY TOPS",
         "marker": {
          "color": "#FFA15A",
          "pattern": {
           "shape": ""
          }
         },
         "name": "0167:MISSY TOPS",
         "offsetgroup": "0167:MISSY TOPS",
         "orientation": "h",
         "showlegend": true,
         "textposition": "auto",
         "type": "bar",
         "x": [
          22
         ],
         "xaxis": "x",
         "y": [
          "0167:MISSY TOPS"
         ],
         "yaxis": "y"
        },
        {
         "alignmentgroup": "True",
         "hovertemplate": "Departamento=%{y}<br>value=%{x}<extra></extra>",
         "legendgroup": "0343:MENS DENIM JEANS",
         "marker": {
          "color": "#19d3f3",
          "pattern": {
           "shape": ""
          }
         },
         "name": "0343:MENS DENIM JEANS",
         "offsetgroup": "0343:MENS DENIM JEANS",
         "orientation": "h",
         "showlegend": true,
         "textposition": "auto",
         "type": "bar",
         "x": [
          22
         ],
         "xaxis": "x",
         "y": [
          "0343:MENS DENIM JEANS"
         ],
         "yaxis": "y"
        },
        {
         "alignmentgroup": "True",
         "hovertemplate": "Departamento=%{y}<br>value=%{x}<extra></extra>",
         "legendgroup": "0680:AUTOMOTIVE",
         "marker": {
          "color": "#FF6692",
          "pattern": {
           "shape": ""
          }
         },
         "name": "0680:AUTOMOTIVE",
         "offsetgroup": "0680:AUTOMOTIVE",
         "orientation": "h",
         "showlegend": true,
         "textposition": "auto",
         "type": "bar",
         "x": [
          20
         ],
         "xaxis": "x",
         "y": [
          "0680:AUTOMOTIVE"
         ],
         "yaxis": "y"
        },
        {
         "alignmentgroup": "True",
         "hovertemplate": "Departamento=%{y}<br>value=%{x}<extra></extra>",
         "legendgroup": "0470:BOYS 8-20 CLOTHING",
         "marker": {
          "color": "#B6E880",
          "pattern": {
           "shape": ""
          }
         },
         "name": "0470:BOYS 8-20 CLOTHING",
         "offsetgroup": "0470:BOYS 8-20 CLOTHING",
         "orientation": "h",
         "showlegend": true,
         "textposition": "auto",
         "type": "bar",
         "x": [
          20
         ],
         "xaxis": "x",
         "y": [
          "0470:BOYS 8-20 CLOTHING"
         ],
         "yaxis": "y"
        },
        {
         "alignmentgroup": "True",
         "hovertemplate": "Departamento=%{y}<br>value=%{x}<extra></extra>",
         "legendgroup": "0854:VIDEO GAMES",
         "marker": {
          "color": "#FF97FF",
          "pattern": {
           "shape": ""
          }
         },
         "name": "0854:VIDEO GAMES",
         "offsetgroup": "0854:VIDEO GAMES",
         "orientation": "h",
         "showlegend": true,
         "textposition": "auto",
         "type": "bar",
         "x": [
          20
         ],
         "xaxis": "x",
         "y": [
          "0854:VIDEO GAMES"
         ],
         "yaxis": "y"
        },
        {
         "alignmentgroup": "True",
         "hovertemplate": "Departamento=%{y}<br>value=%{x}<extra></extra>",
         "legendgroup": "0421:TODDLER GIRL APPAREL",
         "marker": {
          "color": "#FECB52",
          "pattern": {
           "shape": ""
          }
         },
         "name": "0421:TODDLER GIRL APPAREL",
         "offsetgroup": "0421:TODDLER GIRL APPAREL",
         "orientation": "h",
         "showlegend": true,
         "textposition": "auto",
         "type": "bar",
         "x": [
          19
         ],
         "xaxis": "x",
         "y": [
          "0421:TODDLER GIRL APPAREL"
         ],
         "yaxis": "y"
        },
        {
         "alignmentgroup": "True",
         "hovertemplate": "Departamento=%{y}<br>value=%{x}<extra></extra>",
         "legendgroup": "0941:BEDDING",
         "marker": {
          "color": "#636efa",
          "pattern": {
           "shape": ""
          }
         },
         "name": "0941:BEDDING",
         "offsetgroup": "0941:BEDDING",
         "orientation": "h",
         "showlegend": true,
         "textposition": "auto",
         "type": "bar",
         "x": [
          19
         ],
         "xaxis": "x",
         "y": [
          "0941:BEDDING"
         ],
         "yaxis": "y"
        },
        {
         "alignmentgroup": "True",
         "hovertemplate": "Departamento=%{y}<br>value=%{x}<extra></extra>",
         "legendgroup": "0056:SOUVENIR",
         "marker": {
          "color": "#EF553B",
          "pattern": {
           "shape": ""
          }
         },
         "name": "0056:SOUVENIR",
         "offsetgroup": "0056:SOUVENIR",
         "orientation": "h",
         "showlegend": true,
         "textposition": "auto",
         "type": "bar",
         "x": [
          19
         ],
         "xaxis": "x",
         "y": [
          "0056:SOUVENIR"
         ],
         "yaxis": "y"
        },
        {
         "alignmentgroup": "True",
         "hovertemplate": "Departamento=%{y}<br>value=%{x}<extra></extra>",
         "legendgroup": "0163:JUNIOR TOPS",
         "marker": {
          "color": "#00cc96",
          "pattern": {
           "shape": ""
          }
         },
         "name": "0163:JUNIOR TOPS",
         "offsetgroup": "0163:JUNIOR TOPS",
         "orientation": "h",
         "showlegend": true,
         "textposition": "auto",
         "type": "bar",
         "x": [
          18
         ],
         "xaxis": "x",
         "y": [
          "0163:JUNIOR TOPS"
         ],
         "yaxis": "y"
        },
        {
         "alignmentgroup": "True",
         "hovertemplate": "Departamento=%{y}<br>value=%{x}<extra></extra>",
         "legendgroup": "0554:TELECOMMUNICATIONS",
         "marker": {
          "color": "#ab63fa",
          "pattern": {
           "shape": ""
          }
         },
         "name": "0554:TELECOMMUNICATIONS",
         "offsetgroup": "0554:TELECOMMUNICATIONS",
         "orientation": "h",
         "showlegend": true,
         "textposition": "auto",
         "type": "bar",
         "x": [
          18
         ],
         "xaxis": "x",
         "y": [
          "0554:TELECOMMUNICATIONS"
         ],
         "yaxis": "y"
        },
        {
         "alignmentgroup": "True",
         "hovertemplate": "Departamento=%{y}<br>value=%{x}<extra></extra>",
         "legendgroup": "0639:TEAM SPORTING GOODS",
         "marker": {
          "color": "#FFA15A",
          "pattern": {
           "shape": ""
          }
         },
         "name": "0639:TEAM SPORTING GOODS",
         "offsetgroup": "0639:TEAM SPORTING GOODS",
         "orientation": "h",
         "showlegend": true,
         "textposition": "auto",
         "type": "bar",
         "x": [
          18
         ],
         "xaxis": "x",
         "y": [
          "0639:TEAM SPORTING GOODS"
         ],
         "yaxis": "y"
        },
        {
         "alignmentgroup": "True",
         "hovertemplate": "Departamento=%{y}<br>value=%{x}<extra></extra>",
         "legendgroup": "0395:MENS ATHLETIC SHOES",
         "marker": {
          "color": "#19d3f3",
          "pattern": {
           "shape": ""
          }
         },
         "name": "0395:MENS ATHLETIC SHOES",
         "offsetgroup": "0395:MENS ATHLETIC SHOES",
         "orientation": "h",
         "showlegend": true,
         "textposition": "auto",
         "type": "bar",
         "x": [
          18
         ],
         "xaxis": "x",
         "y": [
          "0395:MENS ATHLETIC SHOES"
         ],
         "yaxis": "y"
        },
        {
         "alignmentgroup": "True",
         "hovertemplate": "Departamento=%{y}<br>value=%{x}<extra></extra>",
         "legendgroup": "0722:OUTDOOR LIVING",
         "marker": {
          "color": "#FF6692",
          "pattern": {
           "shape": ""
          }
         },
         "name": "0722:OUTDOOR LIVING",
         "offsetgroup": "0722:OUTDOOR LIVING",
         "orientation": "h",
         "showlegend": true,
         "textposition": "auto",
         "type": "bar",
         "x": [
          18
         ],
         "xaxis": "x",
         "y": [
          "0722:OUTDOOR LIVING"
         ],
         "yaxis": "y"
        },
        {
         "alignmentgroup": "True",
         "hovertemplate": "Departamento=%{y}<br>value=%{x}<extra></extra>",
         "legendgroup": "0510:NAVY PRIDE HARDLINES",
         "marker": {
          "color": "#B6E880",
          "pattern": {
           "shape": ""
          }
         },
         "name": "0510:NAVY PRIDE HARDLINES",
         "offsetgroup": "0510:NAVY PRIDE HARDLINES",
         "orientation": "h",
         "showlegend": true,
         "textposition": "auto",
         "type": "bar",
         "x": [
          17
         ],
         "xaxis": "x",
         "y": [
          "0510:NAVY PRIDE HARDLINES"
         ],
         "yaxis": "y"
        },
        {
         "alignmentgroup": "True",
         "hovertemplate": "Departamento=%{y}<br>value=%{x}<extra></extra>",
         "legendgroup": "0636:FITNESS/EXERCISE",
         "marker": {
          "color": "#FF97FF",
          "pattern": {
           "shape": ""
          }
         },
         "name": "0636:FITNESS/EXERCISE",
         "offsetgroup": "0636:FITNESS/EXERCISE",
         "orientation": "h",
         "showlegend": true,
         "textposition": "auto",
         "type": "bar",
         "x": [
          16
         ],
         "xaxis": "x",
         "y": [
          "0636:FITNESS/EXERCISE"
         ],
         "yaxis": "y"
        },
        {
         "alignmentgroup": "True",
         "hovertemplate": "Departamento=%{y}<br>value=%{x}<extra></extra>",
         "legendgroup": "0833:TABLETOP",
         "marker": {
          "color": "#FECB52",
          "pattern": {
           "shape": ""
          }
         },
         "name": "0833:TABLETOP",
         "offsetgroup": "0833:TABLETOP",
         "orientation": "h",
         "showlegend": true,
         "textposition": "auto",
         "type": "bar",
         "x": [
          16
         ],
         "xaxis": "x",
         "y": [
          "0833:TABLETOP"
         ],
         "yaxis": "y"
        },
        {
         "alignmentgroup": "True",
         "hovertemplate": "Departamento=%{y}<br>value=%{x}<extra></extra>",
         "legendgroup": "0839:HOME ORG/SOLUTIONS",
         "marker": {
          "color": "#636efa",
          "pattern": {
           "shape": ""
          }
         },
         "name": "0839:HOME ORG/SOLUTIONS",
         "offsetgroup": "0839:HOME ORG/SOLUTIONS",
         "orientation": "h",
         "showlegend": true,
         "textposition": "auto",
         "type": "bar",
         "x": [
          16
         ],
         "xaxis": "x",
         "y": [
          "0839:HOME ORG/SOLUTIONS"
         ],
         "yaxis": "y"
        },
        {
         "alignmentgroup": "True",
         "hovertemplate": "Departamento=%{y}<br>value=%{x}<extra></extra>",
         "legendgroup": "0016:FINANCIAL SERVICES",
         "marker": {
          "color": "#EF553B",
          "pattern": {
           "shape": ""
          }
         },
         "name": "0016:FINANCIAL SERVICES",
         "offsetgroup": "0016:FINANCIAL SERVICES",
         "orientation": "h",
         "showlegend": true,
         "textposition": "auto",
         "type": "bar",
         "x": [
          16
         ],
         "xaxis": "x",
         "y": [
          "0016:FINANCIAL SERVICES"
         ],
         "yaxis": "y"
        },
        {
         "alignmentgroup": "True",
         "hovertemplate": "Departamento=%{y}<br>value=%{x}<extra></extra>",
         "legendgroup": "0210:FOUNDATIONS",
         "marker": {
          "color": "#00cc96",
          "pattern": {
           "shape": ""
          }
         },
         "name": "0210:FOUNDATIONS",
         "offsetgroup": "0210:FOUNDATIONS",
         "orientation": "h",
         "showlegend": true,
         "textposition": "auto",
         "type": "bar",
         "x": [
          15
         ],
         "xaxis": "x",
         "y": [
          "0210:FOUNDATIONS"
         ],
         "yaxis": "y"
        },
        {
         "alignmentgroup": "True",
         "hovertemplate": "Departamento=%{y}<br>value=%{x}<extra></extra>",
         "legendgroup": "0411:PEGABLES",
         "marker": {
          "color": "#ab63fa",
          "pattern": {
           "shape": ""
          }
         },
         "name": "0411:PEGABLES",
         "offsetgroup": "0411:PEGABLES",
         "orientation": "h",
         "showlegend": true,
         "textposition": "auto",
         "type": "bar",
         "x": [
          15
         ],
         "xaxis": "x",
         "y": [
          "0411:PEGABLES"
         ],
         "yaxis": "y"
        },
        {
         "alignmentgroup": "True",
         "hovertemplate": "Departamento=%{y}<br>value=%{x}<extra></extra>",
         "legendgroup": "0098:WAREHOUSED EXPENSES",
         "marker": {
          "color": "#FFA15A",
          "pattern": {
           "shape": ""
          }
         },
         "name": "0098:WAREHOUSED EXPENSES",
         "offsetgroup": "0098:WAREHOUSED EXPENSES",
         "orientation": "h",
         "showlegend": true,
         "textposition": "auto",
         "type": "bar",
         "x": [
          15
         ],
         "xaxis": "x",
         "y": [
          "0098:WAREHOUSED EXPENSES"
         ],
         "yaxis": "y"
        },
        {
         "alignmentgroup": "True",
         "hovertemplate": "Departamento=%{y}<br>value=%{x}<extra></extra>",
         "legendgroup": "0291:WOMENS FTWR:DRS/CAS",
         "marker": {
          "color": "#19d3f3",
          "pattern": {
           "shape": ""
          }
         },
         "name": "0291:WOMENS FTWR:DRS/CAS",
         "offsetgroup": "0291:WOMENS FTWR:DRS/CAS",
         "orientation": "h",
         "showlegend": true,
         "textposition": "auto",
         "type": "bar",
         "x": [
          15
         ],
         "xaxis": "x",
         "y": [
          "0291:WOMENS FTWR:DRS/CAS"
         ],
         "yaxis": "y"
        },
        {
         "alignmentgroup": "True",
         "hovertemplate": "Departamento=%{y}<br>value=%{x}<extra></extra>",
         "legendgroup": "0551:CAMERAS & EQUIP",
         "marker": {
          "color": "#FF6692",
          "pattern": {
           "shape": ""
          }
         },
         "name": "0551:CAMERAS & EQUIP",
         "offsetgroup": "0551:CAMERAS & EQUIP",
         "orientation": "h",
         "showlegend": true,
         "textposition": "auto",
         "type": "bar",
         "x": [
          15
         ],
         "xaxis": "x",
         "y": [
          "0551:CAMERAS & EQUIP"
         ],
         "yaxis": "y"
        },
        {
         "alignmentgroup": "True",
         "hovertemplate": "Departamento=%{y}<br>value=%{x}<extra></extra>",
         "legendgroup": "0645:BIKES",
         "marker": {
          "color": "#B6E880",
          "pattern": {
           "shape": ""
          }
         },
         "name": "0645:BIKES",
         "offsetgroup": "0645:BIKES",
         "orientation": "h",
         "showlegend": true,
         "textposition": "auto",
         "type": "bar",
         "x": [
          14
         ],
         "xaxis": "x",
         "y": [
          "0645:BIKES"
         ],
         "yaxis": "y"
        },
        {
         "alignmentgroup": "True",
         "hovertemplate": "Departamento=%{y}<br>value=%{x}<extra></extra>",
         "legendgroup": "0857:PC PERIPH/OFFICE ACC",
         "marker": {
          "color": "#FF97FF",
          "pattern": {
           "shape": ""
          }
         },
         "name": "0857:PC PERIPH/OFFICE ACC",
         "offsetgroup": "0857:PC PERIPH/OFFICE ACC",
         "orientation": "h",
         "showlegend": true,
         "textposition": "auto",
         "type": "bar",
         "x": [
          14
         ],
         "xaxis": "x",
         "y": [
          "0857:PC PERIPH/OFFICE ACC"
         ],
         "yaxis": "y"
        },
        {
         "alignmentgroup": "True",
         "hovertemplate": "Departamento=%{y}<br>value=%{x}<extra></extra>",
         "legendgroup": "0965:PERISHABLES",
         "marker": {
          "color": "#FECB52",
          "pattern": {
           "shape": ""
          }
         },
         "name": "0965:PERISHABLES",
         "offsetgroup": "0965:PERISHABLES",
         "orientation": "h",
         "showlegend": true,
         "textposition": "auto",
         "type": "bar",
         "x": [
          14
         ],
         "xaxis": "x",
         "y": [
          "0965:PERISHABLES"
         ],
         "yaxis": "y"
        },
        {
         "alignmentgroup": "True",
         "hovertemplate": "Departamento=%{y}<br>value=%{x}<extra></extra>",
         "legendgroup": "0856:GLUES/TAPES/ACC",
         "marker": {
          "color": "#636efa",
          "pattern": {
           "shape": ""
          }
         },
         "name": "0856:GLUES/TAPES/ACC",
         "offsetgroup": "0856:GLUES/TAPES/ACC",
         "orientation": "h",
         "showlegend": true,
         "textposition": "auto",
         "type": "bar",
         "x": [
          14
         ],
         "xaxis": "x",
         "y": [
          "0856:GLUES/TAPES/ACC"
         ],
         "yaxis": "y"
        },
        {
         "alignmentgroup": "True",
         "hovertemplate": "Departamento=%{y}<br>value=%{x}<extra></extra>",
         "legendgroup": "0999:UNSCANNED ITEMS",
         "marker": {
          "color": "#EF553B",
          "pattern": {
           "shape": ""
          }
         },
         "name": "0999:UNSCANNED ITEMS",
         "offsetgroup": "0999:UNSCANNED ITEMS",
         "orientation": "h",
         "showlegend": true,
         "textposition": "auto",
         "type": "bar",
         "x": [
          13
         ],
         "xaxis": "x",
         "y": [
          "0999:UNSCANNED ITEMS"
         ],
         "yaxis": "y"
        },
        {
         "alignmentgroup": "True",
         "hovertemplate": "Departamento=%{y}<br>value=%{x}<extra></extra>",
         "legendgroup": "0358:MENS DRESS SHIRTS",
         "marker": {
          "color": "#00cc96",
          "pattern": {
           "shape": ""
          }
         },
         "name": "0358:MENS DRESS SHIRTS",
         "offsetgroup": "0358:MENS DRESS SHIRTS",
         "orientation": "h",
         "showlegend": true,
         "textposition": "auto",
         "type": "bar",
         "x": [
          12
         ],
         "xaxis": "x",
         "y": [
          "0358:MENS DRESS SHIRTS"
         ],
         "yaxis": "y"
        },
        {
         "alignmentgroup": "True",
         "hovertemplate": "Departamento=%{y}<br>value=%{x}<extra></extra>",
         "legendgroup": "0355:MENS SPORT SHIRTS",
         "marker": {
          "color": "#ab63fa",
          "pattern": {
           "shape": ""
          }
         },
         "name": "0355:MENS SPORT SHIRTS",
         "offsetgroup": "0355:MENS SPORT SHIRTS",
         "orientation": "h",
         "showlegend": true,
         "textposition": "auto",
         "type": "bar",
         "x": [
          11
         ],
         "xaxis": "x",
         "y": [
          "0355:MENS SPORT SHIRTS"
         ],
         "yaxis": "y"
        },
        {
         "alignmentgroup": "True",
         "hovertemplate": "Departamento=%{y}<br>value=%{x}<extra></extra>",
         "legendgroup": "0592:WMNS PRESTIGE FRAG",
         "marker": {
          "color": "#FFA15A",
          "pattern": {
           "shape": ""
          }
         },
         "name": "0592:WMNS PRESTIGE FRAG",
         "offsetgroup": "0592:WMNS PRESTIGE FRAG",
         "orientation": "h",
         "showlegend": true,
         "textposition": "auto",
         "type": "bar",
         "x": [
          10
         ],
         "xaxis": "x",
         "y": [
          "0592:WMNS PRESTIGE FRAG"
         ],
         "yaxis": "y"
        },
        {
         "alignmentgroup": "True",
         "hovertemplate": "Departamento=%{y}<br>value=%{x}<extra></extra>",
         "legendgroup": "0533:PAPYRUS",
         "marker": {
          "color": "#19d3f3",
          "pattern": {
           "shape": ""
          }
         },
         "name": "0533:PAPYRUS",
         "offsetgroup": "0533:PAPYRUS",
         "orientation": "h",
         "showlegend": true,
         "textposition": "auto",
         "type": "bar",
         "x": [
          10
         ],
         "xaxis": "x",
         "y": [
          "0533:PAPYRUS"
         ],
         "yaxis": "y"
        },
        {
         "alignmentgroup": "True",
         "hovertemplate": "Departamento=%{y}<br>value=%{x}<extra></extra>",
         "legendgroup": "0460:BOYS 4-7 CLOTHING",
         "marker": {
          "color": "#FF6692",
          "pattern": {
           "shape": ""
          }
         },
         "name": "0460:BOYS 4-7 CLOTHING",
         "offsetgroup": "0460:BOYS 4-7 CLOTHING",
         "orientation": "h",
         "showlegend": true,
         "textposition": "auto",
         "type": "bar",
         "x": [
          10
         ],
         "xaxis": "x",
         "y": [
          "0460:BOYS 4-7 CLOTHING"
         ],
         "yaxis": "y"
        },
        {
         "alignmentgroup": "True",
         "hovertemplate": "Departamento=%{y}<br>value=%{x}<extra></extra>",
         "legendgroup": "0012:LOCAL GIFTS/FOODS",
         "marker": {
          "color": "#B6E880",
          "pattern": {
           "shape": ""
          }
         },
         "name": "0012:LOCAL GIFTS/FOODS",
         "offsetgroup": "0012:LOCAL GIFTS/FOODS",
         "orientation": "h",
         "showlegend": true,
         "textposition": "auto",
         "type": "bar",
         "x": [
          10
         ],
         "xaxis": "x",
         "y": [
          "0012:LOCAL GIFTS/FOODS"
         ],
         "yaxis": "y"
        },
        {
         "alignmentgroup": "True",
         "hovertemplate": "Departamento=%{y}<br>value=%{x}<extra></extra>",
         "legendgroup": "0076:FLORAL RETAIL",
         "marker": {
          "color": "#FF97FF",
          "pattern": {
           "shape": ""
          }
         },
         "name": "0076:FLORAL RETAIL",
         "offsetgroup": "0076:FLORAL RETAIL",
         "orientation": "h",
         "showlegend": true,
         "textposition": "auto",
         "type": "bar",
         "x": [
          10
         ],
         "xaxis": "x",
         "y": [
          "0076:FLORAL RETAIL"
         ],
         "yaxis": "y"
        },
        {
         "alignmentgroup": "True",
         "hovertemplate": "Departamento=%{y}<br>value=%{x}<extra></extra>",
         "legendgroup": "0819:PRE-RECORDED A/V",
         "marker": {
          "color": "#FECB52",
          "pattern": {
           "shape": ""
          }
         },
         "name": "0819:PRE-RECORDED A/V",
         "offsetgroup": "0819:PRE-RECORDED A/V",
         "orientation": "h",
         "showlegend": true,
         "textposition": "auto",
         "type": "bar",
         "x": [
          9
         ],
         "xaxis": "x",
         "y": [
          "0819:PRE-RECORDED A/V"
         ],
         "yaxis": "y"
        },
        {
         "alignmentgroup": "True",
         "hovertemplate": "Departamento=%{y}<br>value=%{x}<extra></extra>",
         "legendgroup": "0354:MENS MODERN COLLECT",
         "marker": {
          "color": "#636efa",
          "pattern": {
           "shape": ""
          }
         },
         "name": "0354:MENS MODERN COLLECT",
         "offsetgroup": "0354:MENS MODERN COLLECT",
         "orientation": "h",
         "showlegend": true,
         "textposition": "auto",
         "type": "bar",
         "x": [
          9
         ],
         "xaxis": "x",
         "y": [
          "0354:MENS MODERN COLLECT"
         ],
         "yaxis": "y"
        },
        {
         "alignmentgroup": "True",
         "hovertemplate": "Departamento=%{y}<br>value=%{x}<extra></extra>",
         "legendgroup": "0511:NAVY PRIDE SOFTLINES",
         "marker": {
          "color": "#EF553B",
          "pattern": {
           "shape": ""
          }
         },
         "name": "0511:NAVY PRIDE SOFTLINES",
         "offsetgroup": "0511:NAVY PRIDE SOFTLINES",
         "orientation": "h",
         "showlegend": true,
         "textposition": "auto",
         "type": "bar",
         "x": [
          9
         ],
         "xaxis": "x",
         "y": [
          "0511:NAVY PRIDE SOFTLINES"
         ],
         "yaxis": "y"
        },
        {
         "alignmentgroup": "True",
         "hovertemplate": "Departamento=%{y}<br>value=%{x}<extra></extra>",
         "legendgroup": "0177:PETITE SEPARATES",
         "marker": {
          "color": "#00cc96",
          "pattern": {
           "shape": ""
          }
         },
         "name": "0177:PETITE SEPARATES",
         "offsetgroup": "0177:PETITE SEPARATES",
         "orientation": "h",
         "showlegend": true,
         "textposition": "auto",
         "type": "bar",
         "x": [
          9
         ],
         "xaxis": "x",
         "y": [
          "0177:PETITE SEPARATES"
         ],
         "yaxis": "y"
        },
        {
         "alignmentgroup": "True",
         "hovertemplate": "Departamento=%{y}<br>value=%{x}<extra></extra>",
         "legendgroup": "0430:GIRLS 4-6X CLOTHING",
         "marker": {
          "color": "#ab63fa",
          "pattern": {
           "shape": ""
          }
         },
         "name": "0430:GIRLS 4-6X CLOTHING",
         "offsetgroup": "0430:GIRLS 4-6X CLOTHING",
         "orientation": "h",
         "showlegend": true,
         "textposition": "auto",
         "type": "bar",
         "x": [
          8
         ],
         "xaxis": "x",
         "y": [
          "0430:GIRLS 4-6X CLOTHING"
         ],
         "yaxis": "y"
        },
        {
         "alignmentgroup": "True",
         "hovertemplate": "Departamento=%{y}<br>value=%{x}<extra></extra>",
         "legendgroup": "0130:JUNIORS SURF",
         "marker": {
          "color": "#FFA15A",
          "pattern": {
           "shape": ""
          }
         },
         "name": "0130:JUNIORS SURF",
         "offsetgroup": "0130:JUNIORS SURF",
         "orientation": "h",
         "showlegend": true,
         "textposition": "auto",
         "type": "bar",
         "x": [
          8
         ],
         "xaxis": "x",
         "y": [
          "0130:JUNIORS SURF"
         ],
         "yaxis": "y"
        },
        {
         "alignmentgroup": "True",
         "hovertemplate": "Departamento=%{y}<br>value=%{x}<extra></extra>",
         "legendgroup": "0583:DIAMONDS/BRIDAL",
         "marker": {
          "color": "#19d3f3",
          "pattern": {
           "shape": ""
          }
         },
         "name": "0583:DIAMONDS/BRIDAL",
         "offsetgroup": "0583:DIAMONDS/BRIDAL",
         "orientation": "h",
         "showlegend": true,
         "textposition": "auto",
         "type": "bar",
         "x": [
          8
         ],
         "xaxis": "x",
         "y": [
          "0583:DIAMONDS/BRIDAL"
         ],
         "yaxis": "y"
        },
        {
         "alignmentgroup": "True",
         "hovertemplate": "Departamento=%{y}<br>value=%{x}<extra></extra>",
         "legendgroup": "0851:PC HARDWARE",
         "marker": {
          "color": "#FF6692",
          "pattern": {
           "shape": ""
          }
         },
         "name": "0851:PC HARDWARE",
         "offsetgroup": "0851:PC HARDWARE",
         "orientation": "h",
         "showlegend": true,
         "textposition": "auto",
         "type": "bar",
         "x": [
          8
         ],
         "xaxis": "x",
         "y": [
          "0851:PC HARDWARE"
         ],
         "yaxis": "y"
        },
        {
         "alignmentgroup": "True",
         "hovertemplate": "Departamento=%{y}<br>value=%{x}<extra></extra>",
         "legendgroup": "0009:FLORAL SERV/SUPPLIES",
         "marker": {
          "color": "#B6E880",
          "pattern": {
           "shape": ""
          }
         },
         "name": "0009:FLORAL SERV/SUPPLIES",
         "offsetgroup": "0009:FLORAL SERV/SUPPLIES",
         "orientation": "h",
         "showlegend": true,
         "textposition": "auto",
         "type": "bar",
         "x": [
          8
         ],
         "xaxis": "x",
         "y": [
          "0009:FLORAL SERV/SUPPLIES"
         ],
         "yaxis": "y"
        },
        {
         "alignmentgroup": "True",
         "hovertemplate": "Departamento=%{y}<br>value=%{x}<extra></extra>",
         "legendgroup": "0838:FLOOR CARE",
         "marker": {
          "color": "#FF97FF",
          "pattern": {
           "shape": ""
          }
         },
         "name": "0838:FLOOR CARE",
         "offsetgroup": "0838:FLOOR CARE",
         "orientation": "h",
         "showlegend": true,
         "textposition": "auto",
         "type": "bar",
         "x": [
          7
         ],
         "xaxis": "x",
         "y": [
          "0838:FLOOR CARE"
         ],
         "yaxis": "y"
        },
        {
         "alignmentgroup": "True",
         "hovertemplate": "Departamento=%{y}<br>value=%{x}<extra></extra>",
         "legendgroup": "0860:NETWORKING",
         "marker": {
          "color": "#FECB52",
          "pattern": {
           "shape": ""
          }
         },
         "name": "0860:NETWORKING",
         "offsetgroup": "0860:NETWORKING",
         "orientation": "h",
         "showlegend": true,
         "textposition": "auto",
         "type": "bar",
         "x": [
          7
         ],
         "xaxis": "x",
         "y": [
          "0860:NETWORKING"
         ],
         "yaxis": "y"
        },
        {
         "alignmentgroup": "True",
         "hovertemplate": "Departamento=%{y}<br>value=%{x}<extra></extra>",
         "legendgroup": "0586:COSTUME JEWELRY",
         "marker": {
          "color": "#636efa",
          "pattern": {
           "shape": ""
          }
         },
         "name": "0586:COSTUME JEWELRY",
         "offsetgroup": "0586:COSTUME JEWELRY",
         "orientation": "h",
         "showlegend": true,
         "textposition": "auto",
         "type": "bar",
         "x": [
          7
         ],
         "xaxis": "x",
         "y": [
          "0586:COSTUME JEWELRY"
         ],
         "yaxis": "y"
        },
        {
         "alignmentgroup": "True",
         "hovertemplate": "Departamento=%{y}<br>value=%{x}<extra></extra>",
         "legendgroup": "0295:WOMENS ATHLTIC SHOES",
         "marker": {
          "color": "#EF553B",
          "pattern": {
           "shape": ""
          }
         },
         "name": "0295:WOMENS ATHLTIC SHOES",
         "offsetgroup": "0295:WOMENS ATHLTIC SHOES",
         "orientation": "h",
         "showlegend": true,
         "textposition": "auto",
         "type": "bar",
         "x": [
          7
         ],
         "xaxis": "x",
         "y": [
          "0295:WOMENS ATHLTIC SHOES"
         ],
         "yaxis": "y"
        },
        {
         "alignmentgroup": "True",
         "hovertemplate": "Departamento=%{y}<br>value=%{x}<extra></extra>",
         "legendgroup": "0601:VALUE ZONE",
         "marker": {
          "color": "#00cc96",
          "pattern": {
           "shape": ""
          }
         },
         "name": "0601:VALUE ZONE",
         "offsetgroup": "0601:VALUE ZONE",
         "orientation": "h",
         "showlegend": true,
         "textposition": "auto",
         "type": "bar",
         "x": [
          7
         ],
         "xaxis": "x",
         "y": [
          "0601:VALUE ZONE"
         ],
         "yaxis": "y"
        },
        {
         "alignmentgroup": "True",
         "hovertemplate": "Departamento=%{y}<br>value=%{x}<extra></extra>",
         "legendgroup": "0541:BOOKS AND MAPS",
         "marker": {
          "color": "#ab63fa",
          "pattern": {
           "shape": ""
          }
         },
         "name": "0541:BOOKS AND MAPS",
         "offsetgroup": "0541:BOOKS AND MAPS",
         "orientation": "h",
         "showlegend": true,
         "textposition": "auto",
         "type": "bar",
         "x": [
          7
         ],
         "xaxis": "x",
         "y": [
          "0541:BOOKS AND MAPS"
         ],
         "yaxis": "y"
        },
        {
         "alignmentgroup": "True",
         "hovertemplate": "Departamento=%{y}<br>value=%{x}<extra></extra>",
         "legendgroup": "0637:FISHING",
         "marker": {
          "color": "#FFA15A",
          "pattern": {
           "shape": ""
          }
         },
         "name": "0637:FISHING",
         "offsetgroup": "0637:FISHING",
         "orientation": "h",
         "showlegend": true,
         "textposition": "auto",
         "type": "bar",
         "x": [
          7
         ],
         "xaxis": "x",
         "y": [
          "0637:FISHING"
         ],
         "yaxis": "y"
        },
        {
         "alignmentgroup": "True",
         "hovertemplate": "Departamento=%{y}<br>value=%{x}<extra></extra>",
         "legendgroup": "0632:DIGITAL FITNESS",
         "marker": {
          "color": "#19d3f3",
          "pattern": {
           "shape": ""
          }
         },
         "name": "0632:DIGITAL FITNESS",
         "offsetgroup": "0632:DIGITAL FITNESS",
         "orientation": "h",
         "showlegend": true,
         "textposition": "auto",
         "type": "bar",
         "x": [
          7
         ],
         "xaxis": "x",
         "y": [
          "0632:DIGITAL FITNESS"
         ],
         "yaxis": "y"
        },
        {
         "alignmentgroup": "True",
         "hovertemplate": "Departamento=%{y}<br>value=%{x}<extra></extra>",
         "legendgroup": "0596:MENS PRESTIGE FRAG",
         "marker": {
          "color": "#FF6692",
          "pattern": {
           "shape": ""
          }
         },
         "name": "0596:MENS PRESTIGE FRAG",
         "offsetgroup": "0596:MENS PRESTIGE FRAG",
         "orientation": "h",
         "showlegend": true,
         "textposition": "auto",
         "type": "bar",
         "x": [
          7
         ],
         "xaxis": "x",
         "y": [
          "0596:MENS PRESTIGE FRAG"
         ],
         "yaxis": "y"
        },
        {
         "alignmentgroup": "True",
         "hovertemplate": "Departamento=%{y}<br>value=%{x}<extra></extra>",
         "legendgroup": "0540:PERIODICALS/COMICS",
         "marker": {
          "color": "#B6E880",
          "pattern": {
           "shape": ""
          }
         },
         "name": "0540:PERIODICALS/COMICS",
         "offsetgroup": "0540:PERIODICALS/COMICS",
         "orientation": "h",
         "showlegend": true,
         "textposition": "auto",
         "type": "bar",
         "x": [
          6
         ],
         "xaxis": "x",
         "y": [
          "0540:PERIODICALS/COMICS"
         ],
         "yaxis": "y"
        },
        {
         "alignmentgroup": "True",
         "hovertemplate": "Departamento=%{y}<br>value=%{x}<extra></extra>",
         "legendgroup": "0178:DENIM COLLECTIONS",
         "marker": {
          "color": "#FF97FF",
          "pattern": {
           "shape": ""
          }
         },
         "name": "0178:DENIM COLLECTIONS",
         "offsetgroup": "0178:DENIM COLLECTIONS",
         "orientation": "h",
         "showlegend": true,
         "textposition": "auto",
         "type": "bar",
         "x": [
          6
         ],
         "xaxis": "x",
         "y": [
          "0178:DENIM COLLECTIONS"
         ],
         "yaxis": "y"
        },
        {
         "alignmentgroup": "True",
         "hovertemplate": "Departamento=%{y}<br>value=%{x}<extra></extra>",
         "legendgroup": "0340:MENS CASUAL SLACKS",
         "marker": {
          "color": "#FECB52",
          "pattern": {
           "shape": ""
          }
         },
         "name": "0340:MENS CASUAL SLACKS",
         "offsetgroup": "0340:MENS CASUAL SLACKS",
         "orientation": "h",
         "showlegend": true,
         "textposition": "auto",
         "type": "bar",
         "x": [
          6
         ],
         "xaxis": "x",
         "y": [
          "0340:MENS CASUAL SLACKS"
         ],
         "yaxis": "y"
        },
        {
         "alignmentgroup": "True",
         "hovertemplate": "Departamento=%{y}<br>value=%{x}<extra></extra>",
         "legendgroup": "0188:STYLE & CO",
         "marker": {
          "color": "#636efa",
          "pattern": {
           "shape": ""
          }
         },
         "name": "0188:STYLE & CO",
         "offsetgroup": "0188:STYLE & CO",
         "orientation": "h",
         "showlegend": true,
         "textposition": "auto",
         "type": "bar",
         "x": [
          6
         ],
         "xaxis": "x",
         "y": [
          "0188:STYLE & CO"
         ],
         "yaxis": "y"
        },
        {
         "alignmentgroup": "True",
         "hovertemplate": "Departamento=%{y}<br>value=%{x}<extra></extra>",
         "legendgroup": "0173:JUNIOR BOTTOMS",
         "marker": {
          "color": "#EF553B",
          "pattern": {
           "shape": ""
          }
         },
         "name": "0173:JUNIOR BOTTOMS",
         "offsetgroup": "0173:JUNIOR BOTTOMS",
         "orientation": "h",
         "showlegend": true,
         "textposition": "auto",
         "type": "bar",
         "x": [
          5
         ],
         "xaxis": "x",
         "y": [
          "0173:JUNIOR BOTTOMS"
         ],
         "yaxis": "y"
        },
        {
         "alignmentgroup": "True",
         "hovertemplate": "Departamento=%{y}<br>value=%{x}<extra></extra>",
         "legendgroup": "0165:LIFE IS GOOD",
         "marker": {
          "color": "#00cc96",
          "pattern": {
           "shape": ""
          }
         },
         "name": "0165:LIFE IS GOOD",
         "offsetgroup": "0165:LIFE IS GOOD",
         "orientation": "h",
         "showlegend": true,
         "textposition": "auto",
         "type": "bar",
         "x": [
          5
         ],
         "xaxis": "x",
         "y": [
          "0165:LIFE IS GOOD"
         ],
         "yaxis": "y"
        },
        {
         "alignmentgroup": "True",
         "hovertemplate": "Departamento=%{y}<br>value=%{x}<extra></extra>",
         "legendgroup": "0179:MODERATE DENIM",
         "marker": {
          "color": "#ab63fa",
          "pattern": {
           "shape": ""
          }
         },
         "name": "0179:MODERATE DENIM",
         "offsetgroup": "0179:MODERATE DENIM",
         "orientation": "h",
         "showlegend": true,
         "textposition": "auto",
         "type": "bar",
         "x": [
          5
         ],
         "xaxis": "x",
         "y": [
          "0179:MODERATE DENIM"
         ],
         "yaxis": "y"
        },
        {
         "alignmentgroup": "True",
         "hovertemplate": "Departamento=%{y}<br>value=%{x}<extra></extra>",
         "legendgroup": "0131:LADIES DRESSES",
         "marker": {
          "color": "#FFA15A",
          "pattern": {
           "shape": ""
          }
         },
         "name": "0131:LADIES DRESSES",
         "offsetgroup": "0131:LADIES DRESSES",
         "orientation": "h",
         "showlegend": true,
         "textposition": "auto",
         "type": "bar",
         "x": [
          5
         ],
         "xaxis": "x",
         "y": [
          "0131:LADIES DRESSES"
         ],
         "yaxis": "y"
        },
        {
         "alignmentgroup": "True",
         "hovertemplate": "Departamento=%{y}<br>value=%{x}<extra></extra>",
         "legendgroup": "0002:BARBER RETAIL",
         "marker": {
          "color": "#19d3f3",
          "pattern": {
           "shape": ""
          }
         },
         "name": "0002:BARBER RETAIL",
         "offsetgroup": "0002:BARBER RETAIL",
         "orientation": "h",
         "showlegend": true,
         "textposition": "auto",
         "type": "bar",
         "x": [
          5
         ],
         "xaxis": "x",
         "y": [
          "0002:BARBER RETAIL"
         ],
         "yaxis": "y"
        },
        {
         "alignmentgroup": "True",
         "hovertemplate": "Departamento=%{y}<br>value=%{x}<extra></extra>",
         "legendgroup": "0834:COOKWARE",
         "marker": {
          "color": "#FF6692",
          "pattern": {
           "shape": ""
          }
         },
         "name": "0834:COOKWARE",
         "offsetgroup": "0834:COOKWARE",
         "orientation": "h",
         "showlegend": true,
         "textposition": "auto",
         "type": "bar",
         "x": [
          5
         ],
         "xaxis": "x",
         "y": [
          "0834:COOKWARE"
         ],
         "yaxis": "y"
        },
        {
         "alignmentgroup": "True",
         "hovertemplate": "Departamento=%{y}<br>value=%{x}<extra></extra>",
         "legendgroup": "0584:GEMSTONES",
         "marker": {
          "color": "#B6E880",
          "pattern": {
           "shape": ""
          }
         },
         "name": "0584:GEMSTONES",
         "offsetgroup": "0584:GEMSTONES",
         "orientation": "h",
         "showlegend": true,
         "textposition": "auto",
         "type": "bar",
         "x": [
          5
         ],
         "xaxis": "x",
         "y": [
          "0584:GEMSTONES"
         ],
         "yaxis": "y"
        },
        {
         "alignmentgroup": "True",
         "hovertemplate": "Departamento=%{y}<br>value=%{x}<extra></extra>",
         "legendgroup": "0582:GOLD",
         "marker": {
          "color": "#FF97FF",
          "pattern": {
           "shape": ""
          }
         },
         "name": "0582:GOLD",
         "offsetgroup": "0582:GOLD",
         "orientation": "h",
         "showlegend": true,
         "textposition": "auto",
         "type": "bar",
         "x": [
          5
         ],
         "xaxis": "x",
         "y": [
          "0582:GOLD"
         ],
         "yaxis": "y"
        },
        {
         "alignmentgroup": "True",
         "hovertemplate": "Departamento=%{y}<br>value=%{x}<extra></extra>",
         "legendgroup": "0661:LUGGAGE",
         "marker": {
          "color": "#FECB52",
          "pattern": {
           "shape": ""
          }
         },
         "name": "0661:LUGGAGE",
         "offsetgroup": "0661:LUGGAGE",
         "orientation": "h",
         "showlegend": true,
         "textposition": "auto",
         "type": "bar",
         "x": [
          5
         ],
         "xaxis": "x",
         "y": [
          "0661:LUGGAGE"
         ],
         "yaxis": "y"
        },
        {
         "alignmentgroup": "True",
         "hovertemplate": "Departamento=%{y}<br>value=%{x}<extra></extra>",
         "legendgroup": "0426:TODDLER BOY APPAREL",
         "marker": {
          "color": "#636efa",
          "pattern": {
           "shape": ""
          }
         },
         "name": "0426:TODDLER BOY APPAREL",
         "offsetgroup": "0426:TODDLER BOY APPAREL",
         "orientation": "h",
         "showlegend": true,
         "textposition": "auto",
         "type": "bar",
         "x": [
          5
         ],
         "xaxis": "x",
         "y": [
          "0426:TODDLER BOY APPAREL"
         ],
         "yaxis": "y"
        },
        {
         "alignmentgroup": "True",
         "hovertemplate": "Departamento=%{y}<br>value=%{x}<extra></extra>",
         "legendgroup": "0018:OTHER DIRECT SERVICE",
         "marker": {
          "color": "#EF553B",
          "pattern": {
           "shape": ""
          }
         },
         "name": "0018:OTHER DIRECT SERVICE",
         "offsetgroup": "0018:OTHER DIRECT SERVICE",
         "orientation": "h",
         "showlegend": true,
         "textposition": "auto",
         "type": "bar",
         "x": [
          4
         ],
         "xaxis": "x",
         "y": [
          "0018:OTHER DIRECT SERVICE"
         ],
         "yaxis": "y"
        },
        {
         "alignmentgroup": "True",
         "hovertemplate": "Departamento=%{y}<br>value=%{x}<extra></extra>",
         "legendgroup": "0823:SMART HOME",
         "marker": {
          "color": "#00cc96",
          "pattern": {
           "shape": ""
          }
         },
         "name": "0823:SMART HOME",
         "offsetgroup": "0823:SMART HOME",
         "orientation": "h",
         "showlegend": true,
         "textposition": "auto",
         "type": "bar",
         "x": [
          4
         ],
         "xaxis": "x",
         "y": [
          "0823:SMART HOME"
         ],
         "yaxis": "y"
        },
        {
         "alignmentgroup": "True",
         "hovertemplate": "Departamento=%{y}<br>value=%{x}<extra></extra>",
         "legendgroup": "0171:MISSY BOTTOMS",
         "marker": {
          "color": "#ab63fa",
          "pattern": {
           "shape": ""
          }
         },
         "name": "0171:MISSY BOTTOMS",
         "offsetgroup": "0171:MISSY BOTTOMS",
         "orientation": "h",
         "showlegend": true,
         "textposition": "auto",
         "type": "bar",
         "x": [
          4
         ],
         "xaxis": "x",
         "y": [
          "0171:MISSY BOTTOMS"
         ],
         "yaxis": "y"
        },
        {
         "alignmentgroup": "True",
         "hovertemplate": "Departamento=%{y}<br>value=%{x}<extra></extra>",
         "legendgroup": "0346:LIFE STYLE DENIM",
         "marker": {
          "color": "#FFA15A",
          "pattern": {
           "shape": ""
          }
         },
         "name": "0346:LIFE STYLE DENIM",
         "offsetgroup": "0346:LIFE STYLE DENIM",
         "orientation": "h",
         "showlegend": true,
         "textposition": "auto",
         "type": "bar",
         "x": [
          4
         ],
         "xaxis": "x",
         "y": [
          "0346:LIFE STYLE DENIM"
         ],
         "yaxis": "y"
        },
        {
         "alignmentgroup": "True",
         "hovertemplate": "Departamento=%{y}<br>value=%{x}<extra></extra>",
         "legendgroup": "0859:iPAD",
         "marker": {
          "color": "#19d3f3",
          "pattern": {
           "shape": ""
          }
         },
         "name": "0859:iPAD",
         "offsetgroup": "0859:iPAD",
         "orientation": "h",
         "showlegend": true,
         "textposition": "auto",
         "type": "bar",
         "x": [
          4
         ],
         "xaxis": "x",
         "y": [
          "0859:iPAD"
         ],
         "yaxis": "y"
        },
        {
         "alignmentgroup": "True",
         "hovertemplate": "Departamento=%{y}<br>value=%{x}<extra></extra>",
         "legendgroup": "0816:VIDEO ELECTRONICS",
         "marker": {
          "color": "#FF6692",
          "pattern": {
           "shape": ""
          }
         },
         "name": "0816:VIDEO ELECTRONICS",
         "offsetgroup": "0816:VIDEO ELECTRONICS",
         "orientation": "h",
         "showlegend": true,
         "textposition": "auto",
         "type": "bar",
         "x": [
          4
         ],
         "xaxis": "x",
         "y": [
          "0816:VIDEO ELECTRONICS"
         ],
         "yaxis": "y"
        },
        {
         "alignmentgroup": "True",
         "hovertemplate": "Departamento=%{y}<br>value=%{x}<extra></extra>",
         "legendgroup": "0863:POWER EQUIPMENT",
         "marker": {
          "color": "#B6E880",
          "pattern": {
           "shape": ""
          }
         },
         "name": "0863:POWER EQUIPMENT",
         "offsetgroup": "0863:POWER EQUIPMENT",
         "orientation": "h",
         "showlegend": true,
         "textposition": "auto",
         "type": "bar",
         "x": [
          3
         ],
         "xaxis": "x",
         "y": [
          "0863:POWER EQUIPMENT"
         ],
         "yaxis": "y"
        },
        {
         "alignmentgroup": "True",
         "hovertemplate": "Departamento=%{y}<br>value=%{x}<extra></extra>",
         "legendgroup": "0591:MASS FRAGRANCES",
         "marker": {
          "color": "#FF97FF",
          "pattern": {
           "shape": ""
          }
         },
         "name": "0591:MASS FRAGRANCES",
         "offsetgroup": "0591:MASS FRAGRANCES",
         "orientation": "h",
         "showlegend": true,
         "textposition": "auto",
         "type": "bar",
         "x": [
          3
         ],
         "xaxis": "x",
         "y": [
          "0591:MASS FRAGRANCES"
         ],
         "yaxis": "y"
        },
        {
         "alignmentgroup": "True",
         "hovertemplate": "Departamento=%{y}<br>value=%{x}<extra></extra>",
         "legendgroup": "0439:JUVENILLE FURNITURE",
         "marker": {
          "color": "#FECB52",
          "pattern": {
           "shape": ""
          }
         },
         "name": "0439:JUVENILLE FURNITURE",
         "offsetgroup": "0439:JUVENILLE FURNITURE",
         "orientation": "h",
         "showlegend": true,
         "textposition": "auto",
         "type": "bar",
         "x": [
          3
         ],
         "xaxis": "x",
         "y": [
          "0439:JUVENILLE FURNITURE"
         ],
         "yaxis": "y"
        },
        {
         "alignmentgroup": "True",
         "hovertemplate": "Departamento=%{y}<br>value=%{x}<extra></extra>",
         "legendgroup": "0175:WOMENS SEPARATES",
         "marker": {
          "color": "#636efa",
          "pattern": {
           "shape": ""
          }
         },
         "name": "0175:WOMENS SEPARATES",
         "offsetgroup": "0175:WOMENS SEPARATES",
         "orientation": "h",
         "showlegend": true,
         "textposition": "auto",
         "type": "bar",
         "x": [
          3
         ],
         "xaxis": "x",
         "y": [
          "0175:WOMENS SEPARATES"
         ],
         "yaxis": "y"
        },
        {
         "alignmentgroup": "True",
         "hovertemplate": "Departamento=%{y}<br>value=%{x}<extra></extra>",
         "legendgroup": "0181:LADIES MODERN COLLEC",
         "marker": {
          "color": "#EF553B",
          "pattern": {
           "shape": ""
          }
         },
         "name": "0181:LADIES MODERN COLLEC",
         "offsetgroup": "0181:LADIES MODERN COLLEC",
         "orientation": "h",
         "showlegend": true,
         "textposition": "auto",
         "type": "bar",
         "x": [
          3
         ],
         "xaxis": "x",
         "y": [
          "0181:LADIES MODERN COLLEC"
         ],
         "yaxis": "y"
        },
        {
         "alignmentgroup": "True",
         "hovertemplate": "Departamento=%{y}<br>value=%{x}<extra></extra>",
         "legendgroup": "0186:JUNIOR DRESSES",
         "marker": {
          "color": "#00cc96",
          "pattern": {
           "shape": ""
          }
         },
         "name": "0186:JUNIOR DRESSES",
         "offsetgroup": "0186:JUNIOR DRESSES",
         "orientation": "h",
         "showlegend": true,
         "textposition": "auto",
         "type": "bar",
         "x": [
          3
         ],
         "xaxis": "x",
         "y": [
          "0186:JUNIOR DRESSES"
         ],
         "yaxis": "y"
        },
        {
         "alignmentgroup": "True",
         "hovertemplate": "Departamento=%{y}<br>value=%{x}<extra></extra>",
         "legendgroup": "0320:MNS TAILORED CLOTHNG",
         "marker": {
          "color": "#ab63fa",
          "pattern": {
           "shape": ""
          }
         },
         "name": "0320:MNS TAILORED CLOTHNG",
         "offsetgroup": "0320:MNS TAILORED CLOTHNG",
         "orientation": "h",
         "showlegend": true,
         "textposition": "auto",
         "type": "bar",
         "x": [
          3
         ],
         "xaxis": "x",
         "y": [
          "0320:MNS TAILORED CLOTHNG"
         ],
         "yaxis": "y"
        },
        {
         "alignmentgroup": "True",
         "hovertemplate": "Departamento=%{y}<br>value=%{x}<extra></extra>",
         "legendgroup": "0310:MENS OUTERWEAR",
         "marker": {
          "color": "#FFA15A",
          "pattern": {
           "shape": ""
          }
         },
         "name": "0310:MENS OUTERWEAR",
         "offsetgroup": "0310:MENS OUTERWEAR",
         "orientation": "h",
         "showlegend": true,
         "textposition": "auto",
         "type": "bar",
         "x": [
          3
         ],
         "xaxis": "x",
         "y": [
          "0310:MENS OUTERWEAR"
         ],
         "yaxis": "y"
        },
        {
         "alignmentgroup": "True",
         "hovertemplate": "Departamento=%{y}<br>value=%{x}<extra></extra>",
         "legendgroup": "0220:SHAPEWEAR",
         "marker": {
          "color": "#19d3f3",
          "pattern": {
           "shape": ""
          }
         },
         "name": "0220:SHAPEWEAR",
         "offsetgroup": "0220:SHAPEWEAR",
         "orientation": "h",
         "showlegend": true,
         "textposition": "auto",
         "type": "bar",
         "x": [
          2
         ],
         "xaxis": "x",
         "y": [
          "0220:SHAPEWEAR"
         ],
         "yaxis": "y"
        },
        {
         "alignmentgroup": "True",
         "hovertemplate": "Departamento=%{y}<br>value=%{x}<extra></extra>",
         "legendgroup": "0853:DIMAGE/PHONE/GPS/ACC",
         "marker": {
          "color": "#FF6692",
          "pattern": {
           "shape": ""
          }
         },
         "name": "0853:DIMAGE/PHONE/GPS/ACC",
         "offsetgroup": "0853:DIMAGE/PHONE/GPS/ACC",
         "orientation": "h",
         "showlegend": true,
         "textposition": "auto",
         "type": "bar",
         "x": [
          2
         ],
         "xaxis": "x",
         "y": [
          "0853:DIMAGE/PHONE/GPS/ACC"
         ],
         "yaxis": "y"
        },
        {
         "alignmentgroup": "True",
         "hovertemplate": "Departamento=%{y}<br>value=%{x}<extra></extra>",
         "legendgroup": "0940:HOME TEXTILES",
         "marker": {
          "color": "#B6E880",
          "pattern": {
           "shape": ""
          }
         },
         "name": "0940:HOME TEXTILES",
         "offsetgroup": "0940:HOME TEXTILES",
         "orientation": "h",
         "showlegend": true,
         "textposition": "auto",
         "type": "bar",
         "x": [
          2
         ],
         "xaxis": "x",
         "y": [
          "0940:HOME TEXTILES"
         ],
         "yaxis": "y"
        },
        {
         "alignmentgroup": "True",
         "hovertemplate": "Departamento=%{y}<br>value=%{x}<extra></extra>",
         "legendgroup": "0852:COMPUTER SOFTWARE",
         "marker": {
          "color": "#FF97FF",
          "pattern": {
           "shape": ""
          }
         },
         "name": "0852:COMPUTER SOFTWARE",
         "offsetgroup": "0852:COMPUTER SOFTWARE",
         "orientation": "h",
         "showlegend": true,
         "textposition": "auto",
         "type": "bar",
         "x": [
          2
         ],
         "xaxis": "x",
         "y": [
          "0852:COMPUTER SOFTWARE"
         ],
         "yaxis": "y"
        },
        {
         "alignmentgroup": "True",
         "hovertemplate": "Departamento=%{y}<br>value=%{x}<extra></extra>",
         "legendgroup": "0182:CLASSIC COLLECTIONS",
         "marker": {
          "color": "#FECB52",
          "pattern": {
           "shape": ""
          }
         },
         "name": "0182:CLASSIC COLLECTIONS",
         "offsetgroup": "0182:CLASSIC COLLECTIONS",
         "orientation": "h",
         "showlegend": true,
         "textposition": "auto",
         "type": "bar",
         "x": [
          2
         ],
         "xaxis": "x",
         "y": [
          "0182:CLASSIC COLLECTIONS"
         ],
         "yaxis": "y"
        },
        {
         "alignmentgroup": "True",
         "hovertemplate": "Departamento=%{y}<br>value=%{x}<extra></extra>",
         "legendgroup": "0587:JEWELRY CONSIGNMENT",
         "marker": {
          "color": "#636efa",
          "pattern": {
           "shape": ""
          }
         },
         "name": "0587:JEWELRY CONSIGNMENT",
         "offsetgroup": "0587:JEWELRY CONSIGNMENT",
         "orientation": "h",
         "showlegend": true,
         "textposition": "auto",
         "type": "bar",
         "x": [
          2
         ],
         "xaxis": "x",
         "y": [
          "0587:JEWELRY CONSIGNMENT"
         ],
         "yaxis": "y"
        },
        {
         "alignmentgroup": "True",
         "hovertemplate": "Departamento=%{y}<br>value=%{x}<extra></extra>",
         "legendgroup": "0033:VENDING RETAIL",
         "marker": {
          "color": "#EF553B",
          "pattern": {
           "shape": ""
          }
         },
         "name": "0033:VENDING RETAIL",
         "offsetgroup": "0033:VENDING RETAIL",
         "orientation": "h",
         "showlegend": true,
         "textposition": "auto",
         "type": "bar",
         "x": [
          2
         ],
         "xaxis": "x",
         "y": [
          "0033:VENDING RETAIL"
         ],
         "yaxis": "y"
        },
        {
         "alignmentgroup": "True",
         "hovertemplate": "Departamento=%{y}<br>value=%{x}<extra></extra>",
         "legendgroup": "0817:WEARABLES",
         "marker": {
          "color": "#00cc96",
          "pattern": {
           "shape": ""
          }
         },
         "name": "0817:WEARABLES",
         "offsetgroup": "0817:WEARABLES",
         "orientation": "h",
         "showlegend": true,
         "textposition": "auto",
         "type": "bar",
         "x": [
          1
         ],
         "xaxis": "x",
         "y": [
          "0817:WEARABLES"
         ],
         "yaxis": "y"
        },
        {
         "alignmentgroup": "True",
         "hovertemplate": "Departamento=%{y}<br>value=%{x}<extra></extra>",
         "legendgroup": "0099:MISC CUSTOM SERVICES",
         "marker": {
          "color": "#ab63fa",
          "pattern": {
           "shape": ""
          }
         },
         "name": "0099:MISC CUSTOM SERVICES",
         "offsetgroup": "0099:MISC CUSTOM SERVICES",
         "orientation": "h",
         "showlegend": true,
         "textposition": "auto",
         "type": "bar",
         "x": [
          1
         ],
         "xaxis": "x",
         "y": [
          "0099:MISC CUSTOM SERVICES"
         ],
         "yaxis": "y"
        },
        {
         "alignmentgroup": "True",
         "hovertemplate": "Departamento=%{y}<br>value=%{x}<extra></extra>",
         "legendgroup": "0066:VENDING/AMUSEMENT MA",
         "marker": {
          "color": "#FFA15A",
          "pattern": {
           "shape": ""
          }
         },
         "name": "0066:VENDING/AMUSEMENT MA",
         "offsetgroup": "0066:VENDING/AMUSEMENT MA",
         "orientation": "h",
         "showlegend": true,
         "textposition": "auto",
         "type": "bar",
         "x": [
          1
         ],
         "xaxis": "x",
         "y": [
          "0066:VENDING/AMUSEMENT MA"
         ],
         "yaxis": "y"
        },
        {
         "alignmentgroup": "True",
         "hovertemplate": "Departamento=%{y}<br>value=%{x}<extra></extra>",
         "legendgroup": "0014:REPAIRS",
         "marker": {
          "color": "#19d3f3",
          "pattern": {
           "shape": ""
          }
         },
         "name": "0014:REPAIRS",
         "offsetgroup": "0014:REPAIRS",
         "orientation": "h",
         "showlegend": true,
         "textposition": "auto",
         "type": "bar",
         "x": [
          1
         ],
         "xaxis": "x",
         "y": [
          "0014:REPAIRS"
         ],
         "yaxis": "y"
        }
       ],
       "layout": {
        "barmode": "relative",
        "legend": {
         "title": {
          "text": "Departamento"
         },
         "tracegroupgap": 0
        },
        "margin": {
         "t": 60
        },
        "showlegend": false,
        "template": {
         "data": {
          "bar": [
           {
            "error_x": {
             "color": "#2a3f5f"
            },
            "error_y": {
             "color": "#2a3f5f"
            },
            "marker": {
             "line": {
              "color": "#E5ECF6",
              "width": 0.5
             },
             "pattern": {
              "fillmode": "overlay",
              "size": 10,
              "solidity": 0.2
             }
            },
            "type": "bar"
           }
          ],
          "barpolar": [
           {
            "marker": {
             "line": {
              "color": "#E5ECF6",
              "width": 0.5
             },
             "pattern": {
              "fillmode": "overlay",
              "size": 10,
              "solidity": 0.2
             }
            },
            "type": "barpolar"
           }
          ],
          "carpet": [
           {
            "aaxis": {
             "endlinecolor": "#2a3f5f",
             "gridcolor": "white",
             "linecolor": "white",
             "minorgridcolor": "white",
             "startlinecolor": "#2a3f5f"
            },
            "baxis": {
             "endlinecolor": "#2a3f5f",
             "gridcolor": "white",
             "linecolor": "white",
             "minorgridcolor": "white",
             "startlinecolor": "#2a3f5f"
            },
            "type": "carpet"
           }
          ],
          "choropleth": [
           {
            "colorbar": {
             "outlinewidth": 0,
             "ticks": ""
            },
            "type": "choropleth"
           }
          ],
          "contour": [
           {
            "colorbar": {
             "outlinewidth": 0,
             "ticks": ""
            },
            "colorscale": [
             [
              0,
              "#0d0887"
             ],
             [
              0.1111111111111111,
              "#46039f"
             ],
             [
              0.2222222222222222,
              "#7201a8"
             ],
             [
              0.3333333333333333,
              "#9c179e"
             ],
             [
              0.4444444444444444,
              "#bd3786"
             ],
             [
              0.5555555555555556,
              "#d8576b"
             ],
             [
              0.6666666666666666,
              "#ed7953"
             ],
             [
              0.7777777777777778,
              "#fb9f3a"
             ],
             [
              0.8888888888888888,
              "#fdca26"
             ],
             [
              1,
              "#f0f921"
             ]
            ],
            "type": "contour"
           }
          ],
          "contourcarpet": [
           {
            "colorbar": {
             "outlinewidth": 0,
             "ticks": ""
            },
            "type": "contourcarpet"
           }
          ],
          "heatmap": [
           {
            "colorbar": {
             "outlinewidth": 0,
             "ticks": ""
            },
            "colorscale": [
             [
              0,
              "#0d0887"
             ],
             [
              0.1111111111111111,
              "#46039f"
             ],
             [
              0.2222222222222222,
              "#7201a8"
             ],
             [
              0.3333333333333333,
              "#9c179e"
             ],
             [
              0.4444444444444444,
              "#bd3786"
             ],
             [
              0.5555555555555556,
              "#d8576b"
             ],
             [
              0.6666666666666666,
              "#ed7953"
             ],
             [
              0.7777777777777778,
              "#fb9f3a"
             ],
             [
              0.8888888888888888,
              "#fdca26"
             ],
             [
              1,
              "#f0f921"
             ]
            ],
            "type": "heatmap"
           }
          ],
          "heatmapgl": [
           {
            "colorbar": {
             "outlinewidth": 0,
             "ticks": ""
            },
            "colorscale": [
             [
              0,
              "#0d0887"
             ],
             [
              0.1111111111111111,
              "#46039f"
             ],
             [
              0.2222222222222222,
              "#7201a8"
             ],
             [
              0.3333333333333333,
              "#9c179e"
             ],
             [
              0.4444444444444444,
              "#bd3786"
             ],
             [
              0.5555555555555556,
              "#d8576b"
             ],
             [
              0.6666666666666666,
              "#ed7953"
             ],
             [
              0.7777777777777778,
              "#fb9f3a"
             ],
             [
              0.8888888888888888,
              "#fdca26"
             ],
             [
              1,
              "#f0f921"
             ]
            ],
            "type": "heatmapgl"
           }
          ],
          "histogram": [
           {
            "marker": {
             "pattern": {
              "fillmode": "overlay",
              "size": 10,
              "solidity": 0.2
             }
            },
            "type": "histogram"
           }
          ],
          "histogram2d": [
           {
            "colorbar": {
             "outlinewidth": 0,
             "ticks": ""
            },
            "colorscale": [
             [
              0,
              "#0d0887"
             ],
             [
              0.1111111111111111,
              "#46039f"
             ],
             [
              0.2222222222222222,
              "#7201a8"
             ],
             [
              0.3333333333333333,
              "#9c179e"
             ],
             [
              0.4444444444444444,
              "#bd3786"
             ],
             [
              0.5555555555555556,
              "#d8576b"
             ],
             [
              0.6666666666666666,
              "#ed7953"
             ],
             [
              0.7777777777777778,
              "#fb9f3a"
             ],
             [
              0.8888888888888888,
              "#fdca26"
             ],
             [
              1,
              "#f0f921"
             ]
            ],
            "type": "histogram2d"
           }
          ],
          "histogram2dcontour": [
           {
            "colorbar": {
             "outlinewidth": 0,
             "ticks": ""
            },
            "colorscale": [
             [
              0,
              "#0d0887"
             ],
             [
              0.1111111111111111,
              "#46039f"
             ],
             [
              0.2222222222222222,
              "#7201a8"
             ],
             [
              0.3333333333333333,
              "#9c179e"
             ],
             [
              0.4444444444444444,
              "#bd3786"
             ],
             [
              0.5555555555555556,
              "#d8576b"
             ],
             [
              0.6666666666666666,
              "#ed7953"
             ],
             [
              0.7777777777777778,
              "#fb9f3a"
             ],
             [
              0.8888888888888888,
              "#fdca26"
             ],
             [
              1,
              "#f0f921"
             ]
            ],
            "type": "histogram2dcontour"
           }
          ],
          "mesh3d": [
           {
            "colorbar": {
             "outlinewidth": 0,
             "ticks": ""
            },
            "type": "mesh3d"
           }
          ],
          "parcoords": [
           {
            "line": {
             "colorbar": {
              "outlinewidth": 0,
              "ticks": ""
             }
            },
            "type": "parcoords"
           }
          ],
          "pie": [
           {
            "automargin": true,
            "type": "pie"
           }
          ],
          "scatter": [
           {
            "fillpattern": {
             "fillmode": "overlay",
             "size": 10,
             "solidity": 0.2
            },
            "type": "scatter"
           }
          ],
          "scatter3d": [
           {
            "line": {
             "colorbar": {
              "outlinewidth": 0,
              "ticks": ""
             }
            },
            "marker": {
             "colorbar": {
              "outlinewidth": 0,
              "ticks": ""
             }
            },
            "type": "scatter3d"
           }
          ],
          "scattercarpet": [
           {
            "marker": {
             "colorbar": {
              "outlinewidth": 0,
              "ticks": ""
             }
            },
            "type": "scattercarpet"
           }
          ],
          "scattergeo": [
           {
            "marker": {
             "colorbar": {
              "outlinewidth": 0,
              "ticks": ""
             }
            },
            "type": "scattergeo"
           }
          ],
          "scattergl": [
           {
            "marker": {
             "colorbar": {
              "outlinewidth": 0,
              "ticks": ""
             }
            },
            "type": "scattergl"
           }
          ],
          "scattermapbox": [
           {
            "marker": {
             "colorbar": {
              "outlinewidth": 0,
              "ticks": ""
             }
            },
            "type": "scattermapbox"
           }
          ],
          "scatterpolar": [
           {
            "marker": {
             "colorbar": {
              "outlinewidth": 0,
              "ticks": ""
             }
            },
            "type": "scatterpolar"
           }
          ],
          "scatterpolargl": [
           {
            "marker": {
             "colorbar": {
              "outlinewidth": 0,
              "ticks": ""
             }
            },
            "type": "scatterpolargl"
           }
          ],
          "scatterternary": [
           {
            "marker": {
             "colorbar": {
              "outlinewidth": 0,
              "ticks": ""
             }
            },
            "type": "scatterternary"
           }
          ],
          "surface": [
           {
            "colorbar": {
             "outlinewidth": 0,
             "ticks": ""
            },
            "colorscale": [
             [
              0,
              "#0d0887"
             ],
             [
              0.1111111111111111,
              "#46039f"
             ],
             [
              0.2222222222222222,
              "#7201a8"
             ],
             [
              0.3333333333333333,
              "#9c179e"
             ],
             [
              0.4444444444444444,
              "#bd3786"
             ],
             [
              0.5555555555555556,
              "#d8576b"
             ],
             [
              0.6666666666666666,
              "#ed7953"
             ],
             [
              0.7777777777777778,
              "#fb9f3a"
             ],
             [
              0.8888888888888888,
              "#fdca26"
             ],
             [
              1,
              "#f0f921"
             ]
            ],
            "type": "surface"
           }
          ],
          "table": [
           {
            "cells": {
             "fill": {
              "color": "#EBF0F8"
             },
             "line": {
              "color": "white"
             }
            },
            "header": {
             "fill": {
              "color": "#C8D4E3"
             },
             "line": {
              "color": "white"
             }
            },
            "type": "table"
           }
          ]
         },
         "layout": {
          "annotationdefaults": {
           "arrowcolor": "#2a3f5f",
           "arrowhead": 0,
           "arrowwidth": 1
          },
          "autotypenumbers": "strict",
          "coloraxis": {
           "colorbar": {
            "outlinewidth": 0,
            "ticks": ""
           }
          },
          "colorscale": {
           "diverging": [
            [
             0,
             "#8e0152"
            ],
            [
             0.1,
             "#c51b7d"
            ],
            [
             0.2,
             "#de77ae"
            ],
            [
             0.3,
             "#f1b6da"
            ],
            [
             0.4,
             "#fde0ef"
            ],
            [
             0.5,
             "#f7f7f7"
            ],
            [
             0.6,
             "#e6f5d0"
            ],
            [
             0.7,
             "#b8e186"
            ],
            [
             0.8,
             "#7fbc41"
            ],
            [
             0.9,
             "#4d9221"
            ],
            [
             1,
             "#276419"
            ]
           ],
           "sequential": [
            [
             0,
             "#0d0887"
            ],
            [
             0.1111111111111111,
             "#46039f"
            ],
            [
             0.2222222222222222,
             "#7201a8"
            ],
            [
             0.3333333333333333,
             "#9c179e"
            ],
            [
             0.4444444444444444,
             "#bd3786"
            ],
            [
             0.5555555555555556,
             "#d8576b"
            ],
            [
             0.6666666666666666,
             "#ed7953"
            ],
            [
             0.7777777777777778,
             "#fb9f3a"
            ],
            [
             0.8888888888888888,
             "#fdca26"
            ],
            [
             1,
             "#f0f921"
            ]
           ],
           "sequentialminus": [
            [
             0,
             "#0d0887"
            ],
            [
             0.1111111111111111,
             "#46039f"
            ],
            [
             0.2222222222222222,
             "#7201a8"
            ],
            [
             0.3333333333333333,
             "#9c179e"
            ],
            [
             0.4444444444444444,
             "#bd3786"
            ],
            [
             0.5555555555555556,
             "#d8576b"
            ],
            [
             0.6666666666666666,
             "#ed7953"
            ],
            [
             0.7777777777777778,
             "#fb9f3a"
            ],
            [
             0.8888888888888888,
             "#fdca26"
            ],
            [
             1,
             "#f0f921"
            ]
           ]
          },
          "colorway": [
           "#636efa",
           "#EF553B",
           "#00cc96",
           "#ab63fa",
           "#FFA15A",
           "#19d3f3",
           "#FF6692",
           "#B6E880",
           "#FF97FF",
           "#FECB52"
          ],
          "font": {
           "color": "#2a3f5f"
          },
          "geo": {
           "bgcolor": "white",
           "lakecolor": "white",
           "landcolor": "#E5ECF6",
           "showlakes": true,
           "showland": true,
           "subunitcolor": "white"
          },
          "hoverlabel": {
           "align": "left"
          },
          "hovermode": "closest",
          "mapbox": {
           "style": "light"
          },
          "paper_bgcolor": "white",
          "plot_bgcolor": "#E5ECF6",
          "polar": {
           "angularaxis": {
            "gridcolor": "white",
            "linecolor": "white",
            "ticks": ""
           },
           "bgcolor": "#E5ECF6",
           "radialaxis": {
            "gridcolor": "white",
            "linecolor": "white",
            "ticks": ""
           }
          },
          "scene": {
           "xaxis": {
            "backgroundcolor": "#E5ECF6",
            "gridcolor": "white",
            "gridwidth": 2,
            "linecolor": "white",
            "showbackground": true,
            "ticks": "",
            "zerolinecolor": "white"
           },
           "yaxis": {
            "backgroundcolor": "#E5ECF6",
            "gridcolor": "white",
            "gridwidth": 2,
            "linecolor": "white",
            "showbackground": true,
            "ticks": "",
            "zerolinecolor": "white"
           },
           "zaxis": {
            "backgroundcolor": "#E5ECF6",
            "gridcolor": "white",
            "gridwidth": 2,
            "linecolor": "white",
            "showbackground": true,
            "ticks": "",
            "zerolinecolor": "white"
           }
          },
          "shapedefaults": {
           "line": {
            "color": "#2a3f5f"
           }
          },
          "ternary": {
           "aaxis": {
            "gridcolor": "white",
            "linecolor": "white",
            "ticks": ""
           },
           "baxis": {
            "gridcolor": "white",
            "linecolor": "white",
            "ticks": ""
           },
           "bgcolor": "#E5ECF6",
           "caxis": {
            "gridcolor": "white",
            "linecolor": "white",
            "ticks": ""
           }
          },
          "title": {
           "x": 0.05
          },
          "xaxis": {
           "automargin": true,
           "gridcolor": "white",
           "linecolor": "white",
           "ticks": "",
           "title": {
            "standoff": 15
           },
           "zerolinecolor": "white",
           "zerolinewidth": 2
          },
          "yaxis": {
           "automargin": true,
           "gridcolor": "white",
           "linecolor": "white",
           "ticks": "",
           "title": {
            "standoff": 15
           },
           "zerolinecolor": "white",
           "zerolinewidth": 2
          }
         }
        },
        "xaxis": {
         "anchor": "y",
         "domain": [
          0,
          1
         ],
         "title": {
          "text": "value"
         }
        },
        "yaxis": {
         "anchor": "x",
         "categoryarray": [
          "0014:REPAIRS",
          "0066:VENDING/AMUSEMENT MA",
          "0099:MISC CUSTOM SERVICES",
          "0817:WEARABLES",
          "0033:VENDING RETAIL",
          "0587:JEWELRY CONSIGNMENT",
          "0182:CLASSIC COLLECTIONS",
          "0852:COMPUTER SOFTWARE",
          "0940:HOME TEXTILES",
          "0853:DIMAGE/PHONE/GPS/ACC",
          "0220:SHAPEWEAR",
          "0310:MENS OUTERWEAR",
          "0320:MNS TAILORED CLOTHNG",
          "0186:JUNIOR DRESSES",
          "0181:LADIES MODERN COLLEC",
          "0175:WOMENS SEPARATES",
          "0439:JUVENILLE FURNITURE",
          "0591:MASS FRAGRANCES",
          "0863:POWER EQUIPMENT",
          "0816:VIDEO ELECTRONICS",
          "0859:iPAD",
          "0346:LIFE STYLE DENIM",
          "0171:MISSY BOTTOMS",
          "0823:SMART HOME",
          "0018:OTHER DIRECT SERVICE",
          "0426:TODDLER BOY APPAREL",
          "0661:LUGGAGE",
          "0582:GOLD",
          "0584:GEMSTONES",
          "0834:COOKWARE",
          "0002:BARBER RETAIL",
          "0131:LADIES DRESSES",
          "0179:MODERATE DENIM",
          "0165:LIFE IS GOOD",
          "0173:JUNIOR BOTTOMS",
          "0188:STYLE & CO",
          "0340:MENS CASUAL SLACKS",
          "0178:DENIM COLLECTIONS",
          "0540:PERIODICALS/COMICS",
          "0596:MENS PRESTIGE FRAG",
          "0632:DIGITAL FITNESS",
          "0637:FISHING",
          "0541:BOOKS AND MAPS",
          "0601:VALUE ZONE",
          "0295:WOMENS ATHLTIC SHOES",
          "0586:COSTUME JEWELRY",
          "0860:NETWORKING",
          "0838:FLOOR CARE",
          "0009:FLORAL SERV/SUPPLIES",
          "0851:PC HARDWARE",
          "0583:DIAMONDS/BRIDAL",
          "0130:JUNIORS SURF",
          "0430:GIRLS 4-6X CLOTHING",
          "0177:PETITE SEPARATES",
          "0511:NAVY PRIDE SOFTLINES",
          "0354:MENS MODERN COLLECT",
          "0819:PRE-RECORDED A/V",
          "0076:FLORAL RETAIL",
          "0012:LOCAL GIFTS/FOODS",
          "0460:BOYS 4-7 CLOTHING",
          "0533:PAPYRUS",
          "0592:WMNS PRESTIGE FRAG",
          "0355:MENS SPORT SHIRTS",
          "0358:MENS DRESS SHIRTS",
          "0999:UNSCANNED ITEMS",
          "0856:GLUES/TAPES/ACC",
          "0965:PERISHABLES",
          "0857:PC PERIPH/OFFICE ACC",
          "0645:BIKES",
          "0551:CAMERAS & EQUIP",
          "0291:WOMENS FTWR:DRS/CAS",
          "0098:WAREHOUSED EXPENSES",
          "0411:PEGABLES",
          "0210:FOUNDATIONS",
          "0016:FINANCIAL SERVICES",
          "0839:HOME ORG/SOLUTIONS",
          "0833:TABLETOP",
          "0636:FITNESS/EXERCISE",
          "0510:NAVY PRIDE HARDLINES",
          "0722:OUTDOOR LIVING",
          "0395:MENS ATHLETIC SHOES",
          "0639:TEAM SPORTING GOODS",
          "0554:TELECOMMUNICATIONS",
          "0163:JUNIOR TOPS",
          "0056:SOUVENIR",
          "0941:BEDDING",
          "0421:TODDLER GIRL APPAREL",
          "0854:VIDEO GAMES",
          "0470:BOYS 8-20 CLOTHING",
          "0680:AUTOMOTIVE",
          "0343:MENS DENIM JEANS",
          "0167:MISSY TOPS",
          "0110:LDS OUTERWEAR/OUTDR",
          "0353:MENS OUTDOOR",
          "0193:LADIES ACTIVEWEAR",
          "0585:WATCHES",
          "0486:CHILDRENS FOOTWEAR",
          "0850:PC HDWR & OFFICE EQP",
          "0811:TELEVISION",
          "0368:TRAD COLLECTIONS",
          "0271:HANDBAGS",
          "0071:BEAUTY RETAIL",
          "0391:MENS SHOES",
          "0589:SUNGLASSES",
          "0845:AS SEEN ON TV",
          "0280:FASHION ACCESSORIES",
          "0846:BATTERIES",
          "0440:GIRLS 7-16 CLOTHING",
          "0369:YOUNG MENS",
          "0795:HOME DECOR",
          "0469:BOYS ACCESSORIES",
          "0359:MENS ACCESSORIES",
          "0161:MISSY KAREN SCOTT",
          "0449:GIRLS ACCESSORIES",
          "0230:DAYWEAR",
          "0930:TABLE TOP & KITCHEN",
          "0416:INFANT APPAREL",
          "0634:VITAMINS & HLTH AIDS",
          "0931:BATH",
          "0822:THIRD PARTY GIFTCARD",
          "0815:AUDIO ELECTRONICS",
          "0581:BRIDGE JEWELRY",
          "0415:NEWBORN APPAREL",
          "0861:GENERAL HARDWARE",
          "0797:SEASONAL GIFTS",
          "0531:STATIONERY SUNDRIES",
          "0240:SLEEPWEAR/LOUNGEWEAR",
          "0598:BABY CARE",
          "0595:HOME/BATH",
          "0261:HOSIERY",
          "0826:SMALL ELECTRICS",
          "0380:MENS ACTIVEWEAR",
          "0593:PRESTIGE COSMETICS",
          "0884:LAWN & GARDEN",
          "0638:GEN SPORTING GOODS",
          "0590:MASS COSMETICS",
          "0644:SPORTS NUTRITION",
          "0837:GENERAL HOUSEWARES",
          "0360:MENS FURNISHINGS",
          "0072:BARBER SERVICES",
          "0530:SCHOOL/OFFIC SUPP",
          "0640:TOYS",
          "0961:GENERAL GROCERIES",
          "0532:AMERICAN GREETINGS",
          "0984:BEER",
          "0603:BEAUTY CARE",
          "0879:PET SUPPLIES",
          "0604:PERSONAL CARE",
          "0991:TOBACCO",
          "0646:SEASONAL",
          "0597:HEALTH AIDS",
          "0836:HOUSEHOLD CLEANING",
          "0962:BEVERAGES",
          "0983:WINE",
          "0973:CANDY",
          "0982:SPIRITS"
         ],
         "categoryorder": "array",
         "domain": [
          0,
          1
         ],
         "title": {
          "text": "Departamento"
         }
        }
       }
      }
     },
     "metadata": {},
     "output_type": "display_data"
    }
   ],
   "source": [
    "# Quais departamentos têm o maior volume de transações e maior quantidade de unidades vendidas?\n",
    "# Parte 2: Quantidade de Unidades Vendidas\n",
    "\n",
    "# Soma de Unidades Vendidas das Transações onde cada departamento aparece\n",
    "soma_quantidades_por_departamento = df_transacoes.groupby('Departamento')['Qtde_Vendida'].sum().sort_values(ascending=False)\n",
    "\n",
    "# Plot\n",
    "fig_unidades_vendidas = px.bar(soma_quantidades_por_departamento, color=soma_quantidades_por_departamento.index, orientation='h')\n",
    "fig_unidades_vendidas.update_layout(showlegend=False)\n",
    "fig_unidades_vendidas.show()"
   ]
  },
  {
   "cell_type": "code",
   "execution_count": 24,
   "metadata": {},
   "outputs": [
    {
     "data": {
      "application/vnd.plotly.v1+json": {
       "config": {
        "plotlyServerURL": "https://plot.ly"
       },
       "data": [
        {
         "alignmentgroup": "True",
         "hovertemplate": "Departamento=%{y}<br>value=%{x}<extra></extra>",
         "legendgroup": "0982:SPIRITS",
         "marker": {
          "color": "#636efa",
          "pattern": {
           "shape": ""
          }
         },
         "name": "0982:SPIRITS",
         "offsetgroup": "0982:SPIRITS",
         "orientation": "h",
         "showlegend": true,
         "textposition": "auto",
         "type": "bar",
         "x": [
          661
         ],
         "xaxis": "x",
         "y": [
          "0982:SPIRITS"
         ],
         "yaxis": "y"
        },
        {
         "alignmentgroup": "True",
         "hovertemplate": "Departamento=%{y}<br>value=%{x}<extra></extra>",
         "legendgroup": "0973:CANDY",
         "marker": {
          "color": "#EF553B",
          "pattern": {
           "shape": ""
          }
         },
         "name": "0973:CANDY",
         "offsetgroup": "0973:CANDY",
         "orientation": "h",
         "showlegend": true,
         "textposition": "auto",
         "type": "bar",
         "x": [
          646
         ],
         "xaxis": "x",
         "y": [
          "0973:CANDY"
         ],
         "yaxis": "y"
        },
        {
         "alignmentgroup": "True",
         "hovertemplate": "Departamento=%{y}<br>value=%{x}<extra></extra>",
         "legendgroup": "0983:WINE",
         "marker": {
          "color": "#00cc96",
          "pattern": {
           "shape": ""
          }
         },
         "name": "0983:WINE",
         "offsetgroup": "0983:WINE",
         "orientation": "h",
         "showlegend": true,
         "textposition": "auto",
         "type": "bar",
         "x": [
          528
         ],
         "xaxis": "x",
         "y": [
          "0983:WINE"
         ],
         "yaxis": "y"
        },
        {
         "alignmentgroup": "True",
         "hovertemplate": "Departamento=%{y}<br>value=%{x}<extra></extra>",
         "legendgroup": "0962:BEVERAGES",
         "marker": {
          "color": "#ab63fa",
          "pattern": {
           "shape": ""
          }
         },
         "name": "0962:BEVERAGES",
         "offsetgroup": "0962:BEVERAGES",
         "orientation": "h",
         "showlegend": true,
         "textposition": "auto",
         "type": "bar",
         "x": [
          418
         ],
         "xaxis": "x",
         "y": [
          "0962:BEVERAGES"
         ],
         "yaxis": "y"
        },
        {
         "alignmentgroup": "True",
         "hovertemplate": "Departamento=%{y}<br>value=%{x}<extra></extra>",
         "legendgroup": "0836:HOUSEHOLD CLEANING",
         "marker": {
          "color": "#FFA15A",
          "pattern": {
           "shape": ""
          }
         },
         "name": "0836:HOUSEHOLD CLEANING",
         "offsetgroup": "0836:HOUSEHOLD CLEANING",
         "orientation": "h",
         "showlegend": true,
         "textposition": "auto",
         "type": "bar",
         "x": [
          371
         ],
         "xaxis": "x",
         "y": [
          "0836:HOUSEHOLD CLEANING"
         ],
         "yaxis": "y"
        },
        {
         "alignmentgroup": "True",
         "hovertemplate": "Departamento=%{y}<br>value=%{x}<extra></extra>",
         "legendgroup": "0597:HEALTH AIDS",
         "marker": {
          "color": "#19d3f3",
          "pattern": {
           "shape": ""
          }
         },
         "name": "0597:HEALTH AIDS",
         "offsetgroup": "0597:HEALTH AIDS",
         "orientation": "h",
         "showlegend": true,
         "textposition": "auto",
         "type": "bar",
         "x": [
          342
         ],
         "xaxis": "x",
         "y": [
          "0597:HEALTH AIDS"
         ],
         "yaxis": "y"
        },
        {
         "alignmentgroup": "True",
         "hovertemplate": "Departamento=%{y}<br>value=%{x}<extra></extra>",
         "legendgroup": "0646:SEASONAL",
         "marker": {
          "color": "#FF6692",
          "pattern": {
           "shape": ""
          }
         },
         "name": "0646:SEASONAL",
         "offsetgroup": "0646:SEASONAL",
         "orientation": "h",
         "showlegend": true,
         "textposition": "auto",
         "type": "bar",
         "x": [
          326
         ],
         "xaxis": "x",
         "y": [
          "0646:SEASONAL"
         ],
         "yaxis": "y"
        },
        {
         "alignmentgroup": "True",
         "hovertemplate": "Departamento=%{y}<br>value=%{x}<extra></extra>",
         "legendgroup": "0991:TOBACCO",
         "marker": {
          "color": "#B6E880",
          "pattern": {
           "shape": ""
          }
         },
         "name": "0991:TOBACCO",
         "offsetgroup": "0991:TOBACCO",
         "orientation": "h",
         "showlegend": true,
         "textposition": "auto",
         "type": "bar",
         "x": [
          313
         ],
         "xaxis": "x",
         "y": [
          "0991:TOBACCO"
         ],
         "yaxis": "y"
        },
        {
         "alignmentgroup": "True",
         "hovertemplate": "Departamento=%{y}<br>value=%{x}<extra></extra>",
         "legendgroup": "0604:PERSONAL CARE",
         "marker": {
          "color": "#FF97FF",
          "pattern": {
           "shape": ""
          }
         },
         "name": "0604:PERSONAL CARE",
         "offsetgroup": "0604:PERSONAL CARE",
         "orientation": "h",
         "showlegend": true,
         "textposition": "auto",
         "type": "bar",
         "x": [
          292
         ],
         "xaxis": "x",
         "y": [
          "0604:PERSONAL CARE"
         ],
         "yaxis": "y"
        },
        {
         "alignmentgroup": "True",
         "hovertemplate": "Departamento=%{y}<br>value=%{x}<extra></extra>",
         "legendgroup": "0879:PET SUPPLIES",
         "marker": {
          "color": "#FECB52",
          "pattern": {
           "shape": ""
          }
         },
         "name": "0879:PET SUPPLIES",
         "offsetgroup": "0879:PET SUPPLIES",
         "orientation": "h",
         "showlegend": true,
         "textposition": "auto",
         "type": "bar",
         "x": [
          243
         ],
         "xaxis": "x",
         "y": [
          "0879:PET SUPPLIES"
         ],
         "yaxis": "y"
        }
       ],
       "layout": {
        "barmode": "relative",
        "legend": {
         "title": {
          "text": "Departamento"
         },
         "tracegroupgap": 0
        },
        "margin": {
         "t": 60
        },
        "showlegend": false,
        "template": {
         "data": {
          "bar": [
           {
            "error_x": {
             "color": "#2a3f5f"
            },
            "error_y": {
             "color": "#2a3f5f"
            },
            "marker": {
             "line": {
              "color": "#E5ECF6",
              "width": 0.5
             },
             "pattern": {
              "fillmode": "overlay",
              "size": 10,
              "solidity": 0.2
             }
            },
            "type": "bar"
           }
          ],
          "barpolar": [
           {
            "marker": {
             "line": {
              "color": "#E5ECF6",
              "width": 0.5
             },
             "pattern": {
              "fillmode": "overlay",
              "size": 10,
              "solidity": 0.2
             }
            },
            "type": "barpolar"
           }
          ],
          "carpet": [
           {
            "aaxis": {
             "endlinecolor": "#2a3f5f",
             "gridcolor": "white",
             "linecolor": "white",
             "minorgridcolor": "white",
             "startlinecolor": "#2a3f5f"
            },
            "baxis": {
             "endlinecolor": "#2a3f5f",
             "gridcolor": "white",
             "linecolor": "white",
             "minorgridcolor": "white",
             "startlinecolor": "#2a3f5f"
            },
            "type": "carpet"
           }
          ],
          "choropleth": [
           {
            "colorbar": {
             "outlinewidth": 0,
             "ticks": ""
            },
            "type": "choropleth"
           }
          ],
          "contour": [
           {
            "colorbar": {
             "outlinewidth": 0,
             "ticks": ""
            },
            "colorscale": [
             [
              0,
              "#0d0887"
             ],
             [
              0.1111111111111111,
              "#46039f"
             ],
             [
              0.2222222222222222,
              "#7201a8"
             ],
             [
              0.3333333333333333,
              "#9c179e"
             ],
             [
              0.4444444444444444,
              "#bd3786"
             ],
             [
              0.5555555555555556,
              "#d8576b"
             ],
             [
              0.6666666666666666,
              "#ed7953"
             ],
             [
              0.7777777777777778,
              "#fb9f3a"
             ],
             [
              0.8888888888888888,
              "#fdca26"
             ],
             [
              1,
              "#f0f921"
             ]
            ],
            "type": "contour"
           }
          ],
          "contourcarpet": [
           {
            "colorbar": {
             "outlinewidth": 0,
             "ticks": ""
            },
            "type": "contourcarpet"
           }
          ],
          "heatmap": [
           {
            "colorbar": {
             "outlinewidth": 0,
             "ticks": ""
            },
            "colorscale": [
             [
              0,
              "#0d0887"
             ],
             [
              0.1111111111111111,
              "#46039f"
             ],
             [
              0.2222222222222222,
              "#7201a8"
             ],
             [
              0.3333333333333333,
              "#9c179e"
             ],
             [
              0.4444444444444444,
              "#bd3786"
             ],
             [
              0.5555555555555556,
              "#d8576b"
             ],
             [
              0.6666666666666666,
              "#ed7953"
             ],
             [
              0.7777777777777778,
              "#fb9f3a"
             ],
             [
              0.8888888888888888,
              "#fdca26"
             ],
             [
              1,
              "#f0f921"
             ]
            ],
            "type": "heatmap"
           }
          ],
          "heatmapgl": [
           {
            "colorbar": {
             "outlinewidth": 0,
             "ticks": ""
            },
            "colorscale": [
             [
              0,
              "#0d0887"
             ],
             [
              0.1111111111111111,
              "#46039f"
             ],
             [
              0.2222222222222222,
              "#7201a8"
             ],
             [
              0.3333333333333333,
              "#9c179e"
             ],
             [
              0.4444444444444444,
              "#bd3786"
             ],
             [
              0.5555555555555556,
              "#d8576b"
             ],
             [
              0.6666666666666666,
              "#ed7953"
             ],
             [
              0.7777777777777778,
              "#fb9f3a"
             ],
             [
              0.8888888888888888,
              "#fdca26"
             ],
             [
              1,
              "#f0f921"
             ]
            ],
            "type": "heatmapgl"
           }
          ],
          "histogram": [
           {
            "marker": {
             "pattern": {
              "fillmode": "overlay",
              "size": 10,
              "solidity": 0.2
             }
            },
            "type": "histogram"
           }
          ],
          "histogram2d": [
           {
            "colorbar": {
             "outlinewidth": 0,
             "ticks": ""
            },
            "colorscale": [
             [
              0,
              "#0d0887"
             ],
             [
              0.1111111111111111,
              "#46039f"
             ],
             [
              0.2222222222222222,
              "#7201a8"
             ],
             [
              0.3333333333333333,
              "#9c179e"
             ],
             [
              0.4444444444444444,
              "#bd3786"
             ],
             [
              0.5555555555555556,
              "#d8576b"
             ],
             [
              0.6666666666666666,
              "#ed7953"
             ],
             [
              0.7777777777777778,
              "#fb9f3a"
             ],
             [
              0.8888888888888888,
              "#fdca26"
             ],
             [
              1,
              "#f0f921"
             ]
            ],
            "type": "histogram2d"
           }
          ],
          "histogram2dcontour": [
           {
            "colorbar": {
             "outlinewidth": 0,
             "ticks": ""
            },
            "colorscale": [
             [
              0,
              "#0d0887"
             ],
             [
              0.1111111111111111,
              "#46039f"
             ],
             [
              0.2222222222222222,
              "#7201a8"
             ],
             [
              0.3333333333333333,
              "#9c179e"
             ],
             [
              0.4444444444444444,
              "#bd3786"
             ],
             [
              0.5555555555555556,
              "#d8576b"
             ],
             [
              0.6666666666666666,
              "#ed7953"
             ],
             [
              0.7777777777777778,
              "#fb9f3a"
             ],
             [
              0.8888888888888888,
              "#fdca26"
             ],
             [
              1,
              "#f0f921"
             ]
            ],
            "type": "histogram2dcontour"
           }
          ],
          "mesh3d": [
           {
            "colorbar": {
             "outlinewidth": 0,
             "ticks": ""
            },
            "type": "mesh3d"
           }
          ],
          "parcoords": [
           {
            "line": {
             "colorbar": {
              "outlinewidth": 0,
              "ticks": ""
             }
            },
            "type": "parcoords"
           }
          ],
          "pie": [
           {
            "automargin": true,
            "type": "pie"
           }
          ],
          "scatter": [
           {
            "fillpattern": {
             "fillmode": "overlay",
             "size": 10,
             "solidity": 0.2
            },
            "type": "scatter"
           }
          ],
          "scatter3d": [
           {
            "line": {
             "colorbar": {
              "outlinewidth": 0,
              "ticks": ""
             }
            },
            "marker": {
             "colorbar": {
              "outlinewidth": 0,
              "ticks": ""
             }
            },
            "type": "scatter3d"
           }
          ],
          "scattercarpet": [
           {
            "marker": {
             "colorbar": {
              "outlinewidth": 0,
              "ticks": ""
             }
            },
            "type": "scattercarpet"
           }
          ],
          "scattergeo": [
           {
            "marker": {
             "colorbar": {
              "outlinewidth": 0,
              "ticks": ""
             }
            },
            "type": "scattergeo"
           }
          ],
          "scattergl": [
           {
            "marker": {
             "colorbar": {
              "outlinewidth": 0,
              "ticks": ""
             }
            },
            "type": "scattergl"
           }
          ],
          "scattermapbox": [
           {
            "marker": {
             "colorbar": {
              "outlinewidth": 0,
              "ticks": ""
             }
            },
            "type": "scattermapbox"
           }
          ],
          "scatterpolar": [
           {
            "marker": {
             "colorbar": {
              "outlinewidth": 0,
              "ticks": ""
             }
            },
            "type": "scatterpolar"
           }
          ],
          "scatterpolargl": [
           {
            "marker": {
             "colorbar": {
              "outlinewidth": 0,
              "ticks": ""
             }
            },
            "type": "scatterpolargl"
           }
          ],
          "scatterternary": [
           {
            "marker": {
             "colorbar": {
              "outlinewidth": 0,
              "ticks": ""
             }
            },
            "type": "scatterternary"
           }
          ],
          "surface": [
           {
            "colorbar": {
             "outlinewidth": 0,
             "ticks": ""
            },
            "colorscale": [
             [
              0,
              "#0d0887"
             ],
             [
              0.1111111111111111,
              "#46039f"
             ],
             [
              0.2222222222222222,
              "#7201a8"
             ],
             [
              0.3333333333333333,
              "#9c179e"
             ],
             [
              0.4444444444444444,
              "#bd3786"
             ],
             [
              0.5555555555555556,
              "#d8576b"
             ],
             [
              0.6666666666666666,
              "#ed7953"
             ],
             [
              0.7777777777777778,
              "#fb9f3a"
             ],
             [
              0.8888888888888888,
              "#fdca26"
             ],
             [
              1,
              "#f0f921"
             ]
            ],
            "type": "surface"
           }
          ],
          "table": [
           {
            "cells": {
             "fill": {
              "color": "#EBF0F8"
             },
             "line": {
              "color": "white"
             }
            },
            "header": {
             "fill": {
              "color": "#C8D4E3"
             },
             "line": {
              "color": "white"
             }
            },
            "type": "table"
           }
          ]
         },
         "layout": {
          "annotationdefaults": {
           "arrowcolor": "#2a3f5f",
           "arrowhead": 0,
           "arrowwidth": 1
          },
          "autotypenumbers": "strict",
          "coloraxis": {
           "colorbar": {
            "outlinewidth": 0,
            "ticks": ""
           }
          },
          "colorscale": {
           "diverging": [
            [
             0,
             "#8e0152"
            ],
            [
             0.1,
             "#c51b7d"
            ],
            [
             0.2,
             "#de77ae"
            ],
            [
             0.3,
             "#f1b6da"
            ],
            [
             0.4,
             "#fde0ef"
            ],
            [
             0.5,
             "#f7f7f7"
            ],
            [
             0.6,
             "#e6f5d0"
            ],
            [
             0.7,
             "#b8e186"
            ],
            [
             0.8,
             "#7fbc41"
            ],
            [
             0.9,
             "#4d9221"
            ],
            [
             1,
             "#276419"
            ]
           ],
           "sequential": [
            [
             0,
             "#0d0887"
            ],
            [
             0.1111111111111111,
             "#46039f"
            ],
            [
             0.2222222222222222,
             "#7201a8"
            ],
            [
             0.3333333333333333,
             "#9c179e"
            ],
            [
             0.4444444444444444,
             "#bd3786"
            ],
            [
             0.5555555555555556,
             "#d8576b"
            ],
            [
             0.6666666666666666,
             "#ed7953"
            ],
            [
             0.7777777777777778,
             "#fb9f3a"
            ],
            [
             0.8888888888888888,
             "#fdca26"
            ],
            [
             1,
             "#f0f921"
            ]
           ],
           "sequentialminus": [
            [
             0,
             "#0d0887"
            ],
            [
             0.1111111111111111,
             "#46039f"
            ],
            [
             0.2222222222222222,
             "#7201a8"
            ],
            [
             0.3333333333333333,
             "#9c179e"
            ],
            [
             0.4444444444444444,
             "#bd3786"
            ],
            [
             0.5555555555555556,
             "#d8576b"
            ],
            [
             0.6666666666666666,
             "#ed7953"
            ],
            [
             0.7777777777777778,
             "#fb9f3a"
            ],
            [
             0.8888888888888888,
             "#fdca26"
            ],
            [
             1,
             "#f0f921"
            ]
           ]
          },
          "colorway": [
           "#636efa",
           "#EF553B",
           "#00cc96",
           "#ab63fa",
           "#FFA15A",
           "#19d3f3",
           "#FF6692",
           "#B6E880",
           "#FF97FF",
           "#FECB52"
          ],
          "font": {
           "color": "#2a3f5f"
          },
          "geo": {
           "bgcolor": "white",
           "lakecolor": "white",
           "landcolor": "#E5ECF6",
           "showlakes": true,
           "showland": true,
           "subunitcolor": "white"
          },
          "hoverlabel": {
           "align": "left"
          },
          "hovermode": "closest",
          "mapbox": {
           "style": "light"
          },
          "paper_bgcolor": "white",
          "plot_bgcolor": "#E5ECF6",
          "polar": {
           "angularaxis": {
            "gridcolor": "white",
            "linecolor": "white",
            "ticks": ""
           },
           "bgcolor": "#E5ECF6",
           "radialaxis": {
            "gridcolor": "white",
            "linecolor": "white",
            "ticks": ""
           }
          },
          "scene": {
           "xaxis": {
            "backgroundcolor": "#E5ECF6",
            "gridcolor": "white",
            "gridwidth": 2,
            "linecolor": "white",
            "showbackground": true,
            "ticks": "",
            "zerolinecolor": "white"
           },
           "yaxis": {
            "backgroundcolor": "#E5ECF6",
            "gridcolor": "white",
            "gridwidth": 2,
            "linecolor": "white",
            "showbackground": true,
            "ticks": "",
            "zerolinecolor": "white"
           },
           "zaxis": {
            "backgroundcolor": "#E5ECF6",
            "gridcolor": "white",
            "gridwidth": 2,
            "linecolor": "white",
            "showbackground": true,
            "ticks": "",
            "zerolinecolor": "white"
           }
          },
          "shapedefaults": {
           "line": {
            "color": "#2a3f5f"
           }
          },
          "ternary": {
           "aaxis": {
            "gridcolor": "white",
            "linecolor": "white",
            "ticks": ""
           },
           "baxis": {
            "gridcolor": "white",
            "linecolor": "white",
            "ticks": ""
           },
           "bgcolor": "#E5ECF6",
           "caxis": {
            "gridcolor": "white",
            "linecolor": "white",
            "ticks": ""
           }
          },
          "title": {
           "x": 0.05
          },
          "xaxis": {
           "automargin": true,
           "gridcolor": "white",
           "linecolor": "white",
           "ticks": "",
           "title": {
            "standoff": 15
           },
           "zerolinecolor": "white",
           "zerolinewidth": 2
          },
          "yaxis": {
           "automargin": true,
           "gridcolor": "white",
           "linecolor": "white",
           "ticks": "",
           "title": {
            "standoff": 15
           },
           "zerolinecolor": "white",
           "zerolinewidth": 2
          }
         }
        },
        "xaxis": {
         "anchor": "y",
         "domain": [
          0,
          1
         ],
         "title": {
          "text": "value"
         }
        },
        "yaxis": {
         "anchor": "x",
         "categoryarray": [
          "0879:PET SUPPLIES",
          "0604:PERSONAL CARE",
          "0991:TOBACCO",
          "0646:SEASONAL",
          "0597:HEALTH AIDS",
          "0836:HOUSEHOLD CLEANING",
          "0962:BEVERAGES",
          "0983:WINE",
          "0973:CANDY",
          "0982:SPIRITS"
         ],
         "categoryorder": "array",
         "domain": [
          0,
          1
         ],
         "title": {
          "text": "Departamento"
         }
        }
       }
      }
     },
     "metadata": {},
     "output_type": "display_data"
    }
   ],
   "source": [
    "# Qual o Top 10 de departamentos têm o maior volume de transações e maior quantidade de unidades vendidas?\n",
    "# Parte 2: Quantidade de Unidades Vendidas\n",
    "\n",
    "# Soma de Unidades Vendidas das Transações onde cada departamento aparece\n",
    "soma_quantidades_por_departamento_top10 = df_transacoes.groupby('Departamento')['Qtde_Vendida'].sum().sort_values(ascending=False).head(10)\n",
    "\n",
    "# Plot\n",
    "fig_unidades_vendidas_top10 = px.bar(soma_quantidades_por_departamento_top10, color=soma_quantidades_por_departamento_top10.index, orientation='h')\n",
    "fig_unidades_vendidas_top10.update_layout(showlegend=False)\n",
    "fig_unidades_vendidas_top10.show()"
   ]
  },
  {
   "cell_type": "code",
   "execution_count": 25,
   "metadata": {},
   "outputs": [
    {
     "data": {
      "application/vnd.plotly.v1+json": {
       "config": {
        "plotlyServerURL": "https://plot.ly"
       },
       "data": [
        {
         "alignmentgroup": "True",
         "hovertemplate": "Departamento=%{y}<br>value=%{x}<extra></extra>",
         "legendgroup": "0982:SPIRITS",
         "marker": {
          "color": "#636efa",
          "pattern": {
           "shape": ""
          }
         },
         "name": "0982:SPIRITS",
         "offsetgroup": "0982:SPIRITS",
         "orientation": "h",
         "showlegend": true,
         "textposition": "auto",
         "type": "bar",
         "x": [
          314
         ],
         "xaxis": "x",
         "y": [
          "0982:SPIRITS"
         ],
         "yaxis": "y"
        },
        {
         "alignmentgroup": "True",
         "hovertemplate": "Departamento=%{y}<br>value=%{x}<extra></extra>",
         "legendgroup": "0973:CANDY",
         "marker": {
          "color": "#EF553B",
          "pattern": {
           "shape": ""
          }
         },
         "name": "0973:CANDY",
         "offsetgroup": "0973:CANDY",
         "orientation": "h",
         "showlegend": true,
         "textposition": "auto",
         "type": "bar",
         "x": [
          275
         ],
         "xaxis": "x",
         "y": [
          "0973:CANDY"
         ],
         "yaxis": "y"
        },
        {
         "alignmentgroup": "True",
         "hovertemplate": "Departamento=%{y}<br>value=%{x}<extra></extra>",
         "legendgroup": "0962:BEVERAGES",
         "marker": {
          "color": "#00cc96",
          "pattern": {
           "shape": ""
          }
         },
         "name": "0962:BEVERAGES",
         "offsetgroup": "0962:BEVERAGES",
         "orientation": "h",
         "showlegend": true,
         "textposition": "auto",
         "type": "bar",
         "x": [
          253
         ],
         "xaxis": "x",
         "y": [
          "0962:BEVERAGES"
         ],
         "yaxis": "y"
        },
        {
         "alignmentgroup": "True",
         "hovertemplate": "Departamento=%{y}<br>value=%{x}<extra></extra>",
         "legendgroup": "0597:HEALTH AIDS",
         "marker": {
          "color": "#ab63fa",
          "pattern": {
           "shape": ""
          }
         },
         "name": "0597:HEALTH AIDS",
         "offsetgroup": "0597:HEALTH AIDS",
         "orientation": "h",
         "showlegend": true,
         "textposition": "auto",
         "type": "bar",
         "x": [
          200
         ],
         "xaxis": "x",
         "y": [
          "0597:HEALTH AIDS"
         ],
         "yaxis": "y"
        },
        {
         "alignmentgroup": "True",
         "hovertemplate": "Departamento=%{y}<br>value=%{x}<extra></extra>",
         "legendgroup": "0983:WINE",
         "marker": {
          "color": "#FFA15A",
          "pattern": {
           "shape": ""
          }
         },
         "name": "0983:WINE",
         "offsetgroup": "0983:WINE",
         "orientation": "h",
         "showlegend": true,
         "textposition": "auto",
         "type": "bar",
         "x": [
          191
         ],
         "xaxis": "x",
         "y": [
          "0983:WINE"
         ],
         "yaxis": "y"
        },
        {
         "alignmentgroup": "True",
         "hovertemplate": "Departamento=%{y}<br>value=%{x}<extra></extra>",
         "legendgroup": "0991:TOBACCO",
         "marker": {
          "color": "#19d3f3",
          "pattern": {
           "shape": ""
          }
         },
         "name": "0991:TOBACCO",
         "offsetgroup": "0991:TOBACCO",
         "orientation": "h",
         "showlegend": true,
         "textposition": "auto",
         "type": "bar",
         "x": [
          185
         ],
         "xaxis": "x",
         "y": [
          "0991:TOBACCO"
         ],
         "yaxis": "y"
        },
        {
         "alignmentgroup": "True",
         "hovertemplate": "Departamento=%{y}<br>value=%{x}<extra></extra>",
         "legendgroup": "0836:HOUSEHOLD CLEANING",
         "marker": {
          "color": "#FF6692",
          "pattern": {
           "shape": ""
          }
         },
         "name": "0836:HOUSEHOLD CLEANING",
         "offsetgroup": "0836:HOUSEHOLD CLEANING",
         "orientation": "h",
         "showlegend": true,
         "textposition": "auto",
         "type": "bar",
         "x": [
          158
         ],
         "xaxis": "x",
         "y": [
          "0836:HOUSEHOLD CLEANING"
         ],
         "yaxis": "y"
        },
        {
         "alignmentgroup": "True",
         "hovertemplate": "Departamento=%{y}<br>value=%{x}<extra></extra>",
         "legendgroup": "0604:PERSONAL CARE",
         "marker": {
          "color": "#B6E880",
          "pattern": {
           "shape": ""
          }
         },
         "name": "0604:PERSONAL CARE",
         "offsetgroup": "0604:PERSONAL CARE",
         "orientation": "h",
         "showlegend": true,
         "textposition": "auto",
         "type": "bar",
         "x": [
          150
         ],
         "xaxis": "x",
         "y": [
          "0604:PERSONAL CARE"
         ],
         "yaxis": "y"
        },
        {
         "alignmentgroup": "True",
         "hovertemplate": "Departamento=%{y}<br>value=%{x}<extra></extra>",
         "legendgroup": "0984:BEER",
         "marker": {
          "color": "#FF97FF",
          "pattern": {
           "shape": ""
          }
         },
         "name": "0984:BEER",
         "offsetgroup": "0984:BEER",
         "orientation": "h",
         "showlegend": true,
         "textposition": "auto",
         "type": "bar",
         "x": [
          132
         ],
         "xaxis": "x",
         "y": [
          "0984:BEER"
         ],
         "yaxis": "y"
        },
        {
         "alignmentgroup": "True",
         "hovertemplate": "Departamento=%{y}<br>value=%{x}<extra></extra>",
         "legendgroup": "0603:BEAUTY CARE",
         "marker": {
          "color": "#FECB52",
          "pattern": {
           "shape": ""
          }
         },
         "name": "0603:BEAUTY CARE",
         "offsetgroup": "0603:BEAUTY CARE",
         "orientation": "h",
         "showlegend": true,
         "textposition": "auto",
         "type": "bar",
         "x": [
          132
         ],
         "xaxis": "x",
         "y": [
          "0603:BEAUTY CARE"
         ],
         "yaxis": "y"
        },
        {
         "alignmentgroup": "True",
         "hovertemplate": "Departamento=%{y}<br>value=%{x}<extra></extra>",
         "legendgroup": "0982:SPIRITS",
         "marker": {
          "color": "#636efa",
          "pattern": {
           "shape": ""
          }
         },
         "name": "0982:SPIRITS",
         "offsetgroup": "0982:SPIRITS",
         "orientation": "h",
         "showlegend": true,
         "textposition": "auto",
         "type": "bar",
         "x": [
          661
         ],
         "xaxis": "x2",
         "y": [
          "0982:SPIRITS"
         ],
         "yaxis": "y2"
        },
        {
         "alignmentgroup": "True",
         "hovertemplate": "Departamento=%{y}<br>value=%{x}<extra></extra>",
         "legendgroup": "0973:CANDY",
         "marker": {
          "color": "#EF553B",
          "pattern": {
           "shape": ""
          }
         },
         "name": "0973:CANDY",
         "offsetgroup": "0973:CANDY",
         "orientation": "h",
         "showlegend": true,
         "textposition": "auto",
         "type": "bar",
         "x": [
          646
         ],
         "xaxis": "x2",
         "y": [
          "0973:CANDY"
         ],
         "yaxis": "y2"
        },
        {
         "alignmentgroup": "True",
         "hovertemplate": "Departamento=%{y}<br>value=%{x}<extra></extra>",
         "legendgroup": "0983:WINE",
         "marker": {
          "color": "#00cc96",
          "pattern": {
           "shape": ""
          }
         },
         "name": "0983:WINE",
         "offsetgroup": "0983:WINE",
         "orientation": "h",
         "showlegend": true,
         "textposition": "auto",
         "type": "bar",
         "x": [
          528
         ],
         "xaxis": "x2",
         "y": [
          "0983:WINE"
         ],
         "yaxis": "y2"
        },
        {
         "alignmentgroup": "True",
         "hovertemplate": "Departamento=%{y}<br>value=%{x}<extra></extra>",
         "legendgroup": "0962:BEVERAGES",
         "marker": {
          "color": "#ab63fa",
          "pattern": {
           "shape": ""
          }
         },
         "name": "0962:BEVERAGES",
         "offsetgroup": "0962:BEVERAGES",
         "orientation": "h",
         "showlegend": true,
         "textposition": "auto",
         "type": "bar",
         "x": [
          418
         ],
         "xaxis": "x2",
         "y": [
          "0962:BEVERAGES"
         ],
         "yaxis": "y2"
        },
        {
         "alignmentgroup": "True",
         "hovertemplate": "Departamento=%{y}<br>value=%{x}<extra></extra>",
         "legendgroup": "0836:HOUSEHOLD CLEANING",
         "marker": {
          "color": "#FFA15A",
          "pattern": {
           "shape": ""
          }
         },
         "name": "0836:HOUSEHOLD CLEANING",
         "offsetgroup": "0836:HOUSEHOLD CLEANING",
         "orientation": "h",
         "showlegend": true,
         "textposition": "auto",
         "type": "bar",
         "x": [
          371
         ],
         "xaxis": "x2",
         "y": [
          "0836:HOUSEHOLD CLEANING"
         ],
         "yaxis": "y2"
        },
        {
         "alignmentgroup": "True",
         "hovertemplate": "Departamento=%{y}<br>value=%{x}<extra></extra>",
         "legendgroup": "0597:HEALTH AIDS",
         "marker": {
          "color": "#19d3f3",
          "pattern": {
           "shape": ""
          }
         },
         "name": "0597:HEALTH AIDS",
         "offsetgroup": "0597:HEALTH AIDS",
         "orientation": "h",
         "showlegend": true,
         "textposition": "auto",
         "type": "bar",
         "x": [
          342
         ],
         "xaxis": "x2",
         "y": [
          "0597:HEALTH AIDS"
         ],
         "yaxis": "y2"
        },
        {
         "alignmentgroup": "True",
         "hovertemplate": "Departamento=%{y}<br>value=%{x}<extra></extra>",
         "legendgroup": "0646:SEASONAL",
         "marker": {
          "color": "#FF6692",
          "pattern": {
           "shape": ""
          }
         },
         "name": "0646:SEASONAL",
         "offsetgroup": "0646:SEASONAL",
         "orientation": "h",
         "showlegend": true,
         "textposition": "auto",
         "type": "bar",
         "x": [
          326
         ],
         "xaxis": "x2",
         "y": [
          "0646:SEASONAL"
         ],
         "yaxis": "y2"
        },
        {
         "alignmentgroup": "True",
         "hovertemplate": "Departamento=%{y}<br>value=%{x}<extra></extra>",
         "legendgroup": "0991:TOBACCO",
         "marker": {
          "color": "#B6E880",
          "pattern": {
           "shape": ""
          }
         },
         "name": "0991:TOBACCO",
         "offsetgroup": "0991:TOBACCO",
         "orientation": "h",
         "showlegend": true,
         "textposition": "auto",
         "type": "bar",
         "x": [
          313
         ],
         "xaxis": "x2",
         "y": [
          "0991:TOBACCO"
         ],
         "yaxis": "y2"
        },
        {
         "alignmentgroup": "True",
         "hovertemplate": "Departamento=%{y}<br>value=%{x}<extra></extra>",
         "legendgroup": "0604:PERSONAL CARE",
         "marker": {
          "color": "#FF97FF",
          "pattern": {
           "shape": ""
          }
         },
         "name": "0604:PERSONAL CARE",
         "offsetgroup": "0604:PERSONAL CARE",
         "orientation": "h",
         "showlegend": true,
         "textposition": "auto",
         "type": "bar",
         "x": [
          292
         ],
         "xaxis": "x2",
         "y": [
          "0604:PERSONAL CARE"
         ],
         "yaxis": "y2"
        },
        {
         "alignmentgroup": "True",
         "hovertemplate": "Departamento=%{y}<br>value=%{x}<extra></extra>",
         "legendgroup": "0879:PET SUPPLIES",
         "marker": {
          "color": "#FECB52",
          "pattern": {
           "shape": ""
          }
         },
         "name": "0879:PET SUPPLIES",
         "offsetgroup": "0879:PET SUPPLIES",
         "orientation": "h",
         "showlegend": true,
         "textposition": "auto",
         "type": "bar",
         "x": [
          243
         ],
         "xaxis": "x2",
         "y": [
          "0879:PET SUPPLIES"
         ],
         "yaxis": "y2"
        }
       ],
       "layout": {
        "annotations": [
         {
          "font": {
           "size": 16
          },
          "showarrow": false,
          "text": "Volume de Transações",
          "x": 0.225,
          "xanchor": "center",
          "xref": "paper",
          "y": 1,
          "yanchor": "bottom",
          "yref": "paper"
         },
         {
          "font": {
           "size": 16
          },
          "showarrow": false,
          "text": "Unidades Vendidas",
          "x": 0.775,
          "xanchor": "center",
          "xref": "paper",
          "y": 1,
          "yanchor": "bottom",
          "yref": "paper"
         }
        ],
        "height": 800,
        "showlegend": false,
        "template": {
         "data": {
          "bar": [
           {
            "error_x": {
             "color": "#2a3f5f"
            },
            "error_y": {
             "color": "#2a3f5f"
            },
            "marker": {
             "line": {
              "color": "#E5ECF6",
              "width": 0.5
             },
             "pattern": {
              "fillmode": "overlay",
              "size": 10,
              "solidity": 0.2
             }
            },
            "type": "bar"
           }
          ],
          "barpolar": [
           {
            "marker": {
             "line": {
              "color": "#E5ECF6",
              "width": 0.5
             },
             "pattern": {
              "fillmode": "overlay",
              "size": 10,
              "solidity": 0.2
             }
            },
            "type": "barpolar"
           }
          ],
          "carpet": [
           {
            "aaxis": {
             "endlinecolor": "#2a3f5f",
             "gridcolor": "white",
             "linecolor": "white",
             "minorgridcolor": "white",
             "startlinecolor": "#2a3f5f"
            },
            "baxis": {
             "endlinecolor": "#2a3f5f",
             "gridcolor": "white",
             "linecolor": "white",
             "minorgridcolor": "white",
             "startlinecolor": "#2a3f5f"
            },
            "type": "carpet"
           }
          ],
          "choropleth": [
           {
            "colorbar": {
             "outlinewidth": 0,
             "ticks": ""
            },
            "type": "choropleth"
           }
          ],
          "contour": [
           {
            "colorbar": {
             "outlinewidth": 0,
             "ticks": ""
            },
            "colorscale": [
             [
              0,
              "#0d0887"
             ],
             [
              0.1111111111111111,
              "#46039f"
             ],
             [
              0.2222222222222222,
              "#7201a8"
             ],
             [
              0.3333333333333333,
              "#9c179e"
             ],
             [
              0.4444444444444444,
              "#bd3786"
             ],
             [
              0.5555555555555556,
              "#d8576b"
             ],
             [
              0.6666666666666666,
              "#ed7953"
             ],
             [
              0.7777777777777778,
              "#fb9f3a"
             ],
             [
              0.8888888888888888,
              "#fdca26"
             ],
             [
              1,
              "#f0f921"
             ]
            ],
            "type": "contour"
           }
          ],
          "contourcarpet": [
           {
            "colorbar": {
             "outlinewidth": 0,
             "ticks": ""
            },
            "type": "contourcarpet"
           }
          ],
          "heatmap": [
           {
            "colorbar": {
             "outlinewidth": 0,
             "ticks": ""
            },
            "colorscale": [
             [
              0,
              "#0d0887"
             ],
             [
              0.1111111111111111,
              "#46039f"
             ],
             [
              0.2222222222222222,
              "#7201a8"
             ],
             [
              0.3333333333333333,
              "#9c179e"
             ],
             [
              0.4444444444444444,
              "#bd3786"
             ],
             [
              0.5555555555555556,
              "#d8576b"
             ],
             [
              0.6666666666666666,
              "#ed7953"
             ],
             [
              0.7777777777777778,
              "#fb9f3a"
             ],
             [
              0.8888888888888888,
              "#fdca26"
             ],
             [
              1,
              "#f0f921"
             ]
            ],
            "type": "heatmap"
           }
          ],
          "heatmapgl": [
           {
            "colorbar": {
             "outlinewidth": 0,
             "ticks": ""
            },
            "colorscale": [
             [
              0,
              "#0d0887"
             ],
             [
              0.1111111111111111,
              "#46039f"
             ],
             [
              0.2222222222222222,
              "#7201a8"
             ],
             [
              0.3333333333333333,
              "#9c179e"
             ],
             [
              0.4444444444444444,
              "#bd3786"
             ],
             [
              0.5555555555555556,
              "#d8576b"
             ],
             [
              0.6666666666666666,
              "#ed7953"
             ],
             [
              0.7777777777777778,
              "#fb9f3a"
             ],
             [
              0.8888888888888888,
              "#fdca26"
             ],
             [
              1,
              "#f0f921"
             ]
            ],
            "type": "heatmapgl"
           }
          ],
          "histogram": [
           {
            "marker": {
             "pattern": {
              "fillmode": "overlay",
              "size": 10,
              "solidity": 0.2
             }
            },
            "type": "histogram"
           }
          ],
          "histogram2d": [
           {
            "colorbar": {
             "outlinewidth": 0,
             "ticks": ""
            },
            "colorscale": [
             [
              0,
              "#0d0887"
             ],
             [
              0.1111111111111111,
              "#46039f"
             ],
             [
              0.2222222222222222,
              "#7201a8"
             ],
             [
              0.3333333333333333,
              "#9c179e"
             ],
             [
              0.4444444444444444,
              "#bd3786"
             ],
             [
              0.5555555555555556,
              "#d8576b"
             ],
             [
              0.6666666666666666,
              "#ed7953"
             ],
             [
              0.7777777777777778,
              "#fb9f3a"
             ],
             [
              0.8888888888888888,
              "#fdca26"
             ],
             [
              1,
              "#f0f921"
             ]
            ],
            "type": "histogram2d"
           }
          ],
          "histogram2dcontour": [
           {
            "colorbar": {
             "outlinewidth": 0,
             "ticks": ""
            },
            "colorscale": [
             [
              0,
              "#0d0887"
             ],
             [
              0.1111111111111111,
              "#46039f"
             ],
             [
              0.2222222222222222,
              "#7201a8"
             ],
             [
              0.3333333333333333,
              "#9c179e"
             ],
             [
              0.4444444444444444,
              "#bd3786"
             ],
             [
              0.5555555555555556,
              "#d8576b"
             ],
             [
              0.6666666666666666,
              "#ed7953"
             ],
             [
              0.7777777777777778,
              "#fb9f3a"
             ],
             [
              0.8888888888888888,
              "#fdca26"
             ],
             [
              1,
              "#f0f921"
             ]
            ],
            "type": "histogram2dcontour"
           }
          ],
          "mesh3d": [
           {
            "colorbar": {
             "outlinewidth": 0,
             "ticks": ""
            },
            "type": "mesh3d"
           }
          ],
          "parcoords": [
           {
            "line": {
             "colorbar": {
              "outlinewidth": 0,
              "ticks": ""
             }
            },
            "type": "parcoords"
           }
          ],
          "pie": [
           {
            "automargin": true,
            "type": "pie"
           }
          ],
          "scatter": [
           {
            "fillpattern": {
             "fillmode": "overlay",
             "size": 10,
             "solidity": 0.2
            },
            "type": "scatter"
           }
          ],
          "scatter3d": [
           {
            "line": {
             "colorbar": {
              "outlinewidth": 0,
              "ticks": ""
             }
            },
            "marker": {
             "colorbar": {
              "outlinewidth": 0,
              "ticks": ""
             }
            },
            "type": "scatter3d"
           }
          ],
          "scattercarpet": [
           {
            "marker": {
             "colorbar": {
              "outlinewidth": 0,
              "ticks": ""
             }
            },
            "type": "scattercarpet"
           }
          ],
          "scattergeo": [
           {
            "marker": {
             "colorbar": {
              "outlinewidth": 0,
              "ticks": ""
             }
            },
            "type": "scattergeo"
           }
          ],
          "scattergl": [
           {
            "marker": {
             "colorbar": {
              "outlinewidth": 0,
              "ticks": ""
             }
            },
            "type": "scattergl"
           }
          ],
          "scattermapbox": [
           {
            "marker": {
             "colorbar": {
              "outlinewidth": 0,
              "ticks": ""
             }
            },
            "type": "scattermapbox"
           }
          ],
          "scatterpolar": [
           {
            "marker": {
             "colorbar": {
              "outlinewidth": 0,
              "ticks": ""
             }
            },
            "type": "scatterpolar"
           }
          ],
          "scatterpolargl": [
           {
            "marker": {
             "colorbar": {
              "outlinewidth": 0,
              "ticks": ""
             }
            },
            "type": "scatterpolargl"
           }
          ],
          "scatterternary": [
           {
            "marker": {
             "colorbar": {
              "outlinewidth": 0,
              "ticks": ""
             }
            },
            "type": "scatterternary"
           }
          ],
          "surface": [
           {
            "colorbar": {
             "outlinewidth": 0,
             "ticks": ""
            },
            "colorscale": [
             [
              0,
              "#0d0887"
             ],
             [
              0.1111111111111111,
              "#46039f"
             ],
             [
              0.2222222222222222,
              "#7201a8"
             ],
             [
              0.3333333333333333,
              "#9c179e"
             ],
             [
              0.4444444444444444,
              "#bd3786"
             ],
             [
              0.5555555555555556,
              "#d8576b"
             ],
             [
              0.6666666666666666,
              "#ed7953"
             ],
             [
              0.7777777777777778,
              "#fb9f3a"
             ],
             [
              0.8888888888888888,
              "#fdca26"
             ],
             [
              1,
              "#f0f921"
             ]
            ],
            "type": "surface"
           }
          ],
          "table": [
           {
            "cells": {
             "fill": {
              "color": "#EBF0F8"
             },
             "line": {
              "color": "white"
             }
            },
            "header": {
             "fill": {
              "color": "#C8D4E3"
             },
             "line": {
              "color": "white"
             }
            },
            "type": "table"
           }
          ]
         },
         "layout": {
          "annotationdefaults": {
           "arrowcolor": "#2a3f5f",
           "arrowhead": 0,
           "arrowwidth": 1
          },
          "autotypenumbers": "strict",
          "coloraxis": {
           "colorbar": {
            "outlinewidth": 0,
            "ticks": ""
           }
          },
          "colorscale": {
           "diverging": [
            [
             0,
             "#8e0152"
            ],
            [
             0.1,
             "#c51b7d"
            ],
            [
             0.2,
             "#de77ae"
            ],
            [
             0.3,
             "#f1b6da"
            ],
            [
             0.4,
             "#fde0ef"
            ],
            [
             0.5,
             "#f7f7f7"
            ],
            [
             0.6,
             "#e6f5d0"
            ],
            [
             0.7,
             "#b8e186"
            ],
            [
             0.8,
             "#7fbc41"
            ],
            [
             0.9,
             "#4d9221"
            ],
            [
             1,
             "#276419"
            ]
           ],
           "sequential": [
            [
             0,
             "#0d0887"
            ],
            [
             0.1111111111111111,
             "#46039f"
            ],
            [
             0.2222222222222222,
             "#7201a8"
            ],
            [
             0.3333333333333333,
             "#9c179e"
            ],
            [
             0.4444444444444444,
             "#bd3786"
            ],
            [
             0.5555555555555556,
             "#d8576b"
            ],
            [
             0.6666666666666666,
             "#ed7953"
            ],
            [
             0.7777777777777778,
             "#fb9f3a"
            ],
            [
             0.8888888888888888,
             "#fdca26"
            ],
            [
             1,
             "#f0f921"
            ]
           ],
           "sequentialminus": [
            [
             0,
             "#0d0887"
            ],
            [
             0.1111111111111111,
             "#46039f"
            ],
            [
             0.2222222222222222,
             "#7201a8"
            ],
            [
             0.3333333333333333,
             "#9c179e"
            ],
            [
             0.4444444444444444,
             "#bd3786"
            ],
            [
             0.5555555555555556,
             "#d8576b"
            ],
            [
             0.6666666666666666,
             "#ed7953"
            ],
            [
             0.7777777777777778,
             "#fb9f3a"
            ],
            [
             0.8888888888888888,
             "#fdca26"
            ],
            [
             1,
             "#f0f921"
            ]
           ]
          },
          "colorway": [
           "#636efa",
           "#EF553B",
           "#00cc96",
           "#ab63fa",
           "#FFA15A",
           "#19d3f3",
           "#FF6692",
           "#B6E880",
           "#FF97FF",
           "#FECB52"
          ],
          "font": {
           "color": "#2a3f5f"
          },
          "geo": {
           "bgcolor": "white",
           "lakecolor": "white",
           "landcolor": "#E5ECF6",
           "showlakes": true,
           "showland": true,
           "subunitcolor": "white"
          },
          "hoverlabel": {
           "align": "left"
          },
          "hovermode": "closest",
          "mapbox": {
           "style": "light"
          },
          "paper_bgcolor": "white",
          "plot_bgcolor": "#E5ECF6",
          "polar": {
           "angularaxis": {
            "gridcolor": "white",
            "linecolor": "white",
            "ticks": ""
           },
           "bgcolor": "#E5ECF6",
           "radialaxis": {
            "gridcolor": "white",
            "linecolor": "white",
            "ticks": ""
           }
          },
          "scene": {
           "xaxis": {
            "backgroundcolor": "#E5ECF6",
            "gridcolor": "white",
            "gridwidth": 2,
            "linecolor": "white",
            "showbackground": true,
            "ticks": "",
            "zerolinecolor": "white"
           },
           "yaxis": {
            "backgroundcolor": "#E5ECF6",
            "gridcolor": "white",
            "gridwidth": 2,
            "linecolor": "white",
            "showbackground": true,
            "ticks": "",
            "zerolinecolor": "white"
           },
           "zaxis": {
            "backgroundcolor": "#E5ECF6",
            "gridcolor": "white",
            "gridwidth": 2,
            "linecolor": "white",
            "showbackground": true,
            "ticks": "",
            "zerolinecolor": "white"
           }
          },
          "shapedefaults": {
           "line": {
            "color": "#2a3f5f"
           }
          },
          "ternary": {
           "aaxis": {
            "gridcolor": "white",
            "linecolor": "white",
            "ticks": ""
           },
           "baxis": {
            "gridcolor": "white",
            "linecolor": "white",
            "ticks": ""
           },
           "bgcolor": "#E5ECF6",
           "caxis": {
            "gridcolor": "white",
            "linecolor": "white",
            "ticks": ""
           }
          },
          "title": {
           "x": 0.05
          },
          "xaxis": {
           "automargin": true,
           "gridcolor": "white",
           "linecolor": "white",
           "ticks": "",
           "title": {
            "standoff": 15
           },
           "zerolinecolor": "white",
           "zerolinewidth": 2
          },
          "yaxis": {
           "automargin": true,
           "gridcolor": "white",
           "linecolor": "white",
           "ticks": "",
           "title": {
            "standoff": 15
           },
           "zerolinecolor": "white",
           "zerolinewidth": 2
          }
         }
        },
        "title": {
         "text": "Top10 Departamentos"
        },
        "width": 1000,
        "xaxis": {
         "anchor": "y",
         "domain": [
          0,
          0.45
         ]
        },
        "xaxis2": {
         "anchor": "y2",
         "domain": [
          0.55,
          1
         ]
        },
        "yaxis": {
         "anchor": "x",
         "domain": [
          0,
          1
         ]
        },
        "yaxis2": {
         "anchor": "x2",
         "domain": [
          0,
          1
         ]
        }
       }
      }
     },
     "metadata": {},
     "output_type": "display_data"
    }
   ],
   "source": [
    "# Unificar dois gráficos (Top10), para mostrar lado a lado\n",
    "\n",
    "# Criar subplots\n",
    "fig_pergunta_1 = make_subplots(rows=1, cols=2, subplot_titles=('Volume de Transações', 'Unidades Vendidas'))\n",
    "\n",
    "# Adicionar os gráficos aos subplots\n",
    "for trace in fig_volume_transacoes_top10['data']:\n",
    "    fig_pergunta_1.add_trace(trace, row=1, col=1)\n",
    "\n",
    "for trace in fig_unidades_vendidas_top10['data']:\n",
    "    fig_pergunta_1.add_trace(trace, row=1, col=2)\n",
    "\n",
    "# Atualizar layout\n",
    "fig_pergunta_1.update_layout(height=800, width=1000, title_text='Top10 Departamentos', showlegend=False)\n",
    "\n",
    "# Mostrar o gráfico\n",
    "fig_pergunta_1.show()"
   ]
  },
  {
   "cell_type": "code",
   "execution_count": 26,
   "metadata": {},
   "outputs": [
    {
     "data": {
      "application/vnd.plotly.v1+json": {
       "config": {
        "plotlyServerURL": "https://plot.ly"
       },
       "data": [
        {
         "alignmentgroup": "True",
         "hovertemplate": "Departamento=%{y}<br>value=%{x}<extra></extra>",
         "legendgroup": "0533:PAPYRUS",
         "marker": {
          "color": "#636efa",
          "pattern": {
           "shape": ""
          }
         },
         "name": "0533:PAPYRUS",
         "offsetgroup": "0533:PAPYRUS",
         "orientation": "h",
         "showlegend": true,
         "textposition": "auto",
         "type": "bar",
         "x": [
          4.041451884327381
         ],
         "xaxis": "x",
         "y": [
          "0533:PAPYRUS"
         ],
         "yaxis": "y"
        },
        {
         "alignmentgroup": "True",
         "hovertemplate": "Departamento=%{y}<br>value=%{x}<extra></extra>",
         "legendgroup": "0646:SEASONAL",
         "marker": {
          "color": "#EF553B",
          "pattern": {
           "shape": ""
          }
         },
         "name": "0646:SEASONAL",
         "offsetgroup": "0646:SEASONAL",
         "orientation": "h",
         "showlegend": true,
         "textposition": "auto",
         "type": "bar",
         "x": [
          3.6319588884717278
         ],
         "xaxis": "x",
         "y": [
          "0646:SEASONAL"
         ],
         "yaxis": "y"
        },
        {
         "alignmentgroup": "True",
         "hovertemplate": "Departamento=%{y}<br>value=%{x}<extra></extra>",
         "legendgroup": "0983:WINE",
         "marker": {
          "color": "#00cc96",
          "pattern": {
           "shape": ""
          }
         },
         "name": "0983:WINE",
         "offsetgroup": "0983:WINE",
         "orientation": "h",
         "showlegend": true,
         "textposition": "auto",
         "type": "bar",
         "x": [
          3.4507038990229844
         ],
         "xaxis": "x",
         "y": [
          "0983:WINE"
         ],
         "yaxis": "y"
        },
        {
         "alignmentgroup": "True",
         "hovertemplate": "Departamento=%{y}<br>value=%{x}<extra></extra>",
         "legendgroup": "0440:GIRLS 7-16 CLOTHING",
         "marker": {
          "color": "#ab63fa",
          "pattern": {
           "shape": ""
          }
         },
         "name": "0440:GIRLS 7-16 CLOTHING",
         "offsetgroup": "0440:GIRLS 7-16 CLOTHING",
         "orientation": "h",
         "showlegend": true,
         "textposition": "auto",
         "type": "bar",
         "x": [
          3.3349995835415362
         ],
         "xaxis": "x",
         "y": [
          "0440:GIRLS 7-16 CLOTHING"
         ],
         "yaxis": "y"
        },
        {
         "alignmentgroup": "True",
         "hovertemplate": "Departamento=%{y}<br>value=%{x}<extra></extra>",
         "legendgroup": "0644:SPORTS NUTRITION",
         "marker": {
          "color": "#FFA15A",
          "pattern": {
           "shape": ""
          }
         },
         "name": "0644:SPORTS NUTRITION",
         "offsetgroup": "0644:SPORTS NUTRITION",
         "orientation": "h",
         "showlegend": true,
         "textposition": "auto",
         "type": "bar",
         "x": [
          2.9514591494904874
         ],
         "xaxis": "x",
         "y": [
          "0644:SPORTS NUTRITION"
         ],
         "yaxis": "y"
        },
        {
         "alignmentgroup": "True",
         "hovertemplate": "Departamento=%{y}<br>value=%{x}<extra></extra>",
         "legendgroup": "0879:PET SUPPLIES",
         "marker": {
          "color": "#19d3f3",
          "pattern": {
           "shape": ""
          }
         },
         "name": "0879:PET SUPPLIES",
         "offsetgroup": "0879:PET SUPPLIES",
         "orientation": "h",
         "showlegend": true,
         "textposition": "auto",
         "type": "bar",
         "x": [
          2.7574561386240846
         ],
         "xaxis": "x",
         "y": [
          "0879:PET SUPPLIES"
         ],
         "yaxis": "y"
        },
        {
         "alignmentgroup": "True",
         "hovertemplate": "Departamento=%{y}<br>value=%{x}<extra></extra>",
         "legendgroup": "0210:FOUNDATIONS",
         "marker": {
          "color": "#FF6692",
          "pattern": {
           "shape": ""
          }
         },
         "name": "0210:FOUNDATIONS",
         "offsetgroup": "0210:FOUNDATIONS",
         "orientation": "h",
         "showlegend": true,
         "textposition": "auto",
         "type": "bar",
         "x": [
          2.753785273643051
         ],
         "xaxis": "x",
         "y": [
          "0210:FOUNDATIONS"
         ],
         "yaxis": "y"
        },
        {
         "alignmentgroup": "True",
         "hovertemplate": "Departamento=%{y}<br>value=%{x}<extra></extra>",
         "legendgroup": "0973:CANDY",
         "marker": {
          "color": "#B6E880",
          "pattern": {
           "shape": ""
          }
         },
         "name": "0973:CANDY",
         "offsetgroup": "0973:CANDY",
         "orientation": "h",
         "showlegend": true,
         "textposition": "auto",
         "type": "bar",
         "x": [
          2.552004559699546
         ],
         "xaxis": "x",
         "y": [
          "0973:CANDY"
         ],
         "yaxis": "y"
        },
        {
         "alignmentgroup": "True",
         "hovertemplate": "Departamento=%{y}<br>value=%{x}<extra></extra>",
         "legendgroup": "0530:SCHOOL/OFFIC SUPP",
         "marker": {
          "color": "#FF97FF",
          "pattern": {
           "shape": ""
          }
         },
         "name": "0530:SCHOOL/OFFIC SUPP",
         "offsetgroup": "0530:SCHOOL/OFFIC SUPP",
         "orientation": "h",
         "showlegend": true,
         "textposition": "auto",
         "type": "bar",
         "x": [
          2.5161308329755463
         ],
         "xaxis": "x",
         "y": [
          "0530:SCHOOL/OFFIC SUPP"
         ],
         "yaxis": "y"
        },
        {
         "alignmentgroup": "True",
         "hovertemplate": "Departamento=%{y}<br>value=%{x}<extra></extra>",
         "legendgroup": "0930:TABLE TOP & KITCHEN",
         "marker": {
          "color": "#FECB52",
          "pattern": {
           "shape": ""
          }
         },
         "name": "0930:TABLE TOP & KITCHEN",
         "offsetgroup": "0930:TABLE TOP & KITCHEN",
         "orientation": "h",
         "showlegend": true,
         "textposition": "auto",
         "type": "bar",
         "x": [
          2.436369724794953
         ],
         "xaxis": "x",
         "y": [
          "0930:TABLE TOP & KITCHEN"
         ],
         "yaxis": "y"
        },
        {
         "alignmentgroup": "True",
         "hovertemplate": "Departamento=%{y}<br>value=%{x}<extra></extra>",
         "legendgroup": "0012:LOCAL GIFTS/FOODS",
         "marker": {
          "color": "#636efa",
          "pattern": {
           "shape": ""
          }
         },
         "name": "0012:LOCAL GIFTS/FOODS",
         "offsetgroup": "0012:LOCAL GIFTS/FOODS",
         "orientation": "h",
         "showlegend": true,
         "textposition": "auto",
         "type": "bar",
         "x": [
          2.3804761428476167
         ],
         "xaxis": "x",
         "y": [
          "0012:LOCAL GIFTS/FOODS"
         ],
         "yaxis": "y"
        },
        {
         "alignmentgroup": "True",
         "hovertemplate": "Departamento=%{y}<br>value=%{x}<extra></extra>",
         "legendgroup": "0795:HOME DECOR",
         "marker": {
          "color": "#EF553B",
          "pattern": {
           "shape": ""
          }
         },
         "name": "0795:HOME DECOR",
         "offsetgroup": "0795:HOME DECOR",
         "orientation": "h",
         "showlegend": true,
         "textposition": "auto",
         "type": "bar",
         "x": [
          2.2360679774997894
         ],
         "xaxis": "x",
         "y": [
          "0795:HOME DECOR"
         ],
         "yaxis": "y"
        },
        {
         "alignmentgroup": "True",
         "hovertemplate": "Departamento=%{y}<br>value=%{x}<extra></extra>",
         "legendgroup": "0230:DAYWEAR",
         "marker": {
          "color": "#00cc96",
          "pattern": {
           "shape": ""
          }
         },
         "name": "0230:DAYWEAR",
         "offsetgroup": "0230:DAYWEAR",
         "orientation": "h",
         "showlegend": true,
         "textposition": "auto",
         "type": "bar",
         "x": [
          2.2211108331943574
         ],
         "xaxis": "x",
         "y": [
          "0230:DAYWEAR"
         ],
         "yaxis": "y"
        },
        {
         "alignmentgroup": "True",
         "hovertemplate": "Departamento=%{y}<br>value=%{x}<extra></extra>",
         "legendgroup": "0640:TOYS",
         "marker": {
          "color": "#ab63fa",
          "pattern": {
           "shape": ""
          }
         },
         "name": "0640:TOYS",
         "offsetgroup": "0640:TOYS",
         "orientation": "h",
         "showlegend": true,
         "textposition": "auto",
         "type": "bar",
         "x": [
          2.149798738343805
         ],
         "xaxis": "x",
         "y": [
          "0640:TOYS"
         ],
         "yaxis": "y"
        },
        {
         "alignmentgroup": "True",
         "hovertemplate": "Departamento=%{y}<br>value=%{x}<extra></extra>",
         "legendgroup": "0165:LIFE IS GOOD",
         "marker": {
          "color": "#FFA15A",
          "pattern": {
           "shape": ""
          }
         },
         "name": "0165:LIFE IS GOOD",
         "offsetgroup": "0165:LIFE IS GOOD",
         "orientation": "h",
         "showlegend": true,
         "textposition": "auto",
         "type": "bar",
         "x": [
          2.1213203435596424
         ],
         "xaxis": "x",
         "y": [
          "0165:LIFE IS GOOD"
         ],
         "yaxis": "y"
        },
        {
         "alignmentgroup": "True",
         "hovertemplate": "Departamento=%{y}<br>value=%{x}<extra></extra>",
         "legendgroup": "0598:BABY CARE",
         "marker": {
          "color": "#19d3f3",
          "pattern": {
           "shape": ""
          }
         },
         "name": "0598:BABY CARE",
         "offsetgroup": "0598:BABY CARE",
         "orientation": "h",
         "showlegend": true,
         "textposition": "auto",
         "type": "bar",
         "x": [
          2.111001654603745
         ],
         "xaxis": "x",
         "y": [
          "0598:BABY CARE"
         ],
         "yaxis": "y"
        },
        {
         "alignmentgroup": "True",
         "hovertemplate": "Departamento=%{y}<br>value=%{x}<extra></extra>",
         "legendgroup": "0531:STATIONERY SUNDRIES",
         "marker": {
          "color": "#FF6692",
          "pattern": {
           "shape": ""
          }
         },
         "name": "0531:STATIONERY SUNDRIES",
         "offsetgroup": "0531:STATIONERY SUNDRIES",
         "orientation": "h",
         "showlegend": true,
         "textposition": "auto",
         "type": "bar",
         "x": [
          2.064741604835056
         ],
         "xaxis": "x",
         "y": [
          "0531:STATIONERY SUNDRIES"
         ],
         "yaxis": "y"
        },
        {
         "alignmentgroup": "True",
         "hovertemplate": "Departamento=%{y}<br>value=%{x}<extra></extra>",
         "legendgroup": "0240:SLEEPWEAR/LOUNGEWEAR",
         "marker": {
          "color": "#B6E880",
          "pattern": {
           "shape": ""
          }
         },
         "name": "0240:SLEEPWEAR/LOUNGEWEAR",
         "offsetgroup": "0240:SLEEPWEAR/LOUNGEWEAR",
         "orientation": "h",
         "showlegend": true,
         "textposition": "auto",
         "type": "bar",
         "x": [
          2.0575065816014617
         ],
         "xaxis": "x",
         "y": [
          "0240:SLEEPWEAR/LOUNGEWEAR"
         ],
         "yaxis": "y"
        },
        {
         "alignmentgroup": "True",
         "hovertemplate": "Departamento=%{y}<br>value=%{x}<extra></extra>",
         "legendgroup": "0836:HOUSEHOLD CLEANING",
         "marker": {
          "color": "#FF97FF",
          "pattern": {
           "shape": ""
          }
         },
         "name": "0836:HOUSEHOLD CLEANING",
         "offsetgroup": "0836:HOUSEHOLD CLEANING",
         "orientation": "h",
         "showlegend": true,
         "textposition": "auto",
         "type": "bar",
         "x": [
          2.0219408447056098
         ],
         "xaxis": "x",
         "y": [
          "0836:HOUSEHOLD CLEANING"
         ],
         "yaxis": "y"
        },
        {
         "alignmentgroup": "True",
         "hovertemplate": "Departamento=%{y}<br>value=%{x}<extra></extra>",
         "legendgroup": "0130:JUNIORS SURF",
         "marker": {
          "color": "#FECB52",
          "pattern": {
           "shape": ""
          }
         },
         "name": "0130:JUNIORS SURF",
         "offsetgroup": "0130:JUNIORS SURF",
         "orientation": "h",
         "showlegend": true,
         "textposition": "auto",
         "type": "bar",
         "x": [
          2
         ],
         "xaxis": "x",
         "y": [
          "0130:JUNIORS SURF"
         ],
         "yaxis": "y"
        }
       ],
       "layout": {
        "barmode": "relative",
        "legend": {
         "title": {
          "text": "Departamento"
         },
         "tracegroupgap": 0
        },
        "margin": {
         "t": 60
        },
        "showlegend": false,
        "template": {
         "data": {
          "bar": [
           {
            "error_x": {
             "color": "#2a3f5f"
            },
            "error_y": {
             "color": "#2a3f5f"
            },
            "marker": {
             "line": {
              "color": "#E5ECF6",
              "width": 0.5
             },
             "pattern": {
              "fillmode": "overlay",
              "size": 10,
              "solidity": 0.2
             }
            },
            "type": "bar"
           }
          ],
          "barpolar": [
           {
            "marker": {
             "line": {
              "color": "#E5ECF6",
              "width": 0.5
             },
             "pattern": {
              "fillmode": "overlay",
              "size": 10,
              "solidity": 0.2
             }
            },
            "type": "barpolar"
           }
          ],
          "carpet": [
           {
            "aaxis": {
             "endlinecolor": "#2a3f5f",
             "gridcolor": "white",
             "linecolor": "white",
             "minorgridcolor": "white",
             "startlinecolor": "#2a3f5f"
            },
            "baxis": {
             "endlinecolor": "#2a3f5f",
             "gridcolor": "white",
             "linecolor": "white",
             "minorgridcolor": "white",
             "startlinecolor": "#2a3f5f"
            },
            "type": "carpet"
           }
          ],
          "choropleth": [
           {
            "colorbar": {
             "outlinewidth": 0,
             "ticks": ""
            },
            "type": "choropleth"
           }
          ],
          "contour": [
           {
            "colorbar": {
             "outlinewidth": 0,
             "ticks": ""
            },
            "colorscale": [
             [
              0,
              "#0d0887"
             ],
             [
              0.1111111111111111,
              "#46039f"
             ],
             [
              0.2222222222222222,
              "#7201a8"
             ],
             [
              0.3333333333333333,
              "#9c179e"
             ],
             [
              0.4444444444444444,
              "#bd3786"
             ],
             [
              0.5555555555555556,
              "#d8576b"
             ],
             [
              0.6666666666666666,
              "#ed7953"
             ],
             [
              0.7777777777777778,
              "#fb9f3a"
             ],
             [
              0.8888888888888888,
              "#fdca26"
             ],
             [
              1,
              "#f0f921"
             ]
            ],
            "type": "contour"
           }
          ],
          "contourcarpet": [
           {
            "colorbar": {
             "outlinewidth": 0,
             "ticks": ""
            },
            "type": "contourcarpet"
           }
          ],
          "heatmap": [
           {
            "colorbar": {
             "outlinewidth": 0,
             "ticks": ""
            },
            "colorscale": [
             [
              0,
              "#0d0887"
             ],
             [
              0.1111111111111111,
              "#46039f"
             ],
             [
              0.2222222222222222,
              "#7201a8"
             ],
             [
              0.3333333333333333,
              "#9c179e"
             ],
             [
              0.4444444444444444,
              "#bd3786"
             ],
             [
              0.5555555555555556,
              "#d8576b"
             ],
             [
              0.6666666666666666,
              "#ed7953"
             ],
             [
              0.7777777777777778,
              "#fb9f3a"
             ],
             [
              0.8888888888888888,
              "#fdca26"
             ],
             [
              1,
              "#f0f921"
             ]
            ],
            "type": "heatmap"
           }
          ],
          "heatmapgl": [
           {
            "colorbar": {
             "outlinewidth": 0,
             "ticks": ""
            },
            "colorscale": [
             [
              0,
              "#0d0887"
             ],
             [
              0.1111111111111111,
              "#46039f"
             ],
             [
              0.2222222222222222,
              "#7201a8"
             ],
             [
              0.3333333333333333,
              "#9c179e"
             ],
             [
              0.4444444444444444,
              "#bd3786"
             ],
             [
              0.5555555555555556,
              "#d8576b"
             ],
             [
              0.6666666666666666,
              "#ed7953"
             ],
             [
              0.7777777777777778,
              "#fb9f3a"
             ],
             [
              0.8888888888888888,
              "#fdca26"
             ],
             [
              1,
              "#f0f921"
             ]
            ],
            "type": "heatmapgl"
           }
          ],
          "histogram": [
           {
            "marker": {
             "pattern": {
              "fillmode": "overlay",
              "size": 10,
              "solidity": 0.2
             }
            },
            "type": "histogram"
           }
          ],
          "histogram2d": [
           {
            "colorbar": {
             "outlinewidth": 0,
             "ticks": ""
            },
            "colorscale": [
             [
              0,
              "#0d0887"
             ],
             [
              0.1111111111111111,
              "#46039f"
             ],
             [
              0.2222222222222222,
              "#7201a8"
             ],
             [
              0.3333333333333333,
              "#9c179e"
             ],
             [
              0.4444444444444444,
              "#bd3786"
             ],
             [
              0.5555555555555556,
              "#d8576b"
             ],
             [
              0.6666666666666666,
              "#ed7953"
             ],
             [
              0.7777777777777778,
              "#fb9f3a"
             ],
             [
              0.8888888888888888,
              "#fdca26"
             ],
             [
              1,
              "#f0f921"
             ]
            ],
            "type": "histogram2d"
           }
          ],
          "histogram2dcontour": [
           {
            "colorbar": {
             "outlinewidth": 0,
             "ticks": ""
            },
            "colorscale": [
             [
              0,
              "#0d0887"
             ],
             [
              0.1111111111111111,
              "#46039f"
             ],
             [
              0.2222222222222222,
              "#7201a8"
             ],
             [
              0.3333333333333333,
              "#9c179e"
             ],
             [
              0.4444444444444444,
              "#bd3786"
             ],
             [
              0.5555555555555556,
              "#d8576b"
             ],
             [
              0.6666666666666666,
              "#ed7953"
             ],
             [
              0.7777777777777778,
              "#fb9f3a"
             ],
             [
              0.8888888888888888,
              "#fdca26"
             ],
             [
              1,
              "#f0f921"
             ]
            ],
            "type": "histogram2dcontour"
           }
          ],
          "mesh3d": [
           {
            "colorbar": {
             "outlinewidth": 0,
             "ticks": ""
            },
            "type": "mesh3d"
           }
          ],
          "parcoords": [
           {
            "line": {
             "colorbar": {
              "outlinewidth": 0,
              "ticks": ""
             }
            },
            "type": "parcoords"
           }
          ],
          "pie": [
           {
            "automargin": true,
            "type": "pie"
           }
          ],
          "scatter": [
           {
            "fillpattern": {
             "fillmode": "overlay",
             "size": 10,
             "solidity": 0.2
            },
            "type": "scatter"
           }
          ],
          "scatter3d": [
           {
            "line": {
             "colorbar": {
              "outlinewidth": 0,
              "ticks": ""
             }
            },
            "marker": {
             "colorbar": {
              "outlinewidth": 0,
              "ticks": ""
             }
            },
            "type": "scatter3d"
           }
          ],
          "scattercarpet": [
           {
            "marker": {
             "colorbar": {
              "outlinewidth": 0,
              "ticks": ""
             }
            },
            "type": "scattercarpet"
           }
          ],
          "scattergeo": [
           {
            "marker": {
             "colorbar": {
              "outlinewidth": 0,
              "ticks": ""
             }
            },
            "type": "scattergeo"
           }
          ],
          "scattergl": [
           {
            "marker": {
             "colorbar": {
              "outlinewidth": 0,
              "ticks": ""
             }
            },
            "type": "scattergl"
           }
          ],
          "scattermapbox": [
           {
            "marker": {
             "colorbar": {
              "outlinewidth": 0,
              "ticks": ""
             }
            },
            "type": "scattermapbox"
           }
          ],
          "scatterpolar": [
           {
            "marker": {
             "colorbar": {
              "outlinewidth": 0,
              "ticks": ""
             }
            },
            "type": "scatterpolar"
           }
          ],
          "scatterpolargl": [
           {
            "marker": {
             "colorbar": {
              "outlinewidth": 0,
              "ticks": ""
             }
            },
            "type": "scatterpolargl"
           }
          ],
          "scatterternary": [
           {
            "marker": {
             "colorbar": {
              "outlinewidth": 0,
              "ticks": ""
             }
            },
            "type": "scatterternary"
           }
          ],
          "surface": [
           {
            "colorbar": {
             "outlinewidth": 0,
             "ticks": ""
            },
            "colorscale": [
             [
              0,
              "#0d0887"
             ],
             [
              0.1111111111111111,
              "#46039f"
             ],
             [
              0.2222222222222222,
              "#7201a8"
             ],
             [
              0.3333333333333333,
              "#9c179e"
             ],
             [
              0.4444444444444444,
              "#bd3786"
             ],
             [
              0.5555555555555556,
              "#d8576b"
             ],
             [
              0.6666666666666666,
              "#ed7953"
             ],
             [
              0.7777777777777778,
              "#fb9f3a"
             ],
             [
              0.8888888888888888,
              "#fdca26"
             ],
             [
              1,
              "#f0f921"
             ]
            ],
            "type": "surface"
           }
          ],
          "table": [
           {
            "cells": {
             "fill": {
              "color": "#EBF0F8"
             },
             "line": {
              "color": "white"
             }
            },
            "header": {
             "fill": {
              "color": "#C8D4E3"
             },
             "line": {
              "color": "white"
             }
            },
            "type": "table"
           }
          ]
         },
         "layout": {
          "annotationdefaults": {
           "arrowcolor": "#2a3f5f",
           "arrowhead": 0,
           "arrowwidth": 1
          },
          "autotypenumbers": "strict",
          "coloraxis": {
           "colorbar": {
            "outlinewidth": 0,
            "ticks": ""
           }
          },
          "colorscale": {
           "diverging": [
            [
             0,
             "#8e0152"
            ],
            [
             0.1,
             "#c51b7d"
            ],
            [
             0.2,
             "#de77ae"
            ],
            [
             0.3,
             "#f1b6da"
            ],
            [
             0.4,
             "#fde0ef"
            ],
            [
             0.5,
             "#f7f7f7"
            ],
            [
             0.6,
             "#e6f5d0"
            ],
            [
             0.7,
             "#b8e186"
            ],
            [
             0.8,
             "#7fbc41"
            ],
            [
             0.9,
             "#4d9221"
            ],
            [
             1,
             "#276419"
            ]
           ],
           "sequential": [
            [
             0,
             "#0d0887"
            ],
            [
             0.1111111111111111,
             "#46039f"
            ],
            [
             0.2222222222222222,
             "#7201a8"
            ],
            [
             0.3333333333333333,
             "#9c179e"
            ],
            [
             0.4444444444444444,
             "#bd3786"
            ],
            [
             0.5555555555555556,
             "#d8576b"
            ],
            [
             0.6666666666666666,
             "#ed7953"
            ],
            [
             0.7777777777777778,
             "#fb9f3a"
            ],
            [
             0.8888888888888888,
             "#fdca26"
            ],
            [
             1,
             "#f0f921"
            ]
           ],
           "sequentialminus": [
            [
             0,
             "#0d0887"
            ],
            [
             0.1111111111111111,
             "#46039f"
            ],
            [
             0.2222222222222222,
             "#7201a8"
            ],
            [
             0.3333333333333333,
             "#9c179e"
            ],
            [
             0.4444444444444444,
             "#bd3786"
            ],
            [
             0.5555555555555556,
             "#d8576b"
            ],
            [
             0.6666666666666666,
             "#ed7953"
            ],
            [
             0.7777777777777778,
             "#fb9f3a"
            ],
            [
             0.8888888888888888,
             "#fdca26"
            ],
            [
             1,
             "#f0f921"
            ]
           ]
          },
          "colorway": [
           "#636efa",
           "#EF553B",
           "#00cc96",
           "#ab63fa",
           "#FFA15A",
           "#19d3f3",
           "#FF6692",
           "#B6E880",
           "#FF97FF",
           "#FECB52"
          ],
          "font": {
           "color": "#2a3f5f"
          },
          "geo": {
           "bgcolor": "white",
           "lakecolor": "white",
           "landcolor": "#E5ECF6",
           "showlakes": true,
           "showland": true,
           "subunitcolor": "white"
          },
          "hoverlabel": {
           "align": "left"
          },
          "hovermode": "closest",
          "mapbox": {
           "style": "light"
          },
          "paper_bgcolor": "white",
          "plot_bgcolor": "#E5ECF6",
          "polar": {
           "angularaxis": {
            "gridcolor": "white",
            "linecolor": "white",
            "ticks": ""
           },
           "bgcolor": "#E5ECF6",
           "radialaxis": {
            "gridcolor": "white",
            "linecolor": "white",
            "ticks": ""
           }
          },
          "scene": {
           "xaxis": {
            "backgroundcolor": "#E5ECF6",
            "gridcolor": "white",
            "gridwidth": 2,
            "linecolor": "white",
            "showbackground": true,
            "ticks": "",
            "zerolinecolor": "white"
           },
           "yaxis": {
            "backgroundcolor": "#E5ECF6",
            "gridcolor": "white",
            "gridwidth": 2,
            "linecolor": "white",
            "showbackground": true,
            "ticks": "",
            "zerolinecolor": "white"
           },
           "zaxis": {
            "backgroundcolor": "#E5ECF6",
            "gridcolor": "white",
            "gridwidth": 2,
            "linecolor": "white",
            "showbackground": true,
            "ticks": "",
            "zerolinecolor": "white"
           }
          },
          "shapedefaults": {
           "line": {
            "color": "#2a3f5f"
           }
          },
          "ternary": {
           "aaxis": {
            "gridcolor": "white",
            "linecolor": "white",
            "ticks": ""
           },
           "baxis": {
            "gridcolor": "white",
            "linecolor": "white",
            "ticks": ""
           },
           "bgcolor": "#E5ECF6",
           "caxis": {
            "gridcolor": "white",
            "linecolor": "white",
            "ticks": ""
           }
          },
          "title": {
           "x": 0.05
          },
          "xaxis": {
           "automargin": true,
           "gridcolor": "white",
           "linecolor": "white",
           "ticks": "",
           "title": {
            "standoff": 15
           },
           "zerolinecolor": "white",
           "zerolinewidth": 2
          },
          "yaxis": {
           "automargin": true,
           "gridcolor": "white",
           "linecolor": "white",
           "ticks": "",
           "title": {
            "standoff": 15
           },
           "zerolinecolor": "white",
           "zerolinewidth": 2
          }
         }
        },
        "xaxis": {
         "anchor": "y",
         "domain": [
          0,
          1
         ],
         "title": {
          "text": "value"
         }
        },
        "yaxis": {
         "anchor": "x",
         "categoryarray": [
          "0130:JUNIORS SURF",
          "0836:HOUSEHOLD CLEANING",
          "0240:SLEEPWEAR/LOUNGEWEAR",
          "0531:STATIONERY SUNDRIES",
          "0598:BABY CARE",
          "0165:LIFE IS GOOD",
          "0640:TOYS",
          "0230:DAYWEAR",
          "0795:HOME DECOR",
          "0012:LOCAL GIFTS/FOODS",
          "0930:TABLE TOP & KITCHEN",
          "0530:SCHOOL/OFFIC SUPP",
          "0973:CANDY",
          "0210:FOUNDATIONS",
          "0879:PET SUPPLIES",
          "0644:SPORTS NUTRITION",
          "0440:GIRLS 7-16 CLOTHING",
          "0983:WINE",
          "0646:SEASONAL",
          "0533:PAPYRUS"
         ],
         "categoryorder": "array",
         "domain": [
          0,
          1
         ],
         "title": {
          "text": "Departamento"
         }
        }
       }
      }
     },
     "metadata": {},
     "output_type": "display_data"
    }
   ],
   "source": [
    "# Quais departamentos têm a maior variação nas unidades vendidas por transação? Top 20\n",
    "\n",
    "# Calcular o desvio padrão das quantidades vendidas, agrupando por departamento\n",
    "desvio_padrao_quantidades_por_departamento_top20 = df_transacoes.groupby('Departamento')['Qtde_Vendida'].std().sort_values(ascending=False).head(20)\n",
    "\n",
    "# Plot\n",
    "fig_variacao_unidades_vendidas_top20 = px.bar(desvio_padrao_quantidades_por_departamento_top20, color=desvio_padrao_quantidades_por_departamento_top20.index, orientation='h')\n",
    "fig_variacao_unidades_vendidas_top20.update_layout(showlegend=False)\n",
    "fig_variacao_unidades_vendidas_top20.show()\n"
   ]
  },
  {
   "cell_type": "code",
   "execution_count": 27,
   "metadata": {},
   "outputs": [
    {
     "data": {
      "application/vnd.plotly.v1+json": {
       "config": {
        "plotlyServerURL": "https://plot.ly"
       },
       "data": [
        {
         "alignmentgroup": "True",
         "hovertemplate": "Departamento=%{x}<br>Qtde_Vendida=%{y}<extra></extra>",
         "legendgroup": "",
         "marker": {
          "color": "#636efa"
         },
         "name": "",
         "notched": false,
         "offsetgroup": "",
         "orientation": "v",
         "showlegend": false,
         "type": "box",
         "x": [
          "0261:HOSIERY",
          "0634:VITAMINS & HLTH AIDS",
          "0879:PET SUPPLIES",
          "0973:CANDY",
          "0982:SPIRITS",
          "0983:WINE",
          "0991:TOBACCO",
          "0597:HEALTH AIDS",
          "0604:PERSONAL CARE",
          "0819:PRE-RECORDED A/V",
          "0826:SMALL ELECTRICS",
          "0982:SPIRITS",
          "0961:GENERAL GROCERIES",
          "0982:SPIRITS",
          "0982:SPIRITS",
          "0991:TOBACCO",
          "0879:PET SUPPLIES",
          "0982:SPIRITS",
          "0983:WINE",
          "0984:BEER",
          "0530:SCHOOL/OFFIC SUPP",
          "0597:HEALTH AIDS",
          "0601:VALUE ZONE",
          "0634:VITAMINS & HLTH AIDS",
          "0836:HOUSEHOLD CLEANING",
          "0593:PRESTIGE COSMETICS",
          "0597:HEALTH AIDS",
          "0598:BABY CARE",
          "0836:HOUSEHOLD CLEANING",
          "0965:PERISHABLES",
          "0973:CANDY",
          "0983:WINE",
          "0837:GENERAL HOUSEWARES",
          "0982:SPIRITS",
          "0879:PET SUPPLIES",
          "0973:CANDY",
          "0984:BEER",
          "0983:WINE",
          "0962:BEVERAGES",
          "0982:SPIRITS",
          "0982:SPIRITS",
          "0983:WINE",
          "0982:SPIRITS",
          "0638:GEN SPORTING GOODS",
          "0961:GENERAL GROCERIES",
          "0973:CANDY",
          "0991:TOBACCO",
          "0646:SEASONAL",
          "0991:TOBACCO",
          "0962:BEVERAGES",
          "0982:SPIRITS",
          "0983:WINE",
          "0982:SPIRITS",
          "0982:SPIRITS",
          "0983:WINE",
          "0962:BEVERAGES",
          "0982:SPIRITS",
          "0603:BEAUTY CARE",
          "0604:PERSONAL CARE",
          "0962:BEVERAGES",
          "0962:BEVERAGES",
          "0982:SPIRITS",
          "0962:BEVERAGES",
          "0071:BEAUTY RETAIL",
          "0603:BEAUTY CARE",
          "0795:HOME DECOR",
          "0982:SPIRITS",
          "0991:TOBACCO",
          "0603:BEAUTY CARE",
          "0604:PERSONAL CARE",
          "0638:GEN SPORTING GOODS",
          "0644:SPORTS NUTRITION",
          "0680:AUTOMOTIVE",
          "0961:GENERAL GROCERIES",
          "0962:BEVERAGES",
          "0973:CANDY",
          "0597:HEALTH AIDS",
          "0644:SPORTS NUTRITION",
          "0836:HOUSEHOLD CLEANING",
          "0836:HOUSEHOLD CLEANING",
          "0983:WINE",
          "0984:BEER",
          "0961:GENERAL GROCERIES",
          "0982:SPIRITS",
          "0962:BEVERAGES",
          "0982:SPIRITS",
          "0984:BEER",
          "0961:GENERAL GROCERIES",
          "0644:SPORTS NUTRITION",
          "0961:GENERAL GROCERIES",
          "0962:BEVERAGES",
          "0604:PERSONAL CARE",
          "0836:HOUSEHOLD CLEANING",
          "0983:WINE",
          "0280:FASHION ACCESSORIES",
          "0961:GENERAL GROCERIES",
          "0962:BEVERAGES",
          "0982:SPIRITS",
          "0982:SPIRITS",
          "0826:SMALL ELECTRICS",
          "0982:SPIRITS",
          "0984:BEER",
          "0991:TOBACCO",
          "0991:TOBACCO",
          "0836:HOUSEHOLD CLEANING",
          "0884:LAWN & GARDEN",
          "0991:TOBACCO",
          "0551:CAMERAS & EQUIP",
          "0597:HEALTH AIDS",
          "0834:COOKWARE",
          "0836:HOUSEHOLD CLEANING",
          "0532:AMERICAN GREETINGS",
          "0983:WINE",
          "0984:BEER",
          "0983:WINE",
          "0644:SPORTS NUTRITION",
          "0861:GENERAL HARDWARE",
          "0961:GENERAL GROCERIES",
          "0982:SPIRITS",
          "0983:WINE",
          "0961:GENERAL GROCERIES",
          "0962:BEVERAGES",
          "0646:SEASONAL",
          "0879:PET SUPPLIES",
          "0982:SPIRITS",
          "0983:WINE",
          "0984:BEER",
          "0991:TOBACCO",
          "0593:PRESTIGE COSMETICS",
          "0982:SPIRITS",
          "0984:BEER",
          "0991:TOBACCO",
          "0983:WINE",
          "0991:TOBACCO",
          "0532:AMERICAN GREETINGS",
          "0982:SPIRITS",
          "0983:WINE",
          "0982:SPIRITS",
          "0644:SPORTS NUTRITION",
          "0991:TOBACCO",
          "0962:BEVERAGES",
          "0982:SPIRITS",
          "0879:PET SUPPLIES",
          "0973:CANDY",
          "0991:TOBACCO",
          "0604:PERSONAL CARE",
          "0644:SPORTS NUTRITION",
          "0012:LOCAL GIFTS/FOODS",
          "0530:SCHOOL/OFFIC SUPP",
          "0532:AMERICAN GREETINGS",
          "0604:PERSONAL CARE",
          "0879:PET SUPPLIES",
          "0973:CANDY",
          "0983:WINE",
          "0644:SPORTS NUTRITION",
          "0962:BEVERAGES",
          "0991:TOBACCO",
          "0646:SEASONAL",
          "0982:SPIRITS",
          "0983:WINE",
          "0962:BEVERAGES",
          "0230:DAYWEAR",
          "0531:STATIONERY SUNDRIES",
          "0598:BABY CARE",
          "0983:WINE",
          "0646:SEASONAL",
          "0590:MASS COSMETICS",
          "0597:HEALTH AIDS",
          "0982:SPIRITS",
          "0983:WINE",
          "0983:WINE",
          "0071:BEAUTY RETAIL",
          "0646:SEASONAL",
          "0962:BEVERAGES",
          "0973:CANDY",
          "0982:SPIRITS",
          "0983:WINE",
          "0991:TOBACCO",
          "0879:PET SUPPLIES",
          "0836:HOUSEHOLD CLEANING",
          "0879:PET SUPPLIES",
          "0879:PET SUPPLIES",
          "0962:BEVERAGES",
          "0982:SPIRITS",
          "0603:BEAUTY CARE",
          "0680:AUTOMOTIVE",
          "0984:BEER",
          "0846:BATTERIES",
          "0961:GENERAL GROCERIES",
          "0962:BEVERAGES",
          "0973:CANDY",
          "0991:TOBACCO",
          "0961:GENERAL GROCERIES",
          "0973:CANDY",
          "0597:HEALTH AIDS",
          "0603:BEAUTY CARE",
          "0604:PERSONAL CARE",
          "0836:HOUSEHOLD CLEANING",
          "0983:WINE",
          "0343:MENS DENIM JEANS",
          "0879:PET SUPPLIES",
          "0597:HEALTH AIDS",
          "0982:SPIRITS",
          "0991:TOBACCO",
          "0589:SUNGLASSES",
          "0597:HEALTH AIDS",
          "0603:BEAUTY CARE",
          "0604:PERSONAL CARE",
          "0836:HOUSEHOLD CLEANING",
          "0879:PET SUPPLIES",
          "0884:LAWN & GARDEN",
          "0590:MASS COSMETICS",
          "0640:TOYS",
          "0962:BEVERAGES",
          "0973:CANDY",
          "0640:TOYS",
          "0646:SEASONAL",
          "0962:BEVERAGES",
          "0982:SPIRITS",
          "0982:SPIRITS",
          "0983:WINE",
          "0604:PERSONAL CARE",
          "0982:SPIRITS",
          "0597:HEALTH AIDS",
          "0846:BATTERIES",
          "0961:GENERAL GROCERIES",
          "0962:BEVERAGES",
          "0597:HEALTH AIDS",
          "0603:BEAUTY CARE",
          "0604:PERSONAL CARE",
          "0982:SPIRITS",
          "0984:BEER",
          "0991:TOBACCO",
          "0879:PET SUPPLIES",
          "0982:SPIRITS",
          "0991:TOBACCO",
          "0637:FISHING",
          "0597:HEALTH AIDS",
          "0604:PERSONAL CARE",
          "0836:HOUSEHOLD CLEANING",
          "0984:BEER",
          "0991:TOBACCO",
          "0982:SPIRITS",
          "0983:WINE",
          "0982:SPIRITS",
          "0984:BEER",
          "0597:HEALTH AIDS",
          "0861:GENERAL HARDWARE",
          "0962:BEVERAGES",
          "0982:SPIRITS",
          "0982:SPIRITS",
          "0982:SPIRITS",
          "0991:TOBACCO",
          "0836:HOUSEHOLD CLEANING",
          "0982:SPIRITS",
          "0991:TOBACCO",
          "0983:WINE",
          "0991:TOBACCO",
          "0991:TOBACCO",
          "0597:HEALTH AIDS",
          "0879:PET SUPPLIES",
          "0973:CANDY",
          "0822:THIRD PARTY GIFTCARD",
          "0879:PET SUPPLIES",
          "0991:TOBACCO",
          "0983:WINE",
          "0359:MENS ACCESSORIES",
          "0973:CANDY",
          "0645:BIKES",
          "0846:BATTERIES",
          "0982:SPIRITS",
          "0983:WINE",
          "0861:GENERAL HARDWARE",
          "0597:HEALTH AIDS",
          "0982:SPIRITS",
          "0983:WINE",
          "0861:GENERAL HARDWARE",
          "0836:HOUSEHOLD CLEANING",
          "0982:SPIRITS",
          "0991:TOBACCO",
          "0532:AMERICAN GREETINGS",
          "0603:BEAUTY CARE",
          "0638:GEN SPORTING GOODS",
          "0973:CANDY",
          "0982:SPIRITS",
          "0983:WINE",
          "0984:BEER",
          "0983:WINE",
          "0532:AMERICAN GREETINGS",
          "0640:TOYS",
          "0646:SEASONAL",
          "0879:PET SUPPLIES",
          "0541:BOOKS AND MAPS",
          "0973:CANDY",
          "0597:HEALTH AIDS",
          "0973:CANDY",
          "0983:WINE",
          "0984:BEER",
          "0861:GENERAL HARDWARE",
          "0638:GEN SPORTING GOODS",
          "0983:WINE",
          "0597:HEALTH AIDS",
          "0984:BEER",
          "0982:SPIRITS",
          "0982:SPIRITS",
          "0590:MASS COSMETICS",
          "0973:CANDY",
          "0982:SPIRITS",
          "0983:WINE",
          "0984:BEER",
          "0982:SPIRITS",
          "0983:WINE",
          "0884:LAWN & GARDEN",
          "0983:WINE",
          "0531:STATIONERY SUNDRIES",
          "0597:HEALTH AIDS",
          "0603:BEAUTY CARE",
          "0836:HOUSEHOLD CLEANING",
          "0879:PET SUPPLIES",
          "0973:CANDY",
          "0991:TOBACCO",
          "0879:PET SUPPLIES",
          "0982:SPIRITS",
          "0982:SPIRITS",
          "0991:TOBACCO",
          "0532:AMERICAN GREETINGS",
          "0836:HOUSEHOLD CLEANING",
          "0879:PET SUPPLIES",
          "0982:SPIRITS",
          "0991:TOBACCO",
          "0962:BEVERAGES",
          "0991:TOBACCO",
          "0982:SPIRITS",
          "0984:BEER",
          "0982:SPIRITS",
          "0991:TOBACCO",
          "0982:SPIRITS",
          "0991:TOBACCO",
          "0973:CANDY",
          "0982:SPIRITS",
          "0391:MENS SHOES",
          "0638:GEN SPORTING GOODS",
          "0644:SPORTS NUTRITION",
          "0973:CANDY",
          "0597:HEALTH AIDS",
          "0836:HOUSEHOLD CLEANING",
          "0646:SEASONAL",
          "0861:GENERAL HARDWARE",
          "0797:SEASONAL GIFTS",
          "0983:WINE",
          "0984:BEER",
          "0982:SPIRITS",
          "0991:TOBACCO",
          "0884:LAWN & GARDEN",
          "0982:SPIRITS",
          "0983:WINE",
          "0984:BEER",
          "0071:BEAUTY RETAIL",
          "0983:WINE",
          "0991:TOBACCO",
          "0826:SMALL ELECTRICS",
          "0973:CANDY",
          "0982:SPIRITS",
          "0983:WINE",
          "0991:TOBACCO",
          "0982:SPIRITS",
          "0991:TOBACCO",
          "0395:MENS ATHLETIC SHOES",
          "0961:GENERAL GROCERIES",
          "0982:SPIRITS",
          "0962:BEVERAGES",
          "0984:BEER",
          "0984:BEER",
          "0991:TOBACCO",
          "0110:LDS OUTERWEAR/OUTDR",
          "0240:SLEEPWEAR/LOUNGEWEAR",
          "0380:MENS ACTIVEWEAR",
          "0470:BOYS 8-20 CLOTHING",
          "0603:BEAUTY CARE",
          "0722:OUTDOOR LIVING",
          "0837:GENERAL HOUSEWARES",
          "0845:AS SEEN ON TV",
          "0982:SPIRITS",
          "0983:WINE",
          "0984:BEER",
          "0991:TOBACCO",
          "0879:PET SUPPLIES",
          "0991:TOBACCO",
          "0962:BEVERAGES",
          "0982:SPIRITS",
          "0879:PET SUPPLIES",
          "0982:SPIRITS",
          "0991:TOBACCO",
          "0836:HOUSEHOLD CLEANING",
          "0854:VIDEO GAMES",
          "0590:MASS COSMETICS",
          "0983:WINE",
          "0984:BEER",
          "0962:BEVERAGES",
          "0603:BEAUTY CARE",
          "0983:WINE",
          "0603:BEAUTY CARE",
          "0879:PET SUPPLIES",
          "0984:BEER",
          "0640:TOYS",
          "0645:BIKES",
          "0680:AUTOMOTIVE",
          "0879:PET SUPPLIES",
          "0991:TOBACCO",
          "0879:PET SUPPLIES",
          "0983:WINE",
          "0646:SEASONAL",
          "0836:HOUSEHOLD CLEANING",
          "0852:COMPUTER SOFTWARE",
          "0982:SPIRITS",
          "0973:CANDY",
          "0982:SPIRITS",
          "0983:WINE",
          "0991:TOBACCO",
          "0644:SPORTS NUTRITION",
          "0836:HOUSEHOLD CLEANING",
          "0597:HEALTH AIDS",
          "0604:PERSONAL CARE",
          "0961:GENERAL GROCERIES",
          "0962:BEVERAGES",
          "0982:SPIRITS",
          "0826:SMALL ELECTRICS",
          "0962:BEVERAGES",
          "0982:SPIRITS",
          "0984:BEER",
          "0991:TOBACCO",
          "0982:SPIRITS",
          "0982:SPIRITS",
          "0991:TOBACCO",
          "0983:WINE",
          "0879:PET SUPPLIES",
          "0530:SCHOOL/OFFIC SUPP",
          "0532:AMERICAN GREETINGS",
          "0644:SPORTS NUTRITION",
          "0962:BEVERAGES",
          "0973:CANDY",
          "0983:WINE",
          "0984:BEER",
          "0982:SPIRITS",
          "0597:HEALTH AIDS",
          "0644:SPORTS NUTRITION",
          "0961:GENERAL GROCERIES",
          "0982:SPIRITS",
          "0983:WINE",
          "0962:BEVERAGES",
          "0991:TOBACCO",
          "0982:SPIRITS",
          "0982:SPIRITS",
          "0983:WINE",
          "0962:BEVERAGES",
          "0982:SPIRITS",
          "0983:WINE",
          "0983:WINE",
          "0836:HOUSEHOLD CLEANING",
          "0962:BEVERAGES",
          "0973:CANDY",
          "0991:TOBACCO",
          "0836:HOUSEHOLD CLEANING",
          "0846:BATTERIES",
          "0982:SPIRITS",
          "0991:TOBACCO",
          "0973:CANDY",
          "0984:BEER",
          "0597:HEALTH AIDS",
          "0604:PERSONAL CARE",
          "0836:HOUSEHOLD CLEANING",
          "0961:GENERAL GROCERIES",
          "0962:BEVERAGES",
          "0973:CANDY",
          "0531:STATIONERY SUNDRIES",
          "0644:SPORTS NUTRITION",
          "0856:GLUES/TAPES/ACC",
          "0982:SPIRITS",
          "0532:AMERICAN GREETINGS",
          "0962:BEVERAGES",
          "0846:BATTERIES",
          "0861:GENERAL HARDWARE",
          "0863:POWER EQUIPMENT",
          "0161:MISSY KAREN SCOTT",
          "0593:PRESTIGE COSMETICS",
          "0982:SPIRITS",
          "0983:WINE",
          "0961:GENERAL GROCERIES",
          "0984:BEER",
          "0879:PET SUPPLIES",
          "0982:SPIRITS",
          "0056:SOUVENIR",
          "0532:AMERICAN GREETINGS",
          "0603:BEAUTY CARE",
          "0646:SEASONAL",
          "0861:GENERAL HARDWARE",
          "0973:CANDY",
          "0982:SPIRITS",
          "0982:SPIRITS",
          "0983:WINE",
          "0380:MENS ACTIVEWEAR",
          "0982:SPIRITS",
          "0982:SPIRITS",
          "0991:TOBACCO",
          "0983:WINE",
          "0353:MENS OUTDOOR",
          "0597:HEALTH AIDS",
          "0604:PERSONAL CARE",
          "0982:SPIRITS",
          "0861:GENERAL HARDWARE",
          "0961:GENERAL GROCERIES",
          "0597:HEALTH AIDS",
          "0982:SPIRITS",
          "0836:HOUSEHOLD CLEANING",
          "0861:GENERAL HARDWARE",
          "0973:CANDY",
          "0982:SPIRITS",
          "0604:PERSONAL CARE",
          "0962:BEVERAGES",
          "0879:PET SUPPLIES",
          "0982:SPIRITS",
          "0984:BEER",
          "0640:TOYS",
          "0982:SPIRITS",
          "0983:WINE",
          "0604:PERSONAL CARE",
          "0639:TEAM SPORTING GOODS",
          "0961:GENERAL GROCERIES",
          "0982:SPIRITS",
          "0353:MENS OUTDOOR",
          "0644:SPORTS NUTRITION",
          "0646:SEASONAL",
          "0991:TOBACCO",
          "0962:BEVERAGES",
          "0982:SPIRITS",
          "0449:GIRLS ACCESSORIES",
          "0532:AMERICAN GREETINGS",
          "0597:HEALTH AIDS",
          "0838:FLOOR CARE",
          "0973:CANDY",
          "0983:WINE",
          "0982:SPIRITS",
          "0984:BEER",
          "0604:PERSONAL CARE",
          "0646:SEASONAL",
          "0973:CANDY",
          "0640:TOYS",
          "0983:WINE",
          "0982:SPIRITS",
          "0983:WINE",
          "0984:BEER",
          "0961:GENERAL GROCERIES",
          "0973:CANDY",
          "0604:PERSONAL CARE",
          "0991:TOBACCO",
          "0983:WINE",
          "0531:STATIONERY SUNDRIES",
          "0532:AMERICAN GREETINGS",
          "0982:SPIRITS",
          "0983:WINE",
          "0983:WINE",
          "0984:BEER",
          "0983:WINE",
          "0836:HOUSEHOLD CLEANING",
          "0982:SPIRITS",
          "0597:HEALTH AIDS",
          "0991:TOBACCO",
          "0879:PET SUPPLIES",
          "0884:LAWN & GARDEN",
          "0982:SPIRITS",
          "0984:BEER",
          "0982:SPIRITS",
          "0991:TOBACCO",
          "0984:BEER",
          "0991:TOBACCO",
          "0353:MENS OUTDOOR",
          "0380:MENS ACTIVEWEAR",
          "0982:SPIRITS",
          "0983:WINE",
          "0532:AMERICAN GREETINGS",
          "0597:HEALTH AIDS",
          "0961:GENERAL GROCERIES",
          "0962:BEVERAGES",
          "0983:WINE",
          "0982:SPIRITS",
          "0983:WINE",
          "0380:MENS ACTIVEWEAR",
          "0590:MASS COSMETICS",
          "0597:HEALTH AIDS",
          "0343:MENS DENIM JEANS",
          "0532:AMERICAN GREETINGS",
          "0722:OUTDOOR LIVING",
          "0973:CANDY",
          "0962:BEVERAGES",
          "0632:DIGITAL FITNESS",
          "0962:BEVERAGES",
          "0982:SPIRITS",
          "0983:WINE",
          "0532:AMERICAN GREETINGS",
          "0962:BEVERAGES",
          "0991:TOBACCO",
          "0639:TEAM SPORTING GOODS",
          "0991:TOBACCO",
          "0597:HEALTH AIDS",
          "0589:SUNGLASSES",
          "0597:HEALTH AIDS",
          "0638:GEN SPORTING GOODS",
          "0836:HOUSEHOLD CLEANING",
          "0961:GENERAL GROCERIES",
          "0984:BEER",
          "0991:TOBACCO",
          "0531:STATIONERY SUNDRIES",
          "0982:SPIRITS",
          "0644:SPORTS NUTRITION",
          "0646:SEASONAL",
          "0854:VIDEO GAMES",
          "0982:SPIRITS",
          "0982:SPIRITS",
          "0597:HEALTH AIDS",
          "0826:SMALL ELECTRICS",
          "0836:HOUSEHOLD CLEANING",
          "0845:AS SEEN ON TV",
          "0861:GENERAL HARDWARE",
          "0991:TOBACCO",
          "0640:TOYS",
          "0982:SPIRITS",
          "0984:BEER",
          "0884:LAWN & GARDEN",
          "0991:TOBACCO",
          "0532:AMERICAN GREETINGS",
          "0161:MISSY KAREN SCOTT",
          "0167:MISSY TOPS",
          "0261:HOSIERY",
          "0983:WINE",
          "0984:BEER",
          "0511:NAVY PRIDE SOFTLINES",
          "0603:BEAUTY CARE",
          "0836:HOUSEHOLD CLEANING",
          "0879:PET SUPPLIES",
          "0592:WMNS PRESTIGE FRAG",
          "0973:CANDY",
          "0879:PET SUPPLIES",
          "0836:HOUSEHOLD CLEANING",
          "0973:CANDY",
          "0982:SPIRITS",
          "0604:PERSONAL CARE",
          "0636:FITNESS/EXERCISE",
          "0879:PET SUPPLIES",
          "0597:HEALTH AIDS",
          "0962:BEVERAGES",
          "0601:VALUE ZONE",
          "0983:WINE",
          "0637:FISHING",
          "0640:TOYS",
          "0962:BEVERAGES",
          "0597:HEALTH AIDS",
          "0634:VITAMINS & HLTH AIDS",
          "0815:AUDIO ELECTRONICS",
          "0961:GENERAL GROCERIES",
          "0532:AMERICAN GREETINGS",
          "0639:TEAM SPORTING GOODS",
          "0991:TOBACCO",
          "0186:JUNIOR DRESSES",
          "0230:DAYWEAR",
          "0355:MENS SPORT SHIRTS",
          "0416:INFANT APPAREL",
          "0532:AMERICAN GREETINGS",
          "0837:GENERAL HOUSEWARES",
          "0846:BATTERIES",
          "0879:PET SUPPLIES",
          "0982:SPIRITS",
          "0984:BEER",
          "0982:SPIRITS",
          "0640:TOYS",
          "0645:BIKES",
          "0646:SEASONAL",
          "0982:SPIRITS",
          "0983:WINE",
          "0110:LDS OUTERWEAR/OUTDR",
          "0603:BEAUTY CARE",
          "0604:PERSONAL CARE",
          "0982:SPIRITS",
          "0634:VITAMINS & HLTH AIDS",
          "0982:SPIRITS",
          "0984:BEER",
          "0984:BEER",
          "0597:HEALTH AIDS",
          "0056:SOUVENIR",
          "0470:BOYS 8-20 CLOTHING",
          "0837:GENERAL HOUSEWARES",
          "0982:SPIRITS",
          "0815:AUDIO ELECTRONICS",
          "0634:VITAMINS & HLTH AIDS",
          "0644:SPORTS NUTRITION",
          "0962:BEVERAGES",
          "0973:CANDY",
          "0982:SPIRITS",
          "0982:SPIRITS",
          "0983:WINE",
          "0973:CANDY",
          "0982:SPIRITS",
          "0984:BEER",
          "0359:MENS ACCESSORIES",
          "0983:WINE",
          "0984:BEER",
          "0962:BEVERAGES",
          "0982:SPIRITS",
          "0597:HEALTH AIDS",
          "0961:GENERAL GROCERIES",
          "0983:WINE",
          "0961:GENERAL GROCERIES",
          "0962:BEVERAGES",
          "0982:SPIRITS",
          "0983:WINE",
          "0982:SPIRITS",
          "0982:SPIRITS",
          "0449:GIRLS ACCESSORIES",
          "0597:HEALTH AIDS",
          "0826:SMALL ELECTRICS",
          "0973:CANDY",
          "0982:SPIRITS",
          "0983:WINE",
          "0984:BEER",
          "0991:TOBACCO",
          "0646:SEASONAL",
          "0646:SEASONAL",
          "0861:GENERAL HARDWARE",
          "0002:BARBER RETAIL",
          "0071:BEAUTY RETAIL",
          "0983:WINE",
          "0836:HOUSEHOLD CLEANING",
          "0982:SPIRITS",
          "0597:HEALTH AIDS",
          "0603:BEAUTY CARE",
          "0604:PERSONAL CARE",
          "0991:TOBACCO",
          "0597:HEALTH AIDS",
          "0982:SPIRITS",
          "0983:WINE",
          "0961:GENERAL GROCERIES",
          "0962:BEVERAGES",
          "0973:CANDY",
          "0973:CANDY",
          "0597:HEALTH AIDS",
          "0603:BEAUTY CARE",
          "0597:HEALTH AIDS",
          "0603:BEAUTY CARE",
          "0973:CANDY",
          "0983:WINE",
          "0961:GENERAL GROCERIES",
          "0962:BEVERAGES",
          "0879:PET SUPPLIES",
          "0982:SPIRITS",
          "0983:WINE",
          "0984:BEER",
          "0603:BEAUTY CARE",
          "0604:PERSONAL CARE",
          "0961:GENERAL GROCERIES",
          "0962:BEVERAGES",
          "0983:WINE",
          "0640:TOYS",
          "0646:SEASONAL",
          "0861:GENERAL HARDWARE",
          "0879:PET SUPPLIES",
          "0999:UNSCANNED ITEMS",
          "0982:SPIRITS",
          "0983:WINE",
          "0644:SPORTS NUTRITION",
          "0983:WINE",
          "0983:WINE",
          "0071:BEAUTY RETAIL",
          "0532:AMERICAN GREETINGS",
          "0603:BEAUTY CARE",
          "0984:BEER",
          "0991:TOBACCO",
          "0837:GENERAL HOUSEWARES",
          "0962:BEVERAGES",
          "0983:WINE",
          "0984:BEER",
          "0071:BEAUTY RETAIL",
          "0530:SCHOOL/OFFIC SUPP",
          "0590:MASS COSMETICS",
          "0646:SEASONAL",
          "0973:CANDY",
          "0982:SPIRITS",
          "0359:MENS ACCESSORIES",
          "0962:BEVERAGES",
          "0973:CANDY",
          "0982:SPIRITS",
          "0961:GENERAL GROCERIES",
          "0962:BEVERAGES",
          "0982:SPIRITS",
          "0984:BEER",
          "0991:TOBACCO",
          "0604:PERSONAL CARE",
          "0646:SEASONAL",
          "0836:HOUSEHOLD CLEANING",
          "0962:BEVERAGES",
          "0973:CANDY",
          "0983:WINE",
          "0991:TOBACCO",
          "0991:TOBACCO",
          "0646:SEASONAL",
          "0982:SPIRITS",
          "0983:WINE",
          "0640:TOYS",
          "0884:LAWN & GARDEN",
          "0982:SPIRITS",
          "0983:WINE",
          "0991:TOBACCO",
          "0973:CANDY",
          "0984:BEER",
          "0604:PERSONAL CARE",
          "0343:MENS DENIM JEANS",
          "0360:MENS FURNISHINGS",
          "0369:YOUNG MENS",
          "0982:SPIRITS",
          "0983:WINE",
          "0632:DIGITAL FITNESS",
          "0636:FITNESS/EXERCISE",
          "0962:BEVERAGES",
          "0983:WINE",
          "0449:GIRLS ACCESSORIES",
          "0640:TOYS",
          "0797:SEASONAL GIFTS",
          "0879:PET SUPPLIES",
          "0982:SPIRITS",
          "0983:WINE",
          "0984:BEER",
          "0982:SPIRITS",
          "0984:BEER",
          "0982:SPIRITS",
          "0532:AMERICAN GREETINGS",
          "0604:PERSONAL CARE",
          "0640:TOYS",
          "0983:WINE",
          "0991:TOBACCO",
          "0982:SPIRITS",
          "0982:SPIRITS",
          "0983:WINE",
          "0984:BEER",
          "0879:PET SUPPLIES",
          "0982:SPIRITS",
          "0982:SPIRITS",
          "0071:BEAUTY RETAIL",
          "0603:BEAUTY CARE",
          "0879:PET SUPPLIES",
          "0973:CANDY",
          "0511:NAVY PRIDE SOFTLINES",
          "0982:SPIRITS",
          "0984:BEER",
          "0982:SPIRITS",
          "0982:SPIRITS",
          "0983:WINE",
          "0983:WINE",
          "0604:PERSONAL CARE",
          "0879:PET SUPPLIES",
          "0983:WINE",
          "0984:BEER",
          "0991:TOBACCO",
          "0983:WINE",
          "0973:CANDY",
          "0982:SPIRITS",
          "0983:WINE",
          "0984:BEER",
          "0597:HEALTH AIDS",
          "0603:BEAUTY CARE",
          "0634:VITAMINS & HLTH AIDS",
          "0836:HOUSEHOLD CLEANING",
          "0879:PET SUPPLIES",
          "0360:MENS FURNISHINGS",
          "0833:TABLETOP",
          "0837:GENERAL HOUSEWARES",
          "0839:HOME ORG/SOLUTIONS",
          "0931:BATH",
          "0941:BEDDING",
          "0982:SPIRITS",
          "0991:TOBACCO",
          "0962:BEVERAGES",
          "0982:SPIRITS",
          "0982:SPIRITS",
          "0597:HEALTH AIDS",
          "0603:BEAUTY CARE",
          "0604:PERSONAL CARE",
          "0982:SPIRITS",
          "0983:WINE",
          "0638:GEN SPORTING GOODS",
          "0597:HEALTH AIDS",
          "0982:SPIRITS",
          "0983:WINE",
          "0962:BEVERAGES",
          "0884:LAWN & GARDEN",
          "0982:SPIRITS",
          "0984:BEER",
          "0962:BEVERAGES",
          "0982:SPIRITS",
          "0983:WINE",
          "0984:BEER",
          "0360:MENS FURNISHINGS",
          "0982:SPIRITS",
          "0983:WINE",
          "0982:SPIRITS",
          "0991:TOBACCO",
          "0836:HOUSEHOLD CLEANING",
          "0861:GENERAL HARDWARE",
          "0973:CANDY",
          "0983:WINE",
          "0984:BEER",
          "0982:SPIRITS",
          "0962:BEVERAGES",
          "0982:SPIRITS",
          "0984:BEER",
          "0604:PERSONAL CARE",
          "0991:TOBACCO",
          "0961:GENERAL GROCERIES",
          "0991:TOBACCO",
          "0982:SPIRITS",
          "0973:CANDY",
          "0982:SPIRITS",
          "0597:HEALTH AIDS",
          "0603:BEAUTY CARE",
          "0680:AUTOMOTIVE",
          "0856:GLUES/TAPES/ACC",
          "0879:PET SUPPLIES",
          "0962:BEVERAGES",
          "0646:SEASONAL",
          "0879:PET SUPPLIES",
          "0962:BEVERAGES",
          "0856:GLUES/TAPES/ACC",
          "0879:PET SUPPLIES",
          "0597:HEALTH AIDS",
          "0982:SPIRITS",
          "0983:WINE",
          "0984:BEER",
          "0597:HEALTH AIDS",
          "0604:PERSONAL CARE",
          "0636:FITNESS/EXERCISE",
          "0961:GENERAL GROCERIES",
          "0983:WINE",
          "0632:DIGITAL FITNESS",
          "0640:TOYS",
          "0973:CANDY",
          "0983:WINE",
          "0982:SPIRITS",
          "0984:BEER",
          "0395:MENS ATHLETIC SHOES",
          "0597:HEALTH AIDS",
          "0603:BEAUTY CARE",
          "0982:SPIRITS",
          "0983:WINE",
          "0984:BEER",
          "0530:SCHOOL/OFFIC SUPP",
          "0646:SEASONAL",
          "0822:THIRD PARTY GIFTCARD",
          "0973:CANDY",
          "0983:WINE",
          "0991:TOBACCO",
          "0646:SEASONAL",
          "0597:HEALTH AIDS",
          "0973:CANDY",
          "0982:SPIRITS",
          "0983:WINE",
          "0597:HEALTH AIDS",
          "0603:BEAUTY CARE",
          "0962:BEVERAGES",
          "0982:SPIRITS",
          "0984:BEER",
          "0991:TOBACCO",
          "0638:GEN SPORTING GOODS",
          "0836:HOUSEHOLD CLEANING",
          "0532:AMERICAN GREETINGS",
          "0640:TOYS",
          "0962:BEVERAGES",
          "0983:WINE",
          "0984:BEER",
          "0991:TOBACCO",
          "0962:BEVERAGES",
          "0983:WINE",
          "0982:SPIRITS",
          "0984:BEER",
          "0982:SPIRITS",
          "0984:BEER",
          "0603:BEAUTY CARE",
          "0879:PET SUPPLIES",
          "0962:BEVERAGES",
          "0973:CANDY",
          "0884:LAWN & GARDEN",
          "0640:TOYS",
          "0984:BEER",
          "0416:INFANT APPAREL",
          "0585:WATCHES",
          "0837:GENERAL HOUSEWARES",
          "0984:BEER",
          "0638:GEN SPORTING GOODS",
          "0991:TOBACCO",
          "0961:GENERAL GROCERIES",
          "0973:CANDY",
          "0982:SPIRITS",
          "0593:PRESTIGE COSMETICS",
          "0603:BEAUTY CARE",
          "0644:SPORTS NUTRITION",
          "0646:SEASONAL",
          "0879:PET SUPPLIES",
          "0636:FITNESS/EXERCISE",
          "0636:FITNESS/EXERCISE",
          "0099:MISC CUSTOM SERVICES",
          "0991:TOBACCO",
          "0991:TOBACCO",
          "0449:GIRLS ACCESSORIES",
          "0640:TOYS",
          "0982:SPIRITS",
          "0983:WINE",
          "0984:BEER",
          "0982:SPIRITS",
          "0836:HOUSEHOLD CLEANING",
          "0961:GENERAL GROCERIES",
          "0973:CANDY",
          "0991:TOBACCO",
          "0983:WINE",
          "0991:TOBACCO",
          "0640:TOYS",
          "0646:SEASONAL",
          "0961:GENERAL GROCERIES",
          "0982:SPIRITS",
          "0982:SPIRITS",
          "0879:PET SUPPLIES",
          "0982:SPIRITS",
          "0991:TOBACCO",
          "0961:GENERAL GROCERIES",
          "0962:BEVERAGES",
          "0879:PET SUPPLIES",
          "0984:BEER",
          "0644:SPORTS NUTRITION",
          "0836:HOUSEHOLD CLEANING",
          "0973:CANDY",
          "0646:SEASONAL",
          "0983:WINE",
          "0033:VENDING RETAIL",
          "0962:BEVERAGES",
          "0982:SPIRITS",
          "0962:BEVERAGES",
          "0983:WINE",
          "0984:BEER",
          "0984:BEER",
          "0597:HEALTH AIDS",
          "0603:BEAUTY CARE",
          "0836:HOUSEHOLD CLEANING",
          "0532:AMERICAN GREETINGS",
          "0636:FITNESS/EXERCISE",
          "0833:TABLETOP",
          "0837:GENERAL HOUSEWARES",
          "0983:WINE",
          "0984:BEER",
          "0879:PET SUPPLIES",
          "0982:SPIRITS",
          "0984:BEER",
          "0982:SPIRITS",
          "0597:HEALTH AIDS",
          "0836:HOUSEHOLD CLEANING",
          "0962:BEVERAGES",
          "0983:WINE",
          "0984:BEER",
          "0879:PET SUPPLIES",
          "0982:SPIRITS",
          "0984:BEER",
          "0982:SPIRITS",
          "0982:SPIRITS",
          "0961:GENERAL GROCERIES",
          "0962:BEVERAGES",
          "0983:WINE",
          "0644:SPORTS NUTRITION",
          "0982:SPIRITS",
          "0983:WINE",
          "0983:WINE",
          "0982:SPIRITS",
          "0991:TOBACCO",
          "0879:PET SUPPLIES",
          "0982:SPIRITS",
          "0836:HOUSEHOLD CLEANING",
          "0982:SPIRITS",
          "0983:WINE",
          "0879:PET SUPPLIES",
          "0991:TOBACCO",
          "0982:SPIRITS",
          "0984:BEER",
          "0590:MASS COSMETICS",
          "0597:HEALTH AIDS",
          "0603:BEAUTY CARE",
          "0879:PET SUPPLIES",
          "0983:WINE",
          "0982:SPIRITS",
          "0601:VALUE ZONE",
          "0983:WINE",
          "0984:BEER",
          "0380:MENS ACTIVEWEAR",
          "0941:BEDDING",
          "0973:CANDY",
          "0982:SPIRITS",
          "0597:HEALTH AIDS",
          "0604:PERSONAL CARE",
          "0797:SEASONAL GIFTS",
          "0991:TOBACCO",
          "0983:WINE",
          "0597:HEALTH AIDS",
          "0836:HOUSEHOLD CLEANING",
          "0962:BEVERAGES",
          "0982:SPIRITS",
          "0961:GENERAL GROCERIES",
          "0962:BEVERAGES",
          "0597:HEALTH AIDS",
          "0836:HOUSEHOLD CLEANING",
          "0961:GENERAL GROCERIES",
          "0982:SPIRITS",
          "0532:AMERICAN GREETINGS",
          "0597:HEALTH AIDS",
          "0634:VITAMINS & HLTH AIDS",
          "0836:HOUSEHOLD CLEANING",
          "0984:BEER",
          "0836:HOUSEHOLD CLEANING",
          "0961:GENERAL GROCERIES",
          "0973:CANDY",
          "0826:SMALL ELECTRICS",
          "0836:HOUSEHOLD CLEANING",
          "0879:PET SUPPLIES",
          "0230:DAYWEAR",
          "0597:HEALTH AIDS",
          "0644:SPORTS NUTRITION",
          "0071:BEAUTY RETAIL",
          "0532:AMERICAN GREETINGS",
          "0590:MASS COSMETICS",
          "0593:PRESTIGE COSMETICS",
          "0595:HOME/BATH",
          "0603:BEAUTY CARE",
          "0982:SPIRITS",
          "0983:WINE",
          "0532:AMERICAN GREETINGS",
          "0884:LAWN & GARDEN",
          "0982:SPIRITS",
          "0983:WINE",
          "0161:MISSY KAREN SCOTT",
          "0962:BEVERAGES",
          "0973:CANDY",
          "0984:BEER",
          "0879:PET SUPPLIES",
          "0590:MASS COSMETICS",
          "0603:BEAUTY CARE",
          "0962:BEVERAGES",
          "0973:CANDY",
          "0634:VITAMINS & HLTH AIDS",
          "0982:SPIRITS",
          "0984:BEER",
          "0962:BEVERAGES",
          "0982:SPIRITS",
          "0991:TOBACCO",
          "0597:HEALTH AIDS",
          "0836:HOUSEHOLD CLEANING",
          "0982:SPIRITS",
          "0178:DENIM COLLECTIONS",
          "0295:WOMENS ATHLTIC SHOES",
          "0360:MENS FURNISHINGS",
          "0369:YOUNG MENS",
          "0962:BEVERAGES",
          "0973:CANDY",
          "0982:SPIRITS",
          "0983:WINE",
          "0130:JUNIORS SURF",
          "0179:MODERATE DENIM",
          "0369:YOUNG MENS",
          "0440:GIRLS 7-16 CLOTHING",
          "0603:BEAUTY CARE",
          "0962:BEVERAGES",
          "0982:SPIRITS",
          "0991:TOBACCO",
          "0161:MISSY KAREN SCOTT",
          "0271:HANDBAGS",
          "0280:FASHION ACCESSORIES",
          "0360:MENS FURNISHINGS",
          "0380:MENS ACTIVEWEAR",
          "0590:MASS COSMETICS",
          "0644:SPORTS NUTRITION",
          "0646:SEASONAL",
          "0861:GENERAL HARDWARE",
          "0973:CANDY",
          "0982:SPIRITS",
          "0983:WINE",
          "0597:HEALTH AIDS",
          "0822:THIRD PARTY GIFTCARD",
          "0983:WINE",
          "0510:NAVY PRIDE HARDLINES",
          "0585:WATCHES",
          "0604:PERSONAL CARE",
          "0982:SPIRITS",
          "0640:TOYS",
          "0984:BEER",
          "0961:GENERAL GROCERIES",
          "0973:CANDY",
          "0973:CANDY",
          "0597:HEALTH AIDS",
          "0836:HOUSEHOLD CLEANING",
          "0597:HEALTH AIDS",
          "0983:WINE",
          "0983:WINE",
          "0984:BEER",
          "0603:BEAUTY CARE",
          "0973:CANDY",
          "0861:GENERAL HARDWARE",
          "0604:PERSONAL CARE",
          "0640:TOYS",
          "0836:HOUSEHOLD CLEANING",
          "0984:BEER",
          "0879:PET SUPPLIES",
          "0532:AMERICAN GREETINGS",
          "0590:MASS COSMETICS",
          "0593:PRESTIGE COSMETICS",
          "0640:TOYS",
          "0360:MENS FURNISHINGS",
          "0836:HOUSEHOLD CLEANING",
          "0879:PET SUPPLIES",
          "0982:SPIRITS",
          "0982:SPIRITS",
          "0982:SPIRITS",
          "0991:TOBACCO",
          "0991:TOBACCO",
          "0962:BEVERAGES",
          "0973:CANDY",
          "0984:BEER",
          "0962:BEVERAGES",
          "0982:SPIRITS",
          "0983:WINE",
          "0983:WINE",
          "0982:SPIRITS",
          "0984:BEER",
          "0982:SPIRITS",
          "0984:BEER",
          "0634:VITAMINS & HLTH AIDS",
          "0991:TOBACCO",
          "0836:HOUSEHOLD CLEANING",
          "0360:MENS FURNISHINGS",
          "0391:MENS SHOES",
          "0973:CANDY",
          "0590:MASS COSMETICS",
          "0982:SPIRITS",
          "0962:BEVERAGES",
          "0391:MENS SHOES",
          "0597:HEALTH AIDS",
          "0604:PERSONAL CARE",
          "0836:HOUSEHOLD CLEANING",
          "0962:BEVERAGES",
          "0644:SPORTS NUTRITION",
          "0861:GENERAL HARDWARE",
          "0962:BEVERAGES",
          "0984:BEER",
          "0646:SEASONAL",
          "0826:SMALL ELECTRICS",
          "0991:TOBACCO",
          "0982:SPIRITS",
          "0984:BEER",
          "0531:STATIONERY SUNDRIES",
          "0962:BEVERAGES",
          "0982:SPIRITS",
          "0983:WINE",
          "0991:TOBACCO",
          "0411:PEGABLES",
          "0415:NEWBORN APPAREL",
          "0598:BABY CARE",
          "0604:PERSONAL CARE",
          "0836:HOUSEHOLD CLEANING",
          "0879:PET SUPPLIES",
          "0982:SPIRITS",
          "0984:BEER",
          "0638:GEN SPORTING GOODS",
          "0836:HOUSEHOLD CLEANING",
          "0961:GENERAL GROCERIES",
          "0965:PERISHABLES",
          "0982:SPIRITS",
          "0984:BEER",
          "0991:TOBACCO",
          "0879:PET SUPPLIES",
          "0982:SPIRITS",
          "0991:TOBACCO",
          "0962:BEVERAGES",
          "0982:SPIRITS",
          "0991:TOBACCO",
          "0597:HEALTH AIDS",
          "0604:PERSONAL CARE",
          "0836:HOUSEHOLD CLEANING",
          "0962:BEVERAGES",
          "0965:PERISHABLES",
          "0982:SPIRITS",
          "0962:BEVERAGES",
          "0982:SPIRITS",
          "0991:TOBACCO",
          "0879:PET SUPPLIES",
          "0597:HEALTH AIDS",
          "0604:PERSONAL CARE",
          "0836:HOUSEHOLD CLEANING",
          "0961:GENERAL GROCERIES",
          "0597:HEALTH AIDS",
          "0991:TOBACCO",
          "0644:SPORTS NUTRITION",
          "0984:BEER",
          "0982:SPIRITS",
          "0850:PC HDWR & OFFICE EQP",
          "0984:BEER",
          "0603:BEAUTY CARE",
          "0532:AMERICAN GREETINGS",
          "0595:HOME/BATH",
          "0983:WINE",
          "0597:HEALTH AIDS",
          "0604:PERSONAL CARE",
          "0962:BEVERAGES",
          "0982:SPIRITS",
          "0982:SPIRITS",
          "0984:BEER",
          "0836:HOUSEHOLD CLEANING",
          "0603:BEAUTY CARE",
          "0604:PERSONAL CARE",
          "0962:BEVERAGES",
          "0982:SPIRITS",
          "0440:GIRLS 7-16 CLOTHING",
          "0646:SEASONAL",
          "0962:BEVERAGES",
          "0359:MENS ACCESSORIES",
          "0597:HEALTH AIDS",
          "0604:PERSONAL CARE",
          "0634:VITAMINS & HLTH AIDS",
          "0836:HOUSEHOLD CLEANING",
          "0982:SPIRITS",
          "0991:TOBACCO",
          "0639:TEAM SPORTING GOODS",
          "0991:TOBACCO",
          "0797:SEASONAL GIFTS",
          "0982:SPIRITS",
          "0982:SPIRITS",
          "0982:SPIRITS",
          "0991:TOBACCO",
          "0991:TOBACCO",
          "0597:HEALTH AIDS",
          "0604:PERSONAL CARE",
          "0982:SPIRITS",
          "0597:HEALTH AIDS",
          "0604:PERSONAL CARE",
          "0836:HOUSEHOLD CLEANING",
          "0597:HEALTH AIDS",
          "0973:CANDY",
          "0597:HEALTH AIDS",
          "0984:BEER",
          "0590:MASS COSMETICS",
          "0604:PERSONAL CARE",
          "0982:SPIRITS",
          "0982:SPIRITS",
          "0991:TOBACCO",
          "0604:PERSONAL CARE",
          "0596:MENS PRESTIGE FRAG",
          "0640:TOYS",
          "0645:BIKES",
          "0554:TELECOMMUNICATIONS",
          "0859:iPAD",
          "0982:SPIRITS",
          "0984:BEER",
          "0984:BEER",
          "0598:BABY CARE",
          "0603:BEAUTY CARE",
          "0604:PERSONAL CARE",
          "0961:GENERAL GROCERIES",
          "0984:BEER",
          "0962:BEVERAGES",
          "0982:SPIRITS",
          "0640:TOYS",
          "0982:SPIRITS",
          "0991:TOBACCO",
          "0982:SPIRITS",
          "0879:PET SUPPLIES",
          "0983:WINE",
          "0597:HEALTH AIDS",
          "0644:SPORTS NUTRITION",
          "0973:CANDY",
          "0991:TOBACCO",
          "0962:BEVERAGES",
          "0982:SPIRITS",
          "0597:HEALTH AIDS",
          "0836:HOUSEHOLD CLEANING",
          "0961:GENERAL GROCERIES",
          "0982:SPIRITS",
          "0962:BEVERAGES",
          "0982:SPIRITS",
          "0991:TOBACCO",
          "0597:HEALTH AIDS",
          "0984:BEER",
          "0991:TOBACCO",
          "0826:SMALL ELECTRICS",
          "0879:PET SUPPLIES",
          "0639:TEAM SPORTING GOODS",
          "0983:WINE",
          "0597:HEALTH AIDS",
          "0962:BEVERAGES",
          "0982:SPIRITS",
          "0973:CANDY",
          "0982:SPIRITS",
          "0797:SEASONAL GIFTS",
          "0973:CANDY",
          "0982:SPIRITS",
          "0984:BEER",
          "0644:SPORTS NUTRITION",
          "0982:SPIRITS",
          "0597:HEALTH AIDS",
          "0603:BEAUTY CARE",
          "0604:PERSONAL CARE",
          "0836:HOUSEHOLD CLEANING",
          "0961:GENERAL GROCERIES",
          "0962:BEVERAGES",
          "0973:CANDY",
          "0982:SPIRITS",
          "0532:AMERICAN GREETINGS",
          "0604:PERSONAL CARE",
          "0879:PET SUPPLIES",
          "0991:TOBACCO",
          "0837:GENERAL HOUSEWARES",
          "0983:WINE",
          "0597:HEALTH AIDS",
          "0604:PERSONAL CARE",
          "0836:HOUSEHOLD CLEANING",
          "0962:BEVERAGES",
          "0982:SPIRITS",
          "0983:WINE",
          "0360:MENS FURNISHINGS",
          "0973:CANDY",
          "0173:JUNIOR BOTTOMS",
          "0178:DENIM COLLECTIONS",
          "0638:GEN SPORTING GOODS",
          "0380:MENS ACTIVEWEAR",
          "0879:PET SUPPLIES",
          "0991:TOBACCO",
          "0931:BATH",
          "0961:GENERAL GROCERIES",
          "0931:BATH",
          "0961:GENERAL GROCERIES",
          "0962:BEVERAGES",
          "0589:SUNGLASSES",
          "0593:PRESTIGE COSMETICS",
          "0595:HOME/BATH",
          "0961:GENERAL GROCERIES",
          "0962:BEVERAGES",
          "0973:CANDY",
          "0530:SCHOOL/OFFIC SUPP",
          "0982:SPIRITS",
          "0991:TOBACCO",
          "0836:HOUSEHOLD CLEANING",
          "0961:GENERAL GROCERIES",
          "0533:PAPYRUS",
          "0590:MASS COSMETICS",
          "0982:SPIRITS",
          "0983:WINE",
          "0359:MENS ACCESSORIES",
          "0826:SMALL ELECTRICS",
          "0836:HOUSEHOLD CLEANING",
          "0822:THIRD PARTY GIFTCARD",
          "0962:BEVERAGES",
          "0984:BEER",
          "0991:TOBACCO",
          "0353:MENS OUTDOOR",
          "0593:PRESTIGE COSMETICS",
          "0879:PET SUPPLIES",
          "0597:HEALTH AIDS",
          "0604:PERSONAL CARE",
          "0984:BEER",
          "0291:WOMENS FTWR:DRS/CAS",
          "0797:SEASONAL GIFTS",
          "0193:LADIES ACTIVEWEAR",
          "0595:HOME/BATH",
          "0815:AUDIO ELECTRONICS",
          "0837:GENERAL HOUSEWARES",
          "0554:TELECOMMUNICATIONS",
          "0597:HEALTH AIDS",
          "0638:GEN SPORTING GOODS",
          "0002:BARBER RETAIL",
          "0532:AMERICAN GREETINGS",
          "0646:SEASONAL",
          "0973:CANDY",
          "0962:BEVERAGES",
          "0973:CANDY",
          "0991:TOBACCO",
          "0421:TODDLER GIRL APPAREL",
          "0826:SMALL ELECTRICS",
          "0941:BEDDING",
          "0973:CANDY",
          "0991:TOBACCO",
          "0822:THIRD PARTY GIFTCARD",
          "0991:TOBACCO",
          "0353:MENS OUTDOOR",
          "0415:NEWBORN APPAREL",
          "0640:TOYS",
          "0646:SEASONAL",
          "0962:BEVERAGES",
          "0973:CANDY",
          "0991:TOBACCO",
          "0596:MENS PRESTIGE FRAG",
          "0240:SLEEPWEAR/LOUNGEWEAR",
          "0440:GIRLS 7-16 CLOTHING",
          "0470:BOYS 8-20 CLOTHING",
          "0982:SPIRITS",
          "0991:TOBACCO",
          "0530:SCHOOL/OFFIC SUPP",
          "0585:WATCHES",
          "0240:SLEEPWEAR/LOUNGEWEAR",
          "0261:HOSIERY",
          "0530:SCHOOL/OFFIC SUPP",
          "0532:AMERICAN GREETINGS",
          "0603:BEAUTY CARE",
          "0795:HOME DECOR",
          "0973:CANDY",
          "0991:TOBACCO",
          "0973:CANDY",
          "0597:HEALTH AIDS",
          "0597:HEALTH AIDS",
          "0604:PERSONAL CARE",
          "0638:GEN SPORTING GOODS",
          "0991:TOBACCO",
          "0973:CANDY",
          "0797:SEASONAL GIFTS",
          "0991:TOBACCO",
          "0530:SCHOOL/OFFIC SUPP",
          "0837:GENERAL HOUSEWARES",
          "0343:MENS DENIM JEANS",
          "0391:MENS SHOES",
          "0395:MENS ATHLETIC SHOES",
          "0646:SEASONAL",
          "0962:BEVERAGES",
          "0973:CANDY",
          "0991:TOBACCO",
          "0310:MENS OUTERWEAR",
          "0343:MENS DENIM JEANS",
          "0354:MENS MODERN COLLECT",
          "0962:BEVERAGES",
          "0973:CANDY",
          "0962:BEVERAGES",
          "0982:SPIRITS",
          "0984:BEER",
          "0991:TOBACCO",
          "0261:HOSIERY",
          "0816:VIDEO ELECTRONICS",
          "0826:SMALL ELECTRICS",
          "0962:BEVERAGES",
          "0973:CANDY",
          "0991:TOBACCO",
          "0343:MENS DENIM JEANS",
          "0353:MENS OUTDOOR",
          "0638:GEN SPORTING GOODS",
          "0532:AMERICAN GREETINGS",
          "0590:MASS COSMETICS",
          "0603:BEAUTY CARE",
          "0961:GENERAL GROCERIES",
          "0962:BEVERAGES",
          "0973:CANDY",
          "0983:WINE",
          "0962:BEVERAGES",
          "0982:SPIRITS",
          "0983:WINE",
          "0984:BEER",
          "0973:CANDY",
          "0973:CANDY",
          "0163:JUNIOR TOPS",
          "0826:SMALL ELECTRICS",
          "0291:WOMENS FTWR:DRS/CAS",
          "0320:MNS TAILORED CLOTHNG",
          "0340:MENS CASUAL SLACKS",
          "0358:MENS DRESS SHIRTS",
          "0359:MENS ACCESSORIES",
          "0593:PRESTIGE COSMETICS",
          "0991:TOBACCO",
          "0962:BEVERAGES",
          "0240:SLEEPWEAR/LOUNGEWEAR",
          "0486:CHILDRENS FOOTWEAR",
          "0532:AMERICAN GREETINGS",
          "0597:HEALTH AIDS",
          "0983:WINE",
          "0188:STYLE & CO",
          "0593:PRESTIGE COSMETICS",
          "0597:HEALTH AIDS",
          "0604:PERSONAL CARE",
          "0836:HOUSEHOLD CLEANING",
          "0991:TOBACCO",
          "0182:CLASSIC COLLECTIONS",
          "0343:MENS DENIM JEANS",
          "0411:PEGABLES",
          "0415:NEWBORN APPAREL",
          "0416:INFANT APPAREL",
          "0426:TODDLER BOY APPAREL",
          "0360:MENS FURNISHINGS",
          "0532:AMERICAN GREETINGS",
          "0604:PERSONAL CARE",
          "0797:SEASONAL GIFTS",
          "0822:THIRD PARTY GIFTCARD",
          "0837:GENERAL HOUSEWARES",
          "0838:FLOOR CARE",
          "0638:GEN SPORTING GOODS",
          "0167:MISSY TOPS",
          "0603:BEAUTY CARE",
          "0604:PERSONAL CARE",
          "0991:TOBACCO",
          "0991:TOBACCO",
          "0595:HOME/BATH",
          "0603:BEAUTY CARE",
          "0360:MENS FURNISHINGS",
          "0368:TRAD COLLECTIONS",
          "0991:TOBACCO",
          "0359:MENS ACCESSORIES",
          "0360:MENS FURNISHINGS",
          "0590:MASS COSMETICS",
          "0839:HOME ORG/SOLUTIONS",
          "0856:GLUES/TAPES/ACC",
          "0879:PET SUPPLIES",
          "0931:BATH",
          "0604:PERSONAL CARE",
          "0961:GENERAL GROCERIES",
          "0604:PERSONAL CARE",
          "0604:PERSONAL CARE",
          "0962:BEVERAGES",
          "0449:GIRLS ACCESSORIES",
          "0639:TEAM SPORTING GOODS",
          "0962:BEVERAGES",
          "0965:PERISHABLES",
          "0597:HEALTH AIDS",
          "0991:TOBACCO",
          "0991:TOBACCO",
          "0240:SLEEPWEAR/LOUNGEWEAR",
          "0469:BOYS ACCESSORIES",
          "0470:BOYS 8-20 CLOTHING",
          "0597:HEALTH AIDS",
          "0604:PERSONAL CARE",
          "0640:TOYS",
          "0836:HOUSEHOLD CLEANING",
          "0846:BATTERIES",
          "0879:PET SUPPLIES",
          "0973:CANDY",
          "0836:HOUSEHOLD CLEANING",
          "0597:HEALTH AIDS",
          "0598:BABY CARE",
          "0836:HOUSEHOLD CLEANING",
          "0861:GENERAL HARDWARE",
          "0961:GENERAL GROCERIES",
          "0962:BEVERAGES",
          "0991:TOBACCO",
          "0469:BOYS ACCESSORIES",
          "0470:BOYS 8-20 CLOTHING",
          "0973:CANDY",
          "0646:SEASONAL",
          "0680:AUTOMOTIVE",
          "0861:GENERAL HARDWARE",
          "0879:PET SUPPLIES",
          "0991:TOBACCO",
          "0161:MISSY KAREN SCOTT",
          "0182:CLASSIC COLLECTIONS",
          "0240:SLEEPWEAR/LOUNGEWEAR",
          "0531:STATIONERY SUNDRIES",
          "0597:HEALTH AIDS",
          "0603:BEAUTY CARE",
          "0826:SMALL ELECTRICS",
          "0836:HOUSEHOLD CLEANING",
          "0884:LAWN & GARDEN",
          "0983:WINE",
          "0358:MENS DRESS SHIRTS",
          "0359:MENS ACCESSORIES",
          "0991:TOBACCO",
          "0541:BOOKS AND MAPS",
          "0962:BEVERAGES",
          "0973:CANDY",
          "0593:PRESTIGE COSMETICS",
          "0604:PERSONAL CARE",
          "0646:SEASONAL",
          "0603:BEAUTY CARE",
          "0638:GEN SPORTING GOODS",
          "0836:HOUSEHOLD CLEANING",
          "0846:BATTERIES",
          "0532:AMERICAN GREETINGS",
          "0822:THIRD PARTY GIFTCARD",
          "0291:WOMENS FTWR:DRS/CAS",
          "0991:TOBACCO",
          "0540:PERIODICALS/COMICS",
          "0983:WINE",
          "0991:TOBACCO",
          "0359:MENS ACCESSORIES",
          "0604:PERSONAL CARE",
          "0973:CANDY",
          "0585:WATCHES",
          "0854:VIDEO GAMES",
          "0962:BEVERAGES",
          "0486:CHILDRENS FOOTWEAR",
          "0598:BABY CARE",
          "0603:BEAUTY CARE",
          "0604:PERSONAL CARE",
          "0991:TOBACCO",
          "0595:HOME/BATH",
          "0991:TOBACCO",
          "0644:SPORTS NUTRITION",
          "0859:iPAD",
          "0973:CANDY",
          "0110:LDS OUTERWEAR/OUTDR",
          "0991:TOBACCO",
          "0846:BATTERIES",
          "0879:PET SUPPLIES",
          "0962:BEVERAGES",
          "0261:HOSIERY",
          "0590:MASS COSMETICS",
          "0839:HOME ORG/SOLUTIONS",
          "0271:HANDBAGS",
          "0470:BOYS 8-20 CLOTHING",
          "0589:SUNGLASSES",
          "0532:AMERICAN GREETINGS",
          "0646:SEASONAL",
          "0973:CANDY",
          "0604:PERSONAL CARE",
          "0846:BATTERIES",
          "0982:SPIRITS",
          "0261:HOSIERY",
          "0826:SMALL ELECTRICS",
          "0837:GENERAL HOUSEWARES",
          "0359:MENS ACCESSORIES",
          "0360:MENS FURNISHINGS",
          "0837:GENERAL HOUSEWARES",
          "0597:HEALTH AIDS",
          "0603:BEAUTY CARE",
          "0846:BATTERIES",
          "0991:TOBACCO",
          "0188:STYLE & CO",
          "0240:SLEEPWEAR/LOUNGEWEAR",
          "0261:HOSIERY",
          "0826:SMALL ELECTRICS",
          "0836:HOUSEHOLD CLEANING",
          "0982:SPIRITS",
          "0991:TOBACCO",
          "0589:SUNGLASSES",
          "0962:BEVERAGES",
          "0604:PERSONAL CARE",
          "0646:SEASONAL",
          "0797:SEASONAL GIFTS",
          "0879:PET SUPPLIES",
          "0973:CANDY",
          "0360:MENS FURNISHINGS",
          "0416:INFANT APPAREL",
          "0439:JUVENILLE FURNITURE",
          "0554:TELECOMMUNICATIONS",
          "0589:SUNGLASSES",
          "0589:SUNGLASSES",
          "0360:MENS FURNISHINGS",
          "0604:PERSONAL CARE",
          "0836:HOUSEHOLD CLEANING",
          "0982:SPIRITS",
          "0358:MENS DRESS SHIRTS",
          "0163:JUNIOR TOPS",
          "0603:BEAUTY CARE",
          "0604:PERSONAL CARE",
          "0836:HOUSEHOLD CLEANING",
          "0962:BEVERAGES",
          "0983:WINE",
          "0984:BEER",
          "0819:PRE-RECORDED A/V",
          "0811:TELEVISION",
          "0530:SCHOOL/OFFIC SUPP",
          "0860:NETWORKING",
          "0991:TOBACCO",
          "0604:PERSONAL CARE",
          "0991:TOBACCO",
          "0644:SPORTS NUTRITION",
          "0815:AUDIO ELECTRONICS",
          "0837:GENERAL HOUSEWARES",
          "0879:PET SUPPLIES",
          "0973:CANDY",
          "0826:SMALL ELECTRICS",
          "0291:WOMENS FTWR:DRS/CAS",
          "0163:JUNIOR TOPS",
          "0826:SMALL ELECTRICS",
          "0991:TOBACCO",
          "0991:TOBACCO",
          "0836:HOUSEHOLD CLEANING",
          "0962:BEVERAGES",
          "0991:TOBACCO",
          "0358:MENS DRESS SHIRTS",
          "0597:HEALTH AIDS",
          "0416:INFANT APPAREL",
          "0532:AMERICAN GREETINGS",
          "0797:SEASONAL GIFTS",
          "0837:GENERAL HOUSEWARES",
          "0973:CANDY",
          "0982:SPIRITS",
          "0597:HEALTH AIDS",
          "0836:HOUSEHOLD CLEANING",
          "0846:BATTERIES",
          "0962:BEVERAGES",
          "0973:CANDY",
          "0991:TOBACCO",
          "0554:TELECOMMUNICATIONS",
          "0991:TOBACCO",
          "0486:CHILDRENS FOOTWEAR",
          "0369:YOUNG MENS",
          "0395:MENS ATHLETIC SHOES",
          "0261:HOSIERY",
          "0961:GENERAL GROCERIES",
          "0973:CANDY",
          "0984:BEER",
          "0530:SCHOOL/OFFIC SUPP",
          "0179:MODERATE DENIM",
          "0532:AMERICAN GREETINGS",
          "0931:BATH",
          "0598:BABY CARE",
          "0962:BEVERAGES",
          "0973:CANDY",
          "0982:SPIRITS",
          "0411:PEGABLES",
          "0430:GIRLS 4-6X CLOTHING",
          "0486:CHILDRENS FOOTWEAR",
          "0604:PERSONAL CARE",
          "0640:TOYS",
          "0991:TOBACCO",
          "0369:YOUNG MENS",
          "0603:BEAUTY CARE",
          "0646:SEASONAL",
          "0597:HEALTH AIDS",
          "0380:MENS ACTIVEWEAR",
          "0593:PRESTIGE COSMETICS",
          "0597:HEALTH AIDS",
          "0604:PERSONAL CARE",
          "0973:CANDY",
          "0531:STATIONERY SUNDRIES",
          "0597:HEALTH AIDS",
          "0879:PET SUPPLIES",
          "0962:BEVERAGES",
          "0973:CANDY",
          "0983:WINE",
          "0603:BEAUTY CARE",
          "0076:FLORAL RETAIL",
          "0411:PEGABLES",
          "0530:SCHOOL/OFFIC SUPP",
          "0531:STATIONERY SUNDRIES",
          "0532:AMERICAN GREETINGS",
          "0597:HEALTH AIDS",
          "0598:BABY CARE",
          "0603:BEAUTY CARE",
          "0646:SEASONAL",
          "0836:HOUSEHOLD CLEANING",
          "0962:BEVERAGES",
          "0098:WAREHOUSED EXPENSES",
          "0360:MENS FURNISHINGS",
          "0962:BEVERAGES",
          "0962:BEVERAGES",
          "0359:MENS ACCESSORIES",
          "0598:BABY CARE",
          "0603:BEAUTY CARE",
          "0604:PERSONAL CARE",
          "0411:PEGABLES",
          "0280:FASHION ACCESSORIES",
          "0532:AMERICAN GREETINGS",
          "0540:PERIODICALS/COMICS",
          "0590:MASS COSMETICS",
          "0597:HEALTH AIDS",
          "0603:BEAUTY CARE",
          "0961:GENERAL GROCERIES",
          "0962:BEVERAGES",
          "0965:PERISHABLES",
          "0973:CANDY",
          "0973:CANDY",
          "0359:MENS ACCESSORIES",
          "0973:CANDY",
          "0590:MASS COSMETICS",
          "0597:HEALTH AIDS",
          "0604:PERSONAL CARE",
          "0973:CANDY",
          "0983:WINE",
          "0193:LADIES ACTIVEWEAR",
          "0415:NEWBORN APPAREL",
          "0530:SCHOOL/OFFIC SUPP",
          "0597:HEALTH AIDS",
          "0856:GLUES/TAPES/ACC",
          "0415:NEWBORN APPAREL",
          "0449:GIRLS ACCESSORIES",
          "0973:CANDY",
          "0991:TOBACCO",
          "0991:TOBACCO",
          "0598:BABY CARE",
          "0638:GEN SPORTING GOODS",
          "0961:GENERAL GROCERIES",
          "0962:BEVERAGES",
          "0973:CANDY",
          "0991:TOBACCO",
          "0962:BEVERAGES",
          "0056:SOUVENIR",
          "0530:SCHOOL/OFFIC SUPP",
          "0856:GLUES/TAPES/ACC",
          "0973:CANDY",
          "0415:NEWBORN APPAREL",
          "0598:BABY CARE",
          "0991:TOBACCO",
          "0486:CHILDRENS FOOTWEAR",
          "0368:TRAD COLLECTIONS",
          "0973:CANDY",
          "0982:SPIRITS",
          "0983:WINE",
          "0991:TOBACCO",
          "0593:PRESTIGE COSMETICS",
          "0815:AUDIO ELECTRONICS",
          "0962:BEVERAGES",
          "0991:TOBACCO",
          "0961:GENERAL GROCERIES",
          "0962:BEVERAGES",
          "0177:PETITE SEPARATES",
          "0178:DENIM COLLECTIONS",
          "0531:STATIONERY SUNDRIES",
          "0532:AMERICAN GREETINGS",
          "0973:CANDY",
          "0983:WINE",
          "0593:PRESTIGE COSMETICS",
          "0280:FASHION ACCESSORIES",
          "0982:SPIRITS",
          "0167:MISSY TOPS",
          "0171:MISSY BOTTOMS",
          "0175:WOMENS SEPARATES",
          "0991:TOBACCO",
          "0271:HANDBAGS",
          "0598:BABY CARE",
          "0167:MISSY TOPS",
          "0353:MENS OUTDOOR",
          "0640:TOYS",
          "0973:CANDY",
          "0991:TOBACCO",
          "0002:BARBER RETAIL",
          "0359:MENS ACCESSORIES",
          "0811:TELEVISION",
          "0961:GENERAL GROCERIES",
          "0973:CANDY",
          "0991:TOBACCO",
          "0532:AMERICAN GREETINGS",
          "0593:PRESTIGE COSMETICS",
          "0991:TOBACCO",
          "0130:JUNIORS SURF",
          "0163:JUNIOR TOPS",
          "0597:HEALTH AIDS",
          "0604:PERSONAL CARE",
          "0961:GENERAL GROCERIES",
          "0973:CANDY",
          "0589:SUNGLASSES",
          "0530:SCHOOL/OFFIC SUPP",
          "0110:LDS OUTERWEAR/OUTDR",
          "0680:AUTOMOTIVE",
          "0962:BEVERAGES",
          "0511:NAVY PRIDE SOFTLINES",
          "0589:SUNGLASSES",
          "0592:WMNS PRESTIGE FRAG",
          "0596:MENS PRESTIGE FRAG",
          "0368:TRAD COLLECTIONS",
          "0973:CANDY",
          "0355:MENS SPORT SHIRTS",
          "0931:BATH",
          "0511:NAVY PRIDE SOFTLINES",
          "0581:BRIDGE JEWELRY",
          "0632:DIGITAL FITNESS",
          "0982:SPIRITS",
          "0991:TOBACCO",
          "0991:TOBACCO",
          "0991:TOBACCO",
          "0592:WMNS PRESTIGE FRAG",
          "0962:BEVERAGES",
          "0280:FASHION ACCESSORIES",
          "0358:MENS DRESS SHIRTS",
          "0421:TODDLER GIRL APPAREL",
          "0110:LDS OUTERWEAR/OUTDR",
          "0271:HANDBAGS",
          "0593:PRESTIGE COSMETICS",
          "0837:GENERAL HOUSEWARES",
          "0930:TABLE TOP & KITCHEN",
          "0973:CANDY",
          "0280:FASHION ACCESSORIES",
          "0991:TOBACCO",
          "0530:SCHOOL/OFFIC SUPP",
          "0973:CANDY",
          "0991:TOBACCO",
          "0597:HEALTH AIDS",
          "0646:SEASONAL",
          "0836:HOUSEHOLD CLEANING",
          "0634:VITAMINS & HLTH AIDS",
          "0636:FITNESS/EXERCISE",
          "0836:HOUSEHOLD CLEANING",
          "0850:PC HDWR & OFFICE EQP",
          "0163:JUNIOR TOPS",
          "0056:SOUVENIR",
          "0421:TODDLER GIRL APPAREL",
          "0595:HOME/BATH",
          "0640:TOYS",
          "0826:SMALL ELECTRICS",
          "0833:TABLETOP",
          "0837:GENERAL HOUSEWARES",
          "0991:TOBACCO",
          "0595:HOME/BATH",
          "0822:THIRD PARTY GIFTCARD",
          "0590:MASS COSMETICS",
          "0597:HEALTH AIDS",
          "0973:CANDY",
          "0603:BEAUTY CARE",
          "0604:PERSONAL CARE",
          "0962:BEVERAGES",
          "0261:HOSIERY",
          "0360:MENS FURNISHINGS",
          "0603:BEAUTY CARE",
          "0604:PERSONAL CARE",
          "0597:HEALTH AIDS",
          "0604:PERSONAL CARE",
          "0962:BEVERAGES",
          "0982:SPIRITS",
          "0962:BEVERAGES",
          "0597:HEALTH AIDS",
          "0850:PC HDWR & OFFICE EQP",
          "0879:PET SUPPLIES",
          "0983:WINE",
          "0449:GIRLS ACCESSORIES",
          "0991:TOBACCO",
          "0811:TELEVISION",
          "0230:DAYWEAR",
          "0261:HOSIERY",
          "0592:WMNS PRESTIGE FRAG",
          "0595:HOME/BATH",
          "0797:SEASONAL GIFTS",
          "0186:JUNIOR DRESSES",
          "0982:SPIRITS",
          "0991:TOBACCO",
          "0797:SEASONAL GIFTS",
          "0984:BEER",
          "0991:TOBACCO",
          "0861:GENERAL HARDWARE",
          "0962:BEVERAGES",
          "0973:CANDY",
          "0857:PC PERIPH/OFFICE ACC",
          "0391:MENS SHOES",
          "0486:CHILDRENS FOOTWEAR",
          "0469:BOYS ACCESSORIES",
          "0470:BOYS 8-20 CLOTHING",
          "0240:SLEEPWEAR/LOUNGEWEAR",
          "0353:MENS OUTDOOR",
          "0368:TRAD COLLECTIONS",
          "0415:NEWBORN APPAREL",
          "0460:BOYS 4-7 CLOTHING",
          "0530:SCHOOL/OFFIC SUPP",
          "0586:COSTUME JEWELRY",
          "0837:GENERAL HOUSEWARES",
          "0991:TOBACCO",
          "0961:GENERAL GROCERIES",
          "0962:BEVERAGES",
          "0991:TOBACCO",
          "0861:GENERAL HARDWARE",
          "0930:TABLE TOP & KITCHEN",
          "0071:BEAUTY RETAIL",
          "0261:HOSIERY",
          "0359:MENS ACCESSORIES",
          "0585:WATCHES",
          "0856:GLUES/TAPES/ACC",
          "0962:BEVERAGES",
          "0973:CANDY",
          "0991:TOBACCO",
          "0991:TOBACCO",
          "0230:DAYWEAR",
          "0291:WOMENS FTWR:DRS/CAS",
          "0589:SUNGLASSES",
          "0581:BRIDGE JEWELRY",
          "0590:MASS COSMETICS",
          "0593:PRESTIGE COSMETICS",
          "0603:BEAUTY CARE",
          "0836:HOUSEHOLD CLEANING",
          "0850:PC HDWR & OFFICE EQP",
          "0860:NETWORKING",
          "0962:BEVERAGES",
          "0380:MENS ACTIVEWEAR",
          "0598:BABY CARE",
          "0646:SEASONAL",
          "0815:AUDIO ELECTRONICS",
          "0941:BEDDING",
          "0589:SUNGLASSES",
          "0346:LIFE STYLE DENIM",
          "0056:SOUVENIR",
          "0532:AMERICAN GREETINGS",
          "0416:INFANT APPAREL",
          "0597:HEALTH AIDS",
          "0593:PRESTIGE COSMETICS",
          "0854:VIDEO GAMES",
          "0131:LADIES DRESSES",
          "0280:FASHION ACCESSORIES",
          "0369:YOUNG MENS",
          "0644:SPORTS NUTRITION",
          "0836:HOUSEHOLD CLEANING",
          "0991:TOBACCO",
          "0353:MENS OUTDOOR",
          "0632:DIGITAL FITNESS",
          "0991:TOBACCO",
          "0380:MENS ACTIVEWEAR",
          "0973:CANDY",
          "0983:WINE",
          "0510:NAVY PRIDE HARDLINES",
          "0554:TELECOMMUNICATIONS",
          "0167:MISSY TOPS",
          "0261:HOSIERY",
          "0280:FASHION ACCESSORIES",
          "0991:TOBACCO",
          "0991:TOBACCO",
          "0380:MENS ACTIVEWEAR",
          "0638:GEN SPORTING GOODS",
          "0845:AS SEEN ON TV",
          "0511:NAVY PRIDE SOFTLINES",
          "0110:LDS OUTERWEAR/OUTDR",
          "0161:MISSY KAREN SCOTT",
          "0271:HANDBAGS",
          "0593:PRESTIGE COSMETICS",
          "0380:MENS ACTIVEWEAR",
          "0839:HOME ORG/SOLUTIONS",
          "0353:MENS OUTDOOR",
          "0961:GENERAL GROCERIES",
          "0645:BIKES",
          "0836:HOUSEHOLD CLEANING",
          "0962:BEVERAGES",
          "0973:CANDY",
          "0161:MISSY KAREN SCOTT",
          "0416:INFANT APPAREL",
          "0640:TOYS",
          "0797:SEASONAL GIFTS",
          "0982:SPIRITS",
          "0354:MENS MODERN COLLECT",
          "0486:CHILDRENS FOOTWEAR",
          "0532:AMERICAN GREETINGS",
          "0603:BEAUTY CARE",
          "0826:SMALL ELECTRICS",
          "0271:HANDBAGS",
          "0826:SMALL ELECTRICS",
          "0961:GENERAL GROCERIES",
          "0173:JUNIOR BOTTOMS",
          "0178:DENIM COLLECTIONS",
          "0188:STYLE & CO",
          "0261:HOSIERY",
          "0291:WOMENS FTWR:DRS/CAS",
          "0586:COSTUME JEWELRY",
          "0646:SEASONAL",
          "0795:HOME DECOR",
          "0837:GENERAL HOUSEWARES",
          "0973:CANDY",
          "0826:SMALL ELECTRICS",
          "0837:GENERAL HOUSEWARES",
          "0930:TABLE TOP & KITCHEN",
          "0941:BEDDING",
          "0826:SMALL ELECTRICS",
          "0834:COOKWARE",
          "0973:CANDY",
          "0531:STATIONERY SUNDRIES",
          "0636:FITNESS/EXERCISE",
          "0640:TOYS",
          "0983:WINE",
          "0597:HEALTH AIDS",
          "0604:PERSONAL CARE",
          "0836:HOUSEHOLD CLEANING",
          "0439:JUVENILLE FURNITURE",
          "0415:NEWBORN APPAREL",
          "0416:INFANT APPAREL",
          "0845:AS SEEN ON TV",
          "0973:CANDY",
          "0982:SPIRITS",
          "0984:BEER",
          "0261:HOSIERY",
          "0430:GIRLS 4-6X CLOTHING",
          "0460:BOYS 4-7 CLOTHING",
          "0469:BOYS ACCESSORIES",
          "0603:BEAUTY CARE",
          "0931:BATH",
          "0982:SPIRITS",
          "0598:BABY CARE",
          "0598:BABY CARE",
          "0532:AMERICAN GREETINGS",
          "0879:PET SUPPLIES",
          "0983:WINE",
          "0210:FOUNDATIONS",
          "0415:NEWBORN APPAREL",
          "0421:TODDLER GIRL APPAREL",
          "0797:SEASONAL GIFTS",
          "0838:FLOOR CARE",
          "0240:SLEEPWEAR/LOUNGEWEAR",
          "0261:HOSIERY",
          "0271:HANDBAGS",
          "0415:NEWBORN APPAREL",
          "0426:TODDLER BOY APPAREL",
          "0430:GIRLS 4-6X CLOTHING",
          "0973:CANDY",
          "0411:PEGABLES",
          "0415:NEWBORN APPAREL",
          "0416:INFANT APPAREL",
          "0973:CANDY",
          "0983:WINE",
          "0353:MENS OUTDOOR",
          "0380:MENS ACTIVEWEAR",
          "0595:HOME/BATH",
          "0359:MENS ACCESSORIES",
          "0360:MENS FURNISHINGS",
          "0597:HEALTH AIDS",
          "0597:HEALTH AIDS",
          "0973:CANDY",
          "0597:HEALTH AIDS",
          "0836:HOUSEHOLD CLEANING",
          "0846:BATTERIES",
          "0983:WINE",
          "0532:AMERICAN GREETINGS",
          "0590:MASS COSMETICS",
          "0930:TABLE TOP & KITCHEN",
          "0973:CANDY",
          "0391:MENS SHOES",
          "0962:BEVERAGES",
          "0380:MENS ACTIVEWEAR",
          "0391:MENS SHOES",
          "0597:HEALTH AIDS",
          "0836:HOUSEHOLD CLEANING",
          "0961:GENERAL GROCERIES",
          "0973:CANDY",
          "0220:SHAPEWEAR",
          "0962:BEVERAGES",
          "0532:AMERICAN GREETINGS",
          "0592:WMNS PRESTIGE FRAG",
          "0604:PERSONAL CARE",
          "0486:CHILDRENS FOOTWEAR",
          "0999:UNSCANNED ITEMS",
          "0380:MENS ACTIVEWEAR",
          "0826:SMALL ELECTRICS",
          "0056:SOUVENIR",
          "0360:MENS FURNISHINGS",
          "0532:AMERICAN GREETINGS",
          "0590:MASS COSMETICS",
          "0597:HEALTH AIDS",
          "0884:LAWN & GARDEN",
          "0973:CANDY",
          "0510:NAVY PRIDE HARDLINES",
          "0973:CANDY",
          "0795:HOME DECOR",
          "0056:SOUVENIR",
          "0597:HEALTH AIDS",
          "0603:BEAUTY CARE",
          "0836:HOUSEHOLD CLEANING",
          "0999:UNSCANNED ITEMS",
          "0369:YOUNG MENS",
          "0836:HOUSEHOLD CLEANING",
          "0965:PERISHABLES",
          "0973:CANDY",
          "0982:SPIRITS",
          "0593:PRESTIGE COSMETICS",
          "0603:BEAUTY CARE",
          "0604:PERSONAL CARE",
          "0271:HANDBAGS",
          "0983:WINE",
          "0310:MENS OUTERWEAR",
          "0604:PERSONAL CARE",
          "0836:HOUSEHOLD CLEANING",
          "0962:BEVERAGES",
          "0982:SPIRITS",
          "0984:BEER",
          "0469:BOYS ACCESSORIES",
          "0795:HOME DECOR",
          "0836:HOUSEHOLD CLEANING",
          "0845:AS SEEN ON TV",
          "0240:SLEEPWEAR/LOUNGEWEAR",
          "0854:VIDEO GAMES",
          "0931:BATH",
          "0440:GIRLS 7-16 CLOTHING",
          "0469:BOYS ACCESSORIES",
          "0532:AMERICAN GREETINGS",
          "0603:BEAUTY CARE",
          "0604:PERSONAL CARE",
          "0822:THIRD PARTY GIFTCARD",
          "0421:TODDLER GIRL APPAREL",
          "0598:BABY CARE",
          "0836:HOUSEHOLD CLEANING",
          "0879:PET SUPPLIES",
          "0822:THIRD PARTY GIFTCARD",
          "0822:THIRD PARTY GIFTCARD",
          "0646:SEASONAL",
          "0973:CANDY",
          "0603:BEAUTY CARE",
          "0836:HOUSEHOLD CLEANING",
          "0879:PET SUPPLIES",
          "0984:BEER",
          "0597:HEALTH AIDS",
          "0836:HOUSEHOLD CLEANING",
          "0193:LADIES ACTIVEWEAR",
          "0590:MASS COSMETICS",
          "0961:GENERAL GROCERIES",
          "0973:CANDY",
          "0532:AMERICAN GREETINGS",
          "0646:SEASONAL",
          "0193:LADIES ACTIVEWEAR",
          "0380:MENS ACTIVEWEAR",
          "0646:SEASONAL",
          "0836:HOUSEHOLD CLEANING",
          "0846:BATTERIES",
          "0973:CANDY",
          "0163:JUNIOR TOPS",
          "0173:JUNIOR BOTTOMS",
          "0359:MENS ACCESSORIES",
          "0360:MENS FURNISHINGS",
          "0973:CANDY",
          "0532:AMERICAN GREETINGS",
          "0646:SEASONAL",
          "0797:SEASONAL GIFTS",
          "0991:TOBACCO",
          "0188:STYLE & CO",
          "0230:DAYWEAR",
          "0261:HOSIERY",
          "0210:FOUNDATIONS",
          "0359:MENS ACCESSORIES",
          "0261:HOSIERY",
          "0369:YOUNG MENS",
          "0590:MASS COSMETICS",
          "0595:HOME/BATH",
          "0603:BEAUTY CARE",
          "0836:HOUSEHOLD CLEANING",
          "0961:GENERAL GROCERIES",
          "0982:SPIRITS",
          "0837:GENERAL HOUSEWARES",
          "0973:CANDY",
          "0597:HEALTH AIDS",
          "0603:BEAUTY CARE",
          "0604:PERSONAL CARE",
          "0961:GENERAL GROCERIES",
          "0962:BEVERAGES",
          "0603:BEAUTY CARE",
          "0636:FITNESS/EXERCISE",
          "0826:SMALL ELECTRICS",
          "0597:HEALTH AIDS",
          "0823:SMART HOME",
          "0962:BEVERAGES",
          "0532:AMERICAN GREETINGS",
          "0551:CAMERAS & EQUIP",
          "0815:AUDIO ELECTRONICS",
          "0636:FITNESS/EXERCISE",
          "0991:TOBACCO",
          "0603:BEAUTY CARE",
          "0962:BEVERAGES",
          "0991:TOBACCO",
          "0532:AMERICAN GREETINGS",
          "0640:TOYS",
          "0973:CANDY",
          "0836:HOUSEHOLD CLEANING",
          "0962:BEVERAGES",
          "0837:GENERAL HOUSEWARES",
          "0360:MENS FURNISHINGS",
          "0369:YOUNG MENS",
          "0530:SCHOOL/OFFIC SUPP",
          "0661:LUGGAGE",
          "0530:SCHOOL/OFFIC SUPP",
          "0541:BOOKS AND MAPS",
          "0640:TOYS",
          "0982:SPIRITS",
          "0961:GENERAL GROCERIES",
          "0982:SPIRITS",
          "0360:MENS FURNISHINGS",
          "0597:HEALTH AIDS",
          "0603:BEAUTY CARE",
          "0836:HOUSEHOLD CLEANING",
          "0962:BEVERAGES",
          "0973:CANDY",
          "0532:AMERICAN GREETINGS",
          "0646:SEASONAL",
          "0846:BATTERIES",
          "0973:CANDY",
          "0271:HANDBAGS",
          "0346:LIFE STYLE DENIM",
          "0590:MASS COSMETICS",
          "0597:HEALTH AIDS",
          "0603:BEAUTY CARE",
          "0640:TOYS",
          "0836:HOUSEHOLD CLEANING",
          "0837:GENERAL HOUSEWARES",
          "0930:TABLE TOP & KITCHEN",
          "0931:BATH",
          "0973:CANDY",
          "0163:JUNIOR TOPS",
          "0280:FASHION ACCESSORIES",
          "0369:YOUNG MENS",
          "0411:PEGABLES",
          "0415:NEWBORN APPAREL",
          "0593:PRESTIGE COSMETICS",
          "0604:PERSONAL CARE",
          "0603:BEAUTY CARE",
          "0797:SEASONAL GIFTS",
          "0837:GENERAL HOUSEWARES",
          "0395:MENS ATHLETIC SHOES",
          "0973:CANDY",
          "0982:SPIRITS",
          "0983:WINE",
          "0530:SCHOOL/OFFIC SUPP",
          "0639:TEAM SPORTING GOODS",
          "0861:GENERAL HARDWARE",
          "0962:BEVERAGES",
          "0991:TOBACCO",
          "0353:MENS OUTDOOR",
          "0592:WMNS PRESTIGE FRAG",
          "0593:PRESTIGE COSMETICS",
          "0973:CANDY",
          "0340:MENS CASUAL SLACKS",
          "0380:MENS ACTIVEWEAR",
          "0161:MISSY KAREN SCOTT",
          "0271:HANDBAGS",
          "0644:SPORTS NUTRITION",
          "0962:BEVERAGES",
          "0965:PERISHABLES",
          "0161:MISSY KAREN SCOTT",
          "0177:PETITE SEPARATES",
          "0193:LADIES ACTIVEWEAR",
          "0360:MENS FURNISHINGS",
          "0532:AMERICAN GREETINGS",
          "0593:PRESTIGE COSMETICS",
          "0171:MISSY BOTTOMS",
          "0661:LUGGAGE",
          "0593:PRESTIGE COSMETICS",
          "0603:BEAUTY CARE",
          "0973:CANDY",
          "0590:MASS COSMETICS",
          "0597:HEALTH AIDS",
          "0603:BEAUTY CARE",
          "0604:PERSONAL CARE",
          "0530:SCHOOL/OFFIC SUPP",
          "0110:LDS OUTERWEAR/OUTDR",
          "0551:CAMERAS & EQUIP",
          "0632:DIGITAL FITNESS",
          "0982:SPIRITS",
          "0426:TODDLER BOY APPAREL",
          "0469:BOYS ACCESSORIES",
          "0640:TOYS",
          "0982:SPIRITS",
          "0604:PERSONAL CARE",
          "0634:VITAMINS & HLTH AIDS",
          "0961:GENERAL GROCERIES",
          "0634:VITAMINS & HLTH AIDS",
          "0836:HOUSEHOLD CLEANING",
          "0530:SCHOOL/OFFIC SUPP",
          "0837:GENERAL HOUSEWARES",
          "0930:TABLE TOP & KITCHEN",
          "0833:TABLETOP",
          "0837:GENERAL HOUSEWARES",
          "0931:BATH",
          "0056:SOUVENIR",
          "0510:NAVY PRIDE HARDLINES",
          "0532:AMERICAN GREETINGS",
          "0962:BEVERAGES",
          "0071:BEAUTY RETAIL",
          "0358:MENS DRESS SHIRTS",
          "0597:HEALTH AIDS",
          "0098:WAREHOUSED EXPENSES",
          "0430:GIRLS 4-6X CLOTHING",
          "0449:GIRLS ACCESSORIES",
          "0530:SCHOOL/OFFIC SUPP",
          "0646:SEASONAL",
          "0822:THIRD PARTY GIFTCARD",
          "0163:JUNIOR TOPS",
          "0167:MISSY TOPS",
          "0056:SOUVENIR",
          "0163:JUNIOR TOPS",
          "0965:PERISHABLES",
          "0962:BEVERAGES",
          "0640:TOYS",
          "0646:SEASONAL",
          "0822:THIRD PARTY GIFTCARD",
          "0962:BEVERAGES",
          "0369:YOUNG MENS",
          "0530:SCHOOL/OFFIC SUPP",
          "0826:SMALL ELECTRICS",
          "0590:MASS COSMETICS",
          "0603:BEAUTY CARE",
          "0604:PERSONAL CARE",
          "0857:PC PERIPH/OFFICE ACC",
          "0167:MISSY TOPS",
          "0171:MISSY BOTTOMS",
          "0271:HANDBAGS",
          "0360:MENS FURNISHINGS",
          "0369:YOUNG MENS",
          "0592:WMNS PRESTIGE FRAG",
          "0593:PRESTIGE COSMETICS",
          "0596:MENS PRESTIGE FRAG",
          "0795:HOME DECOR",
          "0984:BEER",
          "0586:COSTUME JEWELRY",
          "0973:CANDY",
          "0973:CANDY",
          "0982:SPIRITS",
          "0983:WINE",
          "0984:BEER",
          "0982:SPIRITS",
          "0360:MENS FURNISHINGS",
          "0532:AMERICAN GREETINGS",
          "0845:AS SEEN ON TV",
          "0973:CANDY",
          "0973:CANDY",
          "0597:HEALTH AIDS",
          "0961:GENERAL GROCERIES",
          "0973:CANDY",
          "0598:BABY CARE",
          "0962:BEVERAGES",
          "0973:CANDY",
          "0343:MENS DENIM JEANS",
          "0395:MENS ATHLETIC SHOES",
          "0973:CANDY",
          "0597:HEALTH AIDS",
          "0961:GENERAL GROCERIES",
          "0962:BEVERAGES",
          "0973:CANDY",
          "0962:BEVERAGES",
          "0359:MENS ACCESSORIES",
          "0589:SUNGLASSES",
          "0836:HOUSEHOLD CLEANING",
          "0240:SLEEPWEAR/LOUNGEWEAR",
          "0261:HOSIERY",
          "0486:CHILDRENS FOOTWEAR",
          "0395:MENS ATHLETIC SHOES",
          "0230:DAYWEAR",
          "0291:WOMENS FTWR:DRS/CAS",
          "0795:HOME DECOR",
          "0854:VIDEO GAMES",
          "0391:MENS SHOES",
          "0597:HEALTH AIDS",
          "0601:VALUE ZONE",
          "0604:PERSONAL CARE",
          "0280:FASHION ACCESSORIES",
          "0530:SCHOOL/OFFIC SUPP",
          "0836:HOUSEHOLD CLEANING",
          "0973:CANDY",
          "0380:MENS ACTIVEWEAR",
          "0836:HOUSEHOLD CLEANING",
          "0962:BEVERAGES",
          "0973:CANDY",
          "0595:HOME/BATH",
          "0644:SPORTS NUTRITION",
          "0962:BEVERAGES",
          "0421:TODDLER GIRL APPAREL",
          "0449:GIRLS ACCESSORIES",
          "0380:MENS ACTIVEWEAR",
          "0530:SCHOOL/OFFIC SUPP",
          "0354:MENS MODERN COLLECT",
          "0359:MENS ACCESSORIES",
          "0597:HEALTH AIDS",
          "0604:PERSONAL CARE",
          "0644:SPORTS NUTRITION",
          "0440:GIRLS 7-16 CLOTHING",
          "0973:CANDY",
          "0982:SPIRITS",
          "0590:MASS COSMETICS",
          "0598:BABY CARE",
          "0982:SPIRITS",
          "0597:HEALTH AIDS",
          "0604:PERSONAL CARE",
          "0962:BEVERAGES",
          "0295:WOMENS ATHLTIC SHOES",
          "0593:PRESTIGE COSMETICS",
          "0358:MENS DRESS SHIRTS",
          "0640:TOYS",
          "0722:OUTDOOR LIVING",
          "0826:SMALL ELECTRICS",
          "0845:AS SEEN ON TV",
          "0962:BEVERAGES",
          "0984:BEER",
          "0962:BEVERAGES",
          "0590:MASS COSMETICS",
          "0680:AUTOMOTIVE",
          "0722:OUTDOOR LIVING",
          "0531:STATIONERY SUNDRIES",
          "0532:AMERICAN GREETINGS",
          "0983:WINE",
          "0961:GENERAL GROCERIES",
          "0261:HOSIERY",
          "0597:HEALTH AIDS",
          "0598:BABY CARE",
          "0604:PERSONAL CARE",
          "0861:GENERAL HARDWARE",
          "0973:CANDY",
          "0962:BEVERAGES",
          "0973:CANDY",
          "0604:PERSONAL CARE",
          "0380:MENS ACTIVEWEAR",
          "0597:HEALTH AIDS",
          "0604:PERSONAL CARE",
          "0640:TOYS",
          "0973:CANDY",
          "0845:AS SEEN ON TV",
          "0193:LADIES ACTIVEWEAR",
          "0973:CANDY",
          "0343:MENS DENIM JEANS",
          "0380:MENS ACTIVEWEAR",
          "0603:BEAUTY CARE",
          "0604:PERSONAL CARE",
          "0836:HOUSEHOLD CLEANING",
          "0797:SEASONAL GIFTS",
          "0359:MENS ACCESSORIES",
          "0368:TRAD COLLECTIONS",
          "0391:MENS SHOES",
          "0411:PEGABLES",
          "0510:NAVY PRIDE HARDLINES",
          "0962:BEVERAGES",
          "0532:AMERICAN GREETINGS",
          "0590:MASS COSMETICS",
          "0604:PERSONAL CARE",
          "0634:VITAMINS & HLTH AIDS",
          "0640:TOYS",
          "0861:GENERAL HARDWARE",
          "0879:PET SUPPLIES",
          "0973:CANDY",
          "0983:WINE",
          "0680:AUTOMOTIVE",
          "0360:MENS FURNISHINGS",
          "0597:HEALTH AIDS",
          "0380:MENS ACTIVEWEAR",
          "0597:HEALTH AIDS",
          "0836:HOUSEHOLD CLEANING",
          "0982:SPIRITS",
          "0983:WINE",
          "0991:TOBACCO",
          "0380:MENS ACTIVEWEAR",
          "0595:HOME/BATH",
          "0597:HEALTH AIDS",
          "0879:PET SUPPLIES",
          "0884:LAWN & GARDEN",
          "0961:GENERAL GROCERIES",
          "0962:BEVERAGES",
          "0973:CANDY",
          "0961:GENERAL GROCERIES",
          "0962:BEVERAGES",
          "0973:CANDY",
          "0962:BEVERAGES",
          "0644:SPORTS NUTRITION",
          "0879:PET SUPPLIES",
          "0354:MENS MODERN COLLECT",
          "0470:BOYS 8-20 CLOTHING",
          "0991:TOBACCO",
          "0421:TODDLER GIRL APPAREL",
          "0179:MODERATE DENIM",
          "0368:TRAD COLLECTIONS",
          "0589:SUNGLASSES",
          "0603:BEAUTY CARE",
          "0850:PC HDWR & OFFICE EQP",
          "0973:CANDY",
          "0973:CANDY",
          "0603:BEAUTY CARE",
          "0391:MENS SHOES",
          "0597:HEALTH AIDS",
          "0604:PERSONAL CARE",
          "0638:GEN SPORTING GOODS",
          "0722:OUTDOOR LIVING",
          "0846:BATTERIES",
          "0962:BEVERAGES",
          "0595:HOME/BATH",
          "0836:HOUSEHOLD CLEANING",
          "0343:MENS DENIM JEANS",
          "0879:PET SUPPLIES",
          "0962:BEVERAGES",
          "0973:CANDY",
          "0797:SEASONAL GIFTS",
          "0837:GENERAL HOUSEWARES",
          "0973:CANDY",
          "0982:SPIRITS",
          "0962:BEVERAGES",
          "0962:BEVERAGES",
          "0530:SCHOOL/OFFIC SUPP",
          "0645:BIKES",
          "0837:GENERAL HOUSEWARES",
          "0857:PC PERIPH/OFFICE ACC",
          "0597:HEALTH AIDS",
          "0603:BEAUTY CARE",
          "0962:BEVERAGES",
          "0280:FASHION ACCESSORIES",
          "0640:TOYS",
          "0973:CANDY",
          "0530:SCHOOL/OFFIC SUPP",
          "0360:MENS FURNISHINGS",
          "0532:AMERICAN GREETINGS",
          "0597:HEALTH AIDS",
          "0604:PERSONAL CARE",
          "0861:GENERAL HARDWARE",
          "0982:SPIRITS",
          "0295:WOMENS ATHLTIC SHOES",
          "0380:MENS ACTIVEWEAR",
          "0593:PRESTIGE COSMETICS",
          "0597:HEALTH AIDS",
          "0603:BEAUTY CARE",
          "0634:VITAMINS & HLTH AIDS",
          "0661:LUGGAGE",
          "0012:LOCAL GIFTS/FOODS",
          "0597:HEALTH AIDS",
          "0604:PERSONAL CARE",
          "0597:HEALTH AIDS",
          "0982:SPIRITS",
          "0879:PET SUPPLIES",
          "0973:CANDY",
          "0597:HEALTH AIDS",
          "0836:HOUSEHOLD CLEANING",
          "0193:LADIES ACTIVEWEAR",
          "0604:PERSONAL CARE",
          "0973:CANDY",
          "0071:BEAUTY RETAIL",
          "0161:MISSY KAREN SCOTT",
          "0355:MENS SPORT SHIRTS",
          "0395:MENS ATHLETIC SHOES",
          "0585:WATCHES",
          "0973:CANDY",
          "0596:MENS PRESTIGE FRAG",
          "0973:CANDY",
          "0982:SPIRITS",
          "0596:MENS PRESTIGE FRAG",
          "0837:GENERAL HOUSEWARES",
          "0595:HOME/BATH",
          "0589:SUNGLASSES",
          "0193:LADIES ACTIVEWEAR",
          "0554:TELECOMMUNICATIONS",
          "0638:GEN SPORTING GOODS",
          "0360:MENS FURNISHINGS",
          "0826:SMALL ELECTRICS",
          "0839:HOME ORG/SOLUTIONS",
          "0597:HEALTH AIDS",
          "0593:PRESTIGE COSMETICS",
          "0585:WATCHES",
          "0837:GENERAL HOUSEWARES",
          "0295:WOMENS ATHLTIC SHOES",
          "0999:UNSCANNED ITEMS",
          "0637:FISHING",
          "0638:GEN SPORTING GOODS",
          "0962:BEVERAGES",
          "0973:CANDY",
          "0982:SPIRITS",
          "0353:MENS OUTDOOR",
          "0597:HEALTH AIDS",
          "0879:PET SUPPLIES",
          "0295:WOMENS ATHLTIC SHOES",
          "0395:MENS ATHLETIC SHOES",
          "0973:CANDY",
          "0271:HANDBAGS",
          "0585:WATCHES",
          "0590:MASS COSMETICS",
          "0593:PRESTIGE COSMETICS",
          "0595:HOME/BATH",
          "0597:HEALTH AIDS",
          "0603:BEAUTY CARE",
          "0646:SEASONAL",
          "0836:HOUSEHOLD CLEANING",
          "0973:CANDY",
          "0161:MISSY KAREN SCOTT",
          "0165:LIFE IS GOOD",
          "0177:PETITE SEPARATES",
          "0240:SLEEPWEAR/LOUNGEWEAR",
          "0353:MENS OUTDOOR",
          "0380:MENS ACTIVEWEAR",
          "0590:MASS COSMETICS",
          "0603:BEAUTY CARE",
          "0604:PERSONAL CARE",
          "0836:HOUSEHOLD CLEANING",
          "0360:MENS FURNISHINGS",
          "0380:MENS ACTIVEWEAR",
          "0982:SPIRITS",
          "0640:TOYS",
          "0962:BEVERAGES",
          "0532:AMERICAN GREETINGS",
          "0604:PERSONAL CARE",
          "0640:TOYS",
          "0884:LAWN & GARDEN",
          "0230:DAYWEAR",
          "0826:SMALL ELECTRICS",
          "0833:TABLETOP",
          "0597:HEALTH AIDS",
          "0836:HOUSEHOLD CLEANING",
          "0962:BEVERAGES",
          "0982:SPIRITS",
          "0360:MENS FURNISHINGS",
          "0510:NAVY PRIDE HARDLINES",
          "0836:HOUSEHOLD CLEANING",
          "0879:PET SUPPLIES",
          "0962:BEVERAGES",
          "0973:CANDY",
          "0597:HEALTH AIDS",
          "0961:GENERAL GROCERIES",
          "0411:PEGABLES",
          "0415:NEWBORN APPAREL",
          "0597:HEALTH AIDS",
          "0598:BABY CARE",
          "0604:PERSONAL CARE",
          "0836:HOUSEHOLD CLEANING",
          "0861:GENERAL HARDWARE",
          "0930:TABLE TOP & KITCHEN",
          "0962:BEVERAGES",
          "0973:CANDY",
          "0984:BEER",
          "0161:MISSY KAREN SCOTT",
          "0163:JUNIOR TOPS",
          "0354:MENS MODERN COLLECT",
          "0368:TRAD COLLECTIONS",
          "0973:CANDY",
          "0360:MENS FURNISHINGS",
          "0837:GENERAL HOUSEWARES",
          "0962:BEVERAGES",
          "0340:MENS CASUAL SLACKS",
          "0343:MENS DENIM JEANS",
          "0604:PERSONAL CARE",
          "0961:GENERAL GROCERIES",
          "0965:PERISHABLES",
          "0973:CANDY",
          "0983:WINE",
          "0590:MASS COSMETICS",
          "0597:HEALTH AIDS",
          "0603:BEAUTY CARE",
          "0604:PERSONAL CARE",
          "0931:BATH",
          "0421:TODDLER GIRL APPAREL",
          "0440:GIRLS 7-16 CLOTHING",
          "0449:GIRLS ACCESSORIES",
          "0973:CANDY",
          "0973:CANDY",
          "0360:MENS FURNISHINGS",
          "0532:AMERICAN GREETINGS",
          "0540:PERIODICALS/COMICS",
          "0541:BOOKS AND MAPS",
          "0589:SUNGLASSES",
          "0593:PRESTIGE COSMETICS",
          "0973:CANDY",
          "0982:SPIRITS",
          "0983:WINE",
          "0961:GENERAL GROCERIES",
          "0962:BEVERAGES",
          "0973:CANDY",
          "0181:LADIES MODERN COLLEC",
          "0261:HOSIERY",
          "0271:HANDBAGS",
          "0291:WOMENS FTWR:DRS/CAS",
          "0532:AMERICAN GREETINGS",
          "0941:BEDDING",
          "0554:TELECOMMUNICATIONS",
          "0646:SEASONAL",
          "0056:SOUVENIR",
          "0822:THIRD PARTY GIFTCARD",
          "0854:VIDEO GAMES",
          "0973:CANDY",
          "0071:BEAUTY RETAIL",
          "0179:MODERATE DENIM",
          "0634:VITAMINS & HLTH AIDS",
          "0597:HEALTH AIDS",
          "0634:VITAMINS & HLTH AIDS",
          "0879:PET SUPPLIES",
          "0353:MENS OUTDOOR",
          "0591:MASS FRAGRANCES",
          "0595:HOME/BATH",
          "0604:PERSONAL CARE",
          "0230:DAYWEAR",
          "0380:MENS ACTIVEWEAR",
          "0530:SCHOOL/OFFIC SUPP",
          "0603:BEAUTY CARE",
          "0857:PC PERIPH/OFFICE ACC",
          "0973:CANDY",
          "0430:GIRLS 4-6X CLOTHING",
          "0440:GIRLS 7-16 CLOTHING",
          "0597:HEALTH AIDS",
          "0603:BEAUTY CARE",
          "0604:PERSONAL CARE",
          "0640:TOYS",
          "0846:BATTERIES",
          "0511:NAVY PRIDE SOFTLINES",
          "0584:GEMSTONES",
          "0597:HEALTH AIDS",
          "0603:BEAUTY CARE",
          "0837:GENERAL HOUSEWARES",
          "0962:BEVERAGES",
          "0640:TOYS",
          "0530:SCHOOL/OFFIC SUPP",
          "0640:TOYS",
          "0962:BEVERAGES",
          "0973:CANDY",
          "0962:BEVERAGES",
          "0638:GEN SPORTING GOODS",
          "0163:JUNIOR TOPS",
          "0359:MENS ACCESSORIES",
          "0597:HEALTH AIDS",
          "0850:PC HDWR & OFFICE EQP",
          "0346:LIFE STYLE DENIM",
          "0355:MENS SPORT SHIRTS",
          "0369:YOUNG MENS",
          "0380:MENS ACTIVEWEAR",
          "0982:SPIRITS",
          "0983:WINE",
          "0984:BEER",
          "0530:SCHOOL/OFFIC SUPP",
          "0532:AMERICAN GREETINGS",
          "0983:WINE",
          "0984:BEER",
          "0640:TOYS",
          "0110:LDS OUTERWEAR/OUTDR",
          "0130:JUNIORS SURF",
          "0360:MENS FURNISHINGS",
          "0380:MENS ACTIVEWEAR",
          "0395:MENS ATHLETIC SHOES",
          "0973:CANDY",
          "0360:MENS FURNISHINGS",
          "0380:MENS ACTIVEWEAR",
          "0636:FITNESS/EXERCISE",
          "0836:HOUSEHOLD CLEANING",
          "0360:MENS FURNISHINGS",
          "0604:PERSONAL CARE",
          "0973:CANDY",
          "0636:FITNESS/EXERCISE",
          "0380:MENS ACTIVEWEAR",
          "0360:MENS FURNISHINGS",
          "0604:PERSONAL CARE",
          "0836:HOUSEHOLD CLEANING",
          "0845:AS SEEN ON TV",
          "0857:PC PERIPH/OFFICE ACC",
          "0962:BEVERAGES",
          "0931:BATH",
          "0603:BEAUTY CARE",
          "0836:HOUSEHOLD CLEANING",
          "0961:GENERAL GROCERIES",
          "0973:CANDY",
          "0320:MNS TAILORED CLOTHNG",
          "0340:MENS CASUAL SLACKS",
          "0355:MENS SPORT SHIRTS",
          "0826:SMALL ELECTRICS",
          "0280:FASHION ACCESSORIES",
          "0532:AMERICAN GREETINGS",
          "0541:BOOKS AND MAPS",
          "0833:TABLETOP",
          "0346:LIFE STYLE DENIM",
          "0369:YOUNG MENS",
          "0595:HOME/BATH",
          "0854:VIDEO GAMES",
          "0603:BEAUTY CARE",
          "0638:GEN SPORTING GOODS",
          "0597:HEALTH AIDS",
          "0879:PET SUPPLIES",
          "0973:CANDY",
          "0530:SCHOOL/OFFIC SUPP",
          "0597:HEALTH AIDS",
          "0598:BABY CARE",
          "0604:PERSONAL CARE",
          "0836:HOUSEHOLD CLEANING",
          "0961:GENERAL GROCERIES",
          "0962:BEVERAGES",
          "0973:CANDY",
          "0510:NAVY PRIDE HARDLINES",
          "0973:CANDY",
          "0110:LDS OUTERWEAR/OUTDR",
          "0962:BEVERAGES",
          "0795:HOME DECOR",
          "0261:HOSIERY",
          "0586:COSTUME JEWELRY",
          "0597:HEALTH AIDS",
          "0604:PERSONAL CARE",
          "0597:HEALTH AIDS",
          "0604:PERSONAL CARE",
          "0836:HOUSEHOLD CLEANING",
          "0962:BEVERAGES",
          "0973:CANDY",
          "0984:BEER",
          "0469:BOYS ACCESSORIES",
          "0486:CHILDRENS FOOTWEAR",
          "0982:SPIRITS",
          "0857:PC PERIPH/OFFICE ACC",
          "0391:MENS SHOES",
          "0603:BEAUTY CARE",
          "0984:BEER",
          "0071:BEAUTY RETAIL",
          "0593:PRESTIGE COSMETICS",
          "0603:BEAUTY CARE",
          "0593:PRESTIGE COSMETICS",
          "0884:LAWN & GARDEN",
          "0973:CANDY",
          "0984:BEER",
          "0532:AMERICAN GREETINGS",
          "0597:HEALTH AIDS",
          "0056:SOUVENIR",
          "0391:MENS SHOES",
          "0554:TELECOMMUNICATIONS",
          "0590:MASS COSMETICS",
          "0167:MISSY TOPS",
          "0171:MISSY BOTTOMS",
          "0646:SEASONAL",
          "0962:BEVERAGES",
          "0999:UNSCANNED ITEMS",
          "0532:AMERICAN GREETINGS",
          "0597:HEALTH AIDS",
          "0836:HOUSEHOLD CLEANING",
          "0962:BEVERAGES",
          "0532:AMERICAN GREETINGS",
          "0597:HEALTH AIDS",
          "0982:SPIRITS",
          "0983:WINE",
          "0368:TRAD COLLECTIONS",
          "0879:PET SUPPLIES",
          "0961:GENERAL GROCERIES",
          "0962:BEVERAGES",
          "0261:HOSIERY",
          "0822:THIRD PARTY GIFTCARD",
          "0110:LDS OUTERWEAR/OUTDR",
          "0353:MENS OUTDOOR",
          "0597:HEALTH AIDS",
          "0598:BABY CARE",
          "0962:BEVERAGES",
          "0380:MENS ACTIVEWEAR",
          "0271:HANDBAGS",
          "0845:AS SEEN ON TV",
          "0941:BEDDING",
          "0532:AMERICAN GREETINGS",
          "0836:HOUSEHOLD CLEANING",
          "0961:GENERAL GROCERIES",
          "0962:BEVERAGES",
          "0973:CANDY",
          "0826:SMALL ELECTRICS",
          "0380:MENS ACTIVEWEAR",
          "0530:SCHOOL/OFFIC SUPP",
          "0585:WATCHES",
          "0836:HOUSEHOLD CLEANING",
          "0973:CANDY",
          "0983:WINE",
          "0076:FLORAL RETAIL",
          "0188:STYLE & CO",
          "0240:SLEEPWEAR/LOUNGEWEAR",
          "0280:FASHION ACCESSORIES",
          "0597:HEALTH AIDS",
          "0603:BEAUTY CARE",
          "0646:SEASONAL",
          "0722:OUTDOOR LIVING",
          "0879:PET SUPPLIES",
          "0884:LAWN & GARDEN",
          "0973:CANDY",
          "0984:BEER",
          "0177:PETITE SEPARATES",
          "0973:CANDY",
          "0973:CANDY",
          "0369:YOUNG MENS",
          "0973:CANDY",
          "0597:HEALTH AIDS",
          "0604:PERSONAL CARE",
          "0638:GEN SPORTING GOODS",
          "0984:BEER",
          "0639:TEAM SPORTING GOODS",
          "0962:BEVERAGES",
          "0360:MENS FURNISHINGS",
          "0597:HEALTH AIDS",
          "0012:LOCAL GIFTS/FOODS",
          "0530:SCHOOL/OFFIC SUPP",
          "0532:AMERICAN GREETINGS",
          "0597:HEALTH AIDS",
          "0640:TOYS",
          "0646:SEASONAL",
          "0826:SMALL ELECTRICS",
          "0836:HOUSEHOLD CLEANING",
          "0850:PC HDWR & OFFICE EQP",
          "0961:GENERAL GROCERIES",
          "0973:CANDY",
          "0845:AS SEEN ON TV",
          "0380:MENS ACTIVEWEAR",
          "0532:AMERICAN GREETINGS",
          "0597:HEALTH AIDS",
          "0071:BEAUTY RETAIL",
          "0601:VALUE ZONE",
          "0603:BEAUTY CARE",
          "0240:SLEEPWEAR/LOUNGEWEAR",
          "0973:CANDY",
          "0836:HOUSEHOLD CLEANING",
          "0597:HEALTH AIDS",
          "0603:BEAUTY CARE",
          "0604:PERSONAL CARE",
          "0822:THIRD PARTY GIFTCARD",
          "0836:HOUSEHOLD CLEANING",
          "0343:MENS DENIM JEANS",
          "0531:STATIONERY SUNDRIES",
          "0380:MENS ACTIVEWEAR",
          "0532:AMERICAN GREETINGS",
          "0961:GENERAL GROCERIES",
          "0962:BEVERAGES",
          "0965:PERISHABLES",
          "0973:CANDY",
          "0597:HEALTH AIDS",
          "0604:PERSONAL CARE",
          "0634:VITAMINS & HLTH AIDS",
          "0879:PET SUPPLIES",
          "0962:BEVERAGES",
          "0601:VALUE ZONE",
          "0973:CANDY",
          "0973:CANDY",
          "0590:MASS COSMETICS",
          "0603:BEAUTY CARE",
          "0962:BEVERAGES",
          "0973:CANDY",
          "0343:MENS DENIM JEANS",
          "0360:MENS FURNISHINGS",
          "0368:TRAD COLLECTIONS",
          "0640:TOYS",
          "0846:BATTERIES",
          "0593:PRESTIGE COSMETICS",
          "0973:CANDY",
          "0240:SLEEPWEAR/LOUNGEWEAR",
          "0261:HOSIERY",
          "0636:FITNESS/EXERCISE",
          "0646:SEASONAL",
          "0884:LAWN & GARDEN",
          "0961:GENERAL GROCERIES",
          "0973:CANDY",
          "0532:AMERICAN GREETINGS",
          "0603:BEAUTY CARE",
          "0983:WINE",
          "0163:JUNIOR TOPS",
          "0532:AMERICAN GREETINGS",
          "0590:MASS COSMETICS",
          "0593:PRESTIGE COSMETICS",
          "0603:BEAUTY CARE",
          "0973:CANDY",
          "0982:SPIRITS",
          "0983:WINE",
          "0167:MISSY TOPS",
          "0175:WOMENS SEPARATES",
          "0639:TEAM SPORTING GOODS",
          "0982:SPIRITS",
          "0961:GENERAL GROCERIES",
          "0962:BEVERAGES",
          "0973:CANDY",
          "0360:MENS FURNISHINGS",
          "0369:YOUNG MENS",
          "0395:MENS ATHLETIC SHOES",
          "0421:TODDLER GIRL APPAREL",
          "0470:BOYS 8-20 CLOTHING",
          "0826:SMALL ELECTRICS",
          "0973:CANDY",
          "0510:NAVY PRIDE HARDLINES",
          "0593:PRESTIGE COSMETICS",
          "0603:BEAUTY CARE",
          "0639:TEAM SPORTING GOODS",
          "0822:THIRD PARTY GIFTCARD",
          "0836:HOUSEHOLD CLEANING",
          "0291:WOMENS FTWR:DRS/CAS",
          "0598:BABY CARE",
          "0530:SCHOOL/OFFIC SUPP",
          "0603:BEAUTY CARE",
          "0604:PERSONAL CARE",
          "0836:HOUSEHOLD CLEANING",
          "0845:AS SEEN ON TV",
          "0879:PET SUPPLIES",
          "0982:SPIRITS",
          "0991:TOBACCO",
          "0360:MENS FURNISHINGS",
          "0597:HEALTH AIDS",
          "0836:HOUSEHOLD CLEANING",
          "0879:PET SUPPLIES",
          "0941:BEDDING",
          "0240:SLEEPWEAR/LOUNGEWEAR",
          "0261:HOSIERY",
          "0530:SCHOOL/OFFIC SUPP",
          "0597:HEALTH AIDS",
          "0982:SPIRITS",
          "0983:WINE",
          "0177:PETITE SEPARATES",
          "0593:PRESTIGE COSMETICS",
          "0532:AMERICAN GREETINGS",
          "0603:BEAUTY CARE",
          "0962:BEVERAGES",
          "0230:DAYWEAR",
          "0797:SEASONAL GIFTS",
          "0826:SMALL ELECTRICS",
          "0355:MENS SPORT SHIRTS",
          "0310:MENS OUTERWEAR",
          "0355:MENS SPORT SHIRTS",
          "0359:MENS ACCESSORIES",
          "0368:TRAD COLLECTIONS",
          "0845:AS SEEN ON TV",
          "0983:WINE",
          "0360:MENS FURNISHINGS",
          "0369:YOUNG MENS",
          "0391:MENS SHOES",
          "0597:HEALTH AIDS",
          "0973:CANDY",
          "0983:WINE",
          "0098:WAREHOUSED EXPENSES",
          "0511:NAVY PRIDE SOFTLINES",
          "0532:AMERICAN GREETINGS",
          "0598:BABY CARE",
          "0110:LDS OUTERWEAR/OUTDR",
          "0193:LADIES ACTIVEWEAR",
          "0851:PC HARDWARE",
          "0598:BABY CARE",
          "0603:BEAUTY CARE",
          "0604:PERSONAL CARE",
          "0604:PERSONAL CARE",
          "0638:GEN SPORTING GOODS",
          "0879:PET SUPPLIES",
          "0962:BEVERAGES",
          "0597:HEALTH AIDS",
          "0603:BEAUTY CARE",
          "0604:PERSONAL CARE",
          "0973:CANDY",
          "0532:AMERICAN GREETINGS",
          "0603:BEAUTY CARE",
          "0982:SPIRITS",
          "0983:WINE",
          "0131:LADIES DRESSES",
          "0590:MASS COSMETICS",
          "0604:PERSONAL CARE",
          "0973:CANDY",
          "0597:HEALTH AIDS",
          "0009:FLORAL SERV/SUPPLIES",
          "0415:NEWBORN APPAREL",
          "0598:BABY CARE",
          "0836:HOUSEHOLD CLEANING",
          "0962:BEVERAGES",
          "0984:BEER",
          "0962:BEVERAGES",
          "0639:TEAM SPORTING GOODS",
          "0360:MENS FURNISHINGS",
          "0984:BEER",
          "0597:HEALTH AIDS",
          "0603:BEAUTY CARE",
          "0604:PERSONAL CARE",
          "0822:THIRD PARTY GIFTCARD",
          "0589:SUNGLASSES",
          "0110:LDS OUTERWEAR/OUTDR",
          "0586:COSTUME JEWELRY",
          "0961:GENERAL GROCERIES",
          "0380:MENS ACTIVEWEAR",
          "0320:MNS TAILORED CLOTHNG",
          "0368:TRAD COLLECTIONS",
          "0532:AMERICAN GREETINGS",
          "0359:MENS ACCESSORIES",
          "0532:AMERICAN GREETINGS",
          "0640:TOYS",
          "0846:BATTERIES",
          "0983:WINE",
          "0962:BEVERAGES",
          "0360:MENS FURNISHINGS",
          "0540:PERIODICALS/COMICS",
          "0595:HOME/BATH",
          "0510:NAVY PRIDE HARDLINES",
          "0638:GEN SPORTING GOODS",
          "0962:BEVERAGES",
          "0973:CANDY",
          "0532:AMERICAN GREETINGS",
          "0592:WMNS PRESTIGE FRAG",
          "0604:PERSONAL CARE",
          "0983:WINE",
          "0603:BEAUTY CARE",
          "0632:DIGITAL FITNESS",
          "0973:CANDY",
          "0962:BEVERAGES",
          "0585:WATCHES",
          "0593:PRESTIGE COSMETICS",
          "0973:CANDY",
          "0982:SPIRITS",
          "0360:MENS FURNISHINGS",
          "0597:HEALTH AIDS",
          "0638:GEN SPORTING GOODS",
          "0973:CANDY",
          "0837:GENERAL HOUSEWARES",
          "0965:PERISHABLES",
          "0510:NAVY PRIDE HARDLINES",
          "0163:JUNIOR TOPS",
          "0982:SPIRITS",
          "0983:WINE",
          "0973:CANDY",
          "0358:MENS DRESS SHIRTS",
          "0604:PERSONAL CARE",
          "0511:NAVY PRIDE SOFTLINES",
          "0597:HEALTH AIDS",
          "0604:PERSONAL CARE",
          "0416:INFANT APPAREL",
          "0598:BABY CARE",
          "0369:YOUNG MENS",
          "0836:HOUSEHOLD CLEANING",
          "0940:HOME TEXTILES",
          "0962:BEVERAGES",
          "0193:LADIES ACTIVEWEAR",
          "0416:INFANT APPAREL",
          "0440:GIRLS 7-16 CLOTHING",
          "0460:BOYS 4-7 CLOTHING",
          "0590:MASS COSMETICS",
          "0973:CANDY",
          "0839:HOME ORG/SOLUTIONS",
          "0931:BATH",
          "0395:MENS ATHLETIC SHOES",
          "0837:GENERAL HOUSEWARES",
          "0598:BABY CARE",
          "0604:PERSONAL CARE",
          "0009:FLORAL SERV/SUPPLIES",
          "0380:MENS ACTIVEWEAR",
          "0532:AMERICAN GREETINGS",
          "0360:MENS FURNISHINGS",
          "0395:MENS ATHLETIC SHOES",
          "0973:CANDY",
          "0110:LDS OUTERWEAR/OUTDR",
          "0973:CANDY",
          "0582:GOLD",
          "0585:WATCHES",
          "0597:HEALTH AIDS",
          "0603:BEAUTY CARE",
          "0604:PERSONAL CARE",
          "0836:HOUSEHOLD CLEANING",
          "0973:CANDY",
          "0585:WATCHES",
          "0603:BEAUTY CARE",
          "0836:HOUSEHOLD CLEANING",
          "0585:WATCHES",
          "0603:BEAUTY CARE",
          "0973:CANDY",
          "0360:MENS FURNISHINGS",
          "0973:CANDY",
          "0962:BEVERAGES",
          "0353:MENS OUTDOOR",
          "0638:GEN SPORTING GOODS",
          "0640:TOYS",
          "0280:FASHION ACCESSORIES",
          "0110:LDS OUTERWEAR/OUTDR",
          "0271:HANDBAGS",
          "0360:MENS FURNISHINGS",
          "0530:SCHOOL/OFFIC SUPP",
          "0532:AMERICAN GREETINGS",
          "0533:PAPYRUS",
          "0597:HEALTH AIDS",
          "0603:BEAUTY CARE",
          "0634:VITAMINS & HLTH AIDS",
          "0819:PRE-RECORDED A/V",
          "0826:SMALL ELECTRICS",
          "0836:HOUSEHOLD CLEANING",
          "0930:TABLE TOP & KITCHEN",
          "0973:CANDY",
          "0368:TRAD COLLECTIONS",
          "0603:BEAUTY CARE",
          "0604:PERSONAL CARE",
          "0826:SMALL ELECTRICS",
          "0884:LAWN & GARDEN",
          "0999:UNSCANNED ITEMS",
          "0181:LADIES MODERN COLLEC",
          "0261:HOSIERY",
          "0837:GENERAL HOUSEWARES",
          "0604:PERSONAL CARE",
          "0644:SPORTS NUTRITION",
          "0973:CANDY",
          "0634:VITAMINS & HLTH AIDS",
          "0380:MENS ACTIVEWEAR",
          "0603:BEAUTY CARE",
          "0486:CHILDRENS FOOTWEAR",
          "0486:CHILDRENS FOOTWEAR",
          "0163:JUNIOR TOPS",
          "0071:BEAUTY RETAIL",
          "0644:SPORTS NUTRITION",
          "0879:PET SUPPLIES",
          "0962:BEVERAGES",
          "0982:SPIRITS",
          "0071:BEAUTY RETAIL",
          "0532:AMERICAN GREETINGS",
          "0590:MASS COSMETICS",
          "0593:PRESTIGE COSMETICS",
          "0604:PERSONAL CARE",
          "0836:HOUSEHOLD CLEANING",
          "0884:LAWN & GARDEN",
          "0638:GEN SPORTING GOODS",
          "0941:BEDDING",
          "0982:SPIRITS",
          "0530:SCHOOL/OFFIC SUPP",
          "0532:AMERICAN GREETINGS",
          "0644:SPORTS NUTRITION",
          "0826:SMALL ELECTRICS",
          "0961:GENERAL GROCERIES",
          "0973:CANDY",
          "0941:BEDDING",
          "0597:HEALTH AIDS",
          "0603:BEAUTY CARE",
          "0861:GENERAL HARDWARE",
          "0340:MENS CASUAL SLACKS",
          "0380:MENS ACTIVEWEAR",
          "0962:BEVERAGES",
          "0961:GENERAL GROCERIES",
          "0962:BEVERAGES",
          "0973:CANDY",
          "0531:STATIONERY SUNDRIES",
          "0646:SEASONAL",
          "0638:GEN SPORTING GOODS",
          "0962:BEVERAGES",
          "0380:MENS ACTIVEWEAR",
          "0416:INFANT APPAREL",
          "0597:HEALTH AIDS",
          "0604:PERSONAL CARE",
          "0638:GEN SPORTING GOODS",
          "0836:HOUSEHOLD CLEANING",
          "0640:TOYS",
          "0646:SEASONAL",
          "0962:BEVERAGES",
          "0973:CANDY",
          "0597:HEALTH AIDS",
          "0836:HOUSEHOLD CLEANING",
          "0603:BEAUTY CARE",
          "0973:CANDY",
          "0598:BABY CARE",
          "0110:LDS OUTERWEAR/OUTDR",
          "0962:BEVERAGES",
          "0590:MASS COSMETICS",
          "0592:WMNS PRESTIGE FRAG",
          "0593:PRESTIGE COSMETICS",
          "0595:HOME/BATH",
          "0837:GENERAL HOUSEWARES",
          "0930:TABLE TOP & KITCHEN",
          "0941:BEDDING",
          "0973:CANDY",
          "0110:LDS OUTERWEAR/OUTDR",
          "0167:MISSY TOPS",
          "0240:SLEEPWEAR/LOUNGEWEAR",
          "0391:MENS SHOES",
          "0240:SLEEPWEAR/LOUNGEWEAR",
          "0826:SMALL ELECTRICS",
          "0973:CANDY",
          "0961:GENERAL GROCERIES",
          "0962:BEVERAGES",
          "0532:AMERICAN GREETINGS",
          "0795:HOME DECOR",
          "0797:SEASONAL GIFTS",
          "0822:THIRD PARTY GIFTCARD",
          "0984:BEER",
          "0551:CAMERAS & EQUIP",
          "0411:PEGABLES",
          "0415:NEWBORN APPAREL",
          "0416:INFANT APPAREL",
          "0598:BABY CARE",
          "0603:BEAUTY CARE",
          "0604:PERSONAL CARE",
          "0962:BEVERAGES",
          "0343:MENS DENIM JEANS",
          "0167:MISSY TOPS",
          "0071:BEAUTY RETAIL",
          "0531:STATIONERY SUNDRIES",
          "0532:AMERICAN GREETINGS",
          "0554:TELECOMMUNICATIONS",
          "0603:BEAUTY CARE",
          "0982:SPIRITS",
          "0590:MASS COSMETICS",
          "0597:HEALTH AIDS",
          "0603:BEAUTY CARE",
          "0604:PERSONAL CARE",
          "0861:GENERAL HARDWARE",
          "0962:BEVERAGES",
          "0530:SCHOOL/OFFIC SUPP",
          "0833:TABLETOP",
          "0836:HOUSEHOLD CLEANING",
          "0012:LOCAL GIFTS/FOODS",
          "0240:SLEEPWEAR/LOUNGEWEAR",
          "0261:HOSIERY",
          "0532:AMERICAN GREETINGS",
          "0822:THIRD PARTY GIFTCARD",
          "0845:AS SEEN ON TV",
          "0884:LAWN & GARDEN",
          "0973:CANDY",
          "0982:SPIRITS",
          "0962:BEVERAGES",
          "0973:CANDY",
          "0421:TODDLER GIRL APPAREL",
          "0638:GEN SPORTING GOODS",
          "0836:HOUSEHOLD CLEANING",
          "0261:HOSIERY",
          "0603:BEAUTY CARE",
          "0962:BEVERAGES",
          "0973:CANDY",
          "0416:INFANT APPAREL",
          "0585:WATCHES",
          "0598:BABY CARE",
          "0391:MENS SHOES",
          "0469:BOYS ACCESSORIES",
          "0597:HEALTH AIDS",
          "0604:PERSONAL CARE",
          "0640:TOYS",
          "0815:AUDIO ELECTRONICS",
          "0879:PET SUPPLIES",
          "0962:BEVERAGES",
          "0991:TOBACCO",
          "0585:WATCHES",
          "0597:HEALTH AIDS",
          "0836:HOUSEHOLD CLEANING",
          "0850:PC HDWR & OFFICE EQP",
          "0962:BEVERAGES",
          "0421:TODDLER GIRL APPAREL",
          "0460:BOYS 4-7 CLOTHING",
          "0469:BOYS ACCESSORIES",
          "0486:CHILDRENS FOOTWEAR",
          "0795:HOME DECOR",
          "0983:WINE",
          "0640:TOYS",
          "0359:MENS ACCESSORIES",
          "0837:GENERAL HOUSEWARES",
          "0931:BATH",
          "0167:MISSY TOPS",
          "0839:HOME ORG/SOLUTIONS",
          "0961:GENERAL GROCERIES",
          "0962:BEVERAGES",
          "0167:MISSY TOPS",
          "0680:AUTOMOTIVE",
          "0819:PRE-RECORDED A/V",
          "0962:BEVERAGES",
          "0973:CANDY",
          "0440:GIRLS 7-16 CLOTHING",
          "0640:TOYS",
          "0530:SCHOOL/OFFIC SUPP",
          "0167:MISSY TOPS",
          "0177:PETITE SEPARATES",
          "0056:SOUVENIR",
          "0595:HOME/BATH",
          "0597:HEALTH AIDS",
          "0879:PET SUPPLIES",
          "0962:BEVERAGES",
          "0973:CANDY",
          "0391:MENS SHOES",
          "0597:HEALTH AIDS",
          "0634:VITAMINS & HLTH AIDS",
          "0836:HOUSEHOLD CLEANING",
          "0230:DAYWEAR",
          "0590:MASS COSMETICS",
          "0593:PRESTIGE COSMETICS",
          "0646:SEASONAL",
          "0240:SLEEPWEAR/LOUNGEWEAR",
          "0604:PERSONAL CARE",
          "0680:AUTOMOTIVE",
          "0722:OUTDOOR LIVING",
          "0999:UNSCANNED ITEMS",
          "0590:MASS COSMETICS",
          "0597:HEALTH AIDS",
          "0836:HOUSEHOLD CLEANING",
          "0879:PET SUPPLIES",
          "0177:PETITE SEPARATES",
          "0261:HOSIERY",
          "0532:AMERICAN GREETINGS",
          "0836:HOUSEHOLD CLEANING",
          "0590:MASS COSMETICS",
          "0603:BEAUTY CARE",
          "0637:FISHING",
          "0962:BEVERAGES",
          "0973:CANDY",
          "0983:WINE",
          "0540:PERIODICALS/COMICS",
          "0836:HOUSEHOLD CLEANING",
          "0822:THIRD PARTY GIFTCARD",
          "0597:HEALTH AIDS",
          "0291:WOMENS FTWR:DRS/CAS",
          "0161:MISSY KAREN SCOTT",
          "0165:LIFE IS GOOD",
          "0470:BOYS 8-20 CLOTHING",
          "0586:COSTUME JEWELRY",
          "0590:MASS COSMETICS",
          "0603:BEAUTY CARE",
          "0640:TOYS",
          "0680:AUTOMOTIVE",
          "0962:BEVERAGES",
          "0973:CANDY",
          "0962:BEVERAGES",
          "0962:BEVERAGES",
          "0973:CANDY",
          "0961:GENERAL GROCERIES",
          "0962:BEVERAGES",
          "0532:AMERICAN GREETINGS",
          "0973:CANDY",
          "0850:PC HDWR & OFFICE EQP",
          "0532:AMERICAN GREETINGS",
          "0983:WINE",
          "0973:CANDY",
          "0983:WINE",
          "0271:HANDBAGS",
          "0280:FASHION ACCESSORIES",
          "0962:BEVERAGES",
          "0836:HOUSEHOLD CLEANING",
          "0597:HEALTH AIDS",
          "0604:PERSONAL CARE",
          "0961:GENERAL GROCERIES",
          "0962:BEVERAGES",
          "0973:CANDY",
          "0604:PERSONAL CARE",
          "0836:HOUSEHOLD CLEANING",
          "0961:GENERAL GROCERIES",
          "0193:LADIES ACTIVEWEAR",
          "0595:HOME/BATH",
          "0601:VALUE ZONE",
          "0836:HOUSEHOLD CLEANING",
          "0839:HOME ORG/SOLUTIONS",
          "0930:TABLE TOP & KITCHEN",
          "0839:HOME ORG/SOLUTIONS",
          "0861:GENERAL HARDWARE",
          "0863:POWER EQUIPMENT",
          "0941:BEDDING",
          "0982:SPIRITS",
          "0261:HOSIERY",
          "0280:FASHION ACCESSORIES",
          "0593:PRESTIGE COSMETICS",
          "0597:HEALTH AIDS",
          "0603:BEAUTY CARE",
          "0604:PERSONAL CARE",
          "0836:HOUSEHOLD CLEANING",
          "0984:BEER",
          "0554:TELECOMMUNICATIONS",
          "0639:TEAM SPORTING GOODS",
          "0836:HOUSEHOLD CLEANING",
          "0962:BEVERAGES",
          "0973:CANDY",
          "0982:SPIRITS",
          "0991:TOBACCO",
          "0646:SEASONAL",
          "0884:LAWN & GARDEN",
          "0973:CANDY",
          "0210:FOUNDATIONS",
          "0230:DAYWEAR",
          "0261:HOSIERY",
          "0449:GIRLS ACCESSORIES",
          "0510:NAVY PRIDE HARDLINES",
          "0590:MASS COSMETICS",
          "0603:BEAUTY CARE",
          "0634:VITAMINS & HLTH AIDS",
          "0795:HOME DECOR",
          "0797:SEASONAL GIFTS",
          "0836:HOUSEHOLD CLEANING",
          "0863:POWER EQUIPMENT",
          "0962:BEVERAGES",
          "0973:CANDY",
          "0982:SPIRITS",
          "0983:WINE",
          "0604:PERSONAL CARE",
          "0638:GEN SPORTING GOODS",
          "0962:BEVERAGES",
          "0595:HOME/BATH",
          "0962:BEVERAGES",
          "0982:SPIRITS",
          "0983:WINE",
          "0982:SPIRITS",
          "0179:MODERATE DENIM",
          "0391:MENS SHOES",
          "0486:CHILDRENS FOOTWEAR",
          "0590:MASS COSMETICS",
          "0597:HEALTH AIDS",
          "0603:BEAUTY CARE",
          "0604:PERSONAL CARE",
          "0795:HOME DECOR",
          "0856:GLUES/TAPES/ACC",
          "0973:CANDY",
          "0965:PERISHABLES",
          "0973:CANDY",
          "0984:BEER",
          "0604:PERSONAL CARE",
          "0836:HOUSEHOLD CLEANING",
          "0930:TABLE TOP & KITCHEN",
          "0940:HOME TEXTILES",
          "0961:GENERAL GROCERIES",
          "0962:BEVERAGES",
          "0604:PERSONAL CARE",
          "0680:AUTOMOTIVE",
          "0973:CANDY",
          "0603:BEAUTY CARE",
          "0833:TABLETOP",
          "0837:GENERAL HOUSEWARES",
          "0973:CANDY",
          "0983:WINE",
          "0604:PERSONAL CARE",
          "0973:CANDY",
          "0597:HEALTH AIDS",
          "0604:PERSONAL CARE",
          "0982:SPIRITS",
          "0597:HEALTH AIDS",
          "0604:PERSONAL CARE",
          "0836:HOUSEHOLD CLEANING",
          "0961:GENERAL GROCERIES",
          "0973:CANDY",
          "0391:MENS SHOES",
          "0415:NEWBORN APPAREL",
          "0421:TODDLER GIRL APPAREL",
          "0486:CHILDRENS FOOTWEAR",
          "0604:PERSONAL CARE",
          "0836:HOUSEHOLD CLEANING",
          "0879:PET SUPPLIES",
          "0554:TELECOMMUNICATIONS",
          "0962:BEVERAGES",
          "0604:PERSONAL CARE",
          "0836:HOUSEHOLD CLEANING",
          "0590:MASS COSMETICS",
          "0603:BEAUTY CARE",
          "0854:VIDEO GAMES",
          "0991:TOBACCO",
          "0380:MENS ACTIVEWEAR",
          "0597:HEALTH AIDS",
          "0638:GEN SPORTING GOODS",
          "0639:TEAM SPORTING GOODS",
          "0644:SPORTS NUTRITION",
          "0603:BEAUTY CARE",
          "0098:WAREHOUSED EXPENSES",
          "0836:HOUSEHOLD CLEANING",
          "0961:GENERAL GROCERIES",
          "0973:CANDY",
          "0421:TODDLER GIRL APPAREL",
          "0640:TOYS",
          "0532:AMERICAN GREETINGS",
          "0230:DAYWEAR",
          "0640:TOYS",
          "0646:SEASONAL",
          "0411:PEGABLES",
          "0532:AMERICAN GREETINGS",
          "0603:BEAUTY CARE",
          "0795:HOME DECOR",
          "0353:MENS OUTDOOR",
          "0962:BEVERAGES",
          "0973:CANDY",
          "0797:SEASONAL GIFTS",
          "0962:BEVERAGES",
          "0532:AMERICAN GREETINGS",
          "0822:THIRD PARTY GIFTCARD",
          "0962:BEVERAGES",
          "0982:SPIRITS",
          "0380:MENS ACTIVEWEAR",
          "0486:CHILDRENS FOOTWEAR",
          "0360:MENS FURNISHINGS",
          "0597:HEALTH AIDS",
          "0973:CANDY",
          "0836:HOUSEHOLD CLEANING",
          "0961:GENERAL GROCERIES",
          "0962:BEVERAGES",
          "0603:BEAUTY CARE",
          "0604:PERSONAL CARE",
          "0261:HOSIERY",
          "0834:COOKWARE",
          "0837:GENERAL HOUSEWARES",
          "0415:NEWBORN APPAREL",
          "0416:INFANT APPAREL",
          "0486:CHILDRENS FOOTWEAR",
          "0598:BABY CARE",
          "0646:SEASONAL",
          "0161:MISSY KAREN SCOTT",
          "0532:AMERICAN GREETINGS",
          "0837:GENERAL HOUSEWARES",
          "0603:BEAUTY CARE",
          "0973:CANDY",
          "0845:AS SEEN ON TV",
          "0861:GENERAL HARDWARE",
          "0962:BEVERAGES",
          "0965:PERISHABLES",
          "0962:BEVERAGES",
          "0640:TOYS",
          "0188:STYLE & CO",
          "0833:TABLETOP",
          "0973:CANDY",
          "0271:HANDBAGS",
          "0999:UNSCANNED ITEMS",
          "0593:PRESTIGE COSMETICS",
          "0596:MENS PRESTIGE FRAG",
          "0018:OTHER DIRECT SERVICE",
          "0983:WINE",
          "0469:BOYS ACCESSORIES",
          "0532:AMERICAN GREETINGS",
          "0797:SEASONAL GIFTS",
          "0359:MENS ACCESSORIES",
          "0016:FINANCIAL SERVICES",
          "0604:PERSONAL CARE",
          "0836:HOUSEHOLD CLEANING",
          "0530:SCHOOL/OFFIC SUPP",
          "0380:MENS ACTIVEWEAR",
          "0604:PERSONAL CARE",
          "0961:GENERAL GROCERIES",
          "0973:CANDY",
          "0597:HEALTH AIDS",
          "0603:BEAUTY CARE",
          "0604:PERSONAL CARE",
          "0646:SEASONAL",
          "0836:HOUSEHOLD CLEANING",
          "0973:CANDY",
          "0110:LDS OUTERWEAR/OUTDR",
          "0130:JUNIORS SURF",
          "0193:LADIES ACTIVEWEAR",
          "0646:SEASONAL",
          "0879:PET SUPPLIES",
          "0973:CANDY",
          "0380:MENS ACTIVEWEAR",
          "0098:WAREHOUSED EXPENSES",
          "0589:SUNGLASSES",
          "0999:UNSCANNED ITEMS",
          "0826:SMALL ELECTRICS",
          "0098:WAREHOUSED EXPENSES",
          "0973:CANDY",
          "0291:WOMENS FTWR:DRS/CAS",
          "0018:OTHER DIRECT SERVICE",
          "0449:GIRLS ACCESSORIES",
          "0460:BOYS 4-7 CLOTHING",
          "0982:SPIRITS",
          "0984:BEER",
          "0973:CANDY",
          "0098:WAREHOUSED EXPENSES",
          "0973:CANDY",
          "0962:BEVERAGES",
          "0982:SPIRITS",
          "0983:WINE",
          "0826:SMALL ELECTRICS",
          "0941:BEDDING",
          "0962:BEVERAGES",
          "0110:LDS OUTERWEAR/OUTDR",
          "0380:MENS ACTIVEWEAR",
          "0597:HEALTH AIDS",
          "0554:TELECOMMUNICATIONS",
          "0638:GEN SPORTING GOODS",
          "0826:SMALL ELECTRICS",
          "0982:SPIRITS",
          "0999:UNSCANNED ITEMS",
          "0879:PET SUPPLIES",
          "0962:BEVERAGES",
          "0982:SPIRITS",
          "0416:INFANT APPAREL",
          "0603:BEAUTY CARE",
          "0604:PERSONAL CARE",
          "0163:JUNIOR TOPS",
          "0173:JUNIOR BOTTOMS",
          "0261:HOSIERY",
          "0603:BEAUTY CARE",
          "0822:THIRD PARTY GIFTCARD",
          "0836:HOUSEHOLD CLEANING",
          "0836:HOUSEHOLD CLEANING",
          "0973:CANDY",
          "0486:CHILDRENS FOOTWEAR",
          "0430:GIRLS 4-6X CLOTHING",
          "0016:FINANCIAL SERVICES",
          "0016:FINANCIAL SERVICES",
          "0016:FINANCIAL SERVICES",
          "0589:SUNGLASSES",
          "0056:SOUVENIR",
          "0532:AMERICAN GREETINGS",
          "0595:HOME/BATH",
          "0532:AMERICAN GREETINGS",
          "0634:VITAMINS & HLTH AIDS",
          "0999:UNSCANNED ITEMS",
          "0018:OTHER DIRECT SERVICE",
          "0530:SCHOOL/OFFIC SUPP",
          "0369:YOUNG MENS",
          "0597:HEALTH AIDS",
          "0640:TOYS",
          "0962:BEVERAGES",
          "0016:FINANCIAL SERVICES",
          "0860:NETWORKING",
          "0161:MISSY KAREN SCOTT",
          "0973:CANDY",
          "0984:BEER",
          "0440:GIRLS 7-16 CLOTHING",
          "0449:GIRLS ACCESSORIES",
          "0411:PEGABLES",
          "0369:YOUNG MENS",
          "0380:MENS ACTIVEWEAR",
          "0962:BEVERAGES",
          "0838:FLOOR CARE",
          "0973:CANDY",
          "0016:FINANCIAL SERVICES",
          "0973:CANDY",
          "0962:BEVERAGES",
          "0395:MENS ATHLETIC SHOES",
          "0597:HEALTH AIDS",
          "0680:AUTOMOTIVE",
          "0016:FINANCIAL SERVICES",
          "0836:HOUSEHOLD CLEANING",
          "0879:PET SUPPLIES",
          "0962:BEVERAGES",
          "0016:FINANCIAL SERVICES",
          "0353:MENS OUTDOOR",
          "0646:SEASONAL",
          "0962:BEVERAGES",
          "0973:CANDY",
          "0815:AUDIO ELECTRONICS",
          "0604:PERSONAL CARE",
          "0884:LAWN & GARDEN",
          "0646:SEASONAL",
          "0884:LAWN & GARDEN",
          "0982:SPIRITS",
          "0983:WINE",
          "0983:WINE",
          "0532:AMERICAN GREETINGS",
          "0884:LAWN & GARDEN",
          "0531:STATIONERY SUNDRIES",
          "0646:SEASONAL",
          "0884:LAWN & GARDEN",
          "0603:BEAUTY CARE",
          "0646:SEASONAL",
          "0680:AUTOMOTIVE",
          "0982:SPIRITS",
          "0884:LAWN & GARDEN",
          "0597:HEALTH AIDS",
          "0973:CANDY",
          "0884:LAWN & GARDEN",
          "0646:SEASONAL",
          "0884:LAWN & GARDEN",
          "0962:BEVERAGES",
          "0982:SPIRITS",
          "0884:LAWN & GARDEN",
          "0982:SPIRITS",
          "0597:HEALTH AIDS",
          "0856:GLUES/TAPES/ACC",
          "0982:SPIRITS",
          "0645:BIKES",
          "0597:HEALTH AIDS",
          "0826:SMALL ELECTRICS",
          "0983:WINE",
          "0722:OUTDOOR LIVING",
          "0646:SEASONAL",
          "0999:UNSCANNED ITEMS",
          "0982:SPIRITS",
          "0646:SEASONAL",
          "0879:PET SUPPLIES",
          "0982:SPIRITS",
          "0982:SPIRITS",
          "0991:TOBACCO",
          "0646:SEASONAL",
          "0646:SEASONAL",
          "0819:PRE-RECORDED A/V",
          "0884:LAWN & GARDEN",
          "0962:BEVERAGES",
          "0982:SPIRITS",
          "0983:WINE",
          "0984:BEER",
          "0884:LAWN & GARDEN",
          "0884:LAWN & GARDEN",
          "0646:SEASONAL",
          "0845:AS SEEN ON TV",
          "0941:BEDDING",
          "0836:HOUSEHOLD CLEANING",
          "0646:SEASONAL",
          "0879:PET SUPPLIES",
          "0646:SEASONAL",
          "0884:LAWN & GARDEN",
          "0646:SEASONAL",
          "0982:SPIRITS",
          "0983:WINE",
          "0291:WOMENS FTWR:DRS/CAS",
          "0645:BIKES",
          "0646:SEASONAL",
          "0884:LAWN & GARDEN",
          "0646:SEASONAL",
          "0984:BEER",
          "0845:AS SEEN ON TV",
          "0984:BEER",
          "0646:SEASONAL",
          "0982:SPIRITS",
          "0983:WINE",
          "0884:LAWN & GARDEN",
          "0884:LAWN & GARDEN",
          "0983:WINE",
          "0722:OUTDOOR LIVING",
          "0982:SPIRITS",
          "0531:STATIONERY SUNDRIES",
          "0982:SPIRITS",
          "0531:STATIONERY SUNDRIES",
          "0590:MASS COSMETICS",
          "0646:SEASONAL",
          "0973:CANDY",
          "0639:TEAM SPORTING GOODS",
          "0982:SPIRITS",
          "0984:BEER",
          "0722:OUTDOOR LIVING",
          "0071:BEAUTY RETAIL",
          "0603:BEAUTY CARE",
          "0604:PERSONAL CARE",
          "0884:LAWN & GARDEN",
          "0640:TOYS",
          "0640:TOYS",
          "0973:CANDY",
          "0982:SPIRITS",
          "0597:HEALTH AIDS",
          "0640:TOYS",
          "0646:SEASONAL",
          "0722:OUTDOOR LIVING",
          "0856:GLUES/TAPES/ACC",
          "0861:GENERAL HARDWARE",
          "0845:AS SEEN ON TV",
          "0541:BOOKS AND MAPS",
          "0884:LAWN & GARDEN",
          "0879:PET SUPPLIES",
          "0646:SEASONAL",
          "0861:GENERAL HARDWARE",
          "0640:TOYS",
          "0861:GENERAL HARDWARE",
          "0884:LAWN & GARDEN",
          "0646:SEASONAL",
          "0884:LAWN & GARDEN",
          "0973:CANDY",
          "0646:SEASONAL",
          "0962:BEVERAGES",
          "0368:TRAD COLLECTIONS",
          "0590:MASS COSMETICS",
          "0593:PRESTIGE COSMETICS",
          "0597:HEALTH AIDS",
          "0603:BEAUTY CARE",
          "0604:PERSONAL CARE",
          "0982:SPIRITS",
          "0110:LDS OUTERWEAR/OUTDR",
          "0984:BEER",
          "0982:SPIRITS",
          "0982:SPIRITS",
          "0884:LAWN & GARDEN",
          "0961:GENERAL GROCERIES",
          "0640:TOYS",
          "0879:PET SUPPLIES",
          "0999:UNSCANNED ITEMS",
          "0982:SPIRITS",
          "0884:LAWN & GARDEN",
          "0884:LAWN & GARDEN",
          "0646:SEASONAL",
          "0861:GENERAL HARDWARE",
          "0884:LAWN & GARDEN",
          "0884:LAWN & GARDEN",
          "0884:LAWN & GARDEN",
          "0826:SMALL ELECTRICS",
          "0837:GENERAL HOUSEWARES",
          "0884:LAWN & GARDEN",
          "0982:SPIRITS",
          "0531:STATIONERY SUNDRIES",
          "0646:SEASONAL",
          "0640:TOYS",
          "0646:SEASONAL",
          "0646:SEASONAL",
          "0271:HANDBAGS",
          "0589:SUNGLASSES",
          "0585:WATCHES",
          "0585:WATCHES",
          "0585:WATCHES",
          "0585:WATCHES",
          "0962:BEVERAGES",
          "0973:CANDY",
          "0589:SUNGLASSES",
          "0014:REPAIRS",
          "0532:AMERICAN GREETINGS",
          "0581:BRIDGE JEWELRY",
          "0261:HOSIERY",
          "0581:BRIDGE JEWELRY",
          "0581:BRIDGE JEWELRY",
          "0581:BRIDGE JEWELRY",
          "0581:BRIDGE JEWELRY",
          "0368:TRAD COLLECTIONS",
          "0530:SCHOOL/OFFIC SUPP",
          "0532:AMERICAN GREETINGS",
          "0586:COSTUME JEWELRY",
          "0581:BRIDGE JEWELRY",
          "0583:DIAMONDS/BRIDAL",
          "0581:BRIDGE JEWELRY",
          "0581:BRIDGE JEWELRY",
          "0582:GOLD",
          "0584:GEMSTONES",
          "0581:BRIDGE JEWELRY",
          "0581:BRIDGE JEWELRY",
          "0583:DIAMONDS/BRIDAL",
          "0583:DIAMONDS/BRIDAL",
          "0581:BRIDGE JEWELRY",
          "0581:BRIDGE JEWELRY",
          "0583:DIAMONDS/BRIDAL",
          "0271:HANDBAGS",
          "0581:BRIDGE JEWELRY",
          "0583:DIAMONDS/BRIDAL",
          "0587:JEWELRY CONSIGNMENT",
          "0587:JEWELRY CONSIGNMENT",
          "0581:BRIDGE JEWELRY",
          "0584:GEMSTONES",
          "0582:GOLD",
          "0581:BRIDGE JEWELRY",
          "0584:GEMSTONES",
          "0581:BRIDGE JEWELRY",
          "0581:BRIDGE JEWELRY",
          "0581:BRIDGE JEWELRY",
          "0582:GOLD",
          "0583:DIAMONDS/BRIDAL",
          "0369:YOUNG MENS",
          "0581:BRIDGE JEWELRY",
          "0360:MENS FURNISHINGS",
          "0391:MENS SHOES",
          "0395:MENS ATHLETIC SHOES",
          "0469:BOYS ACCESSORIES",
          "0603:BEAUTY CARE",
          "0811:TELEVISION",
          "0845:AS SEEN ON TV",
          "0879:PET SUPPLIES",
          "0811:TELEVISION",
          "0815:AUDIO ELECTRONICS",
          "0551:CAMERAS & EQUIP",
          "0823:SMART HOME",
          "0395:MENS ATHLETIC SHOES",
          "0551:CAMERAS & EQUIP",
          "0838:FLOOR CARE",
          "0603:BEAUTY CARE",
          "0797:SEASONAL GIFTS",
          "0836:HOUSEHOLD CLEANING",
          "0530:SCHOOL/OFFIC SUPP",
          "0597:HEALTH AIDS",
          "0815:AUDIO ELECTRONICS",
          "0838:FLOOR CARE",
          "0826:SMALL ELECTRICS",
          "0811:TELEVISION",
          "0811:TELEVISION",
          "0816:VIDEO ELECTRONICS",
          "0230:DAYWEAR",
          "0833:TABLETOP",
          "0834:COOKWARE",
          "0930:TABLE TOP & KITCHEN",
          "0991:TOBACCO",
          "0815:AUDIO ELECTRONICS",
          "0850:PC HDWR & OFFICE EQP",
          "0530:SCHOOL/OFFIC SUPP",
          "0533:PAPYRUS",
          "0638:GEN SPORTING GOODS",
          "0826:SMALL ELECTRICS",
          "0846:BATTERIES",
          "0857:PC PERIPH/OFFICE ACC",
          "0962:BEVERAGES",
          "0353:MENS OUTDOOR",
          "0857:PC PERIPH/OFFICE ACC",
          "0859:iPAD",
          "0295:WOMENS ATHLTIC SHOES",
          "0391:MENS SHOES",
          "0853:DIMAGE/PHONE/GPS/ACC",
          "0811:TELEVISION",
          "0850:PC HDWR & OFFICE EQP",
          "0851:PC HARDWARE",
          "0220:SHAPEWEAR",
          "0230:DAYWEAR",
          "0532:AMERICAN GREETINGS",
          "0816:VIDEO ELECTRONICS",
          "0551:CAMERAS & EQUIP",
          "0554:TELECOMMUNICATIONS",
          "0819:PRE-RECORDED A/V",
          "0834:COOKWARE",
          "0837:GENERAL HOUSEWARES",
          "0811:TELEVISION",
          "0811:TELEVISION",
          "0819:PRE-RECORDED A/V",
          "0072:BARBER SERVICES",
          "0072:BARBER SERVICES",
          "0072:BARBER SERVICES",
          "0072:BARBER SERVICES",
          "0072:BARBER SERVICES",
          "0072:BARBER SERVICES",
          "0072:BARBER SERVICES",
          "0072:BARBER SERVICES",
          "0072:BARBER SERVICES",
          "0072:BARBER SERVICES",
          "0072:BARBER SERVICES",
          "0072:BARBER SERVICES",
          "0072:BARBER SERVICES",
          "0072:BARBER SERVICES",
          "0072:BARBER SERVICES",
          "0072:BARBER SERVICES",
          "0072:BARBER SERVICES",
          "0072:BARBER SERVICES",
          "0072:BARBER SERVICES",
          "0072:BARBER SERVICES",
          "0072:BARBER SERVICES",
          "0072:BARBER SERVICES",
          "0072:BARBER SERVICES",
          "0072:BARBER SERVICES",
          "0072:BARBER SERVICES",
          "0072:BARBER SERVICES",
          "0072:BARBER SERVICES",
          "0072:BARBER SERVICES",
          "0072:BARBER SERVICES",
          "0072:BARBER SERVICES",
          "0072:BARBER SERVICES",
          "0072:BARBER SERVICES",
          "0002:BARBER RETAIL",
          "0072:BARBER SERVICES",
          "0072:BARBER SERVICES",
          "0072:BARBER SERVICES",
          "0072:BARBER SERVICES",
          "0072:BARBER SERVICES",
          "0072:BARBER SERVICES",
          "0072:BARBER SERVICES",
          "0072:BARBER SERVICES",
          "0072:BARBER SERVICES",
          "0072:BARBER SERVICES",
          "0072:BARBER SERVICES",
          "0072:BARBER SERVICES",
          "0072:BARBER SERVICES",
          "0072:BARBER SERVICES",
          "0072:BARBER SERVICES",
          "0072:BARBER SERVICES",
          "0072:BARBER SERVICES",
          "0072:BARBER SERVICES",
          "0072:BARBER SERVICES",
          "0072:BARBER SERVICES",
          "0072:BARBER SERVICES",
          "0072:BARBER SERVICES",
          "0072:BARBER SERVICES",
          "0072:BARBER SERVICES",
          "0072:BARBER SERVICES",
          "0072:BARBER SERVICES",
          "0072:BARBER SERVICES",
          "0962:BEVERAGES",
          "0072:BARBER SERVICES",
          "0072:BARBER SERVICES",
          "0072:BARBER SERVICES",
          "0072:BARBER SERVICES",
          "0072:BARBER SERVICES",
          "0072:BARBER SERVICES",
          "0072:BARBER SERVICES",
          "0072:BARBER SERVICES",
          "0072:BARBER SERVICES",
          "0072:BARBER SERVICES",
          "0072:BARBER SERVICES",
          "0072:BARBER SERVICES",
          "0072:BARBER SERVICES",
          "0072:BARBER SERVICES",
          "0072:BARBER SERVICES",
          "0072:BARBER SERVICES",
          "0072:BARBER SERVICES",
          "0072:BARBER SERVICES",
          "0072:BARBER SERVICES",
          "0072:BARBER SERVICES",
          "0072:BARBER SERVICES",
          "0072:BARBER SERVICES",
          "0072:BARBER SERVICES",
          "0072:BARBER SERVICES",
          "0072:BARBER SERVICES",
          "0072:BARBER SERVICES",
          "0072:BARBER SERVICES",
          "0072:BARBER SERVICES",
          "0072:BARBER SERVICES",
          "0072:BARBER SERVICES",
          "0072:BARBER SERVICES",
          "0072:BARBER SERVICES",
          "0072:BARBER SERVICES",
          "0072:BARBER SERVICES",
          "0072:BARBER SERVICES",
          "0072:BARBER SERVICES",
          "0072:BARBER SERVICES",
          "0072:BARBER SERVICES",
          "0072:BARBER SERVICES",
          "0072:BARBER SERVICES",
          "0072:BARBER SERVICES",
          "0072:BARBER SERVICES",
          "0002:BARBER RETAIL",
          "0072:BARBER SERVICES",
          "0072:BARBER SERVICES",
          "0072:BARBER SERVICES",
          "0072:BARBER SERVICES",
          "0072:BARBER SERVICES",
          "0072:BARBER SERVICES",
          "0072:BARBER SERVICES",
          "0072:BARBER SERVICES",
          "0072:BARBER SERVICES",
          "0072:BARBER SERVICES",
          "0072:BARBER SERVICES",
          "0962:BEVERAGES",
          "0076:FLORAL RETAIL",
          "0076:FLORAL RETAIL",
          "0056:SOUVENIR",
          "0510:NAVY PRIDE HARDLINES",
          "0962:BEVERAGES",
          "0973:CANDY",
          "0018:OTHER DIRECT SERVICE",
          "0009:FLORAL SERV/SUPPLIES",
          "0961:GENERAL GROCERIES",
          "0962:BEVERAGES",
          "0962:BEVERAGES",
          "0076:FLORAL RETAIL",
          "0532:AMERICAN GREETINGS",
          "0593:PRESTIGE COSMETICS",
          "0884:LAWN & GARDEN",
          "0961:GENERAL GROCERIES",
          "0009:FLORAL SERV/SUPPLIES",
          "0009:FLORAL SERV/SUPPLIES",
          "0056:SOUVENIR",
          "0009:FLORAL SERV/SUPPLIES",
          "0532:AMERICAN GREETINGS",
          "0983:WINE",
          "0009:FLORAL SERV/SUPPLIES",
          "0861:GENERAL HARDWARE",
          "0962:BEVERAGES",
          "0009:FLORAL SERV/SUPPLIES",
          "0532:AMERICAN GREETINGS",
          "0469:BOYS ACCESSORIES",
          "0838:FLOOR CARE",
          "0395:MENS ATHLETIC SHOES",
          "0530:SCHOOL/OFFIC SUPP",
          "0797:SEASONAL GIFTS",
          "0837:GENERAL HOUSEWARES",
          "0826:SMALL ELECTRICS",
          "0962:BEVERAGES",
          "0973:CANDY",
          "0853:DIMAGE/PHONE/GPS/ACC",
          "0530:SCHOOL/OFFIC SUPP",
          "0815:AUDIO ELECTRONICS",
          "0551:CAMERAS & EQUIP",
          "0811:TELEVISION",
          "0795:HOME DECOR",
          "0551:CAMERAS & EQUIP",
          "0857:PC PERIPH/OFFICE ACC",
          "0449:GIRLS ACCESSORIES",
          "0415:NEWBORN APPAREL",
          "0850:PC HDWR & OFFICE EQP",
          "0851:PC HARDWARE",
          "0811:TELEVISION",
          "0815:AUDIO ELECTRONICS",
          "0597:HEALTH AIDS",
          "0604:PERSONAL CARE",
          "0826:SMALL ELECTRICS",
          "0836:HOUSEHOLD CLEANING",
          "0931:BATH",
          "0795:HOME DECOR",
          "0530:SCHOOL/OFFIC SUPP",
          "0854:VIDEO GAMES",
          "0854:VIDEO GAMES",
          "0836:HOUSEHOLD CLEANING",
          "0860:NETWORKING",
          "0839:HOME ORG/SOLUTIONS",
          "0167:MISSY TOPS",
          "0354:MENS MODERN COLLECT",
          "0380:MENS ACTIVEWEAR",
          "0837:GENERAL HOUSEWARES",
          "0859:iPAD",
          "0837:GENERAL HOUSEWARES",
          "0604:PERSONAL CARE",
          "0811:TELEVISION",
          "0815:AUDIO ELECTRONICS",
          "0823:SMART HOME",
          "0486:CHILDRENS FOOTWEAR",
          "0795:HOME DECOR",
          "0797:SEASONAL GIFTS",
          "0860:NETWORKING",
          "0530:SCHOOL/OFFIC SUPP",
          "0530:SCHOOL/OFFIC SUPP",
          "0839:HOME ORG/SOLUTIONS",
          "0822:THIRD PARTY GIFTCARD",
          "0854:VIDEO GAMES",
          "0530:SCHOOL/OFFIC SUPP",
          "0930:TABLE TOP & KITCHEN",
          "0815:AUDIO ELECTRONICS",
          "0439:JUVENILLE FURNITURE",
          "0530:SCHOOL/OFFIC SUPP",
          "0850:PC HDWR & OFFICE EQP",
          "0833:TABLETOP",
          "0836:HOUSEHOLD CLEANING",
          "0982:SPIRITS",
          "0811:TELEVISION",
          "0530:SCHOOL/OFFIC SUPP",
          "0597:HEALTH AIDS",
          "0836:HOUSEHOLD CLEANING",
          "0850:PC HDWR & OFFICE EQP",
          "0852:COMPUTER SOFTWARE",
          "0854:VIDEO GAMES",
          "0391:MENS SHOES",
          "0421:TODDLER GIRL APPAREL",
          "0426:TODDLER BOY APPAREL",
          "0460:BOYS 4-7 CLOTHING",
          "0469:BOYS ACCESSORIES",
          "0486:CHILDRENS FOOTWEAR",
          "0815:AUDIO ELECTRONICS",
          "0860:NETWORKING",
          "0210:FOUNDATIONS",
          "0230:DAYWEAR",
          "0391:MENS SHOES",
          "0857:PC PERIPH/OFFICE ACC",
          "0816:VIDEO ELECTRONICS",
          "0819:PRE-RECORDED A/V",
          "0850:PC HDWR & OFFICE EQP",
          "0837:GENERAL HOUSEWARES",
          "0597:HEALTH AIDS",
          "0598:BABY CARE",
          "0837:GENERAL HOUSEWARES",
          "0973:CANDY",
          "0811:TELEVISION",
          "0811:TELEVISION",
          "0815:AUDIO ELECTRONICS",
          "0811:TELEVISION",
          "0823:SMART HOME",
          "0815:AUDIO ELECTRONICS",
          "0554:TELECOMMUNICATIONS",
          "0358:MENS DRESS SHIRTS",
          "0554:TELECOMMUNICATIONS",
          "0817:WEARABLES",
          "0603:BEAUTY CARE",
          "0815:AUDIO ELECTRONICS",
          "0554:TELECOMMUNICATIONS",
          "0131:LADIES DRESSES",
          "0343:MENS DENIM JEANS",
          "0391:MENS SHOES",
          "0640:TOYS",
          "0826:SMALL ELECTRICS",
          "0411:PEGABLES",
          "0598:BABY CARE",
          "0860:NETWORKING",
          "0837:GENERAL HOUSEWARES",
          "0931:BATH",
          "0851:PC HARDWARE",
          "0551:CAMERAS & EQUIP",
          "0811:TELEVISION",
          "0815:AUDIO ELECTRONICS",
          "0851:PC HARDWARE",
          "0854:VIDEO GAMES",
          "0240:SLEEPWEAR/LOUNGEWEAR",
          "0837:GENERAL HOUSEWARES",
          "0845:AS SEEN ON TV",
          "0857:PC PERIPH/OFFICE ACC",
          "0931:BATH",
          "0941:BEDDING",
          "0991:TOBACCO",
          "0815:AUDIO ELECTRONICS",
          "0857:PC PERIPH/OFFICE ACC",
          "0395:MENS ATHLETIC SHOES",
          "0815:AUDIO ELECTRONICS",
          "0532:AMERICAN GREETINGS",
          "0066:VENDING/AMUSEMENT MA"
         ],
         "x0": " ",
         "xaxis": "x",
         "y": [
          2,
          1,
          2,
          2,
          1,
          4,
          2,
          1,
          5,
          1,
          1,
          1,
          3,
          2,
          4,
          1,
          16,
          1,
          2,
          1,
          1,
          1,
          1,
          1,
          7,
          1,
          1,
          1,
          1,
          1,
          1,
          2,
          1,
          1,
          1,
          2,
          1,
          1,
          1,
          1,
          1,
          3,
          1,
          4,
          2,
          1,
          1,
          1,
          2,
          2,
          1,
          1,
          1,
          1,
          2,
          2,
          1,
          1,
          1,
          1,
          2,
          1,
          3,
          1,
          1,
          2,
          3,
          1,
          3,
          5,
          3,
          1,
          1,
          1,
          1,
          2,
          1,
          1,
          1,
          1,
          1,
          1,
          3,
          1,
          1,
          2,
          1,
          4,
          2,
          1,
          1,
          1,
          2,
          1,
          2,
          1,
          1,
          1,
          2,
          1,
          1,
          1,
          1,
          2,
          2,
          2,
          2,
          1,
          1,
          1,
          2,
          5,
          1,
          3,
          4,
          2,
          1,
          1,
          1,
          1,
          1,
          1,
          3,
          4,
          1,
          11,
          2,
          2,
          1,
          1,
          1,
          1,
          24,
          1,
          1,
          1,
          1,
          2,
          1,
          1,
          8,
          2,
          1,
          1,
          2,
          1,
          2,
          1,
          2,
          1,
          1,
          1,
          4,
          4,
          1,
          1,
          1,
          6,
          3,
          3,
          1,
          1,
          2,
          3,
          3,
          6,
          1,
          2,
          2,
          9,
          6,
          1,
          2,
          2,
          1,
          1,
          1,
          1,
          2,
          1,
          1,
          1,
          2,
          3,
          3,
          4,
          1,
          2,
          2,
          1,
          1,
          1,
          3,
          1,
          2,
          1,
          9,
          1,
          3,
          1,
          1,
          1,
          1,
          1,
          2,
          1,
          2,
          1,
          2,
          2,
          2,
          1,
          1,
          4,
          3,
          1,
          1,
          1,
          2,
          2,
          1,
          1,
          3,
          1,
          1,
          1,
          2,
          3,
          1,
          2,
          5,
          2,
          2,
          1,
          1,
          2,
          1,
          3,
          2,
          3,
          2,
          1,
          3,
          2,
          2,
          2,
          2,
          1,
          1,
          1,
          4,
          2,
          1,
          1,
          13,
          1,
          1,
          2,
          4,
          1,
          1,
          1,
          2,
          3,
          1,
          2,
          1,
          1,
          4,
          1,
          2,
          3,
          3,
          1,
          1,
          4,
          2,
          1,
          2,
          1,
          1,
          3,
          4,
          4,
          5,
          1,
          1,
          1,
          2,
          1,
          1,
          1,
          1,
          2,
          1,
          3,
          1,
          2,
          4,
          1,
          2,
          1,
          4,
          1,
          3,
          1,
          1,
          1,
          2,
          2,
          1,
          1,
          6,
          1,
          4,
          3,
          2,
          2,
          1,
          8,
          1,
          2,
          2,
          1,
          3,
          2,
          2,
          3,
          4,
          4,
          2,
          1,
          3,
          1,
          1,
          2,
          1,
          1,
          8,
          1,
          1,
          1,
          1,
          2,
          1,
          3,
          2,
          1,
          2,
          1,
          7,
          2,
          1,
          1,
          1,
          1,
          2,
          1,
          1,
          2,
          1,
          2,
          2,
          3,
          1,
          2,
          1,
          1,
          1,
          1,
          1,
          2,
          3,
          3,
          1,
          1,
          1,
          1,
          3,
          1,
          3,
          2,
          4,
          3,
          2,
          2,
          1,
          3,
          1,
          4,
          2,
          4,
          4,
          1,
          2,
          1,
          3,
          1,
          1,
          1,
          1,
          1,
          1,
          2,
          1,
          2,
          1,
          4,
          3,
          10,
          3,
          2,
          8,
          1,
          1,
          1,
          1,
          1,
          1,
          1,
          1,
          1,
          4,
          1,
          1,
          1,
          2,
          1,
          4,
          6,
          3,
          1,
          3,
          1,
          11,
          3,
          3,
          1,
          1,
          1,
          2,
          12,
          1,
          3,
          2,
          10,
          3,
          3,
          1,
          7,
          1,
          1,
          1,
          1,
          1,
          2,
          1,
          12,
          2,
          1,
          2,
          2,
          1,
          1,
          2,
          2,
          1,
          1,
          1,
          1,
          1,
          3,
          1,
          1,
          7,
          1,
          1,
          1,
          1,
          1,
          1,
          1,
          1,
          1,
          1,
          1,
          7,
          2,
          3,
          1,
          1,
          1,
          5,
          2,
          5,
          1,
          2,
          3,
          2,
          4,
          1,
          2,
          1,
          2,
          6,
          1,
          6,
          1,
          1,
          1,
          2,
          1,
          1,
          1,
          1,
          1,
          1,
          5,
          4,
          1,
          4,
          2,
          1,
          1,
          2,
          1,
          1,
          3,
          1,
          2,
          1,
          6,
          1,
          1,
          1,
          1,
          3,
          1,
          1,
          2,
          5,
          3,
          2,
          1,
          2,
          7,
          1,
          2,
          6,
          1,
          1,
          3,
          3,
          1,
          1,
          1,
          3,
          1,
          6,
          4,
          1,
          1,
          2,
          5,
          2,
          3,
          1,
          1,
          1,
          12,
          2,
          2,
          1,
          1,
          1,
          1,
          1,
          1,
          1,
          1,
          1,
          1,
          1,
          3,
          12,
          2,
          1,
          1,
          1,
          1,
          4,
          1,
          1,
          4,
          1,
          2,
          2,
          1,
          1,
          1,
          1,
          3,
          1,
          3,
          1,
          1,
          2,
          1,
          1,
          1,
          3,
          1,
          1,
          2,
          1,
          1,
          1,
          7,
          1,
          1,
          3,
          1,
          1,
          1,
          1,
          1,
          6,
          1,
          1,
          1,
          1,
          1,
          1,
          1,
          2,
          1,
          2,
          1,
          5,
          1,
          4,
          7,
          1,
          2,
          3,
          1,
          1,
          1,
          1,
          1,
          1,
          7,
          1,
          2,
          1,
          1,
          1,
          1,
          1,
          1,
          1,
          2,
          2,
          2,
          1,
          1,
          1,
          2,
          2,
          1,
          3,
          1,
          1,
          2,
          2,
          3,
          2,
          2,
          1,
          1,
          2,
          1,
          2,
          1,
          1,
          1,
          1,
          1,
          2,
          3,
          2,
          1,
          1,
          2,
          1,
          1,
          2,
          1,
          2,
          3,
          1,
          1,
          1,
          1,
          1,
          3,
          1,
          1,
          1,
          3,
          1,
          1,
          1,
          2,
          2,
          6,
          2,
          1,
          1,
          1,
          2,
          4,
          1,
          1,
          2,
          1,
          1,
          1,
          2,
          3,
          1,
          1,
          1,
          1,
          1,
          1,
          5,
          1,
          1,
          1,
          1,
          4,
          2,
          1,
          2,
          2,
          4,
          2,
          1,
          1,
          1,
          1,
          2,
          1,
          2,
          1,
          1,
          1,
          2,
          1,
          2,
          2,
          1,
          1,
          1,
          1,
          2,
          1,
          1,
          2,
          1,
          3,
          1,
          1,
          1,
          2,
          1,
          1,
          1,
          1,
          2,
          2,
          1,
          3,
          1,
          1,
          1,
          6,
          2,
          1,
          1,
          1,
          1,
          3,
          3,
          1,
          1,
          1,
          1,
          2,
          1,
          3,
          3,
          3,
          1,
          2,
          1,
          3,
          3,
          2,
          1,
          1,
          2,
          1,
          3,
          1,
          1,
          1,
          1,
          1,
          1,
          24,
          1,
          1,
          1,
          1,
          4,
          1,
          2,
          1,
          1,
          2,
          2,
          1,
          1,
          2,
          2,
          1,
          1,
          2,
          1,
          1,
          2,
          2,
          1,
          2,
          1,
          2,
          1,
          1,
          1,
          5,
          1,
          5,
          1,
          1,
          1,
          6,
          2,
          1,
          2,
          1,
          2,
          1,
          2,
          4,
          2,
          1,
          9,
          2,
          1,
          1,
          1,
          2,
          4,
          1,
          1,
          1,
          8,
          1,
          1,
          2,
          3,
          5,
          3,
          2,
          1,
          2,
          1,
          6,
          1,
          1,
          2,
          2,
          3,
          2,
          2,
          2,
          3,
          5,
          2,
          1,
          2,
          2,
          1,
          1,
          22,
          2,
          2,
          1,
          1,
          1,
          2,
          5,
          1,
          1,
          1,
          3,
          1,
          1,
          1,
          2,
          1,
          6,
          4,
          2,
          6,
          2,
          1,
          2,
          1,
          1,
          1,
          1,
          1,
          3,
          1,
          1,
          1,
          1,
          2,
          1,
          1,
          2,
          1,
          1,
          1,
          3,
          2,
          2,
          1,
          2,
          1,
          1,
          7,
          2,
          1,
          14,
          1,
          3,
          4,
          2,
          1,
          1,
          1,
          4,
          1,
          1,
          3,
          1,
          1,
          2,
          1,
          1,
          2,
          1,
          1,
          2,
          2,
          1,
          1,
          1,
          1,
          1,
          1,
          1,
          2,
          4,
          1,
          1,
          2,
          2,
          1,
          1,
          1,
          2,
          3,
          2,
          4,
          1,
          12,
          7,
          4,
          1,
          1,
          1,
          1,
          1,
          4,
          1,
          1,
          1,
          1,
          1,
          1,
          1,
          1,
          1,
          2,
          1,
          2,
          1,
          1,
          3,
          3,
          2,
          1,
          1,
          1,
          1,
          1,
          3,
          1,
          5,
          2,
          6,
          4,
          2,
          2,
          1,
          2,
          3,
          1,
          1,
          2,
          2,
          3,
          2,
          2,
          1,
          1,
          4,
          1,
          2,
          1,
          2,
          2,
          1,
          2,
          2,
          1,
          1,
          1,
          1,
          1,
          2,
          1,
          1,
          1,
          4,
          9,
          4,
          1,
          1,
          3,
          3,
          6,
          1,
          2,
          5,
          1,
          1,
          1,
          3,
          2,
          2,
          1,
          1,
          5,
          1,
          2,
          1,
          3,
          2,
          1,
          1,
          1,
          1,
          2,
          1,
          2,
          2,
          1,
          1,
          4,
          4,
          1,
          1,
          1,
          4,
          3,
          1,
          1,
          1,
          3,
          1,
          5,
          1,
          1,
          3,
          4,
          1,
          1,
          1,
          1,
          2,
          2,
          2,
          1,
          2,
          2,
          3,
          2,
          1,
          2,
          1,
          1,
          2,
          3,
          2,
          1,
          1,
          1,
          2,
          1,
          2,
          1,
          2,
          1,
          1,
          2,
          2,
          1,
          5,
          4,
          4,
          3,
          1,
          1,
          1,
          1,
          3,
          3,
          1,
          1,
          1,
          1,
          1,
          2,
          1,
          1,
          1,
          2,
          2,
          3,
          1,
          7,
          1,
          3,
          3,
          6,
          2,
          1,
          1,
          3,
          1,
          1,
          2,
          1,
          1,
          2,
          1,
          6,
          1,
          1,
          1,
          2,
          3,
          2,
          1,
          3,
          1,
          2,
          2,
          1,
          1,
          5,
          8,
          2,
          1,
          2,
          2,
          1,
          1,
          3,
          2,
          1,
          2,
          1,
          1,
          2,
          2,
          2,
          1,
          2,
          1,
          2,
          5,
          4,
          4,
          1,
          1,
          1,
          2,
          1,
          2,
          3,
          2,
          1,
          1,
          1,
          4,
          1,
          1,
          3,
          1,
          3,
          3,
          5,
          2,
          1,
          1,
          2,
          1,
          2,
          1,
          3,
          1,
          1,
          1,
          1,
          1,
          1,
          2,
          13,
          1,
          1,
          1,
          4,
          1,
          1,
          1,
          1,
          1,
          2,
          1,
          1,
          1,
          1,
          1,
          1,
          1,
          1,
          1,
          2,
          2,
          1,
          1,
          1,
          3,
          1,
          1,
          2,
          1,
          1,
          1,
          2,
          1,
          1,
          1,
          1,
          3,
          1,
          2,
          1,
          1,
          2,
          1,
          2,
          2,
          1,
          1,
          2,
          2,
          5,
          1,
          2,
          2,
          4,
          1,
          4,
          3,
          1,
          1,
          1,
          2,
          2,
          1,
          2,
          1,
          1,
          1,
          7,
          4,
          3,
          4,
          1,
          1,
          2,
          1,
          2,
          1,
          1,
          3,
          2,
          1,
          4,
          1,
          3,
          2,
          1,
          1,
          2,
          1,
          15,
          1,
          1,
          1,
          1,
          3,
          1,
          1,
          1,
          2,
          1,
          1,
          2,
          1,
          2,
          6,
          2,
          1,
          1,
          1,
          2,
          2,
          4,
          1,
          1,
          2,
          1,
          2,
          1,
          6,
          1,
          5,
          1,
          1,
          2,
          1,
          1,
          1,
          1,
          1,
          1,
          2,
          1,
          3,
          2,
          1,
          4,
          1,
          1,
          2,
          1,
          2,
          2,
          2,
          1,
          6,
          4,
          1,
          1,
          1,
          2,
          1,
          2,
          2,
          2,
          2,
          1,
          1,
          1,
          3,
          1,
          1,
          1,
          1,
          1,
          1,
          1,
          1,
          3,
          1,
          1,
          1,
          1,
          1,
          1,
          1,
          1,
          1,
          1,
          1,
          4,
          2,
          2,
          2,
          1,
          1,
          1,
          1,
          1,
          1,
          1,
          2,
          1,
          1,
          1,
          1,
          1,
          1,
          1,
          4,
          1,
          1,
          2,
          1,
          1,
          1,
          2,
          1,
          1,
          1,
          1,
          1,
          1,
          1,
          2,
          1,
          1,
          1,
          1,
          1,
          1,
          3,
          1,
          1,
          5,
          1,
          1,
          2,
          1,
          1,
          1,
          1,
          1,
          9,
          2,
          1,
          4,
          4,
          2,
          1,
          2,
          1,
          1,
          1,
          1,
          1,
          3,
          1,
          1,
          2,
          2,
          5,
          1,
          1,
          4,
          1,
          1,
          1,
          3,
          3,
          1,
          1,
          2,
          1,
          1,
          2,
          1,
          2,
          1,
          1,
          4,
          2,
          8,
          3,
          2,
          1,
          1,
          1,
          2,
          1,
          1,
          1,
          1,
          1,
          1,
          4,
          1,
          1,
          2,
          6,
          1,
          2,
          1,
          5,
          2,
          2,
          1,
          1,
          3,
          1,
          1,
          1,
          1,
          1,
          8,
          1,
          1,
          3,
          2,
          2,
          1,
          3,
          1,
          1,
          2,
          2,
          2,
          4,
          1,
          2,
          1,
          1,
          2,
          2,
          1,
          2,
          1,
          2,
          1,
          2,
          1,
          1,
          1,
          1,
          1,
          2,
          2,
          2,
          1,
          1,
          2,
          1,
          1,
          2,
          4,
          1,
          4,
          2,
          3,
          2,
          1,
          1,
          2,
          1,
          2,
          1,
          1,
          1,
          1,
          3,
          2,
          2,
          1,
          4,
          1,
          3,
          1,
          1,
          2,
          1,
          6,
          3,
          2,
          1,
          1,
          1,
          2,
          3,
          4,
          2,
          4,
          4,
          6,
          1,
          1,
          1,
          1,
          2,
          1,
          7,
          1,
          2,
          1,
          1,
          1,
          2,
          3,
          2,
          2,
          4,
          1,
          1,
          1,
          2,
          3,
          6,
          1,
          1,
          1,
          1,
          1,
          1,
          1,
          4,
          1,
          1,
          1,
          2,
          1,
          1,
          2,
          1,
          1,
          1,
          1,
          1,
          1,
          1,
          2,
          2,
          2,
          1,
          3,
          1,
          1,
          1,
          1,
          1,
          1,
          3,
          2,
          1,
          1,
          1,
          9,
          2,
          1,
          1,
          1,
          1,
          1,
          1,
          2,
          1,
          1,
          2,
          2,
          1,
          1,
          1,
          1,
          1,
          2,
          4,
          2,
          2,
          1,
          1,
          1,
          1,
          3,
          1,
          1,
          2,
          2,
          2,
          1,
          1,
          1,
          1,
          1,
          1,
          1,
          5,
          1,
          2,
          1,
          1,
          1,
          2,
          2,
          4,
          1,
          1,
          1,
          1,
          1,
          5,
          1,
          1,
          1,
          1,
          3,
          1,
          2,
          1,
          1,
          1,
          3,
          1,
          1,
          1,
          1,
          2,
          1,
          5,
          1,
          1,
          4,
          3,
          1,
          2,
          1,
          2,
          1,
          1,
          6,
          1,
          1,
          1,
          2,
          1,
          3,
          1,
          6,
          3,
          1,
          1,
          1,
          1,
          1,
          1,
          1,
          5,
          1,
          1,
          1,
          1,
          1,
          1,
          1,
          1,
          1,
          1,
          1,
          1,
          1,
          2,
          1,
          1,
          1,
          3,
          3,
          3,
          1,
          2,
          1,
          1,
          2,
          1,
          4,
          2,
          1,
          2,
          2,
          6,
          1,
          2,
          2,
          1,
          1,
          1,
          1,
          1,
          1,
          1,
          1,
          2,
          1,
          1,
          2,
          1,
          2,
          1,
          1,
          2,
          1,
          1,
          3,
          3,
          1,
          3,
          5,
          1,
          1,
          2,
          1,
          1,
          1,
          3,
          2,
          1,
          1,
          1,
          1,
          7,
          3,
          2,
          5,
          2,
          4,
          1,
          3,
          2,
          1,
          1,
          1,
          2,
          1,
          1,
          3,
          3,
          2,
          1,
          2,
          1,
          1,
          1,
          1,
          1,
          2,
          1,
          1,
          6,
          2,
          1,
          3,
          2,
          1,
          2,
          1,
          2,
          4,
          1,
          1,
          3,
          1,
          2,
          1,
          2,
          1,
          1,
          1,
          8,
          14,
          2,
          1,
          1,
          4,
          1,
          1,
          1,
          1,
          1,
          1,
          1,
          8,
          1,
          1,
          1,
          1,
          2,
          1,
          1,
          2,
          1,
          1,
          2,
          1,
          2,
          1,
          2,
          3,
          1,
          1,
          1,
          1,
          1,
          1,
          1,
          1,
          1,
          2,
          2,
          1,
          1,
          1,
          1,
          1,
          1,
          1,
          1,
          1,
          1,
          1,
          1,
          3,
          1,
          1,
          1,
          1,
          4,
          1,
          1,
          3,
          1,
          2,
          3,
          1,
          1,
          1,
          3,
          1,
          1,
          2,
          3,
          4,
          2,
          1,
          1,
          1,
          1,
          1,
          1,
          2,
          1,
          1,
          4,
          1,
          1,
          1,
          2,
          7,
          2,
          1,
          1,
          1,
          1,
          2,
          3,
          3,
          1,
          1,
          2,
          1,
          1,
          1,
          1,
          1,
          1,
          1,
          1,
          2,
          3,
          1,
          4,
          1,
          2,
          1,
          2,
          2,
          2,
          1,
          2,
          1,
          1,
          1,
          1,
          1,
          2,
          1,
          1,
          1,
          2,
          1,
          1,
          1,
          1,
          2,
          7,
          1,
          2,
          1,
          1,
          3,
          1,
          1,
          2,
          2,
          1,
          1,
          1,
          1,
          1,
          3,
          1,
          1,
          1,
          1,
          2,
          1,
          1,
          2,
          1,
          1,
          2,
          2,
          1,
          1,
          1,
          1,
          2,
          1,
          1,
          1,
          1,
          1,
          1,
          1,
          2,
          1,
          1,
          1,
          1,
          1,
          2,
          1,
          5,
          1,
          3,
          1,
          1,
          2,
          4,
          1,
          3,
          2,
          3,
          1,
          1,
          2,
          2,
          1,
          1,
          1,
          2,
          3,
          1,
          1,
          2,
          1,
          1,
          1,
          4,
          20,
          2,
          2,
          1,
          2,
          3,
          1,
          1,
          1,
          2,
          2,
          1,
          2,
          1,
          2,
          1,
          6,
          1,
          1,
          1,
          3,
          1,
          5,
          1,
          2,
          2,
          1,
          6,
          2,
          2,
          2,
          2,
          1,
          5,
          1,
          1,
          1,
          1,
          1,
          3,
          2,
          1,
          2,
          1,
          1,
          1,
          1,
          1,
          1,
          1,
          2,
          1,
          1,
          4,
          1,
          3,
          2,
          1,
          1,
          1,
          1,
          1,
          1,
          5,
          1,
          9,
          5,
          1,
          1,
          1,
          1,
          2,
          3,
          1,
          1,
          1,
          1,
          1,
          1,
          3,
          1,
          1,
          1,
          4,
          1,
          1,
          1,
          1,
          1,
          2,
          1,
          1,
          1,
          1,
          1,
          8,
          5,
          1,
          1,
          1,
          1,
          1,
          1,
          1,
          1,
          1,
          1,
          1,
          4,
          1,
          1,
          2,
          1,
          1,
          1,
          8,
          1,
          10,
          1,
          2,
          1,
          1,
          1,
          1,
          1,
          3,
          3,
          1,
          2,
          2,
          1,
          1,
          5,
          1,
          1,
          1,
          1,
          2,
          4,
          1,
          1,
          1,
          5,
          3,
          1,
          4,
          1,
          1,
          1,
          2,
          1,
          1,
          1,
          6,
          1,
          1,
          1,
          1,
          2,
          1,
          7,
          2,
          1,
          1,
          1,
          1,
          2,
          1,
          1,
          1,
          4,
          3,
          2,
          1,
          2,
          1,
          1,
          1,
          1,
          3,
          3,
          1,
          1,
          1,
          1,
          1,
          1,
          1,
          1,
          1,
          1,
          1,
          1,
          1,
          1,
          1,
          1,
          1,
          1,
          1,
          5,
          1,
          1,
          1,
          1,
          3,
          1,
          9,
          1,
          1,
          1,
          1,
          7,
          1,
          1,
          1,
          1,
          8,
          2,
          1,
          3,
          1,
          1,
          1,
          1,
          3,
          2,
          6,
          2,
          2,
          3,
          3,
          1,
          6,
          1,
          2,
          1,
          1,
          5,
          1,
          1,
          1,
          2,
          1,
          1,
          1,
          1,
          1,
          1,
          1,
          1,
          1,
          1,
          1,
          1,
          1,
          3,
          2,
          3,
          1,
          1,
          1,
          1,
          1,
          2,
          1,
          1,
          2,
          3,
          1,
          1,
          1,
          1,
          1,
          1,
          4,
          2,
          2,
          1,
          2,
          1,
          1,
          1,
          1,
          1,
          3,
          3,
          1,
          5,
          1,
          1,
          1,
          1,
          1,
          1,
          1,
          3,
          2,
          5,
          1,
          1,
          1,
          1,
          1,
          2,
          1,
          1,
          1,
          1,
          4,
          1,
          1,
          1,
          1,
          1,
          1,
          1,
          1,
          1,
          7,
          5,
          1,
          1,
          7,
          1,
          1,
          2,
          9,
          1,
          1,
          1,
          1,
          3,
          1,
          1,
          1,
          1,
          1,
          3,
          1,
          1,
          1,
          1,
          1,
          2,
          1,
          1,
          2,
          3,
          2,
          1,
          1,
          2,
          1,
          1,
          5,
          1,
          1,
          1,
          1,
          1,
          1,
          1,
          1,
          4,
          2,
          1,
          1,
          2,
          1,
          1,
          1,
          1,
          1,
          1,
          2,
          1,
          3,
          1,
          2,
          1,
          2,
          1,
          11,
          1,
          1,
          4,
          1,
          2,
          1,
          1,
          1,
          8,
          1,
          1,
          1,
          2,
          4,
          1,
          1,
          3,
          2,
          1,
          1,
          1,
          1,
          2,
          3,
          1,
          1,
          1,
          1,
          1,
          2,
          1,
          1,
          2,
          1,
          1,
          2,
          1,
          2,
          2,
          3,
          3,
          2,
          1,
          1,
          1,
          1,
          2,
          2,
          1,
          1,
          1,
          2,
          2,
          1,
          1,
          1,
          3,
          2,
          1,
          1,
          1,
          1,
          2,
          2,
          1,
          1,
          1,
          1,
          1,
          2,
          7,
          5,
          1,
          2,
          1,
          4,
          1,
          4,
          2,
          3,
          2,
          1,
          1,
          1,
          1,
          1,
          3,
          1,
          2,
          2,
          4,
          1,
          2,
          1,
          1,
          1,
          3,
          1,
          1,
          2,
          4,
          10,
          1,
          1,
          1,
          2,
          1,
          1,
          1,
          1,
          2,
          2,
          2,
          7,
          1,
          1,
          9,
          5,
          5,
          1,
          1,
          1,
          2,
          3,
          2,
          1,
          1,
          1,
          8,
          3,
          4,
          5,
          1,
          1,
          4,
          1,
          1,
          1,
          3,
          2,
          1,
          3,
          1,
          2,
          3,
          1,
          4,
          4,
          1,
          1,
          1,
          2,
          3,
          1,
          2,
          4,
          3,
          3,
          2,
          1,
          1,
          1,
          1,
          4,
          1,
          2,
          1,
          4,
          1,
          1,
          1,
          1,
          2,
          1,
          1,
          1,
          1,
          8,
          9,
          1,
          3,
          7,
          1,
          1,
          1,
          3,
          1,
          1,
          1,
          2,
          2,
          1,
          2,
          1,
          1,
          1,
          1,
          1,
          1,
          2,
          1,
          1,
          2,
          1,
          1,
          4,
          1,
          2,
          1,
          1,
          4,
          2,
          2,
          10,
          2,
          1,
          5,
          1,
          1,
          1,
          1,
          2,
          5,
          2,
          1,
          2,
          1,
          2,
          3,
          2,
          2,
          1,
          1,
          2,
          1,
          1,
          1,
          1,
          1,
          2,
          2,
          1,
          1,
          2,
          6,
          2,
          3,
          6,
          1,
          1,
          2,
          5,
          2,
          1,
          1,
          2,
          1,
          1,
          2,
          4,
          1,
          6,
          1,
          1,
          1,
          1,
          1,
          1,
          1,
          1,
          1,
          2,
          1,
          1,
          1,
          3,
          1,
          2,
          2,
          5,
          1,
          2,
          1,
          1,
          2,
          1,
          1,
          3,
          1,
          1,
          2,
          4,
          13,
          1,
          18,
          1,
          2,
          1,
          2,
          1,
          1,
          1,
          2,
          1,
          1,
          13,
          1,
          4,
          2,
          2,
          1,
          1,
          1,
          1,
          4,
          2,
          1,
          3,
          2,
          1,
          1,
          1,
          2,
          5,
          2,
          1,
          2,
          2,
          2,
          3,
          1,
          1,
          1,
          1,
          1,
          1,
          1,
          1,
          1,
          1,
          1,
          1,
          1,
          1,
          5,
          3,
          1,
          1,
          1,
          1,
          1,
          3,
          1,
          1,
          2,
          2,
          2,
          5,
          1,
          1,
          1,
          1,
          1,
          1,
          1,
          1,
          1,
          1,
          2,
          2,
          2,
          1,
          1,
          2,
          1,
          1,
          1,
          1,
          2,
          4,
          1,
          1,
          2,
          3,
          2,
          4,
          1,
          2,
          1,
          1,
          1,
          1,
          2,
          1,
          1,
          1,
          1,
          1,
          2,
          1,
          1,
          4,
          1,
          2,
          2,
          1,
          1,
          1,
          1,
          1,
          8,
          2,
          2,
          1,
          2,
          1,
          1,
          1,
          2,
          1,
          1,
          2,
          1,
          1,
          1,
          1,
          2,
          1,
          2,
          1,
          1,
          2,
          1,
          1,
          1,
          1,
          2,
          1,
          1,
          1,
          1,
          2,
          2,
          1,
          1,
          1,
          1,
          4,
          1,
          1,
          7,
          4,
          1,
          1,
          2,
          1,
          1,
          3,
          2,
          1,
          2,
          1,
          2,
          3,
          1,
          1,
          1,
          1,
          1,
          1,
          1,
          1,
          1,
          2,
          1,
          1,
          2,
          10,
          1,
          2,
          2,
          1,
          2,
          3,
          1,
          1,
          9,
          2,
          3,
          1,
          1,
          1,
          1,
          1,
          23,
          2,
          4,
          1,
          2,
          1,
          2,
          5,
          2,
          1,
          2,
          1,
          4,
          1,
          2,
          1,
          1,
          3,
          1,
          1,
          15,
          7,
          1,
          1,
          2,
          3,
          8,
          2,
          1,
          5,
          1,
          1,
          2,
          2,
          2,
          1,
          2,
          1,
          1,
          8,
          2,
          2,
          1,
          1,
          1,
          1,
          1,
          2,
          2,
          1,
          3,
          2,
          1,
          2,
          3,
          1,
          2,
          1,
          1,
          1,
          1,
          2,
          1,
          1,
          1,
          2,
          7,
          1,
          5,
          2,
          1,
          1,
          1,
          1,
          1,
          9,
          1,
          1,
          2,
          6,
          1,
          1,
          1,
          3,
          2,
          1,
          2,
          4,
          5,
          1,
          1,
          1,
          1,
          1,
          1,
          1,
          2,
          1,
          1,
          1,
          1,
          1,
          1,
          2,
          1,
          3,
          1,
          1,
          1,
          10,
          1,
          1,
          2,
          1,
          3,
          8,
          1,
          4,
          1,
          2,
          1,
          8,
          1,
          2,
          1,
          3,
          2,
          1,
          1,
          1,
          3,
          1,
          1,
          2,
          1,
          1,
          2,
          1,
          1,
          1,
          1,
          2,
          1,
          1,
          1,
          3,
          6,
          4,
          1,
          4,
          1,
          1,
          1,
          1,
          2,
          1,
          2,
          2,
          2,
          1,
          2,
          4,
          3,
          1,
          20,
          2,
          4,
          3,
          3,
          3,
          3,
          2,
          1,
          2,
          1,
          1,
          1,
          1,
          2,
          1,
          1,
          1,
          1,
          1,
          1,
          2,
          1,
          1,
          1,
          1,
          1,
          1,
          1,
          2,
          1,
          1,
          2,
          4,
          1,
          4,
          2,
          1,
          2,
          3,
          2,
          3,
          1,
          1,
          1,
          2,
          3,
          1,
          3,
          2,
          3,
          1,
          2,
          1,
          2,
          1,
          4,
          1,
          1,
          2,
          3,
          6,
          1,
          1,
          9,
          1,
          1,
          1,
          2,
          2,
          3,
          4,
          2,
          1,
          1,
          1,
          1,
          1,
          1,
          2,
          1,
          2,
          1,
          2,
          2,
          1,
          1,
          1,
          1,
          1,
          2,
          1,
          1,
          1,
          2,
          2,
          1,
          1,
          1,
          2,
          1,
          1,
          1,
          4,
          1,
          1,
          1,
          3,
          1,
          2,
          1,
          1,
          2,
          1,
          1,
          4,
          1,
          5,
          4,
          1,
          1,
          1,
          2,
          1,
          1,
          2,
          7,
          1,
          3,
          8,
          6,
          4,
          1,
          1,
          1,
          4,
          1,
          4,
          4,
          1,
          1,
          1,
          1,
          1,
          1,
          5,
          1,
          1,
          1,
          1,
          3,
          1,
          2,
          1,
          1,
          1,
          1,
          1,
          5,
          4,
          1,
          3,
          1,
          1,
          1,
          1,
          1,
          1,
          1,
          1,
          1,
          1,
          1,
          5,
          1,
          2,
          4,
          1,
          2,
          2,
          1,
          1,
          1,
          1,
          2,
          1,
          8,
          5,
          8,
          1,
          1,
          3,
          1,
          1,
          2,
          6,
          1,
          2,
          5,
          1,
          1,
          2,
          1,
          1,
          4,
          1,
          1,
          2,
          1,
          1,
          2,
          3,
          4,
          3,
          1,
          5,
          3,
          2,
          3,
          1,
          2,
          1,
          1,
          1,
          1,
          1,
          1,
          2,
          1,
          3,
          1,
          2,
          5,
          1,
          1,
          4,
          2,
          1,
          1,
          1,
          1,
          1,
          1,
          1,
          2,
          1,
          2,
          4,
          2,
          1,
          1,
          2,
          1,
          1,
          4,
          6,
          1,
          1,
          1,
          1,
          1,
          2,
          4,
          2,
          1,
          1,
          1,
          1,
          2,
          2,
          2,
          1,
          2,
          4,
          1,
          1,
          1,
          1,
          1,
          1,
          3,
          1,
          1,
          2,
          2,
          1,
          1,
          5,
          1,
          3,
          3,
          1,
          1,
          1,
          10,
          4,
          2,
          1,
          1,
          3,
          2,
          1,
          1,
          2,
          1,
          2,
          1,
          1,
          1,
          12,
          3,
          1,
          1,
          1,
          1,
          1,
          1,
          1,
          1,
          2,
          1,
          1,
          1,
          3,
          1,
          1,
          1,
          2,
          1,
          1,
          1,
          1,
          1,
          1,
          1,
          6,
          1,
          1,
          1,
          3,
          2,
          2,
          4,
          4,
          1,
          2,
          1,
          2,
          1,
          1,
          1,
          1,
          2,
          4,
          4,
          1,
          1,
          3,
          1,
          1,
          1,
          1,
          1,
          1,
          1,
          1,
          1,
          1,
          23,
          3,
          2,
          3,
          6,
          1,
          2,
          4,
          1,
          3,
          1,
          3,
          6,
          2,
          1,
          3,
          1,
          2,
          1,
          1,
          1,
          4,
          1,
          1,
          2,
          1,
          1,
          2,
          5,
          4,
          2,
          1,
          1,
          3,
          3,
          4,
          1,
          1,
          3,
          4,
          1,
          1,
          5,
          1,
          7,
          1,
          2,
          5,
          3,
          3,
          1,
          1,
          2,
          2,
          5,
          1,
          1,
          3,
          1,
          9,
          3,
          4,
          2,
          1,
          1,
          1,
          1,
          1,
          1,
          2,
          1,
          1,
          1,
          1,
          1,
          1,
          1,
          3,
          2,
          1,
          2,
          1,
          1,
          1,
          3,
          2,
          2,
          1,
          1,
          1,
          1,
          1,
          1,
          1,
          1,
          1,
          2,
          3,
          2,
          1,
          2,
          1,
          4,
          4,
          2,
          1,
          2,
          2,
          1,
          1,
          1,
          2,
          1,
          1,
          2,
          1,
          2,
          1,
          5,
          1,
          1,
          1,
          4,
          2,
          1,
          1,
          1,
          1,
          1,
          4,
          1,
          1,
          1,
          2,
          1,
          1,
          2,
          6,
          1,
          1,
          2,
          1,
          1,
          2,
          2,
          1,
          1,
          1,
          1,
          2,
          2,
          1,
          1,
          2,
          1,
          2,
          1,
          1,
          1,
          1,
          2,
          1,
          2,
          1,
          1,
          1,
          4,
          1,
          2,
          3,
          1,
          1,
          1,
          1,
          1,
          1,
          1,
          1,
          1,
          2,
          3,
          1,
          2,
          1,
          1,
          1,
          4,
          1,
          1,
          1,
          1,
          2,
          1,
          1,
          2,
          1,
          2,
          5,
          2,
          1,
          2,
          2,
          1,
          3,
          6,
          2,
          1,
          1,
          1,
          5,
          1,
          8,
          3,
          2,
          1,
          1,
          2,
          1,
          1,
          1,
          1,
          1,
          1,
          1,
          2,
          4,
          1,
          1,
          5,
          1,
          1,
          3,
          5,
          1,
          1,
          2,
          1,
          1,
          1,
          3,
          2,
          1,
          2,
          1,
          2,
          1,
          1,
          2,
          2,
          2,
          2,
          1,
          1,
          1,
          2,
          4,
          1,
          1,
          1,
          2,
          2,
          2,
          2,
          1,
          1,
          3,
          1,
          6,
          1,
          1,
          1,
          2,
          1,
          1,
          4,
          2,
          2,
          1,
          1,
          1,
          4,
          2,
          2,
          1,
          1,
          1,
          1,
          1,
          1,
          2,
          1,
          2,
          1,
          1,
          1,
          2,
          1,
          4,
          1,
          2,
          1,
          1,
          1,
          1,
          1,
          1,
          2,
          7,
          1,
          3,
          1,
          3,
          3,
          5,
          7,
          4,
          1,
          1,
          2,
          1,
          2,
          1,
          1,
          2,
          3,
          4,
          3,
          1,
          4,
          1,
          3,
          2,
          1,
          1,
          2,
          1,
          1,
          2,
          2,
          1,
          1,
          1,
          10,
          1,
          4,
          1,
          2,
          4,
          4,
          1,
          1,
          1,
          3,
          4,
          2,
          2,
          1,
          1,
          1,
          2,
          4,
          6,
          2,
          1,
          4,
          3,
          2,
          1,
          2,
          1,
          1,
          1,
          1,
          3,
          1,
          1,
          10,
          2,
          1,
          2,
          1,
          2,
          3,
          1,
          1,
          1,
          4,
          1,
          1,
          4,
          1,
          1,
          3,
          2,
          2,
          1,
          1,
          1,
          3,
          1,
          1,
          1,
          1,
          1,
          3,
          1,
          1,
          1,
          1,
          2,
          3,
          1,
          3,
          1,
          1,
          1,
          2,
          2,
          2,
          1,
          1,
          1,
          2,
          1,
          1,
          2,
          3,
          1,
          1,
          1,
          1,
          1,
          1,
          1,
          2,
          1,
          1,
          1,
          1,
          1,
          1,
          7,
          1,
          1,
          1,
          1,
          1,
          2,
          1,
          2,
          4,
          3,
          3,
          3,
          1,
          1,
          1,
          1,
          2,
          1,
          1,
          2,
          1,
          1,
          1,
          1,
          2,
          1,
          4,
          2,
          1,
          1,
          1,
          2,
          2,
          1,
          1,
          1,
          6,
          4,
          1,
          2,
          2,
          1,
          2,
          2,
          1,
          1,
          1,
          1,
          2,
          1,
          1,
          1,
          2,
          1,
          2,
          1,
          1,
          1,
          1,
          2,
          1,
          1,
          2,
          2,
          1,
          2,
          1,
          2,
          1,
          1,
          1,
          3,
          2,
          1,
          2,
          1,
          1,
          3,
          1,
          2,
          2,
          1,
          1,
          1,
          1,
          1,
          1,
          1,
          3,
          1,
          1,
          1,
          1,
          6,
          1,
          3,
          1,
          3,
          1,
          1,
          1,
          1,
          1,
          1,
          1,
          1,
          1,
          1,
          1,
          1,
          1,
          1,
          1,
          1,
          1,
          1,
          1,
          3,
          1,
          1,
          1,
          2,
          1,
          1,
          1,
          1,
          1,
          1,
          1,
          1,
          1,
          1,
          1,
          1,
          1,
          1,
          1,
          1,
          1,
          1,
          1,
          1,
          1,
          1,
          1,
          1,
          1,
          1,
          1,
          1,
          1,
          1,
          1,
          3,
          1,
          1,
          1,
          1,
          1,
          1,
          1,
          1,
          1,
          1,
          1,
          1,
          1,
          1,
          1,
          1,
          1,
          1,
          1,
          1,
          1,
          1,
          1,
          1,
          1,
          1,
          1,
          1,
          1,
          1,
          1,
          1,
          1,
          1,
          1,
          1,
          1,
          1,
          1,
          1,
          1,
          1,
          1,
          1,
          1,
          1,
          1,
          1,
          1,
          1,
          2,
          1,
          1,
          1,
          1,
          1,
          1,
          1,
          1,
          1,
          1,
          1,
          1,
          2,
          1,
          1,
          1,
          1,
          1,
          1,
          1,
          1,
          1,
          1,
          1,
          1,
          1,
          2,
          1,
          1,
          1,
          1,
          1,
          1,
          1,
          1,
          1,
          3,
          2,
          2,
          1,
          2,
          1,
          1,
          1,
          1,
          1,
          2,
          1,
          1,
          1,
          1,
          1,
          1,
          1,
          4,
          1,
          1,
          1,
          1,
          1,
          1,
          1,
          1,
          1,
          1,
          1,
          3,
          3,
          2,
          1,
          1,
          3,
          1,
          1,
          1,
          1,
          2,
          1,
          1,
          1,
          4,
          2,
          1,
          1,
          1,
          1,
          1,
          1,
          2,
          1,
          1,
          1,
          1,
          2,
          2,
          1,
          1,
          1,
          2,
          2,
          1,
          1,
          1,
          2,
          3,
          1,
          1,
          1,
          1,
          2,
          2,
          1,
          1,
          1,
          1,
          1,
          1,
          2,
          1,
          1,
          1,
          1,
          2,
          1,
          4,
          1,
          1,
          1,
          1,
          2,
          1,
          1,
          1,
          1,
          1,
          1,
          3,
          3,
          1,
          1,
          1,
          7,
          10,
          1,
          1,
          1,
          2,
          3,
          1,
          2,
          2,
          1,
          2,
          1,
          1,
          1,
          2,
          1,
          4,
          1,
          1,
          1,
          1,
          1,
          1,
          1,
          3,
          2,
          1,
          1,
          1,
          1,
          4,
          1,
          1,
          2,
          1,
          1,
          1,
          9,
          3,
          2,
          2,
          6,
          1,
          1,
          1,
          1,
          1,
          1,
          1,
          1,
          1,
          1,
          1
         ],
         "y0": " ",
         "yaxis": "y"
        }
       ],
       "layout": {
        "boxmode": "group",
        "legend": {
         "tracegroupgap": 0
        },
        "margin": {
         "t": 60
        },
        "template": {
         "data": {
          "bar": [
           {
            "error_x": {
             "color": "#2a3f5f"
            },
            "error_y": {
             "color": "#2a3f5f"
            },
            "marker": {
             "line": {
              "color": "#E5ECF6",
              "width": 0.5
             },
             "pattern": {
              "fillmode": "overlay",
              "size": 10,
              "solidity": 0.2
             }
            },
            "type": "bar"
           }
          ],
          "barpolar": [
           {
            "marker": {
             "line": {
              "color": "#E5ECF6",
              "width": 0.5
             },
             "pattern": {
              "fillmode": "overlay",
              "size": 10,
              "solidity": 0.2
             }
            },
            "type": "barpolar"
           }
          ],
          "carpet": [
           {
            "aaxis": {
             "endlinecolor": "#2a3f5f",
             "gridcolor": "white",
             "linecolor": "white",
             "minorgridcolor": "white",
             "startlinecolor": "#2a3f5f"
            },
            "baxis": {
             "endlinecolor": "#2a3f5f",
             "gridcolor": "white",
             "linecolor": "white",
             "minorgridcolor": "white",
             "startlinecolor": "#2a3f5f"
            },
            "type": "carpet"
           }
          ],
          "choropleth": [
           {
            "colorbar": {
             "outlinewidth": 0,
             "ticks": ""
            },
            "type": "choropleth"
           }
          ],
          "contour": [
           {
            "colorbar": {
             "outlinewidth": 0,
             "ticks": ""
            },
            "colorscale": [
             [
              0,
              "#0d0887"
             ],
             [
              0.1111111111111111,
              "#46039f"
             ],
             [
              0.2222222222222222,
              "#7201a8"
             ],
             [
              0.3333333333333333,
              "#9c179e"
             ],
             [
              0.4444444444444444,
              "#bd3786"
             ],
             [
              0.5555555555555556,
              "#d8576b"
             ],
             [
              0.6666666666666666,
              "#ed7953"
             ],
             [
              0.7777777777777778,
              "#fb9f3a"
             ],
             [
              0.8888888888888888,
              "#fdca26"
             ],
             [
              1,
              "#f0f921"
             ]
            ],
            "type": "contour"
           }
          ],
          "contourcarpet": [
           {
            "colorbar": {
             "outlinewidth": 0,
             "ticks": ""
            },
            "type": "contourcarpet"
           }
          ],
          "heatmap": [
           {
            "colorbar": {
             "outlinewidth": 0,
             "ticks": ""
            },
            "colorscale": [
             [
              0,
              "#0d0887"
             ],
             [
              0.1111111111111111,
              "#46039f"
             ],
             [
              0.2222222222222222,
              "#7201a8"
             ],
             [
              0.3333333333333333,
              "#9c179e"
             ],
             [
              0.4444444444444444,
              "#bd3786"
             ],
             [
              0.5555555555555556,
              "#d8576b"
             ],
             [
              0.6666666666666666,
              "#ed7953"
             ],
             [
              0.7777777777777778,
              "#fb9f3a"
             ],
             [
              0.8888888888888888,
              "#fdca26"
             ],
             [
              1,
              "#f0f921"
             ]
            ],
            "type": "heatmap"
           }
          ],
          "heatmapgl": [
           {
            "colorbar": {
             "outlinewidth": 0,
             "ticks": ""
            },
            "colorscale": [
             [
              0,
              "#0d0887"
             ],
             [
              0.1111111111111111,
              "#46039f"
             ],
             [
              0.2222222222222222,
              "#7201a8"
             ],
             [
              0.3333333333333333,
              "#9c179e"
             ],
             [
              0.4444444444444444,
              "#bd3786"
             ],
             [
              0.5555555555555556,
              "#d8576b"
             ],
             [
              0.6666666666666666,
              "#ed7953"
             ],
             [
              0.7777777777777778,
              "#fb9f3a"
             ],
             [
              0.8888888888888888,
              "#fdca26"
             ],
             [
              1,
              "#f0f921"
             ]
            ],
            "type": "heatmapgl"
           }
          ],
          "histogram": [
           {
            "marker": {
             "pattern": {
              "fillmode": "overlay",
              "size": 10,
              "solidity": 0.2
             }
            },
            "type": "histogram"
           }
          ],
          "histogram2d": [
           {
            "colorbar": {
             "outlinewidth": 0,
             "ticks": ""
            },
            "colorscale": [
             [
              0,
              "#0d0887"
             ],
             [
              0.1111111111111111,
              "#46039f"
             ],
             [
              0.2222222222222222,
              "#7201a8"
             ],
             [
              0.3333333333333333,
              "#9c179e"
             ],
             [
              0.4444444444444444,
              "#bd3786"
             ],
             [
              0.5555555555555556,
              "#d8576b"
             ],
             [
              0.6666666666666666,
              "#ed7953"
             ],
             [
              0.7777777777777778,
              "#fb9f3a"
             ],
             [
              0.8888888888888888,
              "#fdca26"
             ],
             [
              1,
              "#f0f921"
             ]
            ],
            "type": "histogram2d"
           }
          ],
          "histogram2dcontour": [
           {
            "colorbar": {
             "outlinewidth": 0,
             "ticks": ""
            },
            "colorscale": [
             [
              0,
              "#0d0887"
             ],
             [
              0.1111111111111111,
              "#46039f"
             ],
             [
              0.2222222222222222,
              "#7201a8"
             ],
             [
              0.3333333333333333,
              "#9c179e"
             ],
             [
              0.4444444444444444,
              "#bd3786"
             ],
             [
              0.5555555555555556,
              "#d8576b"
             ],
             [
              0.6666666666666666,
              "#ed7953"
             ],
             [
              0.7777777777777778,
              "#fb9f3a"
             ],
             [
              0.8888888888888888,
              "#fdca26"
             ],
             [
              1,
              "#f0f921"
             ]
            ],
            "type": "histogram2dcontour"
           }
          ],
          "mesh3d": [
           {
            "colorbar": {
             "outlinewidth": 0,
             "ticks": ""
            },
            "type": "mesh3d"
           }
          ],
          "parcoords": [
           {
            "line": {
             "colorbar": {
              "outlinewidth": 0,
              "ticks": ""
             }
            },
            "type": "parcoords"
           }
          ],
          "pie": [
           {
            "automargin": true,
            "type": "pie"
           }
          ],
          "scatter": [
           {
            "fillpattern": {
             "fillmode": "overlay",
             "size": 10,
             "solidity": 0.2
            },
            "type": "scatter"
           }
          ],
          "scatter3d": [
           {
            "line": {
             "colorbar": {
              "outlinewidth": 0,
              "ticks": ""
             }
            },
            "marker": {
             "colorbar": {
              "outlinewidth": 0,
              "ticks": ""
             }
            },
            "type": "scatter3d"
           }
          ],
          "scattercarpet": [
           {
            "marker": {
             "colorbar": {
              "outlinewidth": 0,
              "ticks": ""
             }
            },
            "type": "scattercarpet"
           }
          ],
          "scattergeo": [
           {
            "marker": {
             "colorbar": {
              "outlinewidth": 0,
              "ticks": ""
             }
            },
            "type": "scattergeo"
           }
          ],
          "scattergl": [
           {
            "marker": {
             "colorbar": {
              "outlinewidth": 0,
              "ticks": ""
             }
            },
            "type": "scattergl"
           }
          ],
          "scattermapbox": [
           {
            "marker": {
             "colorbar": {
              "outlinewidth": 0,
              "ticks": ""
             }
            },
            "type": "scattermapbox"
           }
          ],
          "scatterpolar": [
           {
            "marker": {
             "colorbar": {
              "outlinewidth": 0,
              "ticks": ""
             }
            },
            "type": "scatterpolar"
           }
          ],
          "scatterpolargl": [
           {
            "marker": {
             "colorbar": {
              "outlinewidth": 0,
              "ticks": ""
             }
            },
            "type": "scatterpolargl"
           }
          ],
          "scatterternary": [
           {
            "marker": {
             "colorbar": {
              "outlinewidth": 0,
              "ticks": ""
             }
            },
            "type": "scatterternary"
           }
          ],
          "surface": [
           {
            "colorbar": {
             "outlinewidth": 0,
             "ticks": ""
            },
            "colorscale": [
             [
              0,
              "#0d0887"
             ],
             [
              0.1111111111111111,
              "#46039f"
             ],
             [
              0.2222222222222222,
              "#7201a8"
             ],
             [
              0.3333333333333333,
              "#9c179e"
             ],
             [
              0.4444444444444444,
              "#bd3786"
             ],
             [
              0.5555555555555556,
              "#d8576b"
             ],
             [
              0.6666666666666666,
              "#ed7953"
             ],
             [
              0.7777777777777778,
              "#fb9f3a"
             ],
             [
              0.8888888888888888,
              "#fdca26"
             ],
             [
              1,
              "#f0f921"
             ]
            ],
            "type": "surface"
           }
          ],
          "table": [
           {
            "cells": {
             "fill": {
              "color": "#EBF0F8"
             },
             "line": {
              "color": "white"
             }
            },
            "header": {
             "fill": {
              "color": "#C8D4E3"
             },
             "line": {
              "color": "white"
             }
            },
            "type": "table"
           }
          ]
         },
         "layout": {
          "annotationdefaults": {
           "arrowcolor": "#2a3f5f",
           "arrowhead": 0,
           "arrowwidth": 1
          },
          "autotypenumbers": "strict",
          "coloraxis": {
           "colorbar": {
            "outlinewidth": 0,
            "ticks": ""
           }
          },
          "colorscale": {
           "diverging": [
            [
             0,
             "#8e0152"
            ],
            [
             0.1,
             "#c51b7d"
            ],
            [
             0.2,
             "#de77ae"
            ],
            [
             0.3,
             "#f1b6da"
            ],
            [
             0.4,
             "#fde0ef"
            ],
            [
             0.5,
             "#f7f7f7"
            ],
            [
             0.6,
             "#e6f5d0"
            ],
            [
             0.7,
             "#b8e186"
            ],
            [
             0.8,
             "#7fbc41"
            ],
            [
             0.9,
             "#4d9221"
            ],
            [
             1,
             "#276419"
            ]
           ],
           "sequential": [
            [
             0,
             "#0d0887"
            ],
            [
             0.1111111111111111,
             "#46039f"
            ],
            [
             0.2222222222222222,
             "#7201a8"
            ],
            [
             0.3333333333333333,
             "#9c179e"
            ],
            [
             0.4444444444444444,
             "#bd3786"
            ],
            [
             0.5555555555555556,
             "#d8576b"
            ],
            [
             0.6666666666666666,
             "#ed7953"
            ],
            [
             0.7777777777777778,
             "#fb9f3a"
            ],
            [
             0.8888888888888888,
             "#fdca26"
            ],
            [
             1,
             "#f0f921"
            ]
           ],
           "sequentialminus": [
            [
             0,
             "#0d0887"
            ],
            [
             0.1111111111111111,
             "#46039f"
            ],
            [
             0.2222222222222222,
             "#7201a8"
            ],
            [
             0.3333333333333333,
             "#9c179e"
            ],
            [
             0.4444444444444444,
             "#bd3786"
            ],
            [
             0.5555555555555556,
             "#d8576b"
            ],
            [
             0.6666666666666666,
             "#ed7953"
            ],
            [
             0.7777777777777778,
             "#fb9f3a"
            ],
            [
             0.8888888888888888,
             "#fdca26"
            ],
            [
             1,
             "#f0f921"
            ]
           ]
          },
          "colorway": [
           "#636efa",
           "#EF553B",
           "#00cc96",
           "#ab63fa",
           "#FFA15A",
           "#19d3f3",
           "#FF6692",
           "#B6E880",
           "#FF97FF",
           "#FECB52"
          ],
          "font": {
           "color": "#2a3f5f"
          },
          "geo": {
           "bgcolor": "white",
           "lakecolor": "white",
           "landcolor": "#E5ECF6",
           "showlakes": true,
           "showland": true,
           "subunitcolor": "white"
          },
          "hoverlabel": {
           "align": "left"
          },
          "hovermode": "closest",
          "mapbox": {
           "style": "light"
          },
          "paper_bgcolor": "white",
          "plot_bgcolor": "#E5ECF6",
          "polar": {
           "angularaxis": {
            "gridcolor": "white",
            "linecolor": "white",
            "ticks": ""
           },
           "bgcolor": "#E5ECF6",
           "radialaxis": {
            "gridcolor": "white",
            "linecolor": "white",
            "ticks": ""
           }
          },
          "scene": {
           "xaxis": {
            "backgroundcolor": "#E5ECF6",
            "gridcolor": "white",
            "gridwidth": 2,
            "linecolor": "white",
            "showbackground": true,
            "ticks": "",
            "zerolinecolor": "white"
           },
           "yaxis": {
            "backgroundcolor": "#E5ECF6",
            "gridcolor": "white",
            "gridwidth": 2,
            "linecolor": "white",
            "showbackground": true,
            "ticks": "",
            "zerolinecolor": "white"
           },
           "zaxis": {
            "backgroundcolor": "#E5ECF6",
            "gridcolor": "white",
            "gridwidth": 2,
            "linecolor": "white",
            "showbackground": true,
            "ticks": "",
            "zerolinecolor": "white"
           }
          },
          "shapedefaults": {
           "line": {
            "color": "#2a3f5f"
           }
          },
          "ternary": {
           "aaxis": {
            "gridcolor": "white",
            "linecolor": "white",
            "ticks": ""
           },
           "baxis": {
            "gridcolor": "white",
            "linecolor": "white",
            "ticks": ""
           },
           "bgcolor": "#E5ECF6",
           "caxis": {
            "gridcolor": "white",
            "linecolor": "white",
            "ticks": ""
           }
          },
          "title": {
           "x": 0.05
          },
          "xaxis": {
           "automargin": true,
           "gridcolor": "white",
           "linecolor": "white",
           "ticks": "",
           "title": {
            "standoff": 15
           },
           "zerolinecolor": "white",
           "zerolinewidth": 2
          },
          "yaxis": {
           "automargin": true,
           "gridcolor": "white",
           "linecolor": "white",
           "ticks": "",
           "title": {
            "standoff": 15
           },
           "zerolinecolor": "white",
           "zerolinewidth": 2
          }
         }
        },
        "xaxis": {
         "anchor": "y",
         "domain": [
          0,
          1
         ],
         "title": {
          "text": "Departamento"
         }
        },
        "yaxis": {
         "anchor": "x",
         "domain": [
          0,
          1
         ],
         "title": {
          "text": "Qtde_Vendida"
         }
        }
       }
      }
     },
     "metadata": {},
     "output_type": "display_data"
    }
   ],
   "source": [
    "# Qual é a distribuição de unidades vendidas por departamento nas diferentes transações?\n",
    "\n",
    "# Avaliar as medidas de posições da variável Qtde Vendida\n",
    "px.box(df_transacoes, x='Departamento', y='Qtde_Vendida')"
   ]
  },
  {
   "cell_type": "code",
   "execution_count": 28,
   "metadata": {},
   "outputs": [
    {
     "data": {
      "application/vnd.plotly.v1+json": {
       "config": {
        "plotlyServerURL": "https://plot.ly"
       },
       "data": [
        {
         "alignmentgroup": "True",
         "hovertemplate": "Departamento=%{y}<br>value=%{x}<extra></extra>",
         "legendgroup": "0210:FOUNDATIONS",
         "marker": {
          "color": "#636efa",
          "pattern": {
           "shape": ""
          }
         },
         "name": "0210:FOUNDATIONS",
         "offsetgroup": "0210:FOUNDATIONS",
         "orientation": "h",
         "showlegend": true,
         "textposition": "auto",
         "type": "bar",
         "x": [
          3.75
         ],
         "xaxis": "x",
         "y": [
          "0210:FOUNDATIONS"
         ],
         "yaxis": "y"
        },
        {
         "alignmentgroup": "True",
         "hovertemplate": "Departamento=%{y}<br>value=%{x}<extra></extra>",
         "legendgroup": "0646:SEASONAL",
         "marker": {
          "color": "#EF553B",
          "pattern": {
           "shape": ""
          }
         },
         "name": "0646:SEASONAL",
         "offsetgroup": "0646:SEASONAL",
         "orientation": "h",
         "showlegend": true,
         "textposition": "auto",
         "type": "bar",
         "x": [
          3.7471264367816093
         ],
         "xaxis": "x",
         "y": [
          "0646:SEASONAL"
         ],
         "yaxis": "y"
        },
        {
         "alignmentgroup": "True",
         "hovertemplate": "Departamento=%{y}<br>value=%{x}<extra></extra>",
         "legendgroup": "0533:PAPYRUS",
         "marker": {
          "color": "#00cc96",
          "pattern": {
           "shape": ""
          }
         },
         "name": "0533:PAPYRUS",
         "offsetgroup": "0533:PAPYRUS",
         "orientation": "h",
         "showlegend": true,
         "textposition": "auto",
         "type": "bar",
         "x": [
          3.3333333333333335
         ],
         "xaxis": "x",
         "y": [
          "0533:PAPYRUS"
         ],
         "yaxis": "y"
        },
        {
         "alignmentgroup": "True",
         "hovertemplate": "Departamento=%{y}<br>value=%{x}<extra></extra>",
         "legendgroup": "0591:MASS FRAGRANCES",
         "marker": {
          "color": "#ab63fa",
          "pattern": {
           "shape": ""
          }
         },
         "name": "0591:MASS FRAGRANCES",
         "offsetgroup": "0591:MASS FRAGRANCES",
         "orientation": "h",
         "showlegend": true,
         "textposition": "auto",
         "type": "bar",
         "x": [
          3
         ],
         "xaxis": "x",
         "y": [
          "0591:MASS FRAGRANCES"
         ],
         "yaxis": "y"
        },
        {
         "alignmentgroup": "True",
         "hovertemplate": "Departamento=%{y}<br>value=%{x}<extra></extra>",
         "legendgroup": "0983:WINE",
         "marker": {
          "color": "#FFA15A",
          "pattern": {
           "shape": ""
          }
         },
         "name": "0983:WINE",
         "offsetgroup": "0983:WINE",
         "orientation": "h",
         "showlegend": true,
         "textposition": "auto",
         "type": "bar",
         "x": [
          2.764397905759162
         ],
         "xaxis": "x",
         "y": [
          "0983:WINE"
         ],
         "yaxis": "y"
        },
        {
         "alignmentgroup": "True",
         "hovertemplate": "Departamento=%{y}<br>value=%{x}<extra></extra>",
         "legendgroup": "0440:GIRLS 7-16 CLOTHING",
         "marker": {
          "color": "#19d3f3",
          "pattern": {
           "shape": ""
          }
         },
         "name": "0440:GIRLS 7-16 CLOTHING",
         "offsetgroup": "0440:GIRLS 7-16 CLOTHING",
         "orientation": "h",
         "showlegend": true,
         "textposition": "auto",
         "type": "bar",
         "x": [
          2.7
         ],
         "xaxis": "x",
         "y": [
          "0440:GIRLS 7-16 CLOTHING"
         ],
         "yaxis": "y"
        },
        {
         "alignmentgroup": "True",
         "hovertemplate": "Departamento=%{y}<br>value=%{x}<extra></extra>",
         "legendgroup": "0644:SPORTS NUTRITION",
         "marker": {
          "color": "#FF6692",
          "pattern": {
           "shape": ""
          }
         },
         "name": "0644:SPORTS NUTRITION",
         "offsetgroup": "0644:SPORTS NUTRITION",
         "orientation": "h",
         "showlegend": true,
         "textposition": "auto",
         "type": "bar",
         "x": [
          2.5555555555555554
         ],
         "xaxis": "x",
         "y": [
          "0644:SPORTS NUTRITION"
         ],
         "yaxis": "y"
        },
        {
         "alignmentgroup": "True",
         "hovertemplate": "Departamento=%{y}<br>value=%{x}<extra></extra>",
         "legendgroup": "0530:SCHOOL/OFFIC SUPP",
         "marker": {
          "color": "#B6E880",
          "pattern": {
           "shape": ""
          }
         },
         "name": "0530:SCHOOL/OFFIC SUPP",
         "offsetgroup": "0530:SCHOOL/OFFIC SUPP",
         "orientation": "h",
         "showlegend": true,
         "textposition": "auto",
         "type": "bar",
         "x": [
          2.5283018867924527
         ],
         "xaxis": "x",
         "y": [
          "0530:SCHOOL/OFFIC SUPP"
         ],
         "yaxis": "y"
        },
        {
         "alignmentgroup": "True",
         "hovertemplate": "Departamento=%{y}<br>value=%{x}<extra></extra>",
         "legendgroup": "0531:STATIONERY SUNDRIES",
         "marker": {
          "color": "#FF97FF",
          "pattern": {
           "shape": ""
          }
         },
         "name": "0531:STATIONERY SUNDRIES",
         "offsetgroup": "0531:STATIONERY SUNDRIES",
         "orientation": "h",
         "showlegend": true,
         "textposition": "auto",
         "type": "bar",
         "x": [
          2.526315789473684
         ],
         "xaxis": "x",
         "y": [
          "0531:STATIONERY SUNDRIES"
         ],
         "yaxis": "y"
        },
        {
         "alignmentgroup": "True",
         "hovertemplate": "Departamento=%{y}<br>value=%{x}<extra></extra>",
         "legendgroup": "0165:LIFE IS GOOD",
         "marker": {
          "color": "#FECB52",
          "pattern": {
           "shape": ""
          }
         },
         "name": "0165:LIFE IS GOOD",
         "offsetgroup": "0165:LIFE IS GOOD",
         "orientation": "h",
         "showlegend": true,
         "textposition": "auto",
         "type": "bar",
         "x": [
          2.5
         ],
         "xaxis": "x",
         "y": [
          "0165:LIFE IS GOOD"
         ],
         "yaxis": "y"
        },
        {
         "alignmentgroup": "True",
         "hovertemplate": "Departamento=%{y}<br>value=%{x}<extra></extra>",
         "legendgroup": "0012:LOCAL GIFTS/FOODS",
         "marker": {
          "color": "#636efa",
          "pattern": {
           "shape": ""
          }
         },
         "name": "0012:LOCAL GIFTS/FOODS",
         "offsetgroup": "0012:LOCAL GIFTS/FOODS",
         "orientation": "h",
         "showlegend": true,
         "textposition": "auto",
         "type": "bar",
         "x": [
          2.5
         ],
         "xaxis": "x",
         "y": [
          "0012:LOCAL GIFTS/FOODS"
         ],
         "yaxis": "y"
        },
        {
         "alignmentgroup": "True",
         "hovertemplate": "Departamento=%{y}<br>value=%{x}<extra></extra>",
         "legendgroup": "0930:TABLE TOP & KITCHEN",
         "marker": {
          "color": "#EF553B",
          "pattern": {
           "shape": ""
          }
         },
         "name": "0930:TABLE TOP & KITCHEN",
         "offsetgroup": "0930:TABLE TOP & KITCHEN",
         "orientation": "h",
         "showlegend": true,
         "textposition": "auto",
         "type": "bar",
         "x": [
          2.4615384615384617
         ],
         "xaxis": "x",
         "y": [
          "0930:TABLE TOP & KITCHEN"
         ],
         "yaxis": "y"
        },
        {
         "alignmentgroup": "True",
         "hovertemplate": "Departamento=%{y}<br>value=%{x}<extra></extra>",
         "legendgroup": "0595:HOME/BATH",
         "marker": {
          "color": "#00cc96",
          "pattern": {
           "shape": ""
          }
         },
         "name": "0595:HOME/BATH",
         "offsetgroup": "0595:HOME/BATH",
         "orientation": "h",
         "showlegend": true,
         "textposition": "auto",
         "type": "bar",
         "x": [
          2.4166666666666665
         ],
         "xaxis": "x",
         "y": [
          "0595:HOME/BATH"
         ],
         "yaxis": "y"
        },
        {
         "alignmentgroup": "True",
         "hovertemplate": "Departamento=%{y}<br>value=%{x}<extra></extra>",
         "legendgroup": "0879:PET SUPPLIES",
         "marker": {
          "color": "#ab63fa",
          "pattern": {
           "shape": ""
          }
         },
         "name": "0879:PET SUPPLIES",
         "offsetgroup": "0879:PET SUPPLIES",
         "orientation": "h",
         "showlegend": true,
         "textposition": "auto",
         "type": "bar",
         "x": [
          2.405940594059406
         ],
         "xaxis": "x",
         "y": [
          "0879:PET SUPPLIES"
         ],
         "yaxis": "y"
        },
        {
         "alignmentgroup": "True",
         "hovertemplate": "Departamento=%{y}<br>value=%{x}<extra></extra>",
         "legendgroup": "0415:NEWBORN APPAREL",
         "marker": {
          "color": "#FFA15A",
          "pattern": {
           "shape": ""
          }
         },
         "name": "0415:NEWBORN APPAREL",
         "offsetgroup": "0415:NEWBORN APPAREL",
         "orientation": "h",
         "showlegend": true,
         "textposition": "auto",
         "type": "bar",
         "x": [
          2.388888888888889
         ],
         "xaxis": "x",
         "y": [
          "0415:NEWBORN APPAREL"
         ],
         "yaxis": "y"
        },
        {
         "alignmentgroup": "True",
         "hovertemplate": "Departamento=%{y}<br>value=%{x}<extra></extra>",
         "legendgroup": "0973:CANDY",
         "marker": {
          "color": "#19d3f3",
          "pattern": {
           "shape": ""
          }
         },
         "name": "0973:CANDY",
         "offsetgroup": "0973:CANDY",
         "orientation": "h",
         "showlegend": true,
         "textposition": "auto",
         "type": "bar",
         "x": [
          2.349090909090909
         ],
         "xaxis": "x",
         "y": [
          "0973:CANDY"
         ],
         "yaxis": "y"
        },
        {
         "alignmentgroup": "True",
         "hovertemplate": "Departamento=%{y}<br>value=%{x}<extra></extra>",
         "legendgroup": "0836:HOUSEHOLD CLEANING",
         "marker": {
          "color": "#FF6692",
          "pattern": {
           "shape": ""
          }
         },
         "name": "0836:HOUSEHOLD CLEANING",
         "offsetgroup": "0836:HOUSEHOLD CLEANING",
         "orientation": "h",
         "showlegend": true,
         "textposition": "auto",
         "type": "bar",
         "x": [
          2.348101265822785
         ],
         "xaxis": "x",
         "y": [
          "0836:HOUSEHOLD CLEANING"
         ],
         "yaxis": "y"
        },
        {
         "alignmentgroup": "True",
         "hovertemplate": "Departamento=%{y}<br>value=%{x}<extra></extra>",
         "legendgroup": "0240:SLEEPWEAR/LOUNGEWEAR",
         "marker": {
          "color": "#B6E880",
          "pattern": {
           "shape": ""
          }
         },
         "name": "0240:SLEEPWEAR/LOUNGEWEAR",
         "offsetgroup": "0240:SLEEPWEAR/LOUNGEWEAR",
         "orientation": "h",
         "showlegend": true,
         "textposition": "auto",
         "type": "bar",
         "x": [
          2.3333333333333335
         ],
         "xaxis": "x",
         "y": [
          "0240:SLEEPWEAR/LOUNGEWEAR"
         ],
         "yaxis": "y"
        },
        {
         "alignmentgroup": "True",
         "hovertemplate": "Departamento=%{y}<br>value=%{x}<extra></extra>",
         "legendgroup": "0449:GIRLS ACCESSORIES",
         "marker": {
          "color": "#FF97FF",
          "pattern": {
           "shape": ""
          }
         },
         "name": "0449:GIRLS ACCESSORIES",
         "offsetgroup": "0449:GIRLS ACCESSORIES",
         "orientation": "h",
         "showlegend": true,
         "textposition": "auto",
         "type": "bar",
         "x": [
          2.2142857142857144
         ],
         "xaxis": "x",
         "y": [
          "0449:GIRLS ACCESSORIES"
         ],
         "yaxis": "y"
        },
        {
         "alignmentgroup": "True",
         "hovertemplate": "Departamento=%{y}<br>value=%{x}<extra></extra>",
         "legendgroup": "0640:TOYS",
         "marker": {
          "color": "#FECB52",
          "pattern": {
           "shape": ""
          }
         },
         "name": "0640:TOYS",
         "offsetgroup": "0640:TOYS",
         "orientation": "h",
         "showlegend": true,
         "textposition": "auto",
         "type": "bar",
         "x": [
          2.1846153846153844
         ],
         "xaxis": "x",
         "y": [
          "0640:TOYS"
         ],
         "yaxis": "y"
        }
       ],
       "layout": {
        "barmode": "relative",
        "legend": {
         "title": {
          "text": "Departamento"
         },
         "tracegroupgap": 0
        },
        "margin": {
         "t": 60
        },
        "showlegend": false,
        "template": {
         "data": {
          "bar": [
           {
            "error_x": {
             "color": "#2a3f5f"
            },
            "error_y": {
             "color": "#2a3f5f"
            },
            "marker": {
             "line": {
              "color": "#E5ECF6",
              "width": 0.5
             },
             "pattern": {
              "fillmode": "overlay",
              "size": 10,
              "solidity": 0.2
             }
            },
            "type": "bar"
           }
          ],
          "barpolar": [
           {
            "marker": {
             "line": {
              "color": "#E5ECF6",
              "width": 0.5
             },
             "pattern": {
              "fillmode": "overlay",
              "size": 10,
              "solidity": 0.2
             }
            },
            "type": "barpolar"
           }
          ],
          "carpet": [
           {
            "aaxis": {
             "endlinecolor": "#2a3f5f",
             "gridcolor": "white",
             "linecolor": "white",
             "minorgridcolor": "white",
             "startlinecolor": "#2a3f5f"
            },
            "baxis": {
             "endlinecolor": "#2a3f5f",
             "gridcolor": "white",
             "linecolor": "white",
             "minorgridcolor": "white",
             "startlinecolor": "#2a3f5f"
            },
            "type": "carpet"
           }
          ],
          "choropleth": [
           {
            "colorbar": {
             "outlinewidth": 0,
             "ticks": ""
            },
            "type": "choropleth"
           }
          ],
          "contour": [
           {
            "colorbar": {
             "outlinewidth": 0,
             "ticks": ""
            },
            "colorscale": [
             [
              0,
              "#0d0887"
             ],
             [
              0.1111111111111111,
              "#46039f"
             ],
             [
              0.2222222222222222,
              "#7201a8"
             ],
             [
              0.3333333333333333,
              "#9c179e"
             ],
             [
              0.4444444444444444,
              "#bd3786"
             ],
             [
              0.5555555555555556,
              "#d8576b"
             ],
             [
              0.6666666666666666,
              "#ed7953"
             ],
             [
              0.7777777777777778,
              "#fb9f3a"
             ],
             [
              0.8888888888888888,
              "#fdca26"
             ],
             [
              1,
              "#f0f921"
             ]
            ],
            "type": "contour"
           }
          ],
          "contourcarpet": [
           {
            "colorbar": {
             "outlinewidth": 0,
             "ticks": ""
            },
            "type": "contourcarpet"
           }
          ],
          "heatmap": [
           {
            "colorbar": {
             "outlinewidth": 0,
             "ticks": ""
            },
            "colorscale": [
             [
              0,
              "#0d0887"
             ],
             [
              0.1111111111111111,
              "#46039f"
             ],
             [
              0.2222222222222222,
              "#7201a8"
             ],
             [
              0.3333333333333333,
              "#9c179e"
             ],
             [
              0.4444444444444444,
              "#bd3786"
             ],
             [
              0.5555555555555556,
              "#d8576b"
             ],
             [
              0.6666666666666666,
              "#ed7953"
             ],
             [
              0.7777777777777778,
              "#fb9f3a"
             ],
             [
              0.8888888888888888,
              "#fdca26"
             ],
             [
              1,
              "#f0f921"
             ]
            ],
            "type": "heatmap"
           }
          ],
          "heatmapgl": [
           {
            "colorbar": {
             "outlinewidth": 0,
             "ticks": ""
            },
            "colorscale": [
             [
              0,
              "#0d0887"
             ],
             [
              0.1111111111111111,
              "#46039f"
             ],
             [
              0.2222222222222222,
              "#7201a8"
             ],
             [
              0.3333333333333333,
              "#9c179e"
             ],
             [
              0.4444444444444444,
              "#bd3786"
             ],
             [
              0.5555555555555556,
              "#d8576b"
             ],
             [
              0.6666666666666666,
              "#ed7953"
             ],
             [
              0.7777777777777778,
              "#fb9f3a"
             ],
             [
              0.8888888888888888,
              "#fdca26"
             ],
             [
              1,
              "#f0f921"
             ]
            ],
            "type": "heatmapgl"
           }
          ],
          "histogram": [
           {
            "marker": {
             "pattern": {
              "fillmode": "overlay",
              "size": 10,
              "solidity": 0.2
             }
            },
            "type": "histogram"
           }
          ],
          "histogram2d": [
           {
            "colorbar": {
             "outlinewidth": 0,
             "ticks": ""
            },
            "colorscale": [
             [
              0,
              "#0d0887"
             ],
             [
              0.1111111111111111,
              "#46039f"
             ],
             [
              0.2222222222222222,
              "#7201a8"
             ],
             [
              0.3333333333333333,
              "#9c179e"
             ],
             [
              0.4444444444444444,
              "#bd3786"
             ],
             [
              0.5555555555555556,
              "#d8576b"
             ],
             [
              0.6666666666666666,
              "#ed7953"
             ],
             [
              0.7777777777777778,
              "#fb9f3a"
             ],
             [
              0.8888888888888888,
              "#fdca26"
             ],
             [
              1,
              "#f0f921"
             ]
            ],
            "type": "histogram2d"
           }
          ],
          "histogram2dcontour": [
           {
            "colorbar": {
             "outlinewidth": 0,
             "ticks": ""
            },
            "colorscale": [
             [
              0,
              "#0d0887"
             ],
             [
              0.1111111111111111,
              "#46039f"
             ],
             [
              0.2222222222222222,
              "#7201a8"
             ],
             [
              0.3333333333333333,
              "#9c179e"
             ],
             [
              0.4444444444444444,
              "#bd3786"
             ],
             [
              0.5555555555555556,
              "#d8576b"
             ],
             [
              0.6666666666666666,
              "#ed7953"
             ],
             [
              0.7777777777777778,
              "#fb9f3a"
             ],
             [
              0.8888888888888888,
              "#fdca26"
             ],
             [
              1,
              "#f0f921"
             ]
            ],
            "type": "histogram2dcontour"
           }
          ],
          "mesh3d": [
           {
            "colorbar": {
             "outlinewidth": 0,
             "ticks": ""
            },
            "type": "mesh3d"
           }
          ],
          "parcoords": [
           {
            "line": {
             "colorbar": {
              "outlinewidth": 0,
              "ticks": ""
             }
            },
            "type": "parcoords"
           }
          ],
          "pie": [
           {
            "automargin": true,
            "type": "pie"
           }
          ],
          "scatter": [
           {
            "fillpattern": {
             "fillmode": "overlay",
             "size": 10,
             "solidity": 0.2
            },
            "type": "scatter"
           }
          ],
          "scatter3d": [
           {
            "line": {
             "colorbar": {
              "outlinewidth": 0,
              "ticks": ""
             }
            },
            "marker": {
             "colorbar": {
              "outlinewidth": 0,
              "ticks": ""
             }
            },
            "type": "scatter3d"
           }
          ],
          "scattercarpet": [
           {
            "marker": {
             "colorbar": {
              "outlinewidth": 0,
              "ticks": ""
             }
            },
            "type": "scattercarpet"
           }
          ],
          "scattergeo": [
           {
            "marker": {
             "colorbar": {
              "outlinewidth": 0,
              "ticks": ""
             }
            },
            "type": "scattergeo"
           }
          ],
          "scattergl": [
           {
            "marker": {
             "colorbar": {
              "outlinewidth": 0,
              "ticks": ""
             }
            },
            "type": "scattergl"
           }
          ],
          "scattermapbox": [
           {
            "marker": {
             "colorbar": {
              "outlinewidth": 0,
              "ticks": ""
             }
            },
            "type": "scattermapbox"
           }
          ],
          "scatterpolar": [
           {
            "marker": {
             "colorbar": {
              "outlinewidth": 0,
              "ticks": ""
             }
            },
            "type": "scatterpolar"
           }
          ],
          "scatterpolargl": [
           {
            "marker": {
             "colorbar": {
              "outlinewidth": 0,
              "ticks": ""
             }
            },
            "type": "scatterpolargl"
           }
          ],
          "scatterternary": [
           {
            "marker": {
             "colorbar": {
              "outlinewidth": 0,
              "ticks": ""
             }
            },
            "type": "scatterternary"
           }
          ],
          "surface": [
           {
            "colorbar": {
             "outlinewidth": 0,
             "ticks": ""
            },
            "colorscale": [
             [
              0,
              "#0d0887"
             ],
             [
              0.1111111111111111,
              "#46039f"
             ],
             [
              0.2222222222222222,
              "#7201a8"
             ],
             [
              0.3333333333333333,
              "#9c179e"
             ],
             [
              0.4444444444444444,
              "#bd3786"
             ],
             [
              0.5555555555555556,
              "#d8576b"
             ],
             [
              0.6666666666666666,
              "#ed7953"
             ],
             [
              0.7777777777777778,
              "#fb9f3a"
             ],
             [
              0.8888888888888888,
              "#fdca26"
             ],
             [
              1,
              "#f0f921"
             ]
            ],
            "type": "surface"
           }
          ],
          "table": [
           {
            "cells": {
             "fill": {
              "color": "#EBF0F8"
             },
             "line": {
              "color": "white"
             }
            },
            "header": {
             "fill": {
              "color": "#C8D4E3"
             },
             "line": {
              "color": "white"
             }
            },
            "type": "table"
           }
          ]
         },
         "layout": {
          "annotationdefaults": {
           "arrowcolor": "#2a3f5f",
           "arrowhead": 0,
           "arrowwidth": 1
          },
          "autotypenumbers": "strict",
          "coloraxis": {
           "colorbar": {
            "outlinewidth": 0,
            "ticks": ""
           }
          },
          "colorscale": {
           "diverging": [
            [
             0,
             "#8e0152"
            ],
            [
             0.1,
             "#c51b7d"
            ],
            [
             0.2,
             "#de77ae"
            ],
            [
             0.3,
             "#f1b6da"
            ],
            [
             0.4,
             "#fde0ef"
            ],
            [
             0.5,
             "#f7f7f7"
            ],
            [
             0.6,
             "#e6f5d0"
            ],
            [
             0.7,
             "#b8e186"
            ],
            [
             0.8,
             "#7fbc41"
            ],
            [
             0.9,
             "#4d9221"
            ],
            [
             1,
             "#276419"
            ]
           ],
           "sequential": [
            [
             0,
             "#0d0887"
            ],
            [
             0.1111111111111111,
             "#46039f"
            ],
            [
             0.2222222222222222,
             "#7201a8"
            ],
            [
             0.3333333333333333,
             "#9c179e"
            ],
            [
             0.4444444444444444,
             "#bd3786"
            ],
            [
             0.5555555555555556,
             "#d8576b"
            ],
            [
             0.6666666666666666,
             "#ed7953"
            ],
            [
             0.7777777777777778,
             "#fb9f3a"
            ],
            [
             0.8888888888888888,
             "#fdca26"
            ],
            [
             1,
             "#f0f921"
            ]
           ],
           "sequentialminus": [
            [
             0,
             "#0d0887"
            ],
            [
             0.1111111111111111,
             "#46039f"
            ],
            [
             0.2222222222222222,
             "#7201a8"
            ],
            [
             0.3333333333333333,
             "#9c179e"
            ],
            [
             0.4444444444444444,
             "#bd3786"
            ],
            [
             0.5555555555555556,
             "#d8576b"
            ],
            [
             0.6666666666666666,
             "#ed7953"
            ],
            [
             0.7777777777777778,
             "#fb9f3a"
            ],
            [
             0.8888888888888888,
             "#fdca26"
            ],
            [
             1,
             "#f0f921"
            ]
           ]
          },
          "colorway": [
           "#636efa",
           "#EF553B",
           "#00cc96",
           "#ab63fa",
           "#FFA15A",
           "#19d3f3",
           "#FF6692",
           "#B6E880",
           "#FF97FF",
           "#FECB52"
          ],
          "font": {
           "color": "#2a3f5f"
          },
          "geo": {
           "bgcolor": "white",
           "lakecolor": "white",
           "landcolor": "#E5ECF6",
           "showlakes": true,
           "showland": true,
           "subunitcolor": "white"
          },
          "hoverlabel": {
           "align": "left"
          },
          "hovermode": "closest",
          "mapbox": {
           "style": "light"
          },
          "paper_bgcolor": "white",
          "plot_bgcolor": "#E5ECF6",
          "polar": {
           "angularaxis": {
            "gridcolor": "white",
            "linecolor": "white",
            "ticks": ""
           },
           "bgcolor": "#E5ECF6",
           "radialaxis": {
            "gridcolor": "white",
            "linecolor": "white",
            "ticks": ""
           }
          },
          "scene": {
           "xaxis": {
            "backgroundcolor": "#E5ECF6",
            "gridcolor": "white",
            "gridwidth": 2,
            "linecolor": "white",
            "showbackground": true,
            "ticks": "",
            "zerolinecolor": "white"
           },
           "yaxis": {
            "backgroundcolor": "#E5ECF6",
            "gridcolor": "white",
            "gridwidth": 2,
            "linecolor": "white",
            "showbackground": true,
            "ticks": "",
            "zerolinecolor": "white"
           },
           "zaxis": {
            "backgroundcolor": "#E5ECF6",
            "gridcolor": "white",
            "gridwidth": 2,
            "linecolor": "white",
            "showbackground": true,
            "ticks": "",
            "zerolinecolor": "white"
           }
          },
          "shapedefaults": {
           "line": {
            "color": "#2a3f5f"
           }
          },
          "ternary": {
           "aaxis": {
            "gridcolor": "white",
            "linecolor": "white",
            "ticks": ""
           },
           "baxis": {
            "gridcolor": "white",
            "linecolor": "white",
            "ticks": ""
           },
           "bgcolor": "#E5ECF6",
           "caxis": {
            "gridcolor": "white",
            "linecolor": "white",
            "ticks": ""
           }
          },
          "title": {
           "x": 0.05
          },
          "xaxis": {
           "automargin": true,
           "gridcolor": "white",
           "linecolor": "white",
           "ticks": "",
           "title": {
            "standoff": 15
           },
           "zerolinecolor": "white",
           "zerolinewidth": 2
          },
          "yaxis": {
           "automargin": true,
           "gridcolor": "white",
           "linecolor": "white",
           "ticks": "",
           "title": {
            "standoff": 15
           },
           "zerolinecolor": "white",
           "zerolinewidth": 2
          }
         }
        },
        "xaxis": {
         "anchor": "y",
         "domain": [
          0,
          1
         ],
         "title": {
          "text": "value"
         }
        },
        "yaxis": {
         "anchor": "x",
         "categoryarray": [
          "0640:TOYS",
          "0449:GIRLS ACCESSORIES",
          "0240:SLEEPWEAR/LOUNGEWEAR",
          "0836:HOUSEHOLD CLEANING",
          "0973:CANDY",
          "0415:NEWBORN APPAREL",
          "0879:PET SUPPLIES",
          "0595:HOME/BATH",
          "0930:TABLE TOP & KITCHEN",
          "0012:LOCAL GIFTS/FOODS",
          "0165:LIFE IS GOOD",
          "0531:STATIONERY SUNDRIES",
          "0530:SCHOOL/OFFIC SUPP",
          "0644:SPORTS NUTRITION",
          "0440:GIRLS 7-16 CLOTHING",
          "0983:WINE",
          "0591:MASS FRAGRANCES",
          "0533:PAPYRUS",
          "0646:SEASONAL",
          "0210:FOUNDATIONS"
         ],
         "categoryorder": "array",
         "domain": [
          0,
          1
         ],
         "title": {
          "text": "Departamento"
         }
        }
       }
      }
     },
     "metadata": {},
     "output_type": "display_data"
    }
   ],
   "source": [
    "# Quais departamentos têm a maior média nas unidades vendidas por transação? Top 20\n",
    "\n",
    "# Calcular a média das quantidades vendidas, agrupando por departamento\n",
    "media_quantidades_por_departamento_top20 = df_transacoes.groupby('Departamento')['Qtde_Vendida'].mean().sort_values(ascending=False).head(20)\n",
    "\n",
    "# Plot\n",
    "fig_media_unidades_vendidas_top20 = px.bar(media_quantidades_por_departamento_top20, color=media_quantidades_por_departamento_top20.index, orientation='h')\n",
    "fig_media_unidades_vendidas_top20.update_layout(showlegend=False)\n",
    "fig_media_unidades_vendidas_top20.show()"
   ]
  },
  {
   "cell_type": "code",
   "execution_count": 29,
   "metadata": {},
   "outputs": [
    {
     "data": {
      "application/vnd.plotly.v1+json": {
       "config": {
        "plotlyServerURL": "https://plot.ly"
       },
       "data": [
        {
         "alignmentgroup": "True",
         "hovertemplate": "Departamento=%{y}<br>value=%{x}<extra></extra>",
         "legendgroup": "0533:PAPYRUS",
         "marker": {
          "color": "#636efa",
          "pattern": {
           "shape": ""
          }
         },
         "name": "0533:PAPYRUS",
         "offsetgroup": "0533:PAPYRUS",
         "orientation": "h",
         "showlegend": true,
         "textposition": "auto",
         "type": "bar",
         "x": [
          4.041451884327381
         ],
         "xaxis": "x",
         "y": [
          "0533:PAPYRUS"
         ],
         "yaxis": "y"
        },
        {
         "alignmentgroup": "True",
         "hovertemplate": "Departamento=%{y}<br>value=%{x}<extra></extra>",
         "legendgroup": "0646:SEASONAL",
         "marker": {
          "color": "#EF553B",
          "pattern": {
           "shape": ""
          }
         },
         "name": "0646:SEASONAL",
         "offsetgroup": "0646:SEASONAL",
         "orientation": "h",
         "showlegend": true,
         "textposition": "auto",
         "type": "bar",
         "x": [
          3.6319588884717278
         ],
         "xaxis": "x",
         "y": [
          "0646:SEASONAL"
         ],
         "yaxis": "y"
        },
        {
         "alignmentgroup": "True",
         "hovertemplate": "Departamento=%{y}<br>value=%{x}<extra></extra>",
         "legendgroup": "0983:WINE",
         "marker": {
          "color": "#00cc96",
          "pattern": {
           "shape": ""
          }
         },
         "name": "0983:WINE",
         "offsetgroup": "0983:WINE",
         "orientation": "h",
         "showlegend": true,
         "textposition": "auto",
         "type": "bar",
         "x": [
          3.4507038990229844
         ],
         "xaxis": "x",
         "y": [
          "0983:WINE"
         ],
         "yaxis": "y"
        },
        {
         "alignmentgroup": "True",
         "hovertemplate": "Departamento=%{y}<br>value=%{x}<extra></extra>",
         "legendgroup": "0440:GIRLS 7-16 CLOTHING",
         "marker": {
          "color": "#ab63fa",
          "pattern": {
           "shape": ""
          }
         },
         "name": "0440:GIRLS 7-16 CLOTHING",
         "offsetgroup": "0440:GIRLS 7-16 CLOTHING",
         "orientation": "h",
         "showlegend": true,
         "textposition": "auto",
         "type": "bar",
         "x": [
          3.3349995835415362
         ],
         "xaxis": "x",
         "y": [
          "0440:GIRLS 7-16 CLOTHING"
         ],
         "yaxis": "y"
        },
        {
         "alignmentgroup": "True",
         "hovertemplate": "Departamento=%{y}<br>value=%{x}<extra></extra>",
         "legendgroup": "0644:SPORTS NUTRITION",
         "marker": {
          "color": "#FFA15A",
          "pattern": {
           "shape": ""
          }
         },
         "name": "0644:SPORTS NUTRITION",
         "offsetgroup": "0644:SPORTS NUTRITION",
         "orientation": "h",
         "showlegend": true,
         "textposition": "auto",
         "type": "bar",
         "x": [
          2.9514591494904874
         ],
         "xaxis": "x",
         "y": [
          "0644:SPORTS NUTRITION"
         ],
         "yaxis": "y"
        },
        {
         "alignmentgroup": "True",
         "hovertemplate": "Departamento=%{y}<br>value=%{x}<extra></extra>",
         "legendgroup": "0879:PET SUPPLIES",
         "marker": {
          "color": "#19d3f3",
          "pattern": {
           "shape": ""
          }
         },
         "name": "0879:PET SUPPLIES",
         "offsetgroup": "0879:PET SUPPLIES",
         "orientation": "h",
         "showlegend": true,
         "textposition": "auto",
         "type": "bar",
         "x": [
          2.7574561386240846
         ],
         "xaxis": "x",
         "y": [
          "0879:PET SUPPLIES"
         ],
         "yaxis": "y"
        },
        {
         "alignmentgroup": "True",
         "hovertemplate": "Departamento=%{y}<br>value=%{x}<extra></extra>",
         "legendgroup": "0210:FOUNDATIONS",
         "marker": {
          "color": "#FF6692",
          "pattern": {
           "shape": ""
          }
         },
         "name": "0210:FOUNDATIONS",
         "offsetgroup": "0210:FOUNDATIONS",
         "orientation": "h",
         "showlegend": true,
         "textposition": "auto",
         "type": "bar",
         "x": [
          2.753785273643051
         ],
         "xaxis": "x",
         "y": [
          "0210:FOUNDATIONS"
         ],
         "yaxis": "y"
        },
        {
         "alignmentgroup": "True",
         "hovertemplate": "Departamento=%{y}<br>value=%{x}<extra></extra>",
         "legendgroup": "0973:CANDY",
         "marker": {
          "color": "#B6E880",
          "pattern": {
           "shape": ""
          }
         },
         "name": "0973:CANDY",
         "offsetgroup": "0973:CANDY",
         "orientation": "h",
         "showlegend": true,
         "textposition": "auto",
         "type": "bar",
         "x": [
          2.552004559699546
         ],
         "xaxis": "x",
         "y": [
          "0973:CANDY"
         ],
         "yaxis": "y"
        },
        {
         "alignmentgroup": "True",
         "hovertemplate": "Departamento=%{y}<br>value=%{x}<extra></extra>",
         "legendgroup": "0530:SCHOOL/OFFIC SUPP",
         "marker": {
          "color": "#FF97FF",
          "pattern": {
           "shape": ""
          }
         },
         "name": "0530:SCHOOL/OFFIC SUPP",
         "offsetgroup": "0530:SCHOOL/OFFIC SUPP",
         "orientation": "h",
         "showlegend": true,
         "textposition": "auto",
         "type": "bar",
         "x": [
          2.5161308329755463
         ],
         "xaxis": "x",
         "y": [
          "0530:SCHOOL/OFFIC SUPP"
         ],
         "yaxis": "y"
        },
        {
         "alignmentgroup": "True",
         "hovertemplate": "Departamento=%{y}<br>value=%{x}<extra></extra>",
         "legendgroup": "0930:TABLE TOP & KITCHEN",
         "marker": {
          "color": "#FECB52",
          "pattern": {
           "shape": ""
          }
         },
         "name": "0930:TABLE TOP & KITCHEN",
         "offsetgroup": "0930:TABLE TOP & KITCHEN",
         "orientation": "h",
         "showlegend": true,
         "textposition": "auto",
         "type": "bar",
         "x": [
          2.436369724794953
         ],
         "xaxis": "x",
         "y": [
          "0930:TABLE TOP & KITCHEN"
         ],
         "yaxis": "y"
        },
        {
         "alignmentgroup": "True",
         "hovertemplate": "Departamento=%{y}<br>value=%{x}<extra></extra>",
         "legendgroup": "0012:LOCAL GIFTS/FOODS",
         "marker": {
          "color": "#636efa",
          "pattern": {
           "shape": ""
          }
         },
         "name": "0012:LOCAL GIFTS/FOODS",
         "offsetgroup": "0012:LOCAL GIFTS/FOODS",
         "orientation": "h",
         "showlegend": true,
         "textposition": "auto",
         "type": "bar",
         "x": [
          2.3804761428476167
         ],
         "xaxis": "x",
         "y": [
          "0012:LOCAL GIFTS/FOODS"
         ],
         "yaxis": "y"
        },
        {
         "alignmentgroup": "True",
         "hovertemplate": "Departamento=%{y}<br>value=%{x}<extra></extra>",
         "legendgroup": "0795:HOME DECOR",
         "marker": {
          "color": "#EF553B",
          "pattern": {
           "shape": ""
          }
         },
         "name": "0795:HOME DECOR",
         "offsetgroup": "0795:HOME DECOR",
         "orientation": "h",
         "showlegend": true,
         "textposition": "auto",
         "type": "bar",
         "x": [
          2.2360679774997894
         ],
         "xaxis": "x",
         "y": [
          "0795:HOME DECOR"
         ],
         "yaxis": "y"
        },
        {
         "alignmentgroup": "True",
         "hovertemplate": "Departamento=%{y}<br>value=%{x}<extra></extra>",
         "legendgroup": "0230:DAYWEAR",
         "marker": {
          "color": "#00cc96",
          "pattern": {
           "shape": ""
          }
         },
         "name": "0230:DAYWEAR",
         "offsetgroup": "0230:DAYWEAR",
         "orientation": "h",
         "showlegend": true,
         "textposition": "auto",
         "type": "bar",
         "x": [
          2.2211108331943574
         ],
         "xaxis": "x",
         "y": [
          "0230:DAYWEAR"
         ],
         "yaxis": "y"
        },
        {
         "alignmentgroup": "True",
         "hovertemplate": "Departamento=%{y}<br>value=%{x}<extra></extra>",
         "legendgroup": "0640:TOYS",
         "marker": {
          "color": "#ab63fa",
          "pattern": {
           "shape": ""
          }
         },
         "name": "0640:TOYS",
         "offsetgroup": "0640:TOYS",
         "orientation": "h",
         "showlegend": true,
         "textposition": "auto",
         "type": "bar",
         "x": [
          2.149798738343805
         ],
         "xaxis": "x",
         "y": [
          "0640:TOYS"
         ],
         "yaxis": "y"
        },
        {
         "alignmentgroup": "True",
         "hovertemplate": "Departamento=%{y}<br>value=%{x}<extra></extra>",
         "legendgroup": "0165:LIFE IS GOOD",
         "marker": {
          "color": "#FFA15A",
          "pattern": {
           "shape": ""
          }
         },
         "name": "0165:LIFE IS GOOD",
         "offsetgroup": "0165:LIFE IS GOOD",
         "orientation": "h",
         "showlegend": true,
         "textposition": "auto",
         "type": "bar",
         "x": [
          2.1213203435596424
         ],
         "xaxis": "x",
         "y": [
          "0165:LIFE IS GOOD"
         ],
         "yaxis": "y"
        },
        {
         "alignmentgroup": "True",
         "hovertemplate": "Departamento=%{y}<br>value=%{x}<extra></extra>",
         "legendgroup": "0598:BABY CARE",
         "marker": {
          "color": "#19d3f3",
          "pattern": {
           "shape": ""
          }
         },
         "name": "0598:BABY CARE",
         "offsetgroup": "0598:BABY CARE",
         "orientation": "h",
         "showlegend": true,
         "textposition": "auto",
         "type": "bar",
         "x": [
          2.111001654603745
         ],
         "xaxis": "x",
         "y": [
          "0598:BABY CARE"
         ],
         "yaxis": "y"
        },
        {
         "alignmentgroup": "True",
         "hovertemplate": "Departamento=%{y}<br>value=%{x}<extra></extra>",
         "legendgroup": "0531:STATIONERY SUNDRIES",
         "marker": {
          "color": "#FF6692",
          "pattern": {
           "shape": ""
          }
         },
         "name": "0531:STATIONERY SUNDRIES",
         "offsetgroup": "0531:STATIONERY SUNDRIES",
         "orientation": "h",
         "showlegend": true,
         "textposition": "auto",
         "type": "bar",
         "x": [
          2.064741604835056
         ],
         "xaxis": "x",
         "y": [
          "0531:STATIONERY SUNDRIES"
         ],
         "yaxis": "y"
        },
        {
         "alignmentgroup": "True",
         "hovertemplate": "Departamento=%{y}<br>value=%{x}<extra></extra>",
         "legendgroup": "0240:SLEEPWEAR/LOUNGEWEAR",
         "marker": {
          "color": "#B6E880",
          "pattern": {
           "shape": ""
          }
         },
         "name": "0240:SLEEPWEAR/LOUNGEWEAR",
         "offsetgroup": "0240:SLEEPWEAR/LOUNGEWEAR",
         "orientation": "h",
         "showlegend": true,
         "textposition": "auto",
         "type": "bar",
         "x": [
          2.0575065816014617
         ],
         "xaxis": "x",
         "y": [
          "0240:SLEEPWEAR/LOUNGEWEAR"
         ],
         "yaxis": "y"
        },
        {
         "alignmentgroup": "True",
         "hovertemplate": "Departamento=%{y}<br>value=%{x}<extra></extra>",
         "legendgroup": "0836:HOUSEHOLD CLEANING",
         "marker": {
          "color": "#FF97FF",
          "pattern": {
           "shape": ""
          }
         },
         "name": "0836:HOUSEHOLD CLEANING",
         "offsetgroup": "0836:HOUSEHOLD CLEANING",
         "orientation": "h",
         "showlegend": true,
         "textposition": "auto",
         "type": "bar",
         "x": [
          2.0219408447056098
         ],
         "xaxis": "x",
         "y": [
          "0836:HOUSEHOLD CLEANING"
         ],
         "yaxis": "y"
        },
        {
         "alignmentgroup": "True",
         "hovertemplate": "Departamento=%{y}<br>value=%{x}<extra></extra>",
         "legendgroup": "0130:JUNIORS SURF",
         "marker": {
          "color": "#FECB52",
          "pattern": {
           "shape": ""
          }
         },
         "name": "0130:JUNIORS SURF",
         "offsetgroup": "0130:JUNIORS SURF",
         "orientation": "h",
         "showlegend": true,
         "textposition": "auto",
         "type": "bar",
         "x": [
          2
         ],
         "xaxis": "x",
         "y": [
          "0130:JUNIORS SURF"
         ],
         "yaxis": "y"
        },
        {
         "alignmentgroup": "True",
         "hovertemplate": "Departamento=%{y}<br>value=%{x}<extra></extra>",
         "legendgroup": "0210:FOUNDATIONS",
         "marker": {
          "color": "#636efa",
          "pattern": {
           "shape": ""
          }
         },
         "name": "0210:FOUNDATIONS",
         "offsetgroup": "0210:FOUNDATIONS",
         "orientation": "h",
         "showlegend": true,
         "textposition": "auto",
         "type": "bar",
         "x": [
          3.75
         ],
         "xaxis": "x2",
         "y": [
          "0210:FOUNDATIONS"
         ],
         "yaxis": "y2"
        },
        {
         "alignmentgroup": "True",
         "hovertemplate": "Departamento=%{y}<br>value=%{x}<extra></extra>",
         "legendgroup": "0646:SEASONAL",
         "marker": {
          "color": "#EF553B",
          "pattern": {
           "shape": ""
          }
         },
         "name": "0646:SEASONAL",
         "offsetgroup": "0646:SEASONAL",
         "orientation": "h",
         "showlegend": true,
         "textposition": "auto",
         "type": "bar",
         "x": [
          3.7471264367816093
         ],
         "xaxis": "x2",
         "y": [
          "0646:SEASONAL"
         ],
         "yaxis": "y2"
        },
        {
         "alignmentgroup": "True",
         "hovertemplate": "Departamento=%{y}<br>value=%{x}<extra></extra>",
         "legendgroup": "0533:PAPYRUS",
         "marker": {
          "color": "#00cc96",
          "pattern": {
           "shape": ""
          }
         },
         "name": "0533:PAPYRUS",
         "offsetgroup": "0533:PAPYRUS",
         "orientation": "h",
         "showlegend": true,
         "textposition": "auto",
         "type": "bar",
         "x": [
          3.3333333333333335
         ],
         "xaxis": "x2",
         "y": [
          "0533:PAPYRUS"
         ],
         "yaxis": "y2"
        },
        {
         "alignmentgroup": "True",
         "hovertemplate": "Departamento=%{y}<br>value=%{x}<extra></extra>",
         "legendgroup": "0591:MASS FRAGRANCES",
         "marker": {
          "color": "#ab63fa",
          "pattern": {
           "shape": ""
          }
         },
         "name": "0591:MASS FRAGRANCES",
         "offsetgroup": "0591:MASS FRAGRANCES",
         "orientation": "h",
         "showlegend": true,
         "textposition": "auto",
         "type": "bar",
         "x": [
          3
         ],
         "xaxis": "x2",
         "y": [
          "0591:MASS FRAGRANCES"
         ],
         "yaxis": "y2"
        },
        {
         "alignmentgroup": "True",
         "hovertemplate": "Departamento=%{y}<br>value=%{x}<extra></extra>",
         "legendgroup": "0983:WINE",
         "marker": {
          "color": "#FFA15A",
          "pattern": {
           "shape": ""
          }
         },
         "name": "0983:WINE",
         "offsetgroup": "0983:WINE",
         "orientation": "h",
         "showlegend": true,
         "textposition": "auto",
         "type": "bar",
         "x": [
          2.764397905759162
         ],
         "xaxis": "x2",
         "y": [
          "0983:WINE"
         ],
         "yaxis": "y2"
        },
        {
         "alignmentgroup": "True",
         "hovertemplate": "Departamento=%{y}<br>value=%{x}<extra></extra>",
         "legendgroup": "0440:GIRLS 7-16 CLOTHING",
         "marker": {
          "color": "#19d3f3",
          "pattern": {
           "shape": ""
          }
         },
         "name": "0440:GIRLS 7-16 CLOTHING",
         "offsetgroup": "0440:GIRLS 7-16 CLOTHING",
         "orientation": "h",
         "showlegend": true,
         "textposition": "auto",
         "type": "bar",
         "x": [
          2.7
         ],
         "xaxis": "x2",
         "y": [
          "0440:GIRLS 7-16 CLOTHING"
         ],
         "yaxis": "y2"
        },
        {
         "alignmentgroup": "True",
         "hovertemplate": "Departamento=%{y}<br>value=%{x}<extra></extra>",
         "legendgroup": "0644:SPORTS NUTRITION",
         "marker": {
          "color": "#FF6692",
          "pattern": {
           "shape": ""
          }
         },
         "name": "0644:SPORTS NUTRITION",
         "offsetgroup": "0644:SPORTS NUTRITION",
         "orientation": "h",
         "showlegend": true,
         "textposition": "auto",
         "type": "bar",
         "x": [
          2.5555555555555554
         ],
         "xaxis": "x2",
         "y": [
          "0644:SPORTS NUTRITION"
         ],
         "yaxis": "y2"
        },
        {
         "alignmentgroup": "True",
         "hovertemplate": "Departamento=%{y}<br>value=%{x}<extra></extra>",
         "legendgroup": "0530:SCHOOL/OFFIC SUPP",
         "marker": {
          "color": "#B6E880",
          "pattern": {
           "shape": ""
          }
         },
         "name": "0530:SCHOOL/OFFIC SUPP",
         "offsetgroup": "0530:SCHOOL/OFFIC SUPP",
         "orientation": "h",
         "showlegend": true,
         "textposition": "auto",
         "type": "bar",
         "x": [
          2.5283018867924527
         ],
         "xaxis": "x2",
         "y": [
          "0530:SCHOOL/OFFIC SUPP"
         ],
         "yaxis": "y2"
        },
        {
         "alignmentgroup": "True",
         "hovertemplate": "Departamento=%{y}<br>value=%{x}<extra></extra>",
         "legendgroup": "0531:STATIONERY SUNDRIES",
         "marker": {
          "color": "#FF97FF",
          "pattern": {
           "shape": ""
          }
         },
         "name": "0531:STATIONERY SUNDRIES",
         "offsetgroup": "0531:STATIONERY SUNDRIES",
         "orientation": "h",
         "showlegend": true,
         "textposition": "auto",
         "type": "bar",
         "x": [
          2.526315789473684
         ],
         "xaxis": "x2",
         "y": [
          "0531:STATIONERY SUNDRIES"
         ],
         "yaxis": "y2"
        },
        {
         "alignmentgroup": "True",
         "hovertemplate": "Departamento=%{y}<br>value=%{x}<extra></extra>",
         "legendgroup": "0165:LIFE IS GOOD",
         "marker": {
          "color": "#FECB52",
          "pattern": {
           "shape": ""
          }
         },
         "name": "0165:LIFE IS GOOD",
         "offsetgroup": "0165:LIFE IS GOOD",
         "orientation": "h",
         "showlegend": true,
         "textposition": "auto",
         "type": "bar",
         "x": [
          2.5
         ],
         "xaxis": "x2",
         "y": [
          "0165:LIFE IS GOOD"
         ],
         "yaxis": "y2"
        },
        {
         "alignmentgroup": "True",
         "hovertemplate": "Departamento=%{y}<br>value=%{x}<extra></extra>",
         "legendgroup": "0012:LOCAL GIFTS/FOODS",
         "marker": {
          "color": "#636efa",
          "pattern": {
           "shape": ""
          }
         },
         "name": "0012:LOCAL GIFTS/FOODS",
         "offsetgroup": "0012:LOCAL GIFTS/FOODS",
         "orientation": "h",
         "showlegend": true,
         "textposition": "auto",
         "type": "bar",
         "x": [
          2.5
         ],
         "xaxis": "x2",
         "y": [
          "0012:LOCAL GIFTS/FOODS"
         ],
         "yaxis": "y2"
        },
        {
         "alignmentgroup": "True",
         "hovertemplate": "Departamento=%{y}<br>value=%{x}<extra></extra>",
         "legendgroup": "0930:TABLE TOP & KITCHEN",
         "marker": {
          "color": "#EF553B",
          "pattern": {
           "shape": ""
          }
         },
         "name": "0930:TABLE TOP & KITCHEN",
         "offsetgroup": "0930:TABLE TOP & KITCHEN",
         "orientation": "h",
         "showlegend": true,
         "textposition": "auto",
         "type": "bar",
         "x": [
          2.4615384615384617
         ],
         "xaxis": "x2",
         "y": [
          "0930:TABLE TOP & KITCHEN"
         ],
         "yaxis": "y2"
        },
        {
         "alignmentgroup": "True",
         "hovertemplate": "Departamento=%{y}<br>value=%{x}<extra></extra>",
         "legendgroup": "0595:HOME/BATH",
         "marker": {
          "color": "#00cc96",
          "pattern": {
           "shape": ""
          }
         },
         "name": "0595:HOME/BATH",
         "offsetgroup": "0595:HOME/BATH",
         "orientation": "h",
         "showlegend": true,
         "textposition": "auto",
         "type": "bar",
         "x": [
          2.4166666666666665
         ],
         "xaxis": "x2",
         "y": [
          "0595:HOME/BATH"
         ],
         "yaxis": "y2"
        },
        {
         "alignmentgroup": "True",
         "hovertemplate": "Departamento=%{y}<br>value=%{x}<extra></extra>",
         "legendgroup": "0879:PET SUPPLIES",
         "marker": {
          "color": "#ab63fa",
          "pattern": {
           "shape": ""
          }
         },
         "name": "0879:PET SUPPLIES",
         "offsetgroup": "0879:PET SUPPLIES",
         "orientation": "h",
         "showlegend": true,
         "textposition": "auto",
         "type": "bar",
         "x": [
          2.405940594059406
         ],
         "xaxis": "x2",
         "y": [
          "0879:PET SUPPLIES"
         ],
         "yaxis": "y2"
        },
        {
         "alignmentgroup": "True",
         "hovertemplate": "Departamento=%{y}<br>value=%{x}<extra></extra>",
         "legendgroup": "0415:NEWBORN APPAREL",
         "marker": {
          "color": "#FFA15A",
          "pattern": {
           "shape": ""
          }
         },
         "name": "0415:NEWBORN APPAREL",
         "offsetgroup": "0415:NEWBORN APPAREL",
         "orientation": "h",
         "showlegend": true,
         "textposition": "auto",
         "type": "bar",
         "x": [
          2.388888888888889
         ],
         "xaxis": "x2",
         "y": [
          "0415:NEWBORN APPAREL"
         ],
         "yaxis": "y2"
        },
        {
         "alignmentgroup": "True",
         "hovertemplate": "Departamento=%{y}<br>value=%{x}<extra></extra>",
         "legendgroup": "0973:CANDY",
         "marker": {
          "color": "#19d3f3",
          "pattern": {
           "shape": ""
          }
         },
         "name": "0973:CANDY",
         "offsetgroup": "0973:CANDY",
         "orientation": "h",
         "showlegend": true,
         "textposition": "auto",
         "type": "bar",
         "x": [
          2.349090909090909
         ],
         "xaxis": "x2",
         "y": [
          "0973:CANDY"
         ],
         "yaxis": "y2"
        },
        {
         "alignmentgroup": "True",
         "hovertemplate": "Departamento=%{y}<br>value=%{x}<extra></extra>",
         "legendgroup": "0836:HOUSEHOLD CLEANING",
         "marker": {
          "color": "#FF6692",
          "pattern": {
           "shape": ""
          }
         },
         "name": "0836:HOUSEHOLD CLEANING",
         "offsetgroup": "0836:HOUSEHOLD CLEANING",
         "orientation": "h",
         "showlegend": true,
         "textposition": "auto",
         "type": "bar",
         "x": [
          2.348101265822785
         ],
         "xaxis": "x2",
         "y": [
          "0836:HOUSEHOLD CLEANING"
         ],
         "yaxis": "y2"
        },
        {
         "alignmentgroup": "True",
         "hovertemplate": "Departamento=%{y}<br>value=%{x}<extra></extra>",
         "legendgroup": "0240:SLEEPWEAR/LOUNGEWEAR",
         "marker": {
          "color": "#B6E880",
          "pattern": {
           "shape": ""
          }
         },
         "name": "0240:SLEEPWEAR/LOUNGEWEAR",
         "offsetgroup": "0240:SLEEPWEAR/LOUNGEWEAR",
         "orientation": "h",
         "showlegend": true,
         "textposition": "auto",
         "type": "bar",
         "x": [
          2.3333333333333335
         ],
         "xaxis": "x2",
         "y": [
          "0240:SLEEPWEAR/LOUNGEWEAR"
         ],
         "yaxis": "y2"
        },
        {
         "alignmentgroup": "True",
         "hovertemplate": "Departamento=%{y}<br>value=%{x}<extra></extra>",
         "legendgroup": "0449:GIRLS ACCESSORIES",
         "marker": {
          "color": "#FF97FF",
          "pattern": {
           "shape": ""
          }
         },
         "name": "0449:GIRLS ACCESSORIES",
         "offsetgroup": "0449:GIRLS ACCESSORIES",
         "orientation": "h",
         "showlegend": true,
         "textposition": "auto",
         "type": "bar",
         "x": [
          2.2142857142857144
         ],
         "xaxis": "x2",
         "y": [
          "0449:GIRLS ACCESSORIES"
         ],
         "yaxis": "y2"
        },
        {
         "alignmentgroup": "True",
         "hovertemplate": "Departamento=%{y}<br>value=%{x}<extra></extra>",
         "legendgroup": "0640:TOYS",
         "marker": {
          "color": "#FECB52",
          "pattern": {
           "shape": ""
          }
         },
         "name": "0640:TOYS",
         "offsetgroup": "0640:TOYS",
         "orientation": "h",
         "showlegend": true,
         "textposition": "auto",
         "type": "bar",
         "x": [
          2.1846153846153844
         ],
         "xaxis": "x2",
         "y": [
          "0640:TOYS"
         ],
         "yaxis": "y2"
        }
       ],
       "layout": {
        "annotations": [
         {
          "font": {
           "size": 16
          },
          "showarrow": false,
          "text": "Desvio Padrão",
          "x": 0.225,
          "xanchor": "center",
          "xref": "paper",
          "y": 1,
          "yanchor": "bottom",
          "yref": "paper"
         },
         {
          "font": {
           "size": 16
          },
          "showarrow": false,
          "text": "Média",
          "x": 0.775,
          "xanchor": "center",
          "xref": "paper",
          "y": 1,
          "yanchor": "bottom",
          "yref": "paper"
         }
        ],
        "height": 800,
        "showlegend": false,
        "template": {
         "data": {
          "bar": [
           {
            "error_x": {
             "color": "#2a3f5f"
            },
            "error_y": {
             "color": "#2a3f5f"
            },
            "marker": {
             "line": {
              "color": "#E5ECF6",
              "width": 0.5
             },
             "pattern": {
              "fillmode": "overlay",
              "size": 10,
              "solidity": 0.2
             }
            },
            "type": "bar"
           }
          ],
          "barpolar": [
           {
            "marker": {
             "line": {
              "color": "#E5ECF6",
              "width": 0.5
             },
             "pattern": {
              "fillmode": "overlay",
              "size": 10,
              "solidity": 0.2
             }
            },
            "type": "barpolar"
           }
          ],
          "carpet": [
           {
            "aaxis": {
             "endlinecolor": "#2a3f5f",
             "gridcolor": "white",
             "linecolor": "white",
             "minorgridcolor": "white",
             "startlinecolor": "#2a3f5f"
            },
            "baxis": {
             "endlinecolor": "#2a3f5f",
             "gridcolor": "white",
             "linecolor": "white",
             "minorgridcolor": "white",
             "startlinecolor": "#2a3f5f"
            },
            "type": "carpet"
           }
          ],
          "choropleth": [
           {
            "colorbar": {
             "outlinewidth": 0,
             "ticks": ""
            },
            "type": "choropleth"
           }
          ],
          "contour": [
           {
            "colorbar": {
             "outlinewidth": 0,
             "ticks": ""
            },
            "colorscale": [
             [
              0,
              "#0d0887"
             ],
             [
              0.1111111111111111,
              "#46039f"
             ],
             [
              0.2222222222222222,
              "#7201a8"
             ],
             [
              0.3333333333333333,
              "#9c179e"
             ],
             [
              0.4444444444444444,
              "#bd3786"
             ],
             [
              0.5555555555555556,
              "#d8576b"
             ],
             [
              0.6666666666666666,
              "#ed7953"
             ],
             [
              0.7777777777777778,
              "#fb9f3a"
             ],
             [
              0.8888888888888888,
              "#fdca26"
             ],
             [
              1,
              "#f0f921"
             ]
            ],
            "type": "contour"
           }
          ],
          "contourcarpet": [
           {
            "colorbar": {
             "outlinewidth": 0,
             "ticks": ""
            },
            "type": "contourcarpet"
           }
          ],
          "heatmap": [
           {
            "colorbar": {
             "outlinewidth": 0,
             "ticks": ""
            },
            "colorscale": [
             [
              0,
              "#0d0887"
             ],
             [
              0.1111111111111111,
              "#46039f"
             ],
             [
              0.2222222222222222,
              "#7201a8"
             ],
             [
              0.3333333333333333,
              "#9c179e"
             ],
             [
              0.4444444444444444,
              "#bd3786"
             ],
             [
              0.5555555555555556,
              "#d8576b"
             ],
             [
              0.6666666666666666,
              "#ed7953"
             ],
             [
              0.7777777777777778,
              "#fb9f3a"
             ],
             [
              0.8888888888888888,
              "#fdca26"
             ],
             [
              1,
              "#f0f921"
             ]
            ],
            "type": "heatmap"
           }
          ],
          "heatmapgl": [
           {
            "colorbar": {
             "outlinewidth": 0,
             "ticks": ""
            },
            "colorscale": [
             [
              0,
              "#0d0887"
             ],
             [
              0.1111111111111111,
              "#46039f"
             ],
             [
              0.2222222222222222,
              "#7201a8"
             ],
             [
              0.3333333333333333,
              "#9c179e"
             ],
             [
              0.4444444444444444,
              "#bd3786"
             ],
             [
              0.5555555555555556,
              "#d8576b"
             ],
             [
              0.6666666666666666,
              "#ed7953"
             ],
             [
              0.7777777777777778,
              "#fb9f3a"
             ],
             [
              0.8888888888888888,
              "#fdca26"
             ],
             [
              1,
              "#f0f921"
             ]
            ],
            "type": "heatmapgl"
           }
          ],
          "histogram": [
           {
            "marker": {
             "pattern": {
              "fillmode": "overlay",
              "size": 10,
              "solidity": 0.2
             }
            },
            "type": "histogram"
           }
          ],
          "histogram2d": [
           {
            "colorbar": {
             "outlinewidth": 0,
             "ticks": ""
            },
            "colorscale": [
             [
              0,
              "#0d0887"
             ],
             [
              0.1111111111111111,
              "#46039f"
             ],
             [
              0.2222222222222222,
              "#7201a8"
             ],
             [
              0.3333333333333333,
              "#9c179e"
             ],
             [
              0.4444444444444444,
              "#bd3786"
             ],
             [
              0.5555555555555556,
              "#d8576b"
             ],
             [
              0.6666666666666666,
              "#ed7953"
             ],
             [
              0.7777777777777778,
              "#fb9f3a"
             ],
             [
              0.8888888888888888,
              "#fdca26"
             ],
             [
              1,
              "#f0f921"
             ]
            ],
            "type": "histogram2d"
           }
          ],
          "histogram2dcontour": [
           {
            "colorbar": {
             "outlinewidth": 0,
             "ticks": ""
            },
            "colorscale": [
             [
              0,
              "#0d0887"
             ],
             [
              0.1111111111111111,
              "#46039f"
             ],
             [
              0.2222222222222222,
              "#7201a8"
             ],
             [
              0.3333333333333333,
              "#9c179e"
             ],
             [
              0.4444444444444444,
              "#bd3786"
             ],
             [
              0.5555555555555556,
              "#d8576b"
             ],
             [
              0.6666666666666666,
              "#ed7953"
             ],
             [
              0.7777777777777778,
              "#fb9f3a"
             ],
             [
              0.8888888888888888,
              "#fdca26"
             ],
             [
              1,
              "#f0f921"
             ]
            ],
            "type": "histogram2dcontour"
           }
          ],
          "mesh3d": [
           {
            "colorbar": {
             "outlinewidth": 0,
             "ticks": ""
            },
            "type": "mesh3d"
           }
          ],
          "parcoords": [
           {
            "line": {
             "colorbar": {
              "outlinewidth": 0,
              "ticks": ""
             }
            },
            "type": "parcoords"
           }
          ],
          "pie": [
           {
            "automargin": true,
            "type": "pie"
           }
          ],
          "scatter": [
           {
            "fillpattern": {
             "fillmode": "overlay",
             "size": 10,
             "solidity": 0.2
            },
            "type": "scatter"
           }
          ],
          "scatter3d": [
           {
            "line": {
             "colorbar": {
              "outlinewidth": 0,
              "ticks": ""
             }
            },
            "marker": {
             "colorbar": {
              "outlinewidth": 0,
              "ticks": ""
             }
            },
            "type": "scatter3d"
           }
          ],
          "scattercarpet": [
           {
            "marker": {
             "colorbar": {
              "outlinewidth": 0,
              "ticks": ""
             }
            },
            "type": "scattercarpet"
           }
          ],
          "scattergeo": [
           {
            "marker": {
             "colorbar": {
              "outlinewidth": 0,
              "ticks": ""
             }
            },
            "type": "scattergeo"
           }
          ],
          "scattergl": [
           {
            "marker": {
             "colorbar": {
              "outlinewidth": 0,
              "ticks": ""
             }
            },
            "type": "scattergl"
           }
          ],
          "scattermapbox": [
           {
            "marker": {
             "colorbar": {
              "outlinewidth": 0,
              "ticks": ""
             }
            },
            "type": "scattermapbox"
           }
          ],
          "scatterpolar": [
           {
            "marker": {
             "colorbar": {
              "outlinewidth": 0,
              "ticks": ""
             }
            },
            "type": "scatterpolar"
           }
          ],
          "scatterpolargl": [
           {
            "marker": {
             "colorbar": {
              "outlinewidth": 0,
              "ticks": ""
             }
            },
            "type": "scatterpolargl"
           }
          ],
          "scatterternary": [
           {
            "marker": {
             "colorbar": {
              "outlinewidth": 0,
              "ticks": ""
             }
            },
            "type": "scatterternary"
           }
          ],
          "surface": [
           {
            "colorbar": {
             "outlinewidth": 0,
             "ticks": ""
            },
            "colorscale": [
             [
              0,
              "#0d0887"
             ],
             [
              0.1111111111111111,
              "#46039f"
             ],
             [
              0.2222222222222222,
              "#7201a8"
             ],
             [
              0.3333333333333333,
              "#9c179e"
             ],
             [
              0.4444444444444444,
              "#bd3786"
             ],
             [
              0.5555555555555556,
              "#d8576b"
             ],
             [
              0.6666666666666666,
              "#ed7953"
             ],
             [
              0.7777777777777778,
              "#fb9f3a"
             ],
             [
              0.8888888888888888,
              "#fdca26"
             ],
             [
              1,
              "#f0f921"
             ]
            ],
            "type": "surface"
           }
          ],
          "table": [
           {
            "cells": {
             "fill": {
              "color": "#EBF0F8"
             },
             "line": {
              "color": "white"
             }
            },
            "header": {
             "fill": {
              "color": "#C8D4E3"
             },
             "line": {
              "color": "white"
             }
            },
            "type": "table"
           }
          ]
         },
         "layout": {
          "annotationdefaults": {
           "arrowcolor": "#2a3f5f",
           "arrowhead": 0,
           "arrowwidth": 1
          },
          "autotypenumbers": "strict",
          "coloraxis": {
           "colorbar": {
            "outlinewidth": 0,
            "ticks": ""
           }
          },
          "colorscale": {
           "diverging": [
            [
             0,
             "#8e0152"
            ],
            [
             0.1,
             "#c51b7d"
            ],
            [
             0.2,
             "#de77ae"
            ],
            [
             0.3,
             "#f1b6da"
            ],
            [
             0.4,
             "#fde0ef"
            ],
            [
             0.5,
             "#f7f7f7"
            ],
            [
             0.6,
             "#e6f5d0"
            ],
            [
             0.7,
             "#b8e186"
            ],
            [
             0.8,
             "#7fbc41"
            ],
            [
             0.9,
             "#4d9221"
            ],
            [
             1,
             "#276419"
            ]
           ],
           "sequential": [
            [
             0,
             "#0d0887"
            ],
            [
             0.1111111111111111,
             "#46039f"
            ],
            [
             0.2222222222222222,
             "#7201a8"
            ],
            [
             0.3333333333333333,
             "#9c179e"
            ],
            [
             0.4444444444444444,
             "#bd3786"
            ],
            [
             0.5555555555555556,
             "#d8576b"
            ],
            [
             0.6666666666666666,
             "#ed7953"
            ],
            [
             0.7777777777777778,
             "#fb9f3a"
            ],
            [
             0.8888888888888888,
             "#fdca26"
            ],
            [
             1,
             "#f0f921"
            ]
           ],
           "sequentialminus": [
            [
             0,
             "#0d0887"
            ],
            [
             0.1111111111111111,
             "#46039f"
            ],
            [
             0.2222222222222222,
             "#7201a8"
            ],
            [
             0.3333333333333333,
             "#9c179e"
            ],
            [
             0.4444444444444444,
             "#bd3786"
            ],
            [
             0.5555555555555556,
             "#d8576b"
            ],
            [
             0.6666666666666666,
             "#ed7953"
            ],
            [
             0.7777777777777778,
             "#fb9f3a"
            ],
            [
             0.8888888888888888,
             "#fdca26"
            ],
            [
             1,
             "#f0f921"
            ]
           ]
          },
          "colorway": [
           "#636efa",
           "#EF553B",
           "#00cc96",
           "#ab63fa",
           "#FFA15A",
           "#19d3f3",
           "#FF6692",
           "#B6E880",
           "#FF97FF",
           "#FECB52"
          ],
          "font": {
           "color": "#2a3f5f"
          },
          "geo": {
           "bgcolor": "white",
           "lakecolor": "white",
           "landcolor": "#E5ECF6",
           "showlakes": true,
           "showland": true,
           "subunitcolor": "white"
          },
          "hoverlabel": {
           "align": "left"
          },
          "hovermode": "closest",
          "mapbox": {
           "style": "light"
          },
          "paper_bgcolor": "white",
          "plot_bgcolor": "#E5ECF6",
          "polar": {
           "angularaxis": {
            "gridcolor": "white",
            "linecolor": "white",
            "ticks": ""
           },
           "bgcolor": "#E5ECF6",
           "radialaxis": {
            "gridcolor": "white",
            "linecolor": "white",
            "ticks": ""
           }
          },
          "scene": {
           "xaxis": {
            "backgroundcolor": "#E5ECF6",
            "gridcolor": "white",
            "gridwidth": 2,
            "linecolor": "white",
            "showbackground": true,
            "ticks": "",
            "zerolinecolor": "white"
           },
           "yaxis": {
            "backgroundcolor": "#E5ECF6",
            "gridcolor": "white",
            "gridwidth": 2,
            "linecolor": "white",
            "showbackground": true,
            "ticks": "",
            "zerolinecolor": "white"
           },
           "zaxis": {
            "backgroundcolor": "#E5ECF6",
            "gridcolor": "white",
            "gridwidth": 2,
            "linecolor": "white",
            "showbackground": true,
            "ticks": "",
            "zerolinecolor": "white"
           }
          },
          "shapedefaults": {
           "line": {
            "color": "#2a3f5f"
           }
          },
          "ternary": {
           "aaxis": {
            "gridcolor": "white",
            "linecolor": "white",
            "ticks": ""
           },
           "baxis": {
            "gridcolor": "white",
            "linecolor": "white",
            "ticks": ""
           },
           "bgcolor": "#E5ECF6",
           "caxis": {
            "gridcolor": "white",
            "linecolor": "white",
            "ticks": ""
           }
          },
          "title": {
           "x": 0.05
          },
          "xaxis": {
           "automargin": true,
           "gridcolor": "white",
           "linecolor": "white",
           "ticks": "",
           "title": {
            "standoff": 15
           },
           "zerolinecolor": "white",
           "zerolinewidth": 2
          },
          "yaxis": {
           "automargin": true,
           "gridcolor": "white",
           "linecolor": "white",
           "ticks": "",
           "title": {
            "standoff": 15
           },
           "zerolinecolor": "white",
           "zerolinewidth": 2
          }
         }
        },
        "title": {
         "text": "Top20 Departamentos - Unidades Vendidas"
        },
        "width": 1000,
        "xaxis": {
         "anchor": "y",
         "domain": [
          0,
          0.45
         ]
        },
        "xaxis2": {
         "anchor": "y2",
         "domain": [
          0.55,
          1
         ]
        },
        "yaxis": {
         "anchor": "x",
         "domain": [
          0,
          1
         ]
        },
        "yaxis2": {
         "anchor": "x2",
         "domain": [
          0,
          1
         ]
        }
       }
      }
     },
     "metadata": {},
     "output_type": "display_data"
    }
   ],
   "source": [
    "# Unificar dois gráficos (Top10), para mostrar lado a lado\n",
    "\n",
    "# Criar subplots\n",
    "fig_pergunta_4 = make_subplots(rows=1, cols=2, subplot_titles=('Desvio Padrão', 'Média'))\n",
    "\n",
    "# Adicionar os gráficos aos subplots\n",
    "for trace in fig_variacao_unidades_vendidas_top20['data']:\n",
    "    fig_pergunta_4.add_trace(trace, row=1, col=1)\n",
    "\n",
    "for trace in fig_media_unidades_vendidas_top20['data']:\n",
    "    fig_pergunta_4.add_trace(trace, row=1, col=2)\n",
    "\n",
    "# Atualizar layout\n",
    "fig_pergunta_4.update_layout(height=800, width=1000, title_text='Top20 Departamentos - Unidades Vendidas', showlegend=False)\n",
    "\n",
    "# Mostrar o gráfico\n",
    "fig_pergunta_4.show()"
   ]
  },
  {
   "cell_type": "markdown",
   "metadata": {},
   "source": [
    "### Preparação da Base com Pivot Table"
   ]
  },
  {
   "cell_type": "markdown",
   "metadata": {},
   "source": [
    "|ID_Trans|Prod1|Prod2|Prod3|Prod4|\n",
    "|00000001|X    |     |X    |     |\n",
    "|00000002|X    |X    |X    |     |\n",
    "|00000003|     |     |X    |X    |"
   ]
  },
  {
   "cell_type": "code",
   "execution_count": 30,
   "metadata": {},
   "outputs": [],
   "source": [
    "# Criar uma Pivot Table no Pandas com ID_Transacao como Linha e Departamento como Coluna, Soma de Quantidade Vendida como Valor\n",
    "df_transacoes_pivot = df_transacoes.pivot_table(index='ID_Transacao', \n",
    "                                                columns='Departamento', \n",
    "                                                values='Qtde_Vendida',\n",
    "                                                aggfunc='sum')"
   ]
  },
  {
   "cell_type": "code",
   "execution_count": 31,
   "metadata": {},
   "outputs": [
    {
     "name": "stdout",
     "output_type": "stream",
     "text": [
      "<class 'pandas.core.frame.DataFrame'>\n",
      "Index: 1943 entries, 16120100160021008773 to 16120100160221001467\n",
      "Columns: 156 entries, 0002:BARBER RETAIL to 0999:UNSCANNED ITEMS\n",
      "dtypes: float64(156)\n",
      "memory usage: 2.3 MB\n"
     ]
    }
   ],
   "source": [
    "# Verificar estrutura Pivot Table\n",
    "df_transacoes_pivot.info()"
   ]
  },
  {
   "cell_type": "code",
   "execution_count": 38,
   "metadata": {},
   "outputs": [
    {
     "data": {
      "text/html": [
       "<div>\n",
       "<style scoped>\n",
       "    .dataframe tbody tr th:only-of-type {\n",
       "        vertical-align: middle;\n",
       "    }\n",
       "\n",
       "    .dataframe tbody tr th {\n",
       "        vertical-align: top;\n",
       "    }\n",
       "\n",
       "    .dataframe thead th {\n",
       "        text-align: right;\n",
       "    }\n",
       "</style>\n",
       "<table border=\"1\" class=\"dataframe\">\n",
       "  <thead>\n",
       "    <tr style=\"text-align: right;\">\n",
       "      <th></th>\n",
       "      <th>ID_Transacao</th>\n",
       "      <th>0002:BARBER RETAIL</th>\n",
       "      <th>0009:FLORAL SERV/SUPPLIES</th>\n",
       "      <th>0012:LOCAL GIFTS/FOODS</th>\n",
       "      <th>0014:REPAIRS</th>\n",
       "      <th>0016:FINANCIAL SERVICES</th>\n",
       "      <th>0018:OTHER DIRECT SERVICE</th>\n",
       "      <th>0033:VENDING RETAIL</th>\n",
       "      <th>0056:SOUVENIR</th>\n",
       "      <th>0066:VENDING/AMUSEMENT MA</th>\n",
       "      <th>0071:BEAUTY RETAIL</th>\n",
       "      <th>0072:BARBER SERVICES</th>\n",
       "      <th>0076:FLORAL RETAIL</th>\n",
       "      <th>0098:WAREHOUSED EXPENSES</th>\n",
       "      <th>0099:MISC CUSTOM SERVICES</th>\n",
       "      <th>0110:LDS OUTERWEAR/OUTDR</th>\n",
       "      <th>0130:JUNIORS SURF</th>\n",
       "      <th>0131:LADIES DRESSES</th>\n",
       "      <th>0161:MISSY KAREN SCOTT</th>\n",
       "      <th>0163:JUNIOR TOPS</th>\n",
       "      <th>0165:LIFE IS GOOD</th>\n",
       "      <th>0167:MISSY TOPS</th>\n",
       "      <th>0171:MISSY BOTTOMS</th>\n",
       "      <th>0173:JUNIOR BOTTOMS</th>\n",
       "      <th>0175:WOMENS SEPARATES</th>\n",
       "      <th>0177:PETITE SEPARATES</th>\n",
       "      <th>0178:DENIM COLLECTIONS</th>\n",
       "      <th>0179:MODERATE DENIM</th>\n",
       "      <th>0181:LADIES MODERN COLLEC</th>\n",
       "      <th>0182:CLASSIC COLLECTIONS</th>\n",
       "      <th>0186:JUNIOR DRESSES</th>\n",
       "      <th>0188:STYLE &amp; CO</th>\n",
       "      <th>0193:LADIES ACTIVEWEAR</th>\n",
       "      <th>0210:FOUNDATIONS</th>\n",
       "      <th>0220:SHAPEWEAR</th>\n",
       "      <th>0230:DAYWEAR</th>\n",
       "      <th>0240:SLEEPWEAR/LOUNGEWEAR</th>\n",
       "      <th>0261:HOSIERY</th>\n",
       "      <th>0271:HANDBAGS</th>\n",
       "      <th>0280:FASHION ACCESSORIES</th>\n",
       "      <th>...</th>\n",
       "      <th>0816:VIDEO ELECTRONICS</th>\n",
       "      <th>0817:WEARABLES</th>\n",
       "      <th>0819:PRE-RECORDED A/V</th>\n",
       "      <th>0822:THIRD PARTY GIFTCARD</th>\n",
       "      <th>0823:SMART HOME</th>\n",
       "      <th>0826:SMALL ELECTRICS</th>\n",
       "      <th>0833:TABLETOP</th>\n",
       "      <th>0834:COOKWARE</th>\n",
       "      <th>0836:HOUSEHOLD CLEANING</th>\n",
       "      <th>0837:GENERAL HOUSEWARES</th>\n",
       "      <th>0838:FLOOR CARE</th>\n",
       "      <th>0839:HOME ORG/SOLUTIONS</th>\n",
       "      <th>0845:AS SEEN ON TV</th>\n",
       "      <th>0846:BATTERIES</th>\n",
       "      <th>0850:PC HDWR &amp; OFFICE EQP</th>\n",
       "      <th>0851:PC HARDWARE</th>\n",
       "      <th>0852:COMPUTER SOFTWARE</th>\n",
       "      <th>0853:DIMAGE/PHONE/GPS/ACC</th>\n",
       "      <th>0854:VIDEO GAMES</th>\n",
       "      <th>0856:GLUES/TAPES/ACC</th>\n",
       "      <th>0857:PC PERIPH/OFFICE ACC</th>\n",
       "      <th>0859:iPAD</th>\n",
       "      <th>0860:NETWORKING</th>\n",
       "      <th>0861:GENERAL HARDWARE</th>\n",
       "      <th>0863:POWER EQUIPMENT</th>\n",
       "      <th>0879:PET SUPPLIES</th>\n",
       "      <th>0884:LAWN &amp; GARDEN</th>\n",
       "      <th>0930:TABLE TOP &amp; KITCHEN</th>\n",
       "      <th>0931:BATH</th>\n",
       "      <th>0940:HOME TEXTILES</th>\n",
       "      <th>0941:BEDDING</th>\n",
       "      <th>0961:GENERAL GROCERIES</th>\n",
       "      <th>0962:BEVERAGES</th>\n",
       "      <th>0965:PERISHABLES</th>\n",
       "      <th>0973:CANDY</th>\n",
       "      <th>0982:SPIRITS</th>\n",
       "      <th>0983:WINE</th>\n",
       "      <th>0984:BEER</th>\n",
       "      <th>0991:TOBACCO</th>\n",
       "      <th>0999:UNSCANNED ITEMS</th>\n",
       "    </tr>\n",
       "  </thead>\n",
       "  <tbody>\n",
       "    <tr>\n",
       "      <th>0</th>\n",
       "      <td>16120100160021008773</td>\n",
       "      <td>False</td>\n",
       "      <td>False</td>\n",
       "      <td>False</td>\n",
       "      <td>False</td>\n",
       "      <td>False</td>\n",
       "      <td>False</td>\n",
       "      <td>False</td>\n",
       "      <td>False</td>\n",
       "      <td>False</td>\n",
       "      <td>False</td>\n",
       "      <td>False</td>\n",
       "      <td>False</td>\n",
       "      <td>False</td>\n",
       "      <td>False</td>\n",
       "      <td>False</td>\n",
       "      <td>False</td>\n",
       "      <td>False</td>\n",
       "      <td>False</td>\n",
       "      <td>False</td>\n",
       "      <td>False</td>\n",
       "      <td>False</td>\n",
       "      <td>False</td>\n",
       "      <td>False</td>\n",
       "      <td>False</td>\n",
       "      <td>False</td>\n",
       "      <td>False</td>\n",
       "      <td>False</td>\n",
       "      <td>False</td>\n",
       "      <td>False</td>\n",
       "      <td>False</td>\n",
       "      <td>False</td>\n",
       "      <td>False</td>\n",
       "      <td>False</td>\n",
       "      <td>False</td>\n",
       "      <td>False</td>\n",
       "      <td>False</td>\n",
       "      <td>True</td>\n",
       "      <td>False</td>\n",
       "      <td>False</td>\n",
       "      <td>...</td>\n",
       "      <td>False</td>\n",
       "      <td>False</td>\n",
       "      <td>False</td>\n",
       "      <td>False</td>\n",
       "      <td>False</td>\n",
       "      <td>False</td>\n",
       "      <td>False</td>\n",
       "      <td>False</td>\n",
       "      <td>False</td>\n",
       "      <td>False</td>\n",
       "      <td>False</td>\n",
       "      <td>False</td>\n",
       "      <td>False</td>\n",
       "      <td>False</td>\n",
       "      <td>False</td>\n",
       "      <td>False</td>\n",
       "      <td>False</td>\n",
       "      <td>False</td>\n",
       "      <td>False</td>\n",
       "      <td>False</td>\n",
       "      <td>False</td>\n",
       "      <td>False</td>\n",
       "      <td>False</td>\n",
       "      <td>False</td>\n",
       "      <td>False</td>\n",
       "      <td>True</td>\n",
       "      <td>False</td>\n",
       "      <td>False</td>\n",
       "      <td>False</td>\n",
       "      <td>False</td>\n",
       "      <td>False</td>\n",
       "      <td>False</td>\n",
       "      <td>False</td>\n",
       "      <td>False</td>\n",
       "      <td>True</td>\n",
       "      <td>True</td>\n",
       "      <td>True</td>\n",
       "      <td>False</td>\n",
       "      <td>True</td>\n",
       "      <td>False</td>\n",
       "    </tr>\n",
       "    <tr>\n",
       "      <th>1</th>\n",
       "      <td>16120100160021008774</td>\n",
       "      <td>False</td>\n",
       "      <td>False</td>\n",
       "      <td>False</td>\n",
       "      <td>False</td>\n",
       "      <td>False</td>\n",
       "      <td>False</td>\n",
       "      <td>False</td>\n",
       "      <td>False</td>\n",
       "      <td>False</td>\n",
       "      <td>False</td>\n",
       "      <td>False</td>\n",
       "      <td>False</td>\n",
       "      <td>False</td>\n",
       "      <td>False</td>\n",
       "      <td>False</td>\n",
       "      <td>False</td>\n",
       "      <td>False</td>\n",
       "      <td>False</td>\n",
       "      <td>False</td>\n",
       "      <td>False</td>\n",
       "      <td>False</td>\n",
       "      <td>False</td>\n",
       "      <td>False</td>\n",
       "      <td>False</td>\n",
       "      <td>False</td>\n",
       "      <td>False</td>\n",
       "      <td>False</td>\n",
       "      <td>False</td>\n",
       "      <td>False</td>\n",
       "      <td>False</td>\n",
       "      <td>False</td>\n",
       "      <td>False</td>\n",
       "      <td>False</td>\n",
       "      <td>False</td>\n",
       "      <td>False</td>\n",
       "      <td>False</td>\n",
       "      <td>False</td>\n",
       "      <td>False</td>\n",
       "      <td>False</td>\n",
       "      <td>...</td>\n",
       "      <td>False</td>\n",
       "      <td>False</td>\n",
       "      <td>False</td>\n",
       "      <td>False</td>\n",
       "      <td>False</td>\n",
       "      <td>False</td>\n",
       "      <td>False</td>\n",
       "      <td>False</td>\n",
       "      <td>False</td>\n",
       "      <td>False</td>\n",
       "      <td>False</td>\n",
       "      <td>False</td>\n",
       "      <td>False</td>\n",
       "      <td>False</td>\n",
       "      <td>False</td>\n",
       "      <td>False</td>\n",
       "      <td>False</td>\n",
       "      <td>False</td>\n",
       "      <td>False</td>\n",
       "      <td>False</td>\n",
       "      <td>False</td>\n",
       "      <td>False</td>\n",
       "      <td>False</td>\n",
       "      <td>False</td>\n",
       "      <td>False</td>\n",
       "      <td>False</td>\n",
       "      <td>False</td>\n",
       "      <td>False</td>\n",
       "      <td>False</td>\n",
       "      <td>False</td>\n",
       "      <td>False</td>\n",
       "      <td>False</td>\n",
       "      <td>False</td>\n",
       "      <td>False</td>\n",
       "      <td>False</td>\n",
       "      <td>False</td>\n",
       "      <td>False</td>\n",
       "      <td>False</td>\n",
       "      <td>False</td>\n",
       "      <td>False</td>\n",
       "    </tr>\n",
       "    <tr>\n",
       "      <th>2</th>\n",
       "      <td>16120100160021008775</td>\n",
       "      <td>False</td>\n",
       "      <td>False</td>\n",
       "      <td>False</td>\n",
       "      <td>False</td>\n",
       "      <td>False</td>\n",
       "      <td>False</td>\n",
       "      <td>False</td>\n",
       "      <td>False</td>\n",
       "      <td>False</td>\n",
       "      <td>False</td>\n",
       "      <td>False</td>\n",
       "      <td>False</td>\n",
       "      <td>False</td>\n",
       "      <td>False</td>\n",
       "      <td>False</td>\n",
       "      <td>False</td>\n",
       "      <td>False</td>\n",
       "      <td>False</td>\n",
       "      <td>False</td>\n",
       "      <td>False</td>\n",
       "      <td>False</td>\n",
       "      <td>False</td>\n",
       "      <td>False</td>\n",
       "      <td>False</td>\n",
       "      <td>False</td>\n",
       "      <td>False</td>\n",
       "      <td>False</td>\n",
       "      <td>False</td>\n",
       "      <td>False</td>\n",
       "      <td>False</td>\n",
       "      <td>False</td>\n",
       "      <td>False</td>\n",
       "      <td>False</td>\n",
       "      <td>False</td>\n",
       "      <td>False</td>\n",
       "      <td>False</td>\n",
       "      <td>False</td>\n",
       "      <td>False</td>\n",
       "      <td>False</td>\n",
       "      <td>...</td>\n",
       "      <td>False</td>\n",
       "      <td>False</td>\n",
       "      <td>True</td>\n",
       "      <td>False</td>\n",
       "      <td>False</td>\n",
       "      <td>True</td>\n",
       "      <td>False</td>\n",
       "      <td>False</td>\n",
       "      <td>False</td>\n",
       "      <td>False</td>\n",
       "      <td>False</td>\n",
       "      <td>False</td>\n",
       "      <td>False</td>\n",
       "      <td>False</td>\n",
       "      <td>False</td>\n",
       "      <td>False</td>\n",
       "      <td>False</td>\n",
       "      <td>False</td>\n",
       "      <td>False</td>\n",
       "      <td>False</td>\n",
       "      <td>False</td>\n",
       "      <td>False</td>\n",
       "      <td>False</td>\n",
       "      <td>False</td>\n",
       "      <td>False</td>\n",
       "      <td>False</td>\n",
       "      <td>False</td>\n",
       "      <td>False</td>\n",
       "      <td>False</td>\n",
       "      <td>False</td>\n",
       "      <td>False</td>\n",
       "      <td>False</td>\n",
       "      <td>False</td>\n",
       "      <td>False</td>\n",
       "      <td>False</td>\n",
       "      <td>True</td>\n",
       "      <td>False</td>\n",
       "      <td>False</td>\n",
       "      <td>False</td>\n",
       "      <td>False</td>\n",
       "    </tr>\n",
       "    <tr>\n",
       "      <th>3</th>\n",
       "      <td>16120100160021008776</td>\n",
       "      <td>False</td>\n",
       "      <td>False</td>\n",
       "      <td>False</td>\n",
       "      <td>False</td>\n",
       "      <td>False</td>\n",
       "      <td>False</td>\n",
       "      <td>False</td>\n",
       "      <td>False</td>\n",
       "      <td>False</td>\n",
       "      <td>False</td>\n",
       "      <td>False</td>\n",
       "      <td>False</td>\n",
       "      <td>False</td>\n",
       "      <td>False</td>\n",
       "      <td>False</td>\n",
       "      <td>False</td>\n",
       "      <td>False</td>\n",
       "      <td>False</td>\n",
       "      <td>False</td>\n",
       "      <td>False</td>\n",
       "      <td>False</td>\n",
       "      <td>False</td>\n",
       "      <td>False</td>\n",
       "      <td>False</td>\n",
       "      <td>False</td>\n",
       "      <td>False</td>\n",
       "      <td>False</td>\n",
       "      <td>False</td>\n",
       "      <td>False</td>\n",
       "      <td>False</td>\n",
       "      <td>False</td>\n",
       "      <td>False</td>\n",
       "      <td>False</td>\n",
       "      <td>False</td>\n",
       "      <td>False</td>\n",
       "      <td>False</td>\n",
       "      <td>False</td>\n",
       "      <td>False</td>\n",
       "      <td>False</td>\n",
       "      <td>...</td>\n",
       "      <td>False</td>\n",
       "      <td>False</td>\n",
       "      <td>False</td>\n",
       "      <td>False</td>\n",
       "      <td>False</td>\n",
       "      <td>False</td>\n",
       "      <td>False</td>\n",
       "      <td>False</td>\n",
       "      <td>False</td>\n",
       "      <td>False</td>\n",
       "      <td>False</td>\n",
       "      <td>False</td>\n",
       "      <td>False</td>\n",
       "      <td>False</td>\n",
       "      <td>False</td>\n",
       "      <td>False</td>\n",
       "      <td>False</td>\n",
       "      <td>False</td>\n",
       "      <td>False</td>\n",
       "      <td>False</td>\n",
       "      <td>False</td>\n",
       "      <td>False</td>\n",
       "      <td>False</td>\n",
       "      <td>False</td>\n",
       "      <td>False</td>\n",
       "      <td>False</td>\n",
       "      <td>False</td>\n",
       "      <td>False</td>\n",
       "      <td>False</td>\n",
       "      <td>False</td>\n",
       "      <td>False</td>\n",
       "      <td>True</td>\n",
       "      <td>False</td>\n",
       "      <td>False</td>\n",
       "      <td>False</td>\n",
       "      <td>False</td>\n",
       "      <td>False</td>\n",
       "      <td>False</td>\n",
       "      <td>False</td>\n",
       "      <td>False</td>\n",
       "    </tr>\n",
       "    <tr>\n",
       "      <th>4</th>\n",
       "      <td>16120100160021008777</td>\n",
       "      <td>False</td>\n",
       "      <td>False</td>\n",
       "      <td>False</td>\n",
       "      <td>False</td>\n",
       "      <td>False</td>\n",
       "      <td>False</td>\n",
       "      <td>False</td>\n",
       "      <td>False</td>\n",
       "      <td>False</td>\n",
       "      <td>False</td>\n",
       "      <td>False</td>\n",
       "      <td>False</td>\n",
       "      <td>False</td>\n",
       "      <td>False</td>\n",
       "      <td>False</td>\n",
       "      <td>False</td>\n",
       "      <td>False</td>\n",
       "      <td>False</td>\n",
       "      <td>False</td>\n",
       "      <td>False</td>\n",
       "      <td>False</td>\n",
       "      <td>False</td>\n",
       "      <td>False</td>\n",
       "      <td>False</td>\n",
       "      <td>False</td>\n",
       "      <td>False</td>\n",
       "      <td>False</td>\n",
       "      <td>False</td>\n",
       "      <td>False</td>\n",
       "      <td>False</td>\n",
       "      <td>False</td>\n",
       "      <td>False</td>\n",
       "      <td>False</td>\n",
       "      <td>False</td>\n",
       "      <td>False</td>\n",
       "      <td>False</td>\n",
       "      <td>False</td>\n",
       "      <td>False</td>\n",
       "      <td>False</td>\n",
       "      <td>...</td>\n",
       "      <td>False</td>\n",
       "      <td>False</td>\n",
       "      <td>False</td>\n",
       "      <td>False</td>\n",
       "      <td>False</td>\n",
       "      <td>False</td>\n",
       "      <td>False</td>\n",
       "      <td>False</td>\n",
       "      <td>False</td>\n",
       "      <td>False</td>\n",
       "      <td>False</td>\n",
       "      <td>False</td>\n",
       "      <td>False</td>\n",
       "      <td>False</td>\n",
       "      <td>False</td>\n",
       "      <td>False</td>\n",
       "      <td>False</td>\n",
       "      <td>False</td>\n",
       "      <td>False</td>\n",
       "      <td>False</td>\n",
       "      <td>False</td>\n",
       "      <td>False</td>\n",
       "      <td>False</td>\n",
       "      <td>False</td>\n",
       "      <td>False</td>\n",
       "      <td>False</td>\n",
       "      <td>False</td>\n",
       "      <td>False</td>\n",
       "      <td>False</td>\n",
       "      <td>False</td>\n",
       "      <td>False</td>\n",
       "      <td>False</td>\n",
       "      <td>False</td>\n",
       "      <td>False</td>\n",
       "      <td>False</td>\n",
       "      <td>True</td>\n",
       "      <td>False</td>\n",
       "      <td>False</td>\n",
       "      <td>False</td>\n",
       "      <td>False</td>\n",
       "    </tr>\n",
       "    <tr>\n",
       "      <th>5</th>\n",
       "      <td>16120100160021008778</td>\n",
       "      <td>False</td>\n",
       "      <td>False</td>\n",
       "      <td>False</td>\n",
       "      <td>False</td>\n",
       "      <td>False</td>\n",
       "      <td>False</td>\n",
       "      <td>False</td>\n",
       "      <td>False</td>\n",
       "      <td>False</td>\n",
       "      <td>False</td>\n",
       "      <td>False</td>\n",
       "      <td>False</td>\n",
       "      <td>False</td>\n",
       "      <td>False</td>\n",
       "      <td>False</td>\n",
       "      <td>False</td>\n",
       "      <td>False</td>\n",
       "      <td>False</td>\n",
       "      <td>False</td>\n",
       "      <td>False</td>\n",
       "      <td>False</td>\n",
       "      <td>False</td>\n",
       "      <td>False</td>\n",
       "      <td>False</td>\n",
       "      <td>False</td>\n",
       "      <td>False</td>\n",
       "      <td>False</td>\n",
       "      <td>False</td>\n",
       "      <td>False</td>\n",
       "      <td>False</td>\n",
       "      <td>False</td>\n",
       "      <td>False</td>\n",
       "      <td>False</td>\n",
       "      <td>False</td>\n",
       "      <td>False</td>\n",
       "      <td>False</td>\n",
       "      <td>False</td>\n",
       "      <td>False</td>\n",
       "      <td>False</td>\n",
       "      <td>...</td>\n",
       "      <td>False</td>\n",
       "      <td>False</td>\n",
       "      <td>False</td>\n",
       "      <td>False</td>\n",
       "      <td>False</td>\n",
       "      <td>False</td>\n",
       "      <td>False</td>\n",
       "      <td>False</td>\n",
       "      <td>False</td>\n",
       "      <td>False</td>\n",
       "      <td>False</td>\n",
       "      <td>False</td>\n",
       "      <td>False</td>\n",
       "      <td>False</td>\n",
       "      <td>False</td>\n",
       "      <td>False</td>\n",
       "      <td>False</td>\n",
       "      <td>False</td>\n",
       "      <td>False</td>\n",
       "      <td>False</td>\n",
       "      <td>False</td>\n",
       "      <td>False</td>\n",
       "      <td>False</td>\n",
       "      <td>False</td>\n",
       "      <td>False</td>\n",
       "      <td>False</td>\n",
       "      <td>False</td>\n",
       "      <td>False</td>\n",
       "      <td>False</td>\n",
       "      <td>False</td>\n",
       "      <td>False</td>\n",
       "      <td>False</td>\n",
       "      <td>False</td>\n",
       "      <td>False</td>\n",
       "      <td>False</td>\n",
       "      <td>True</td>\n",
       "      <td>False</td>\n",
       "      <td>False</td>\n",
       "      <td>True</td>\n",
       "      <td>False</td>\n",
       "    </tr>\n",
       "    <tr>\n",
       "      <th>6</th>\n",
       "      <td>16120100160021008779</td>\n",
       "      <td>False</td>\n",
       "      <td>False</td>\n",
       "      <td>False</td>\n",
       "      <td>False</td>\n",
       "      <td>False</td>\n",
       "      <td>False</td>\n",
       "      <td>False</td>\n",
       "      <td>False</td>\n",
       "      <td>False</td>\n",
       "      <td>False</td>\n",
       "      <td>False</td>\n",
       "      <td>False</td>\n",
       "      <td>False</td>\n",
       "      <td>False</td>\n",
       "      <td>False</td>\n",
       "      <td>False</td>\n",
       "      <td>False</td>\n",
       "      <td>False</td>\n",
       "      <td>False</td>\n",
       "      <td>False</td>\n",
       "      <td>False</td>\n",
       "      <td>False</td>\n",
       "      <td>False</td>\n",
       "      <td>False</td>\n",
       "      <td>False</td>\n",
       "      <td>False</td>\n",
       "      <td>False</td>\n",
       "      <td>False</td>\n",
       "      <td>False</td>\n",
       "      <td>False</td>\n",
       "      <td>False</td>\n",
       "      <td>False</td>\n",
       "      <td>False</td>\n",
       "      <td>False</td>\n",
       "      <td>False</td>\n",
       "      <td>False</td>\n",
       "      <td>False</td>\n",
       "      <td>False</td>\n",
       "      <td>False</td>\n",
       "      <td>...</td>\n",
       "      <td>False</td>\n",
       "      <td>False</td>\n",
       "      <td>False</td>\n",
       "      <td>False</td>\n",
       "      <td>False</td>\n",
       "      <td>False</td>\n",
       "      <td>False</td>\n",
       "      <td>False</td>\n",
       "      <td>False</td>\n",
       "      <td>False</td>\n",
       "      <td>False</td>\n",
       "      <td>False</td>\n",
       "      <td>False</td>\n",
       "      <td>False</td>\n",
       "      <td>False</td>\n",
       "      <td>False</td>\n",
       "      <td>False</td>\n",
       "      <td>False</td>\n",
       "      <td>False</td>\n",
       "      <td>False</td>\n",
       "      <td>False</td>\n",
       "      <td>False</td>\n",
       "      <td>False</td>\n",
       "      <td>False</td>\n",
       "      <td>False</td>\n",
       "      <td>True</td>\n",
       "      <td>False</td>\n",
       "      <td>False</td>\n",
       "      <td>False</td>\n",
       "      <td>False</td>\n",
       "      <td>False</td>\n",
       "      <td>False</td>\n",
       "      <td>False</td>\n",
       "      <td>False</td>\n",
       "      <td>False</td>\n",
       "      <td>True</td>\n",
       "      <td>True</td>\n",
       "      <td>True</td>\n",
       "      <td>False</td>\n",
       "      <td>False</td>\n",
       "    </tr>\n",
       "    <tr>\n",
       "      <th>7</th>\n",
       "      <td>16120100160021008780</td>\n",
       "      <td>False</td>\n",
       "      <td>False</td>\n",
       "      <td>False</td>\n",
       "      <td>False</td>\n",
       "      <td>False</td>\n",
       "      <td>False</td>\n",
       "      <td>False</td>\n",
       "      <td>False</td>\n",
       "      <td>False</td>\n",
       "      <td>False</td>\n",
       "      <td>False</td>\n",
       "      <td>False</td>\n",
       "      <td>False</td>\n",
       "      <td>False</td>\n",
       "      <td>False</td>\n",
       "      <td>False</td>\n",
       "      <td>False</td>\n",
       "      <td>False</td>\n",
       "      <td>False</td>\n",
       "      <td>False</td>\n",
       "      <td>False</td>\n",
       "      <td>False</td>\n",
       "      <td>False</td>\n",
       "      <td>False</td>\n",
       "      <td>False</td>\n",
       "      <td>False</td>\n",
       "      <td>False</td>\n",
       "      <td>False</td>\n",
       "      <td>False</td>\n",
       "      <td>False</td>\n",
       "      <td>False</td>\n",
       "      <td>False</td>\n",
       "      <td>False</td>\n",
       "      <td>False</td>\n",
       "      <td>False</td>\n",
       "      <td>False</td>\n",
       "      <td>False</td>\n",
       "      <td>False</td>\n",
       "      <td>False</td>\n",
       "      <td>...</td>\n",
       "      <td>False</td>\n",
       "      <td>False</td>\n",
       "      <td>False</td>\n",
       "      <td>False</td>\n",
       "      <td>False</td>\n",
       "      <td>False</td>\n",
       "      <td>False</td>\n",
       "      <td>False</td>\n",
       "      <td>True</td>\n",
       "      <td>False</td>\n",
       "      <td>False</td>\n",
       "      <td>False</td>\n",
       "      <td>False</td>\n",
       "      <td>False</td>\n",
       "      <td>False</td>\n",
       "      <td>False</td>\n",
       "      <td>False</td>\n",
       "      <td>False</td>\n",
       "      <td>False</td>\n",
       "      <td>False</td>\n",
       "      <td>False</td>\n",
       "      <td>False</td>\n",
       "      <td>False</td>\n",
       "      <td>False</td>\n",
       "      <td>False</td>\n",
       "      <td>False</td>\n",
       "      <td>False</td>\n",
       "      <td>False</td>\n",
       "      <td>False</td>\n",
       "      <td>False</td>\n",
       "      <td>False</td>\n",
       "      <td>False</td>\n",
       "      <td>False</td>\n",
       "      <td>False</td>\n",
       "      <td>False</td>\n",
       "      <td>False</td>\n",
       "      <td>False</td>\n",
       "      <td>False</td>\n",
       "      <td>False</td>\n",
       "      <td>False</td>\n",
       "    </tr>\n",
       "    <tr>\n",
       "      <th>8</th>\n",
       "      <td>16120100160021008781</td>\n",
       "      <td>False</td>\n",
       "      <td>False</td>\n",
       "      <td>False</td>\n",
       "      <td>False</td>\n",
       "      <td>False</td>\n",
       "      <td>False</td>\n",
       "      <td>False</td>\n",
       "      <td>False</td>\n",
       "      <td>False</td>\n",
       "      <td>False</td>\n",
       "      <td>False</td>\n",
       "      <td>False</td>\n",
       "      <td>False</td>\n",
       "      <td>False</td>\n",
       "      <td>False</td>\n",
       "      <td>False</td>\n",
       "      <td>False</td>\n",
       "      <td>False</td>\n",
       "      <td>False</td>\n",
       "      <td>False</td>\n",
       "      <td>False</td>\n",
       "      <td>False</td>\n",
       "      <td>False</td>\n",
       "      <td>False</td>\n",
       "      <td>False</td>\n",
       "      <td>False</td>\n",
       "      <td>False</td>\n",
       "      <td>False</td>\n",
       "      <td>False</td>\n",
       "      <td>False</td>\n",
       "      <td>False</td>\n",
       "      <td>False</td>\n",
       "      <td>False</td>\n",
       "      <td>False</td>\n",
       "      <td>False</td>\n",
       "      <td>False</td>\n",
       "      <td>False</td>\n",
       "      <td>False</td>\n",
       "      <td>False</td>\n",
       "      <td>...</td>\n",
       "      <td>False</td>\n",
       "      <td>False</td>\n",
       "      <td>False</td>\n",
       "      <td>False</td>\n",
       "      <td>False</td>\n",
       "      <td>False</td>\n",
       "      <td>False</td>\n",
       "      <td>False</td>\n",
       "      <td>True</td>\n",
       "      <td>False</td>\n",
       "      <td>False</td>\n",
       "      <td>False</td>\n",
       "      <td>False</td>\n",
       "      <td>False</td>\n",
       "      <td>False</td>\n",
       "      <td>False</td>\n",
       "      <td>False</td>\n",
       "      <td>False</td>\n",
       "      <td>False</td>\n",
       "      <td>False</td>\n",
       "      <td>False</td>\n",
       "      <td>False</td>\n",
       "      <td>False</td>\n",
       "      <td>False</td>\n",
       "      <td>False</td>\n",
       "      <td>False</td>\n",
       "      <td>False</td>\n",
       "      <td>False</td>\n",
       "      <td>False</td>\n",
       "      <td>False</td>\n",
       "      <td>False</td>\n",
       "      <td>False</td>\n",
       "      <td>False</td>\n",
       "      <td>True</td>\n",
       "      <td>True</td>\n",
       "      <td>False</td>\n",
       "      <td>True</td>\n",
       "      <td>False</td>\n",
       "      <td>False</td>\n",
       "      <td>False</td>\n",
       "    </tr>\n",
       "    <tr>\n",
       "      <th>9</th>\n",
       "      <td>16120100160021008782</td>\n",
       "      <td>False</td>\n",
       "      <td>False</td>\n",
       "      <td>False</td>\n",
       "      <td>False</td>\n",
       "      <td>False</td>\n",
       "      <td>False</td>\n",
       "      <td>False</td>\n",
       "      <td>False</td>\n",
       "      <td>False</td>\n",
       "      <td>False</td>\n",
       "      <td>False</td>\n",
       "      <td>False</td>\n",
       "      <td>False</td>\n",
       "      <td>False</td>\n",
       "      <td>False</td>\n",
       "      <td>False</td>\n",
       "      <td>False</td>\n",
       "      <td>False</td>\n",
       "      <td>False</td>\n",
       "      <td>False</td>\n",
       "      <td>False</td>\n",
       "      <td>False</td>\n",
       "      <td>False</td>\n",
       "      <td>False</td>\n",
       "      <td>False</td>\n",
       "      <td>False</td>\n",
       "      <td>False</td>\n",
       "      <td>False</td>\n",
       "      <td>False</td>\n",
       "      <td>False</td>\n",
       "      <td>False</td>\n",
       "      <td>False</td>\n",
       "      <td>False</td>\n",
       "      <td>False</td>\n",
       "      <td>False</td>\n",
       "      <td>False</td>\n",
       "      <td>False</td>\n",
       "      <td>False</td>\n",
       "      <td>False</td>\n",
       "      <td>...</td>\n",
       "      <td>False</td>\n",
       "      <td>False</td>\n",
       "      <td>False</td>\n",
       "      <td>False</td>\n",
       "      <td>False</td>\n",
       "      <td>False</td>\n",
       "      <td>False</td>\n",
       "      <td>False</td>\n",
       "      <td>False</td>\n",
       "      <td>True</td>\n",
       "      <td>False</td>\n",
       "      <td>False</td>\n",
       "      <td>False</td>\n",
       "      <td>False</td>\n",
       "      <td>False</td>\n",
       "      <td>False</td>\n",
       "      <td>False</td>\n",
       "      <td>False</td>\n",
       "      <td>False</td>\n",
       "      <td>False</td>\n",
       "      <td>False</td>\n",
       "      <td>False</td>\n",
       "      <td>False</td>\n",
       "      <td>False</td>\n",
       "      <td>False</td>\n",
       "      <td>False</td>\n",
       "      <td>False</td>\n",
       "      <td>False</td>\n",
       "      <td>False</td>\n",
       "      <td>False</td>\n",
       "      <td>False</td>\n",
       "      <td>False</td>\n",
       "      <td>False</td>\n",
       "      <td>False</td>\n",
       "      <td>False</td>\n",
       "      <td>True</td>\n",
       "      <td>False</td>\n",
       "      <td>False</td>\n",
       "      <td>False</td>\n",
       "      <td>False</td>\n",
       "    </tr>\n",
       "    <tr>\n",
       "      <th>10</th>\n",
       "      <td>16120100160021008783</td>\n",
       "      <td>False</td>\n",
       "      <td>False</td>\n",
       "      <td>False</td>\n",
       "      <td>False</td>\n",
       "      <td>False</td>\n",
       "      <td>False</td>\n",
       "      <td>False</td>\n",
       "      <td>False</td>\n",
       "      <td>False</td>\n",
       "      <td>False</td>\n",
       "      <td>False</td>\n",
       "      <td>False</td>\n",
       "      <td>False</td>\n",
       "      <td>False</td>\n",
       "      <td>False</td>\n",
       "      <td>False</td>\n",
       "      <td>False</td>\n",
       "      <td>False</td>\n",
       "      <td>False</td>\n",
       "      <td>False</td>\n",
       "      <td>False</td>\n",
       "      <td>False</td>\n",
       "      <td>False</td>\n",
       "      <td>False</td>\n",
       "      <td>False</td>\n",
       "      <td>False</td>\n",
       "      <td>False</td>\n",
       "      <td>False</td>\n",
       "      <td>False</td>\n",
       "      <td>False</td>\n",
       "      <td>False</td>\n",
       "      <td>False</td>\n",
       "      <td>False</td>\n",
       "      <td>False</td>\n",
       "      <td>False</td>\n",
       "      <td>False</td>\n",
       "      <td>False</td>\n",
       "      <td>False</td>\n",
       "      <td>False</td>\n",
       "      <td>...</td>\n",
       "      <td>False</td>\n",
       "      <td>False</td>\n",
       "      <td>False</td>\n",
       "      <td>False</td>\n",
       "      <td>False</td>\n",
       "      <td>False</td>\n",
       "      <td>False</td>\n",
       "      <td>False</td>\n",
       "      <td>False</td>\n",
       "      <td>False</td>\n",
       "      <td>False</td>\n",
       "      <td>False</td>\n",
       "      <td>False</td>\n",
       "      <td>False</td>\n",
       "      <td>False</td>\n",
       "      <td>False</td>\n",
       "      <td>False</td>\n",
       "      <td>False</td>\n",
       "      <td>False</td>\n",
       "      <td>False</td>\n",
       "      <td>False</td>\n",
       "      <td>False</td>\n",
       "      <td>False</td>\n",
       "      <td>False</td>\n",
       "      <td>False</td>\n",
       "      <td>True</td>\n",
       "      <td>False</td>\n",
       "      <td>False</td>\n",
       "      <td>False</td>\n",
       "      <td>False</td>\n",
       "      <td>False</td>\n",
       "      <td>False</td>\n",
       "      <td>False</td>\n",
       "      <td>False</td>\n",
       "      <td>True</td>\n",
       "      <td>False</td>\n",
       "      <td>False</td>\n",
       "      <td>True</td>\n",
       "      <td>False</td>\n",
       "      <td>False</td>\n",
       "    </tr>\n",
       "    <tr>\n",
       "      <th>11</th>\n",
       "      <td>16120100160021008784</td>\n",
       "      <td>False</td>\n",
       "      <td>False</td>\n",
       "      <td>False</td>\n",
       "      <td>False</td>\n",
       "      <td>False</td>\n",
       "      <td>False</td>\n",
       "      <td>False</td>\n",
       "      <td>False</td>\n",
       "      <td>False</td>\n",
       "      <td>False</td>\n",
       "      <td>False</td>\n",
       "      <td>False</td>\n",
       "      <td>False</td>\n",
       "      <td>False</td>\n",
       "      <td>False</td>\n",
       "      <td>False</td>\n",
       "      <td>False</td>\n",
       "      <td>False</td>\n",
       "      <td>False</td>\n",
       "      <td>False</td>\n",
       "      <td>False</td>\n",
       "      <td>False</td>\n",
       "      <td>False</td>\n",
       "      <td>False</td>\n",
       "      <td>False</td>\n",
       "      <td>False</td>\n",
       "      <td>False</td>\n",
       "      <td>False</td>\n",
       "      <td>False</td>\n",
       "      <td>False</td>\n",
       "      <td>False</td>\n",
       "      <td>False</td>\n",
       "      <td>False</td>\n",
       "      <td>False</td>\n",
       "      <td>False</td>\n",
       "      <td>False</td>\n",
       "      <td>False</td>\n",
       "      <td>False</td>\n",
       "      <td>False</td>\n",
       "      <td>...</td>\n",
       "      <td>False</td>\n",
       "      <td>False</td>\n",
       "      <td>False</td>\n",
       "      <td>False</td>\n",
       "      <td>False</td>\n",
       "      <td>False</td>\n",
       "      <td>False</td>\n",
       "      <td>False</td>\n",
       "      <td>False</td>\n",
       "      <td>False</td>\n",
       "      <td>False</td>\n",
       "      <td>False</td>\n",
       "      <td>False</td>\n",
       "      <td>False</td>\n",
       "      <td>False</td>\n",
       "      <td>False</td>\n",
       "      <td>False</td>\n",
       "      <td>False</td>\n",
       "      <td>False</td>\n",
       "      <td>False</td>\n",
       "      <td>False</td>\n",
       "      <td>False</td>\n",
       "      <td>False</td>\n",
       "      <td>False</td>\n",
       "      <td>False</td>\n",
       "      <td>False</td>\n",
       "      <td>False</td>\n",
       "      <td>False</td>\n",
       "      <td>False</td>\n",
       "      <td>False</td>\n",
       "      <td>False</td>\n",
       "      <td>False</td>\n",
       "      <td>False</td>\n",
       "      <td>False</td>\n",
       "      <td>False</td>\n",
       "      <td>False</td>\n",
       "      <td>True</td>\n",
       "      <td>False</td>\n",
       "      <td>False</td>\n",
       "      <td>False</td>\n",
       "    </tr>\n",
       "    <tr>\n",
       "      <th>12</th>\n",
       "      <td>16120100160021008785</td>\n",
       "      <td>False</td>\n",
       "      <td>False</td>\n",
       "      <td>False</td>\n",
       "      <td>False</td>\n",
       "      <td>False</td>\n",
       "      <td>False</td>\n",
       "      <td>False</td>\n",
       "      <td>False</td>\n",
       "      <td>False</td>\n",
       "      <td>False</td>\n",
       "      <td>False</td>\n",
       "      <td>False</td>\n",
       "      <td>False</td>\n",
       "      <td>False</td>\n",
       "      <td>False</td>\n",
       "      <td>False</td>\n",
       "      <td>False</td>\n",
       "      <td>False</td>\n",
       "      <td>False</td>\n",
       "      <td>False</td>\n",
       "      <td>False</td>\n",
       "      <td>False</td>\n",
       "      <td>False</td>\n",
       "      <td>False</td>\n",
       "      <td>False</td>\n",
       "      <td>False</td>\n",
       "      <td>False</td>\n",
       "      <td>False</td>\n",
       "      <td>False</td>\n",
       "      <td>False</td>\n",
       "      <td>False</td>\n",
       "      <td>False</td>\n",
       "      <td>False</td>\n",
       "      <td>False</td>\n",
       "      <td>False</td>\n",
       "      <td>False</td>\n",
       "      <td>False</td>\n",
       "      <td>False</td>\n",
       "      <td>False</td>\n",
       "      <td>...</td>\n",
       "      <td>False</td>\n",
       "      <td>False</td>\n",
       "      <td>False</td>\n",
       "      <td>False</td>\n",
       "      <td>False</td>\n",
       "      <td>False</td>\n",
       "      <td>False</td>\n",
       "      <td>False</td>\n",
       "      <td>False</td>\n",
       "      <td>False</td>\n",
       "      <td>False</td>\n",
       "      <td>False</td>\n",
       "      <td>False</td>\n",
       "      <td>False</td>\n",
       "      <td>False</td>\n",
       "      <td>False</td>\n",
       "      <td>False</td>\n",
       "      <td>False</td>\n",
       "      <td>False</td>\n",
       "      <td>False</td>\n",
       "      <td>False</td>\n",
       "      <td>False</td>\n",
       "      <td>False</td>\n",
       "      <td>False</td>\n",
       "      <td>False</td>\n",
       "      <td>False</td>\n",
       "      <td>False</td>\n",
       "      <td>False</td>\n",
       "      <td>False</td>\n",
       "      <td>False</td>\n",
       "      <td>False</td>\n",
       "      <td>False</td>\n",
       "      <td>True</td>\n",
       "      <td>False</td>\n",
       "      <td>False</td>\n",
       "      <td>True</td>\n",
       "      <td>False</td>\n",
       "      <td>False</td>\n",
       "      <td>False</td>\n",
       "      <td>False</td>\n",
       "    </tr>\n",
       "    <tr>\n",
       "      <th>13</th>\n",
       "      <td>16120100160021008786</td>\n",
       "      <td>False</td>\n",
       "      <td>False</td>\n",
       "      <td>False</td>\n",
       "      <td>False</td>\n",
       "      <td>False</td>\n",
       "      <td>False</td>\n",
       "      <td>False</td>\n",
       "      <td>False</td>\n",
       "      <td>False</td>\n",
       "      <td>False</td>\n",
       "      <td>False</td>\n",
       "      <td>False</td>\n",
       "      <td>False</td>\n",
       "      <td>False</td>\n",
       "      <td>False</td>\n",
       "      <td>False</td>\n",
       "      <td>False</td>\n",
       "      <td>False</td>\n",
       "      <td>False</td>\n",
       "      <td>False</td>\n",
       "      <td>False</td>\n",
       "      <td>False</td>\n",
       "      <td>False</td>\n",
       "      <td>False</td>\n",
       "      <td>False</td>\n",
       "      <td>False</td>\n",
       "      <td>False</td>\n",
       "      <td>False</td>\n",
       "      <td>False</td>\n",
       "      <td>False</td>\n",
       "      <td>False</td>\n",
       "      <td>False</td>\n",
       "      <td>False</td>\n",
       "      <td>False</td>\n",
       "      <td>False</td>\n",
       "      <td>False</td>\n",
       "      <td>False</td>\n",
       "      <td>False</td>\n",
       "      <td>False</td>\n",
       "      <td>...</td>\n",
       "      <td>False</td>\n",
       "      <td>False</td>\n",
       "      <td>False</td>\n",
       "      <td>False</td>\n",
       "      <td>False</td>\n",
       "      <td>False</td>\n",
       "      <td>False</td>\n",
       "      <td>False</td>\n",
       "      <td>False</td>\n",
       "      <td>False</td>\n",
       "      <td>False</td>\n",
       "      <td>False</td>\n",
       "      <td>False</td>\n",
       "      <td>False</td>\n",
       "      <td>False</td>\n",
       "      <td>False</td>\n",
       "      <td>False</td>\n",
       "      <td>False</td>\n",
       "      <td>False</td>\n",
       "      <td>False</td>\n",
       "      <td>False</td>\n",
       "      <td>False</td>\n",
       "      <td>False</td>\n",
       "      <td>False</td>\n",
       "      <td>False</td>\n",
       "      <td>False</td>\n",
       "      <td>False</td>\n",
       "      <td>False</td>\n",
       "      <td>False</td>\n",
       "      <td>False</td>\n",
       "      <td>False</td>\n",
       "      <td>False</td>\n",
       "      <td>False</td>\n",
       "      <td>False</td>\n",
       "      <td>False</td>\n",
       "      <td>True</td>\n",
       "      <td>True</td>\n",
       "      <td>False</td>\n",
       "      <td>False</td>\n",
       "      <td>False</td>\n",
       "    </tr>\n",
       "    <tr>\n",
       "      <th>14</th>\n",
       "      <td>16120100160021008787</td>\n",
       "      <td>False</td>\n",
       "      <td>False</td>\n",
       "      <td>False</td>\n",
       "      <td>False</td>\n",
       "      <td>False</td>\n",
       "      <td>False</td>\n",
       "      <td>False</td>\n",
       "      <td>False</td>\n",
       "      <td>False</td>\n",
       "      <td>False</td>\n",
       "      <td>False</td>\n",
       "      <td>False</td>\n",
       "      <td>False</td>\n",
       "      <td>False</td>\n",
       "      <td>False</td>\n",
       "      <td>False</td>\n",
       "      <td>False</td>\n",
       "      <td>False</td>\n",
       "      <td>False</td>\n",
       "      <td>False</td>\n",
       "      <td>False</td>\n",
       "      <td>False</td>\n",
       "      <td>False</td>\n",
       "      <td>False</td>\n",
       "      <td>False</td>\n",
       "      <td>False</td>\n",
       "      <td>False</td>\n",
       "      <td>False</td>\n",
       "      <td>False</td>\n",
       "      <td>False</td>\n",
       "      <td>False</td>\n",
       "      <td>False</td>\n",
       "      <td>False</td>\n",
       "      <td>False</td>\n",
       "      <td>False</td>\n",
       "      <td>False</td>\n",
       "      <td>False</td>\n",
       "      <td>False</td>\n",
       "      <td>False</td>\n",
       "      <td>...</td>\n",
       "      <td>False</td>\n",
       "      <td>False</td>\n",
       "      <td>False</td>\n",
       "      <td>False</td>\n",
       "      <td>False</td>\n",
       "      <td>False</td>\n",
       "      <td>False</td>\n",
       "      <td>False</td>\n",
       "      <td>False</td>\n",
       "      <td>False</td>\n",
       "      <td>False</td>\n",
       "      <td>False</td>\n",
       "      <td>False</td>\n",
       "      <td>False</td>\n",
       "      <td>False</td>\n",
       "      <td>False</td>\n",
       "      <td>False</td>\n",
       "      <td>False</td>\n",
       "      <td>False</td>\n",
       "      <td>False</td>\n",
       "      <td>False</td>\n",
       "      <td>False</td>\n",
       "      <td>False</td>\n",
       "      <td>False</td>\n",
       "      <td>False</td>\n",
       "      <td>False</td>\n",
       "      <td>False</td>\n",
       "      <td>False</td>\n",
       "      <td>False</td>\n",
       "      <td>False</td>\n",
       "      <td>False</td>\n",
       "      <td>False</td>\n",
       "      <td>False</td>\n",
       "      <td>False</td>\n",
       "      <td>False</td>\n",
       "      <td>True</td>\n",
       "      <td>False</td>\n",
       "      <td>False</td>\n",
       "      <td>False</td>\n",
       "      <td>False</td>\n",
       "    </tr>\n",
       "    <tr>\n",
       "      <th>15</th>\n",
       "      <td>16120100160021008788</td>\n",
       "      <td>False</td>\n",
       "      <td>False</td>\n",
       "      <td>False</td>\n",
       "      <td>False</td>\n",
       "      <td>False</td>\n",
       "      <td>False</td>\n",
       "      <td>False</td>\n",
       "      <td>False</td>\n",
       "      <td>False</td>\n",
       "      <td>False</td>\n",
       "      <td>False</td>\n",
       "      <td>False</td>\n",
       "      <td>False</td>\n",
       "      <td>False</td>\n",
       "      <td>False</td>\n",
       "      <td>False</td>\n",
       "      <td>False</td>\n",
       "      <td>False</td>\n",
       "      <td>False</td>\n",
       "      <td>False</td>\n",
       "      <td>False</td>\n",
       "      <td>False</td>\n",
       "      <td>False</td>\n",
       "      <td>False</td>\n",
       "      <td>False</td>\n",
       "      <td>False</td>\n",
       "      <td>False</td>\n",
       "      <td>False</td>\n",
       "      <td>False</td>\n",
       "      <td>False</td>\n",
       "      <td>False</td>\n",
       "      <td>False</td>\n",
       "      <td>False</td>\n",
       "      <td>False</td>\n",
       "      <td>False</td>\n",
       "      <td>False</td>\n",
       "      <td>False</td>\n",
       "      <td>False</td>\n",
       "      <td>False</td>\n",
       "      <td>...</td>\n",
       "      <td>False</td>\n",
       "      <td>False</td>\n",
       "      <td>False</td>\n",
       "      <td>False</td>\n",
       "      <td>False</td>\n",
       "      <td>False</td>\n",
       "      <td>False</td>\n",
       "      <td>False</td>\n",
       "      <td>False</td>\n",
       "      <td>False</td>\n",
       "      <td>False</td>\n",
       "      <td>False</td>\n",
       "      <td>False</td>\n",
       "      <td>False</td>\n",
       "      <td>False</td>\n",
       "      <td>False</td>\n",
       "      <td>False</td>\n",
       "      <td>False</td>\n",
       "      <td>False</td>\n",
       "      <td>False</td>\n",
       "      <td>False</td>\n",
       "      <td>False</td>\n",
       "      <td>False</td>\n",
       "      <td>False</td>\n",
       "      <td>False</td>\n",
       "      <td>False</td>\n",
       "      <td>False</td>\n",
       "      <td>False</td>\n",
       "      <td>False</td>\n",
       "      <td>False</td>\n",
       "      <td>False</td>\n",
       "      <td>True</td>\n",
       "      <td>False</td>\n",
       "      <td>False</td>\n",
       "      <td>True</td>\n",
       "      <td>False</td>\n",
       "      <td>False</td>\n",
       "      <td>False</td>\n",
       "      <td>True</td>\n",
       "      <td>False</td>\n",
       "    </tr>\n",
       "    <tr>\n",
       "      <th>16</th>\n",
       "      <td>16120100160021008789</td>\n",
       "      <td>False</td>\n",
       "      <td>False</td>\n",
       "      <td>False</td>\n",
       "      <td>False</td>\n",
       "      <td>False</td>\n",
       "      <td>False</td>\n",
       "      <td>False</td>\n",
       "      <td>False</td>\n",
       "      <td>False</td>\n",
       "      <td>False</td>\n",
       "      <td>False</td>\n",
       "      <td>False</td>\n",
       "      <td>False</td>\n",
       "      <td>False</td>\n",
       "      <td>False</td>\n",
       "      <td>False</td>\n",
       "      <td>False</td>\n",
       "      <td>False</td>\n",
       "      <td>False</td>\n",
       "      <td>False</td>\n",
       "      <td>False</td>\n",
       "      <td>False</td>\n",
       "      <td>False</td>\n",
       "      <td>False</td>\n",
       "      <td>False</td>\n",
       "      <td>False</td>\n",
       "      <td>False</td>\n",
       "      <td>False</td>\n",
       "      <td>False</td>\n",
       "      <td>False</td>\n",
       "      <td>False</td>\n",
       "      <td>False</td>\n",
       "      <td>False</td>\n",
       "      <td>False</td>\n",
       "      <td>False</td>\n",
       "      <td>False</td>\n",
       "      <td>False</td>\n",
       "      <td>False</td>\n",
       "      <td>False</td>\n",
       "      <td>...</td>\n",
       "      <td>False</td>\n",
       "      <td>False</td>\n",
       "      <td>False</td>\n",
       "      <td>False</td>\n",
       "      <td>False</td>\n",
       "      <td>False</td>\n",
       "      <td>False</td>\n",
       "      <td>False</td>\n",
       "      <td>False</td>\n",
       "      <td>False</td>\n",
       "      <td>False</td>\n",
       "      <td>False</td>\n",
       "      <td>False</td>\n",
       "      <td>False</td>\n",
       "      <td>False</td>\n",
       "      <td>False</td>\n",
       "      <td>False</td>\n",
       "      <td>False</td>\n",
       "      <td>False</td>\n",
       "      <td>False</td>\n",
       "      <td>False</td>\n",
       "      <td>False</td>\n",
       "      <td>False</td>\n",
       "      <td>False</td>\n",
       "      <td>False</td>\n",
       "      <td>False</td>\n",
       "      <td>False</td>\n",
       "      <td>False</td>\n",
       "      <td>False</td>\n",
       "      <td>False</td>\n",
       "      <td>False</td>\n",
       "      <td>False</td>\n",
       "      <td>False</td>\n",
       "      <td>False</td>\n",
       "      <td>False</td>\n",
       "      <td>False</td>\n",
       "      <td>False</td>\n",
       "      <td>False</td>\n",
       "      <td>True</td>\n",
       "      <td>False</td>\n",
       "    </tr>\n",
       "    <tr>\n",
       "      <th>17</th>\n",
       "      <td>16120100160021008790</td>\n",
       "      <td>False</td>\n",
       "      <td>False</td>\n",
       "      <td>False</td>\n",
       "      <td>False</td>\n",
       "      <td>False</td>\n",
       "      <td>False</td>\n",
       "      <td>False</td>\n",
       "      <td>False</td>\n",
       "      <td>False</td>\n",
       "      <td>False</td>\n",
       "      <td>False</td>\n",
       "      <td>False</td>\n",
       "      <td>False</td>\n",
       "      <td>False</td>\n",
       "      <td>False</td>\n",
       "      <td>False</td>\n",
       "      <td>False</td>\n",
       "      <td>False</td>\n",
       "      <td>False</td>\n",
       "      <td>False</td>\n",
       "      <td>False</td>\n",
       "      <td>False</td>\n",
       "      <td>False</td>\n",
       "      <td>False</td>\n",
       "      <td>False</td>\n",
       "      <td>False</td>\n",
       "      <td>False</td>\n",
       "      <td>False</td>\n",
       "      <td>False</td>\n",
       "      <td>False</td>\n",
       "      <td>False</td>\n",
       "      <td>False</td>\n",
       "      <td>False</td>\n",
       "      <td>False</td>\n",
       "      <td>False</td>\n",
       "      <td>False</td>\n",
       "      <td>False</td>\n",
       "      <td>False</td>\n",
       "      <td>False</td>\n",
       "      <td>...</td>\n",
       "      <td>False</td>\n",
       "      <td>False</td>\n",
       "      <td>False</td>\n",
       "      <td>False</td>\n",
       "      <td>False</td>\n",
       "      <td>False</td>\n",
       "      <td>False</td>\n",
       "      <td>False</td>\n",
       "      <td>False</td>\n",
       "      <td>False</td>\n",
       "      <td>False</td>\n",
       "      <td>False</td>\n",
       "      <td>False</td>\n",
       "      <td>False</td>\n",
       "      <td>False</td>\n",
       "      <td>False</td>\n",
       "      <td>False</td>\n",
       "      <td>False</td>\n",
       "      <td>False</td>\n",
       "      <td>False</td>\n",
       "      <td>False</td>\n",
       "      <td>False</td>\n",
       "      <td>False</td>\n",
       "      <td>False</td>\n",
       "      <td>False</td>\n",
       "      <td>False</td>\n",
       "      <td>False</td>\n",
       "      <td>False</td>\n",
       "      <td>False</td>\n",
       "      <td>False</td>\n",
       "      <td>False</td>\n",
       "      <td>False</td>\n",
       "      <td>True</td>\n",
       "      <td>False</td>\n",
       "      <td>False</td>\n",
       "      <td>True</td>\n",
       "      <td>True</td>\n",
       "      <td>False</td>\n",
       "      <td>False</td>\n",
       "      <td>False</td>\n",
       "    </tr>\n",
       "    <tr>\n",
       "      <th>18</th>\n",
       "      <td>16120100160021008791</td>\n",
       "      <td>False</td>\n",
       "      <td>False</td>\n",
       "      <td>False</td>\n",
       "      <td>False</td>\n",
       "      <td>False</td>\n",
       "      <td>False</td>\n",
       "      <td>False</td>\n",
       "      <td>False</td>\n",
       "      <td>False</td>\n",
       "      <td>False</td>\n",
       "      <td>False</td>\n",
       "      <td>False</td>\n",
       "      <td>False</td>\n",
       "      <td>False</td>\n",
       "      <td>False</td>\n",
       "      <td>False</td>\n",
       "      <td>False</td>\n",
       "      <td>False</td>\n",
       "      <td>False</td>\n",
       "      <td>False</td>\n",
       "      <td>False</td>\n",
       "      <td>False</td>\n",
       "      <td>False</td>\n",
       "      <td>False</td>\n",
       "      <td>False</td>\n",
       "      <td>False</td>\n",
       "      <td>False</td>\n",
       "      <td>False</td>\n",
       "      <td>False</td>\n",
       "      <td>False</td>\n",
       "      <td>False</td>\n",
       "      <td>False</td>\n",
       "      <td>False</td>\n",
       "      <td>False</td>\n",
       "      <td>False</td>\n",
       "      <td>False</td>\n",
       "      <td>False</td>\n",
       "      <td>False</td>\n",
       "      <td>False</td>\n",
       "      <td>...</td>\n",
       "      <td>False</td>\n",
       "      <td>False</td>\n",
       "      <td>False</td>\n",
       "      <td>False</td>\n",
       "      <td>False</td>\n",
       "      <td>False</td>\n",
       "      <td>False</td>\n",
       "      <td>False</td>\n",
       "      <td>False</td>\n",
       "      <td>False</td>\n",
       "      <td>False</td>\n",
       "      <td>False</td>\n",
       "      <td>False</td>\n",
       "      <td>False</td>\n",
       "      <td>False</td>\n",
       "      <td>False</td>\n",
       "      <td>False</td>\n",
       "      <td>False</td>\n",
       "      <td>False</td>\n",
       "      <td>False</td>\n",
       "      <td>False</td>\n",
       "      <td>False</td>\n",
       "      <td>False</td>\n",
       "      <td>False</td>\n",
       "      <td>False</td>\n",
       "      <td>False</td>\n",
       "      <td>False</td>\n",
       "      <td>False</td>\n",
       "      <td>False</td>\n",
       "      <td>False</td>\n",
       "      <td>False</td>\n",
       "      <td>False</td>\n",
       "      <td>False</td>\n",
       "      <td>False</td>\n",
       "      <td>False</td>\n",
       "      <td>True</td>\n",
       "      <td>False</td>\n",
       "      <td>False</td>\n",
       "      <td>False</td>\n",
       "      <td>False</td>\n",
       "    </tr>\n",
       "    <tr>\n",
       "      <th>19</th>\n",
       "      <td>16120100160021008792</td>\n",
       "      <td>False</td>\n",
       "      <td>False</td>\n",
       "      <td>False</td>\n",
       "      <td>False</td>\n",
       "      <td>False</td>\n",
       "      <td>False</td>\n",
       "      <td>False</td>\n",
       "      <td>False</td>\n",
       "      <td>False</td>\n",
       "      <td>False</td>\n",
       "      <td>False</td>\n",
       "      <td>False</td>\n",
       "      <td>False</td>\n",
       "      <td>False</td>\n",
       "      <td>False</td>\n",
       "      <td>False</td>\n",
       "      <td>False</td>\n",
       "      <td>False</td>\n",
       "      <td>False</td>\n",
       "      <td>False</td>\n",
       "      <td>False</td>\n",
       "      <td>False</td>\n",
       "      <td>False</td>\n",
       "      <td>False</td>\n",
       "      <td>False</td>\n",
       "      <td>False</td>\n",
       "      <td>False</td>\n",
       "      <td>False</td>\n",
       "      <td>False</td>\n",
       "      <td>False</td>\n",
       "      <td>False</td>\n",
       "      <td>False</td>\n",
       "      <td>False</td>\n",
       "      <td>False</td>\n",
       "      <td>False</td>\n",
       "      <td>False</td>\n",
       "      <td>False</td>\n",
       "      <td>False</td>\n",
       "      <td>False</td>\n",
       "      <td>...</td>\n",
       "      <td>False</td>\n",
       "      <td>False</td>\n",
       "      <td>False</td>\n",
       "      <td>False</td>\n",
       "      <td>False</td>\n",
       "      <td>False</td>\n",
       "      <td>False</td>\n",
       "      <td>False</td>\n",
       "      <td>False</td>\n",
       "      <td>False</td>\n",
       "      <td>False</td>\n",
       "      <td>False</td>\n",
       "      <td>False</td>\n",
       "      <td>False</td>\n",
       "      <td>False</td>\n",
       "      <td>False</td>\n",
       "      <td>False</td>\n",
       "      <td>False</td>\n",
       "      <td>False</td>\n",
       "      <td>False</td>\n",
       "      <td>False</td>\n",
       "      <td>False</td>\n",
       "      <td>False</td>\n",
       "      <td>False</td>\n",
       "      <td>False</td>\n",
       "      <td>False</td>\n",
       "      <td>False</td>\n",
       "      <td>False</td>\n",
       "      <td>False</td>\n",
       "      <td>False</td>\n",
       "      <td>False</td>\n",
       "      <td>False</td>\n",
       "      <td>False</td>\n",
       "      <td>False</td>\n",
       "      <td>False</td>\n",
       "      <td>True</td>\n",
       "      <td>True</td>\n",
       "      <td>False</td>\n",
       "      <td>False</td>\n",
       "      <td>False</td>\n",
       "    </tr>\n",
       "  </tbody>\n",
       "</table>\n",
       "<p>20 rows × 157 columns</p>\n",
       "</div>"
      ],
      "text/plain": [
       "            ID_Transacao  ...  0999:UNSCANNED ITEMS\n",
       "0   16120100160021008773  ...                 False\n",
       "1   16120100160021008774  ...                 False\n",
       "2   16120100160021008775  ...                 False\n",
       "3   16120100160021008776  ...                 False\n",
       "4   16120100160021008777  ...                 False\n",
       "5   16120100160021008778  ...                 False\n",
       "6   16120100160021008779  ...                 False\n",
       "7   16120100160021008780  ...                 False\n",
       "8   16120100160021008781  ...                 False\n",
       "9   16120100160021008782  ...                 False\n",
       "10  16120100160021008783  ...                 False\n",
       "11  16120100160021008784  ...                 False\n",
       "12  16120100160021008785  ...                 False\n",
       "13  16120100160021008786  ...                 False\n",
       "14  16120100160021008787  ...                 False\n",
       "15  16120100160021008788  ...                 False\n",
       "16  16120100160021008789  ...                 False\n",
       "17  16120100160021008790  ...                 False\n",
       "18  16120100160021008791  ...                 False\n",
       "19  16120100160021008792  ...                 False\n",
       "\n",
       "[20 rows x 157 columns]"
      ]
     },
     "execution_count": 38,
     "metadata": {},
     "output_type": "execute_result"
    }
   ],
   "source": [
    "# Verificar os primeiros registros\n",
    "df_transacoes_pivot.head(20)"
   ]
  },
  {
   "cell_type": "code",
   "execution_count": 33,
   "metadata": {},
   "outputs": [],
   "source": [
    "# Converter os dados da Pivot Table para Boolean (True ou False)\n",
    "df_transacoes_pivot = df_transacoes_pivot.map(lambda x: True if x > 0 else False)"
   ]
  },
  {
   "cell_type": "code",
   "execution_count": 35,
   "metadata": {},
   "outputs": [],
   "source": [
    "# Remover o título Departamento\n",
    "df_transacoes_pivot = df_transacoes_pivot.rename_axis(None, axis=1)"
   ]
  },
  {
   "cell_type": "code",
   "execution_count": 37,
   "metadata": {},
   "outputs": [],
   "source": [
    "# Dropar / Remover a Coluna ID_Transacao (Index)\n",
    "df_transacoes_pivot.reset_index(inplace=True)"
   ]
  },
  {
   "cell_type": "code",
   "execution_count": 39,
   "metadata": {},
   "outputs": [],
   "source": [
    "# Remover coluna ID Transacao\n",
    "df_transacoes_pivot.drop(columns=['ID_Transacao'], axis=1, inplace=True)"
   ]
  },
  {
   "cell_type": "code",
   "execution_count": 40,
   "metadata": {},
   "outputs": [
    {
     "data": {
      "text/html": [
       "<div>\n",
       "<style scoped>\n",
       "    .dataframe tbody tr th:only-of-type {\n",
       "        vertical-align: middle;\n",
       "    }\n",
       "\n",
       "    .dataframe tbody tr th {\n",
       "        vertical-align: top;\n",
       "    }\n",
       "\n",
       "    .dataframe thead th {\n",
       "        text-align: right;\n",
       "    }\n",
       "</style>\n",
       "<table border=\"1\" class=\"dataframe\">\n",
       "  <thead>\n",
       "    <tr style=\"text-align: right;\">\n",
       "      <th></th>\n",
       "      <th>0002:BARBER RETAIL</th>\n",
       "      <th>0009:FLORAL SERV/SUPPLIES</th>\n",
       "      <th>0012:LOCAL GIFTS/FOODS</th>\n",
       "      <th>0014:REPAIRS</th>\n",
       "      <th>0016:FINANCIAL SERVICES</th>\n",
       "      <th>0018:OTHER DIRECT SERVICE</th>\n",
       "      <th>0033:VENDING RETAIL</th>\n",
       "      <th>0056:SOUVENIR</th>\n",
       "      <th>0066:VENDING/AMUSEMENT MA</th>\n",
       "      <th>0071:BEAUTY RETAIL</th>\n",
       "      <th>0072:BARBER SERVICES</th>\n",
       "      <th>0076:FLORAL RETAIL</th>\n",
       "      <th>0098:WAREHOUSED EXPENSES</th>\n",
       "      <th>0099:MISC CUSTOM SERVICES</th>\n",
       "      <th>0110:LDS OUTERWEAR/OUTDR</th>\n",
       "      <th>0130:JUNIORS SURF</th>\n",
       "      <th>0131:LADIES DRESSES</th>\n",
       "      <th>0161:MISSY KAREN SCOTT</th>\n",
       "      <th>0163:JUNIOR TOPS</th>\n",
       "      <th>0165:LIFE IS GOOD</th>\n",
       "      <th>0167:MISSY TOPS</th>\n",
       "      <th>0171:MISSY BOTTOMS</th>\n",
       "      <th>0173:JUNIOR BOTTOMS</th>\n",
       "      <th>0175:WOMENS SEPARATES</th>\n",
       "      <th>0177:PETITE SEPARATES</th>\n",
       "      <th>0178:DENIM COLLECTIONS</th>\n",
       "      <th>0179:MODERATE DENIM</th>\n",
       "      <th>0181:LADIES MODERN COLLEC</th>\n",
       "      <th>0182:CLASSIC COLLECTIONS</th>\n",
       "      <th>0186:JUNIOR DRESSES</th>\n",
       "      <th>0188:STYLE &amp; CO</th>\n",
       "      <th>0193:LADIES ACTIVEWEAR</th>\n",
       "      <th>0210:FOUNDATIONS</th>\n",
       "      <th>0220:SHAPEWEAR</th>\n",
       "      <th>0230:DAYWEAR</th>\n",
       "      <th>0240:SLEEPWEAR/LOUNGEWEAR</th>\n",
       "      <th>0261:HOSIERY</th>\n",
       "      <th>0271:HANDBAGS</th>\n",
       "      <th>0280:FASHION ACCESSORIES</th>\n",
       "      <th>0291:WOMENS FTWR:DRS/CAS</th>\n",
       "      <th>...</th>\n",
       "      <th>0816:VIDEO ELECTRONICS</th>\n",
       "      <th>0817:WEARABLES</th>\n",
       "      <th>0819:PRE-RECORDED A/V</th>\n",
       "      <th>0822:THIRD PARTY GIFTCARD</th>\n",
       "      <th>0823:SMART HOME</th>\n",
       "      <th>0826:SMALL ELECTRICS</th>\n",
       "      <th>0833:TABLETOP</th>\n",
       "      <th>0834:COOKWARE</th>\n",
       "      <th>0836:HOUSEHOLD CLEANING</th>\n",
       "      <th>0837:GENERAL HOUSEWARES</th>\n",
       "      <th>0838:FLOOR CARE</th>\n",
       "      <th>0839:HOME ORG/SOLUTIONS</th>\n",
       "      <th>0845:AS SEEN ON TV</th>\n",
       "      <th>0846:BATTERIES</th>\n",
       "      <th>0850:PC HDWR &amp; OFFICE EQP</th>\n",
       "      <th>0851:PC HARDWARE</th>\n",
       "      <th>0852:COMPUTER SOFTWARE</th>\n",
       "      <th>0853:DIMAGE/PHONE/GPS/ACC</th>\n",
       "      <th>0854:VIDEO GAMES</th>\n",
       "      <th>0856:GLUES/TAPES/ACC</th>\n",
       "      <th>0857:PC PERIPH/OFFICE ACC</th>\n",
       "      <th>0859:iPAD</th>\n",
       "      <th>0860:NETWORKING</th>\n",
       "      <th>0861:GENERAL HARDWARE</th>\n",
       "      <th>0863:POWER EQUIPMENT</th>\n",
       "      <th>0879:PET SUPPLIES</th>\n",
       "      <th>0884:LAWN &amp; GARDEN</th>\n",
       "      <th>0930:TABLE TOP &amp; KITCHEN</th>\n",
       "      <th>0931:BATH</th>\n",
       "      <th>0940:HOME TEXTILES</th>\n",
       "      <th>0941:BEDDING</th>\n",
       "      <th>0961:GENERAL GROCERIES</th>\n",
       "      <th>0962:BEVERAGES</th>\n",
       "      <th>0965:PERISHABLES</th>\n",
       "      <th>0973:CANDY</th>\n",
       "      <th>0982:SPIRITS</th>\n",
       "      <th>0983:WINE</th>\n",
       "      <th>0984:BEER</th>\n",
       "      <th>0991:TOBACCO</th>\n",
       "      <th>0999:UNSCANNED ITEMS</th>\n",
       "    </tr>\n",
       "  </thead>\n",
       "  <tbody>\n",
       "    <tr>\n",
       "      <th>0</th>\n",
       "      <td>False</td>\n",
       "      <td>False</td>\n",
       "      <td>False</td>\n",
       "      <td>False</td>\n",
       "      <td>False</td>\n",
       "      <td>False</td>\n",
       "      <td>False</td>\n",
       "      <td>False</td>\n",
       "      <td>False</td>\n",
       "      <td>False</td>\n",
       "      <td>False</td>\n",
       "      <td>False</td>\n",
       "      <td>False</td>\n",
       "      <td>False</td>\n",
       "      <td>False</td>\n",
       "      <td>False</td>\n",
       "      <td>False</td>\n",
       "      <td>False</td>\n",
       "      <td>False</td>\n",
       "      <td>False</td>\n",
       "      <td>False</td>\n",
       "      <td>False</td>\n",
       "      <td>False</td>\n",
       "      <td>False</td>\n",
       "      <td>False</td>\n",
       "      <td>False</td>\n",
       "      <td>False</td>\n",
       "      <td>False</td>\n",
       "      <td>False</td>\n",
       "      <td>False</td>\n",
       "      <td>False</td>\n",
       "      <td>False</td>\n",
       "      <td>False</td>\n",
       "      <td>False</td>\n",
       "      <td>False</td>\n",
       "      <td>False</td>\n",
       "      <td>True</td>\n",
       "      <td>False</td>\n",
       "      <td>False</td>\n",
       "      <td>False</td>\n",
       "      <td>...</td>\n",
       "      <td>False</td>\n",
       "      <td>False</td>\n",
       "      <td>False</td>\n",
       "      <td>False</td>\n",
       "      <td>False</td>\n",
       "      <td>False</td>\n",
       "      <td>False</td>\n",
       "      <td>False</td>\n",
       "      <td>False</td>\n",
       "      <td>False</td>\n",
       "      <td>False</td>\n",
       "      <td>False</td>\n",
       "      <td>False</td>\n",
       "      <td>False</td>\n",
       "      <td>False</td>\n",
       "      <td>False</td>\n",
       "      <td>False</td>\n",
       "      <td>False</td>\n",
       "      <td>False</td>\n",
       "      <td>False</td>\n",
       "      <td>False</td>\n",
       "      <td>False</td>\n",
       "      <td>False</td>\n",
       "      <td>False</td>\n",
       "      <td>False</td>\n",
       "      <td>True</td>\n",
       "      <td>False</td>\n",
       "      <td>False</td>\n",
       "      <td>False</td>\n",
       "      <td>False</td>\n",
       "      <td>False</td>\n",
       "      <td>False</td>\n",
       "      <td>False</td>\n",
       "      <td>False</td>\n",
       "      <td>True</td>\n",
       "      <td>True</td>\n",
       "      <td>True</td>\n",
       "      <td>False</td>\n",
       "      <td>True</td>\n",
       "      <td>False</td>\n",
       "    </tr>\n",
       "    <tr>\n",
       "      <th>1</th>\n",
       "      <td>False</td>\n",
       "      <td>False</td>\n",
       "      <td>False</td>\n",
       "      <td>False</td>\n",
       "      <td>False</td>\n",
       "      <td>False</td>\n",
       "      <td>False</td>\n",
       "      <td>False</td>\n",
       "      <td>False</td>\n",
       "      <td>False</td>\n",
       "      <td>False</td>\n",
       "      <td>False</td>\n",
       "      <td>False</td>\n",
       "      <td>False</td>\n",
       "      <td>False</td>\n",
       "      <td>False</td>\n",
       "      <td>False</td>\n",
       "      <td>False</td>\n",
       "      <td>False</td>\n",
       "      <td>False</td>\n",
       "      <td>False</td>\n",
       "      <td>False</td>\n",
       "      <td>False</td>\n",
       "      <td>False</td>\n",
       "      <td>False</td>\n",
       "      <td>False</td>\n",
       "      <td>False</td>\n",
       "      <td>False</td>\n",
       "      <td>False</td>\n",
       "      <td>False</td>\n",
       "      <td>False</td>\n",
       "      <td>False</td>\n",
       "      <td>False</td>\n",
       "      <td>False</td>\n",
       "      <td>False</td>\n",
       "      <td>False</td>\n",
       "      <td>False</td>\n",
       "      <td>False</td>\n",
       "      <td>False</td>\n",
       "      <td>False</td>\n",
       "      <td>...</td>\n",
       "      <td>False</td>\n",
       "      <td>False</td>\n",
       "      <td>False</td>\n",
       "      <td>False</td>\n",
       "      <td>False</td>\n",
       "      <td>False</td>\n",
       "      <td>False</td>\n",
       "      <td>False</td>\n",
       "      <td>False</td>\n",
       "      <td>False</td>\n",
       "      <td>False</td>\n",
       "      <td>False</td>\n",
       "      <td>False</td>\n",
       "      <td>False</td>\n",
       "      <td>False</td>\n",
       "      <td>False</td>\n",
       "      <td>False</td>\n",
       "      <td>False</td>\n",
       "      <td>False</td>\n",
       "      <td>False</td>\n",
       "      <td>False</td>\n",
       "      <td>False</td>\n",
       "      <td>False</td>\n",
       "      <td>False</td>\n",
       "      <td>False</td>\n",
       "      <td>False</td>\n",
       "      <td>False</td>\n",
       "      <td>False</td>\n",
       "      <td>False</td>\n",
       "      <td>False</td>\n",
       "      <td>False</td>\n",
       "      <td>False</td>\n",
       "      <td>False</td>\n",
       "      <td>False</td>\n",
       "      <td>False</td>\n",
       "      <td>False</td>\n",
       "      <td>False</td>\n",
       "      <td>False</td>\n",
       "      <td>False</td>\n",
       "      <td>False</td>\n",
       "    </tr>\n",
       "    <tr>\n",
       "      <th>2</th>\n",
       "      <td>False</td>\n",
       "      <td>False</td>\n",
       "      <td>False</td>\n",
       "      <td>False</td>\n",
       "      <td>False</td>\n",
       "      <td>False</td>\n",
       "      <td>False</td>\n",
       "      <td>False</td>\n",
       "      <td>False</td>\n",
       "      <td>False</td>\n",
       "      <td>False</td>\n",
       "      <td>False</td>\n",
       "      <td>False</td>\n",
       "      <td>False</td>\n",
       "      <td>False</td>\n",
       "      <td>False</td>\n",
       "      <td>False</td>\n",
       "      <td>False</td>\n",
       "      <td>False</td>\n",
       "      <td>False</td>\n",
       "      <td>False</td>\n",
       "      <td>False</td>\n",
       "      <td>False</td>\n",
       "      <td>False</td>\n",
       "      <td>False</td>\n",
       "      <td>False</td>\n",
       "      <td>False</td>\n",
       "      <td>False</td>\n",
       "      <td>False</td>\n",
       "      <td>False</td>\n",
       "      <td>False</td>\n",
       "      <td>False</td>\n",
       "      <td>False</td>\n",
       "      <td>False</td>\n",
       "      <td>False</td>\n",
       "      <td>False</td>\n",
       "      <td>False</td>\n",
       "      <td>False</td>\n",
       "      <td>False</td>\n",
       "      <td>False</td>\n",
       "      <td>...</td>\n",
       "      <td>False</td>\n",
       "      <td>False</td>\n",
       "      <td>True</td>\n",
       "      <td>False</td>\n",
       "      <td>False</td>\n",
       "      <td>True</td>\n",
       "      <td>False</td>\n",
       "      <td>False</td>\n",
       "      <td>False</td>\n",
       "      <td>False</td>\n",
       "      <td>False</td>\n",
       "      <td>False</td>\n",
       "      <td>False</td>\n",
       "      <td>False</td>\n",
       "      <td>False</td>\n",
       "      <td>False</td>\n",
       "      <td>False</td>\n",
       "      <td>False</td>\n",
       "      <td>False</td>\n",
       "      <td>False</td>\n",
       "      <td>False</td>\n",
       "      <td>False</td>\n",
       "      <td>False</td>\n",
       "      <td>False</td>\n",
       "      <td>False</td>\n",
       "      <td>False</td>\n",
       "      <td>False</td>\n",
       "      <td>False</td>\n",
       "      <td>False</td>\n",
       "      <td>False</td>\n",
       "      <td>False</td>\n",
       "      <td>False</td>\n",
       "      <td>False</td>\n",
       "      <td>False</td>\n",
       "      <td>False</td>\n",
       "      <td>True</td>\n",
       "      <td>False</td>\n",
       "      <td>False</td>\n",
       "      <td>False</td>\n",
       "      <td>False</td>\n",
       "    </tr>\n",
       "    <tr>\n",
       "      <th>3</th>\n",
       "      <td>False</td>\n",
       "      <td>False</td>\n",
       "      <td>False</td>\n",
       "      <td>False</td>\n",
       "      <td>False</td>\n",
       "      <td>False</td>\n",
       "      <td>False</td>\n",
       "      <td>False</td>\n",
       "      <td>False</td>\n",
       "      <td>False</td>\n",
       "      <td>False</td>\n",
       "      <td>False</td>\n",
       "      <td>False</td>\n",
       "      <td>False</td>\n",
       "      <td>False</td>\n",
       "      <td>False</td>\n",
       "      <td>False</td>\n",
       "      <td>False</td>\n",
       "      <td>False</td>\n",
       "      <td>False</td>\n",
       "      <td>False</td>\n",
       "      <td>False</td>\n",
       "      <td>False</td>\n",
       "      <td>False</td>\n",
       "      <td>False</td>\n",
       "      <td>False</td>\n",
       "      <td>False</td>\n",
       "      <td>False</td>\n",
       "      <td>False</td>\n",
       "      <td>False</td>\n",
       "      <td>False</td>\n",
       "      <td>False</td>\n",
       "      <td>False</td>\n",
       "      <td>False</td>\n",
       "      <td>False</td>\n",
       "      <td>False</td>\n",
       "      <td>False</td>\n",
       "      <td>False</td>\n",
       "      <td>False</td>\n",
       "      <td>False</td>\n",
       "      <td>...</td>\n",
       "      <td>False</td>\n",
       "      <td>False</td>\n",
       "      <td>False</td>\n",
       "      <td>False</td>\n",
       "      <td>False</td>\n",
       "      <td>False</td>\n",
       "      <td>False</td>\n",
       "      <td>False</td>\n",
       "      <td>False</td>\n",
       "      <td>False</td>\n",
       "      <td>False</td>\n",
       "      <td>False</td>\n",
       "      <td>False</td>\n",
       "      <td>False</td>\n",
       "      <td>False</td>\n",
       "      <td>False</td>\n",
       "      <td>False</td>\n",
       "      <td>False</td>\n",
       "      <td>False</td>\n",
       "      <td>False</td>\n",
       "      <td>False</td>\n",
       "      <td>False</td>\n",
       "      <td>False</td>\n",
       "      <td>False</td>\n",
       "      <td>False</td>\n",
       "      <td>False</td>\n",
       "      <td>False</td>\n",
       "      <td>False</td>\n",
       "      <td>False</td>\n",
       "      <td>False</td>\n",
       "      <td>False</td>\n",
       "      <td>True</td>\n",
       "      <td>False</td>\n",
       "      <td>False</td>\n",
       "      <td>False</td>\n",
       "      <td>False</td>\n",
       "      <td>False</td>\n",
       "      <td>False</td>\n",
       "      <td>False</td>\n",
       "      <td>False</td>\n",
       "    </tr>\n",
       "    <tr>\n",
       "      <th>4</th>\n",
       "      <td>False</td>\n",
       "      <td>False</td>\n",
       "      <td>False</td>\n",
       "      <td>False</td>\n",
       "      <td>False</td>\n",
       "      <td>False</td>\n",
       "      <td>False</td>\n",
       "      <td>False</td>\n",
       "      <td>False</td>\n",
       "      <td>False</td>\n",
       "      <td>False</td>\n",
       "      <td>False</td>\n",
       "      <td>False</td>\n",
       "      <td>False</td>\n",
       "      <td>False</td>\n",
       "      <td>False</td>\n",
       "      <td>False</td>\n",
       "      <td>False</td>\n",
       "      <td>False</td>\n",
       "      <td>False</td>\n",
       "      <td>False</td>\n",
       "      <td>False</td>\n",
       "      <td>False</td>\n",
       "      <td>False</td>\n",
       "      <td>False</td>\n",
       "      <td>False</td>\n",
       "      <td>False</td>\n",
       "      <td>False</td>\n",
       "      <td>False</td>\n",
       "      <td>False</td>\n",
       "      <td>False</td>\n",
       "      <td>False</td>\n",
       "      <td>False</td>\n",
       "      <td>False</td>\n",
       "      <td>False</td>\n",
       "      <td>False</td>\n",
       "      <td>False</td>\n",
       "      <td>False</td>\n",
       "      <td>False</td>\n",
       "      <td>False</td>\n",
       "      <td>...</td>\n",
       "      <td>False</td>\n",
       "      <td>False</td>\n",
       "      <td>False</td>\n",
       "      <td>False</td>\n",
       "      <td>False</td>\n",
       "      <td>False</td>\n",
       "      <td>False</td>\n",
       "      <td>False</td>\n",
       "      <td>False</td>\n",
       "      <td>False</td>\n",
       "      <td>False</td>\n",
       "      <td>False</td>\n",
       "      <td>False</td>\n",
       "      <td>False</td>\n",
       "      <td>False</td>\n",
       "      <td>False</td>\n",
       "      <td>False</td>\n",
       "      <td>False</td>\n",
       "      <td>False</td>\n",
       "      <td>False</td>\n",
       "      <td>False</td>\n",
       "      <td>False</td>\n",
       "      <td>False</td>\n",
       "      <td>False</td>\n",
       "      <td>False</td>\n",
       "      <td>False</td>\n",
       "      <td>False</td>\n",
       "      <td>False</td>\n",
       "      <td>False</td>\n",
       "      <td>False</td>\n",
       "      <td>False</td>\n",
       "      <td>False</td>\n",
       "      <td>False</td>\n",
       "      <td>False</td>\n",
       "      <td>False</td>\n",
       "      <td>True</td>\n",
       "      <td>False</td>\n",
       "      <td>False</td>\n",
       "      <td>False</td>\n",
       "      <td>False</td>\n",
       "    </tr>\n",
       "    <tr>\n",
       "      <th>5</th>\n",
       "      <td>False</td>\n",
       "      <td>False</td>\n",
       "      <td>False</td>\n",
       "      <td>False</td>\n",
       "      <td>False</td>\n",
       "      <td>False</td>\n",
       "      <td>False</td>\n",
       "      <td>False</td>\n",
       "      <td>False</td>\n",
       "      <td>False</td>\n",
       "      <td>False</td>\n",
       "      <td>False</td>\n",
       "      <td>False</td>\n",
       "      <td>False</td>\n",
       "      <td>False</td>\n",
       "      <td>False</td>\n",
       "      <td>False</td>\n",
       "      <td>False</td>\n",
       "      <td>False</td>\n",
       "      <td>False</td>\n",
       "      <td>False</td>\n",
       "      <td>False</td>\n",
       "      <td>False</td>\n",
       "      <td>False</td>\n",
       "      <td>False</td>\n",
       "      <td>False</td>\n",
       "      <td>False</td>\n",
       "      <td>False</td>\n",
       "      <td>False</td>\n",
       "      <td>False</td>\n",
       "      <td>False</td>\n",
       "      <td>False</td>\n",
       "      <td>False</td>\n",
       "      <td>False</td>\n",
       "      <td>False</td>\n",
       "      <td>False</td>\n",
       "      <td>False</td>\n",
       "      <td>False</td>\n",
       "      <td>False</td>\n",
       "      <td>False</td>\n",
       "      <td>...</td>\n",
       "      <td>False</td>\n",
       "      <td>False</td>\n",
       "      <td>False</td>\n",
       "      <td>False</td>\n",
       "      <td>False</td>\n",
       "      <td>False</td>\n",
       "      <td>False</td>\n",
       "      <td>False</td>\n",
       "      <td>False</td>\n",
       "      <td>False</td>\n",
       "      <td>False</td>\n",
       "      <td>False</td>\n",
       "      <td>False</td>\n",
       "      <td>False</td>\n",
       "      <td>False</td>\n",
       "      <td>False</td>\n",
       "      <td>False</td>\n",
       "      <td>False</td>\n",
       "      <td>False</td>\n",
       "      <td>False</td>\n",
       "      <td>False</td>\n",
       "      <td>False</td>\n",
       "      <td>False</td>\n",
       "      <td>False</td>\n",
       "      <td>False</td>\n",
       "      <td>False</td>\n",
       "      <td>False</td>\n",
       "      <td>False</td>\n",
       "      <td>False</td>\n",
       "      <td>False</td>\n",
       "      <td>False</td>\n",
       "      <td>False</td>\n",
       "      <td>False</td>\n",
       "      <td>False</td>\n",
       "      <td>False</td>\n",
       "      <td>True</td>\n",
       "      <td>False</td>\n",
       "      <td>False</td>\n",
       "      <td>True</td>\n",
       "      <td>False</td>\n",
       "    </tr>\n",
       "    <tr>\n",
       "      <th>6</th>\n",
       "      <td>False</td>\n",
       "      <td>False</td>\n",
       "      <td>False</td>\n",
       "      <td>False</td>\n",
       "      <td>False</td>\n",
       "      <td>False</td>\n",
       "      <td>False</td>\n",
       "      <td>False</td>\n",
       "      <td>False</td>\n",
       "      <td>False</td>\n",
       "      <td>False</td>\n",
       "      <td>False</td>\n",
       "      <td>False</td>\n",
       "      <td>False</td>\n",
       "      <td>False</td>\n",
       "      <td>False</td>\n",
       "      <td>False</td>\n",
       "      <td>False</td>\n",
       "      <td>False</td>\n",
       "      <td>False</td>\n",
       "      <td>False</td>\n",
       "      <td>False</td>\n",
       "      <td>False</td>\n",
       "      <td>False</td>\n",
       "      <td>False</td>\n",
       "      <td>False</td>\n",
       "      <td>False</td>\n",
       "      <td>False</td>\n",
       "      <td>False</td>\n",
       "      <td>False</td>\n",
       "      <td>False</td>\n",
       "      <td>False</td>\n",
       "      <td>False</td>\n",
       "      <td>False</td>\n",
       "      <td>False</td>\n",
       "      <td>False</td>\n",
       "      <td>False</td>\n",
       "      <td>False</td>\n",
       "      <td>False</td>\n",
       "      <td>False</td>\n",
       "      <td>...</td>\n",
       "      <td>False</td>\n",
       "      <td>False</td>\n",
       "      <td>False</td>\n",
       "      <td>False</td>\n",
       "      <td>False</td>\n",
       "      <td>False</td>\n",
       "      <td>False</td>\n",
       "      <td>False</td>\n",
       "      <td>False</td>\n",
       "      <td>False</td>\n",
       "      <td>False</td>\n",
       "      <td>False</td>\n",
       "      <td>False</td>\n",
       "      <td>False</td>\n",
       "      <td>False</td>\n",
       "      <td>False</td>\n",
       "      <td>False</td>\n",
       "      <td>False</td>\n",
       "      <td>False</td>\n",
       "      <td>False</td>\n",
       "      <td>False</td>\n",
       "      <td>False</td>\n",
       "      <td>False</td>\n",
       "      <td>False</td>\n",
       "      <td>False</td>\n",
       "      <td>True</td>\n",
       "      <td>False</td>\n",
       "      <td>False</td>\n",
       "      <td>False</td>\n",
       "      <td>False</td>\n",
       "      <td>False</td>\n",
       "      <td>False</td>\n",
       "      <td>False</td>\n",
       "      <td>False</td>\n",
       "      <td>False</td>\n",
       "      <td>True</td>\n",
       "      <td>True</td>\n",
       "      <td>True</td>\n",
       "      <td>False</td>\n",
       "      <td>False</td>\n",
       "    </tr>\n",
       "    <tr>\n",
       "      <th>7</th>\n",
       "      <td>False</td>\n",
       "      <td>False</td>\n",
       "      <td>False</td>\n",
       "      <td>False</td>\n",
       "      <td>False</td>\n",
       "      <td>False</td>\n",
       "      <td>False</td>\n",
       "      <td>False</td>\n",
       "      <td>False</td>\n",
       "      <td>False</td>\n",
       "      <td>False</td>\n",
       "      <td>False</td>\n",
       "      <td>False</td>\n",
       "      <td>False</td>\n",
       "      <td>False</td>\n",
       "      <td>False</td>\n",
       "      <td>False</td>\n",
       "      <td>False</td>\n",
       "      <td>False</td>\n",
       "      <td>False</td>\n",
       "      <td>False</td>\n",
       "      <td>False</td>\n",
       "      <td>False</td>\n",
       "      <td>False</td>\n",
       "      <td>False</td>\n",
       "      <td>False</td>\n",
       "      <td>False</td>\n",
       "      <td>False</td>\n",
       "      <td>False</td>\n",
       "      <td>False</td>\n",
       "      <td>False</td>\n",
       "      <td>False</td>\n",
       "      <td>False</td>\n",
       "      <td>False</td>\n",
       "      <td>False</td>\n",
       "      <td>False</td>\n",
       "      <td>False</td>\n",
       "      <td>False</td>\n",
       "      <td>False</td>\n",
       "      <td>False</td>\n",
       "      <td>...</td>\n",
       "      <td>False</td>\n",
       "      <td>False</td>\n",
       "      <td>False</td>\n",
       "      <td>False</td>\n",
       "      <td>False</td>\n",
       "      <td>False</td>\n",
       "      <td>False</td>\n",
       "      <td>False</td>\n",
       "      <td>True</td>\n",
       "      <td>False</td>\n",
       "      <td>False</td>\n",
       "      <td>False</td>\n",
       "      <td>False</td>\n",
       "      <td>False</td>\n",
       "      <td>False</td>\n",
       "      <td>False</td>\n",
       "      <td>False</td>\n",
       "      <td>False</td>\n",
       "      <td>False</td>\n",
       "      <td>False</td>\n",
       "      <td>False</td>\n",
       "      <td>False</td>\n",
       "      <td>False</td>\n",
       "      <td>False</td>\n",
       "      <td>False</td>\n",
       "      <td>False</td>\n",
       "      <td>False</td>\n",
       "      <td>False</td>\n",
       "      <td>False</td>\n",
       "      <td>False</td>\n",
       "      <td>False</td>\n",
       "      <td>False</td>\n",
       "      <td>False</td>\n",
       "      <td>False</td>\n",
       "      <td>False</td>\n",
       "      <td>False</td>\n",
       "      <td>False</td>\n",
       "      <td>False</td>\n",
       "      <td>False</td>\n",
       "      <td>False</td>\n",
       "    </tr>\n",
       "    <tr>\n",
       "      <th>8</th>\n",
       "      <td>False</td>\n",
       "      <td>False</td>\n",
       "      <td>False</td>\n",
       "      <td>False</td>\n",
       "      <td>False</td>\n",
       "      <td>False</td>\n",
       "      <td>False</td>\n",
       "      <td>False</td>\n",
       "      <td>False</td>\n",
       "      <td>False</td>\n",
       "      <td>False</td>\n",
       "      <td>False</td>\n",
       "      <td>False</td>\n",
       "      <td>False</td>\n",
       "      <td>False</td>\n",
       "      <td>False</td>\n",
       "      <td>False</td>\n",
       "      <td>False</td>\n",
       "      <td>False</td>\n",
       "      <td>False</td>\n",
       "      <td>False</td>\n",
       "      <td>False</td>\n",
       "      <td>False</td>\n",
       "      <td>False</td>\n",
       "      <td>False</td>\n",
       "      <td>False</td>\n",
       "      <td>False</td>\n",
       "      <td>False</td>\n",
       "      <td>False</td>\n",
       "      <td>False</td>\n",
       "      <td>False</td>\n",
       "      <td>False</td>\n",
       "      <td>False</td>\n",
       "      <td>False</td>\n",
       "      <td>False</td>\n",
       "      <td>False</td>\n",
       "      <td>False</td>\n",
       "      <td>False</td>\n",
       "      <td>False</td>\n",
       "      <td>False</td>\n",
       "      <td>...</td>\n",
       "      <td>False</td>\n",
       "      <td>False</td>\n",
       "      <td>False</td>\n",
       "      <td>False</td>\n",
       "      <td>False</td>\n",
       "      <td>False</td>\n",
       "      <td>False</td>\n",
       "      <td>False</td>\n",
       "      <td>True</td>\n",
       "      <td>False</td>\n",
       "      <td>False</td>\n",
       "      <td>False</td>\n",
       "      <td>False</td>\n",
       "      <td>False</td>\n",
       "      <td>False</td>\n",
       "      <td>False</td>\n",
       "      <td>False</td>\n",
       "      <td>False</td>\n",
       "      <td>False</td>\n",
       "      <td>False</td>\n",
       "      <td>False</td>\n",
       "      <td>False</td>\n",
       "      <td>False</td>\n",
       "      <td>False</td>\n",
       "      <td>False</td>\n",
       "      <td>False</td>\n",
       "      <td>False</td>\n",
       "      <td>False</td>\n",
       "      <td>False</td>\n",
       "      <td>False</td>\n",
       "      <td>False</td>\n",
       "      <td>False</td>\n",
       "      <td>False</td>\n",
       "      <td>True</td>\n",
       "      <td>True</td>\n",
       "      <td>False</td>\n",
       "      <td>True</td>\n",
       "      <td>False</td>\n",
       "      <td>False</td>\n",
       "      <td>False</td>\n",
       "    </tr>\n",
       "    <tr>\n",
       "      <th>9</th>\n",
       "      <td>False</td>\n",
       "      <td>False</td>\n",
       "      <td>False</td>\n",
       "      <td>False</td>\n",
       "      <td>False</td>\n",
       "      <td>False</td>\n",
       "      <td>False</td>\n",
       "      <td>False</td>\n",
       "      <td>False</td>\n",
       "      <td>False</td>\n",
       "      <td>False</td>\n",
       "      <td>False</td>\n",
       "      <td>False</td>\n",
       "      <td>False</td>\n",
       "      <td>False</td>\n",
       "      <td>False</td>\n",
       "      <td>False</td>\n",
       "      <td>False</td>\n",
       "      <td>False</td>\n",
       "      <td>False</td>\n",
       "      <td>False</td>\n",
       "      <td>False</td>\n",
       "      <td>False</td>\n",
       "      <td>False</td>\n",
       "      <td>False</td>\n",
       "      <td>False</td>\n",
       "      <td>False</td>\n",
       "      <td>False</td>\n",
       "      <td>False</td>\n",
       "      <td>False</td>\n",
       "      <td>False</td>\n",
       "      <td>False</td>\n",
       "      <td>False</td>\n",
       "      <td>False</td>\n",
       "      <td>False</td>\n",
       "      <td>False</td>\n",
       "      <td>False</td>\n",
       "      <td>False</td>\n",
       "      <td>False</td>\n",
       "      <td>False</td>\n",
       "      <td>...</td>\n",
       "      <td>False</td>\n",
       "      <td>False</td>\n",
       "      <td>False</td>\n",
       "      <td>False</td>\n",
       "      <td>False</td>\n",
       "      <td>False</td>\n",
       "      <td>False</td>\n",
       "      <td>False</td>\n",
       "      <td>False</td>\n",
       "      <td>True</td>\n",
       "      <td>False</td>\n",
       "      <td>False</td>\n",
       "      <td>False</td>\n",
       "      <td>False</td>\n",
       "      <td>False</td>\n",
       "      <td>False</td>\n",
       "      <td>False</td>\n",
       "      <td>False</td>\n",
       "      <td>False</td>\n",
       "      <td>False</td>\n",
       "      <td>False</td>\n",
       "      <td>False</td>\n",
       "      <td>False</td>\n",
       "      <td>False</td>\n",
       "      <td>False</td>\n",
       "      <td>False</td>\n",
       "      <td>False</td>\n",
       "      <td>False</td>\n",
       "      <td>False</td>\n",
       "      <td>False</td>\n",
       "      <td>False</td>\n",
       "      <td>False</td>\n",
       "      <td>False</td>\n",
       "      <td>False</td>\n",
       "      <td>False</td>\n",
       "      <td>True</td>\n",
       "      <td>False</td>\n",
       "      <td>False</td>\n",
       "      <td>False</td>\n",
       "      <td>False</td>\n",
       "    </tr>\n",
       "    <tr>\n",
       "      <th>10</th>\n",
       "      <td>False</td>\n",
       "      <td>False</td>\n",
       "      <td>False</td>\n",
       "      <td>False</td>\n",
       "      <td>False</td>\n",
       "      <td>False</td>\n",
       "      <td>False</td>\n",
       "      <td>False</td>\n",
       "      <td>False</td>\n",
       "      <td>False</td>\n",
       "      <td>False</td>\n",
       "      <td>False</td>\n",
       "      <td>False</td>\n",
       "      <td>False</td>\n",
       "      <td>False</td>\n",
       "      <td>False</td>\n",
       "      <td>False</td>\n",
       "      <td>False</td>\n",
       "      <td>False</td>\n",
       "      <td>False</td>\n",
       "      <td>False</td>\n",
       "      <td>False</td>\n",
       "      <td>False</td>\n",
       "      <td>False</td>\n",
       "      <td>False</td>\n",
       "      <td>False</td>\n",
       "      <td>False</td>\n",
       "      <td>False</td>\n",
       "      <td>False</td>\n",
       "      <td>False</td>\n",
       "      <td>False</td>\n",
       "      <td>False</td>\n",
       "      <td>False</td>\n",
       "      <td>False</td>\n",
       "      <td>False</td>\n",
       "      <td>False</td>\n",
       "      <td>False</td>\n",
       "      <td>False</td>\n",
       "      <td>False</td>\n",
       "      <td>False</td>\n",
       "      <td>...</td>\n",
       "      <td>False</td>\n",
       "      <td>False</td>\n",
       "      <td>False</td>\n",
       "      <td>False</td>\n",
       "      <td>False</td>\n",
       "      <td>False</td>\n",
       "      <td>False</td>\n",
       "      <td>False</td>\n",
       "      <td>False</td>\n",
       "      <td>False</td>\n",
       "      <td>False</td>\n",
       "      <td>False</td>\n",
       "      <td>False</td>\n",
       "      <td>False</td>\n",
       "      <td>False</td>\n",
       "      <td>False</td>\n",
       "      <td>False</td>\n",
       "      <td>False</td>\n",
       "      <td>False</td>\n",
       "      <td>False</td>\n",
       "      <td>False</td>\n",
       "      <td>False</td>\n",
       "      <td>False</td>\n",
       "      <td>False</td>\n",
       "      <td>False</td>\n",
       "      <td>True</td>\n",
       "      <td>False</td>\n",
       "      <td>False</td>\n",
       "      <td>False</td>\n",
       "      <td>False</td>\n",
       "      <td>False</td>\n",
       "      <td>False</td>\n",
       "      <td>False</td>\n",
       "      <td>False</td>\n",
       "      <td>True</td>\n",
       "      <td>False</td>\n",
       "      <td>False</td>\n",
       "      <td>True</td>\n",
       "      <td>False</td>\n",
       "      <td>False</td>\n",
       "    </tr>\n",
       "    <tr>\n",
       "      <th>11</th>\n",
       "      <td>False</td>\n",
       "      <td>False</td>\n",
       "      <td>False</td>\n",
       "      <td>False</td>\n",
       "      <td>False</td>\n",
       "      <td>False</td>\n",
       "      <td>False</td>\n",
       "      <td>False</td>\n",
       "      <td>False</td>\n",
       "      <td>False</td>\n",
       "      <td>False</td>\n",
       "      <td>False</td>\n",
       "      <td>False</td>\n",
       "      <td>False</td>\n",
       "      <td>False</td>\n",
       "      <td>False</td>\n",
       "      <td>False</td>\n",
       "      <td>False</td>\n",
       "      <td>False</td>\n",
       "      <td>False</td>\n",
       "      <td>False</td>\n",
       "      <td>False</td>\n",
       "      <td>False</td>\n",
       "      <td>False</td>\n",
       "      <td>False</td>\n",
       "      <td>False</td>\n",
       "      <td>False</td>\n",
       "      <td>False</td>\n",
       "      <td>False</td>\n",
       "      <td>False</td>\n",
       "      <td>False</td>\n",
       "      <td>False</td>\n",
       "      <td>False</td>\n",
       "      <td>False</td>\n",
       "      <td>False</td>\n",
       "      <td>False</td>\n",
       "      <td>False</td>\n",
       "      <td>False</td>\n",
       "      <td>False</td>\n",
       "      <td>False</td>\n",
       "      <td>...</td>\n",
       "      <td>False</td>\n",
       "      <td>False</td>\n",
       "      <td>False</td>\n",
       "      <td>False</td>\n",
       "      <td>False</td>\n",
       "      <td>False</td>\n",
       "      <td>False</td>\n",
       "      <td>False</td>\n",
       "      <td>False</td>\n",
       "      <td>False</td>\n",
       "      <td>False</td>\n",
       "      <td>False</td>\n",
       "      <td>False</td>\n",
       "      <td>False</td>\n",
       "      <td>False</td>\n",
       "      <td>False</td>\n",
       "      <td>False</td>\n",
       "      <td>False</td>\n",
       "      <td>False</td>\n",
       "      <td>False</td>\n",
       "      <td>False</td>\n",
       "      <td>False</td>\n",
       "      <td>False</td>\n",
       "      <td>False</td>\n",
       "      <td>False</td>\n",
       "      <td>False</td>\n",
       "      <td>False</td>\n",
       "      <td>False</td>\n",
       "      <td>False</td>\n",
       "      <td>False</td>\n",
       "      <td>False</td>\n",
       "      <td>False</td>\n",
       "      <td>False</td>\n",
       "      <td>False</td>\n",
       "      <td>False</td>\n",
       "      <td>False</td>\n",
       "      <td>True</td>\n",
       "      <td>False</td>\n",
       "      <td>False</td>\n",
       "      <td>False</td>\n",
       "    </tr>\n",
       "    <tr>\n",
       "      <th>12</th>\n",
       "      <td>False</td>\n",
       "      <td>False</td>\n",
       "      <td>False</td>\n",
       "      <td>False</td>\n",
       "      <td>False</td>\n",
       "      <td>False</td>\n",
       "      <td>False</td>\n",
       "      <td>False</td>\n",
       "      <td>False</td>\n",
       "      <td>False</td>\n",
       "      <td>False</td>\n",
       "      <td>False</td>\n",
       "      <td>False</td>\n",
       "      <td>False</td>\n",
       "      <td>False</td>\n",
       "      <td>False</td>\n",
       "      <td>False</td>\n",
       "      <td>False</td>\n",
       "      <td>False</td>\n",
       "      <td>False</td>\n",
       "      <td>False</td>\n",
       "      <td>False</td>\n",
       "      <td>False</td>\n",
       "      <td>False</td>\n",
       "      <td>False</td>\n",
       "      <td>False</td>\n",
       "      <td>False</td>\n",
       "      <td>False</td>\n",
       "      <td>False</td>\n",
       "      <td>False</td>\n",
       "      <td>False</td>\n",
       "      <td>False</td>\n",
       "      <td>False</td>\n",
       "      <td>False</td>\n",
       "      <td>False</td>\n",
       "      <td>False</td>\n",
       "      <td>False</td>\n",
       "      <td>False</td>\n",
       "      <td>False</td>\n",
       "      <td>False</td>\n",
       "      <td>...</td>\n",
       "      <td>False</td>\n",
       "      <td>False</td>\n",
       "      <td>False</td>\n",
       "      <td>False</td>\n",
       "      <td>False</td>\n",
       "      <td>False</td>\n",
       "      <td>False</td>\n",
       "      <td>False</td>\n",
       "      <td>False</td>\n",
       "      <td>False</td>\n",
       "      <td>False</td>\n",
       "      <td>False</td>\n",
       "      <td>False</td>\n",
       "      <td>False</td>\n",
       "      <td>False</td>\n",
       "      <td>False</td>\n",
       "      <td>False</td>\n",
       "      <td>False</td>\n",
       "      <td>False</td>\n",
       "      <td>False</td>\n",
       "      <td>False</td>\n",
       "      <td>False</td>\n",
       "      <td>False</td>\n",
       "      <td>False</td>\n",
       "      <td>False</td>\n",
       "      <td>False</td>\n",
       "      <td>False</td>\n",
       "      <td>False</td>\n",
       "      <td>False</td>\n",
       "      <td>False</td>\n",
       "      <td>False</td>\n",
       "      <td>False</td>\n",
       "      <td>True</td>\n",
       "      <td>False</td>\n",
       "      <td>False</td>\n",
       "      <td>True</td>\n",
       "      <td>False</td>\n",
       "      <td>False</td>\n",
       "      <td>False</td>\n",
       "      <td>False</td>\n",
       "    </tr>\n",
       "    <tr>\n",
       "      <th>13</th>\n",
       "      <td>False</td>\n",
       "      <td>False</td>\n",
       "      <td>False</td>\n",
       "      <td>False</td>\n",
       "      <td>False</td>\n",
       "      <td>False</td>\n",
       "      <td>False</td>\n",
       "      <td>False</td>\n",
       "      <td>False</td>\n",
       "      <td>False</td>\n",
       "      <td>False</td>\n",
       "      <td>False</td>\n",
       "      <td>False</td>\n",
       "      <td>False</td>\n",
       "      <td>False</td>\n",
       "      <td>False</td>\n",
       "      <td>False</td>\n",
       "      <td>False</td>\n",
       "      <td>False</td>\n",
       "      <td>False</td>\n",
       "      <td>False</td>\n",
       "      <td>False</td>\n",
       "      <td>False</td>\n",
       "      <td>False</td>\n",
       "      <td>False</td>\n",
       "      <td>False</td>\n",
       "      <td>False</td>\n",
       "      <td>False</td>\n",
       "      <td>False</td>\n",
       "      <td>False</td>\n",
       "      <td>False</td>\n",
       "      <td>False</td>\n",
       "      <td>False</td>\n",
       "      <td>False</td>\n",
       "      <td>False</td>\n",
       "      <td>False</td>\n",
       "      <td>False</td>\n",
       "      <td>False</td>\n",
       "      <td>False</td>\n",
       "      <td>False</td>\n",
       "      <td>...</td>\n",
       "      <td>False</td>\n",
       "      <td>False</td>\n",
       "      <td>False</td>\n",
       "      <td>False</td>\n",
       "      <td>False</td>\n",
       "      <td>False</td>\n",
       "      <td>False</td>\n",
       "      <td>False</td>\n",
       "      <td>False</td>\n",
       "      <td>False</td>\n",
       "      <td>False</td>\n",
       "      <td>False</td>\n",
       "      <td>False</td>\n",
       "      <td>False</td>\n",
       "      <td>False</td>\n",
       "      <td>False</td>\n",
       "      <td>False</td>\n",
       "      <td>False</td>\n",
       "      <td>False</td>\n",
       "      <td>False</td>\n",
       "      <td>False</td>\n",
       "      <td>False</td>\n",
       "      <td>False</td>\n",
       "      <td>False</td>\n",
       "      <td>False</td>\n",
       "      <td>False</td>\n",
       "      <td>False</td>\n",
       "      <td>False</td>\n",
       "      <td>False</td>\n",
       "      <td>False</td>\n",
       "      <td>False</td>\n",
       "      <td>False</td>\n",
       "      <td>False</td>\n",
       "      <td>False</td>\n",
       "      <td>False</td>\n",
       "      <td>True</td>\n",
       "      <td>True</td>\n",
       "      <td>False</td>\n",
       "      <td>False</td>\n",
       "      <td>False</td>\n",
       "    </tr>\n",
       "    <tr>\n",
       "      <th>14</th>\n",
       "      <td>False</td>\n",
       "      <td>False</td>\n",
       "      <td>False</td>\n",
       "      <td>False</td>\n",
       "      <td>False</td>\n",
       "      <td>False</td>\n",
       "      <td>False</td>\n",
       "      <td>False</td>\n",
       "      <td>False</td>\n",
       "      <td>False</td>\n",
       "      <td>False</td>\n",
       "      <td>False</td>\n",
       "      <td>False</td>\n",
       "      <td>False</td>\n",
       "      <td>False</td>\n",
       "      <td>False</td>\n",
       "      <td>False</td>\n",
       "      <td>False</td>\n",
       "      <td>False</td>\n",
       "      <td>False</td>\n",
       "      <td>False</td>\n",
       "      <td>False</td>\n",
       "      <td>False</td>\n",
       "      <td>False</td>\n",
       "      <td>False</td>\n",
       "      <td>False</td>\n",
       "      <td>False</td>\n",
       "      <td>False</td>\n",
       "      <td>False</td>\n",
       "      <td>False</td>\n",
       "      <td>False</td>\n",
       "      <td>False</td>\n",
       "      <td>False</td>\n",
       "      <td>False</td>\n",
       "      <td>False</td>\n",
       "      <td>False</td>\n",
       "      <td>False</td>\n",
       "      <td>False</td>\n",
       "      <td>False</td>\n",
       "      <td>False</td>\n",
       "      <td>...</td>\n",
       "      <td>False</td>\n",
       "      <td>False</td>\n",
       "      <td>False</td>\n",
       "      <td>False</td>\n",
       "      <td>False</td>\n",
       "      <td>False</td>\n",
       "      <td>False</td>\n",
       "      <td>False</td>\n",
       "      <td>False</td>\n",
       "      <td>False</td>\n",
       "      <td>False</td>\n",
       "      <td>False</td>\n",
       "      <td>False</td>\n",
       "      <td>False</td>\n",
       "      <td>False</td>\n",
       "      <td>False</td>\n",
       "      <td>False</td>\n",
       "      <td>False</td>\n",
       "      <td>False</td>\n",
       "      <td>False</td>\n",
       "      <td>False</td>\n",
       "      <td>False</td>\n",
       "      <td>False</td>\n",
       "      <td>False</td>\n",
       "      <td>False</td>\n",
       "      <td>False</td>\n",
       "      <td>False</td>\n",
       "      <td>False</td>\n",
       "      <td>False</td>\n",
       "      <td>False</td>\n",
       "      <td>False</td>\n",
       "      <td>False</td>\n",
       "      <td>False</td>\n",
       "      <td>False</td>\n",
       "      <td>False</td>\n",
       "      <td>True</td>\n",
       "      <td>False</td>\n",
       "      <td>False</td>\n",
       "      <td>False</td>\n",
       "      <td>False</td>\n",
       "    </tr>\n",
       "    <tr>\n",
       "      <th>15</th>\n",
       "      <td>False</td>\n",
       "      <td>False</td>\n",
       "      <td>False</td>\n",
       "      <td>False</td>\n",
       "      <td>False</td>\n",
       "      <td>False</td>\n",
       "      <td>False</td>\n",
       "      <td>False</td>\n",
       "      <td>False</td>\n",
       "      <td>False</td>\n",
       "      <td>False</td>\n",
       "      <td>False</td>\n",
       "      <td>False</td>\n",
       "      <td>False</td>\n",
       "      <td>False</td>\n",
       "      <td>False</td>\n",
       "      <td>False</td>\n",
       "      <td>False</td>\n",
       "      <td>False</td>\n",
       "      <td>False</td>\n",
       "      <td>False</td>\n",
       "      <td>False</td>\n",
       "      <td>False</td>\n",
       "      <td>False</td>\n",
       "      <td>False</td>\n",
       "      <td>False</td>\n",
       "      <td>False</td>\n",
       "      <td>False</td>\n",
       "      <td>False</td>\n",
       "      <td>False</td>\n",
       "      <td>False</td>\n",
       "      <td>False</td>\n",
       "      <td>False</td>\n",
       "      <td>False</td>\n",
       "      <td>False</td>\n",
       "      <td>False</td>\n",
       "      <td>False</td>\n",
       "      <td>False</td>\n",
       "      <td>False</td>\n",
       "      <td>False</td>\n",
       "      <td>...</td>\n",
       "      <td>False</td>\n",
       "      <td>False</td>\n",
       "      <td>False</td>\n",
       "      <td>False</td>\n",
       "      <td>False</td>\n",
       "      <td>False</td>\n",
       "      <td>False</td>\n",
       "      <td>False</td>\n",
       "      <td>False</td>\n",
       "      <td>False</td>\n",
       "      <td>False</td>\n",
       "      <td>False</td>\n",
       "      <td>False</td>\n",
       "      <td>False</td>\n",
       "      <td>False</td>\n",
       "      <td>False</td>\n",
       "      <td>False</td>\n",
       "      <td>False</td>\n",
       "      <td>False</td>\n",
       "      <td>False</td>\n",
       "      <td>False</td>\n",
       "      <td>False</td>\n",
       "      <td>False</td>\n",
       "      <td>False</td>\n",
       "      <td>False</td>\n",
       "      <td>False</td>\n",
       "      <td>False</td>\n",
       "      <td>False</td>\n",
       "      <td>False</td>\n",
       "      <td>False</td>\n",
       "      <td>False</td>\n",
       "      <td>True</td>\n",
       "      <td>False</td>\n",
       "      <td>False</td>\n",
       "      <td>True</td>\n",
       "      <td>False</td>\n",
       "      <td>False</td>\n",
       "      <td>False</td>\n",
       "      <td>True</td>\n",
       "      <td>False</td>\n",
       "    </tr>\n",
       "    <tr>\n",
       "      <th>16</th>\n",
       "      <td>False</td>\n",
       "      <td>False</td>\n",
       "      <td>False</td>\n",
       "      <td>False</td>\n",
       "      <td>False</td>\n",
       "      <td>False</td>\n",
       "      <td>False</td>\n",
       "      <td>False</td>\n",
       "      <td>False</td>\n",
       "      <td>False</td>\n",
       "      <td>False</td>\n",
       "      <td>False</td>\n",
       "      <td>False</td>\n",
       "      <td>False</td>\n",
       "      <td>False</td>\n",
       "      <td>False</td>\n",
       "      <td>False</td>\n",
       "      <td>False</td>\n",
       "      <td>False</td>\n",
       "      <td>False</td>\n",
       "      <td>False</td>\n",
       "      <td>False</td>\n",
       "      <td>False</td>\n",
       "      <td>False</td>\n",
       "      <td>False</td>\n",
       "      <td>False</td>\n",
       "      <td>False</td>\n",
       "      <td>False</td>\n",
       "      <td>False</td>\n",
       "      <td>False</td>\n",
       "      <td>False</td>\n",
       "      <td>False</td>\n",
       "      <td>False</td>\n",
       "      <td>False</td>\n",
       "      <td>False</td>\n",
       "      <td>False</td>\n",
       "      <td>False</td>\n",
       "      <td>False</td>\n",
       "      <td>False</td>\n",
       "      <td>False</td>\n",
       "      <td>...</td>\n",
       "      <td>False</td>\n",
       "      <td>False</td>\n",
       "      <td>False</td>\n",
       "      <td>False</td>\n",
       "      <td>False</td>\n",
       "      <td>False</td>\n",
       "      <td>False</td>\n",
       "      <td>False</td>\n",
       "      <td>False</td>\n",
       "      <td>False</td>\n",
       "      <td>False</td>\n",
       "      <td>False</td>\n",
       "      <td>False</td>\n",
       "      <td>False</td>\n",
       "      <td>False</td>\n",
       "      <td>False</td>\n",
       "      <td>False</td>\n",
       "      <td>False</td>\n",
       "      <td>False</td>\n",
       "      <td>False</td>\n",
       "      <td>False</td>\n",
       "      <td>False</td>\n",
       "      <td>False</td>\n",
       "      <td>False</td>\n",
       "      <td>False</td>\n",
       "      <td>False</td>\n",
       "      <td>False</td>\n",
       "      <td>False</td>\n",
       "      <td>False</td>\n",
       "      <td>False</td>\n",
       "      <td>False</td>\n",
       "      <td>False</td>\n",
       "      <td>False</td>\n",
       "      <td>False</td>\n",
       "      <td>False</td>\n",
       "      <td>False</td>\n",
       "      <td>False</td>\n",
       "      <td>False</td>\n",
       "      <td>True</td>\n",
       "      <td>False</td>\n",
       "    </tr>\n",
       "    <tr>\n",
       "      <th>17</th>\n",
       "      <td>False</td>\n",
       "      <td>False</td>\n",
       "      <td>False</td>\n",
       "      <td>False</td>\n",
       "      <td>False</td>\n",
       "      <td>False</td>\n",
       "      <td>False</td>\n",
       "      <td>False</td>\n",
       "      <td>False</td>\n",
       "      <td>False</td>\n",
       "      <td>False</td>\n",
       "      <td>False</td>\n",
       "      <td>False</td>\n",
       "      <td>False</td>\n",
       "      <td>False</td>\n",
       "      <td>False</td>\n",
       "      <td>False</td>\n",
       "      <td>False</td>\n",
       "      <td>False</td>\n",
       "      <td>False</td>\n",
       "      <td>False</td>\n",
       "      <td>False</td>\n",
       "      <td>False</td>\n",
       "      <td>False</td>\n",
       "      <td>False</td>\n",
       "      <td>False</td>\n",
       "      <td>False</td>\n",
       "      <td>False</td>\n",
       "      <td>False</td>\n",
       "      <td>False</td>\n",
       "      <td>False</td>\n",
       "      <td>False</td>\n",
       "      <td>False</td>\n",
       "      <td>False</td>\n",
       "      <td>False</td>\n",
       "      <td>False</td>\n",
       "      <td>False</td>\n",
       "      <td>False</td>\n",
       "      <td>False</td>\n",
       "      <td>False</td>\n",
       "      <td>...</td>\n",
       "      <td>False</td>\n",
       "      <td>False</td>\n",
       "      <td>False</td>\n",
       "      <td>False</td>\n",
       "      <td>False</td>\n",
       "      <td>False</td>\n",
       "      <td>False</td>\n",
       "      <td>False</td>\n",
       "      <td>False</td>\n",
       "      <td>False</td>\n",
       "      <td>False</td>\n",
       "      <td>False</td>\n",
       "      <td>False</td>\n",
       "      <td>False</td>\n",
       "      <td>False</td>\n",
       "      <td>False</td>\n",
       "      <td>False</td>\n",
       "      <td>False</td>\n",
       "      <td>False</td>\n",
       "      <td>False</td>\n",
       "      <td>False</td>\n",
       "      <td>False</td>\n",
       "      <td>False</td>\n",
       "      <td>False</td>\n",
       "      <td>False</td>\n",
       "      <td>False</td>\n",
       "      <td>False</td>\n",
       "      <td>False</td>\n",
       "      <td>False</td>\n",
       "      <td>False</td>\n",
       "      <td>False</td>\n",
       "      <td>False</td>\n",
       "      <td>True</td>\n",
       "      <td>False</td>\n",
       "      <td>False</td>\n",
       "      <td>True</td>\n",
       "      <td>True</td>\n",
       "      <td>False</td>\n",
       "      <td>False</td>\n",
       "      <td>False</td>\n",
       "    </tr>\n",
       "    <tr>\n",
       "      <th>18</th>\n",
       "      <td>False</td>\n",
       "      <td>False</td>\n",
       "      <td>False</td>\n",
       "      <td>False</td>\n",
       "      <td>False</td>\n",
       "      <td>False</td>\n",
       "      <td>False</td>\n",
       "      <td>False</td>\n",
       "      <td>False</td>\n",
       "      <td>False</td>\n",
       "      <td>False</td>\n",
       "      <td>False</td>\n",
       "      <td>False</td>\n",
       "      <td>False</td>\n",
       "      <td>False</td>\n",
       "      <td>False</td>\n",
       "      <td>False</td>\n",
       "      <td>False</td>\n",
       "      <td>False</td>\n",
       "      <td>False</td>\n",
       "      <td>False</td>\n",
       "      <td>False</td>\n",
       "      <td>False</td>\n",
       "      <td>False</td>\n",
       "      <td>False</td>\n",
       "      <td>False</td>\n",
       "      <td>False</td>\n",
       "      <td>False</td>\n",
       "      <td>False</td>\n",
       "      <td>False</td>\n",
       "      <td>False</td>\n",
       "      <td>False</td>\n",
       "      <td>False</td>\n",
       "      <td>False</td>\n",
       "      <td>False</td>\n",
       "      <td>False</td>\n",
       "      <td>False</td>\n",
       "      <td>False</td>\n",
       "      <td>False</td>\n",
       "      <td>False</td>\n",
       "      <td>...</td>\n",
       "      <td>False</td>\n",
       "      <td>False</td>\n",
       "      <td>False</td>\n",
       "      <td>False</td>\n",
       "      <td>False</td>\n",
       "      <td>False</td>\n",
       "      <td>False</td>\n",
       "      <td>False</td>\n",
       "      <td>False</td>\n",
       "      <td>False</td>\n",
       "      <td>False</td>\n",
       "      <td>False</td>\n",
       "      <td>False</td>\n",
       "      <td>False</td>\n",
       "      <td>False</td>\n",
       "      <td>False</td>\n",
       "      <td>False</td>\n",
       "      <td>False</td>\n",
       "      <td>False</td>\n",
       "      <td>False</td>\n",
       "      <td>False</td>\n",
       "      <td>False</td>\n",
       "      <td>False</td>\n",
       "      <td>False</td>\n",
       "      <td>False</td>\n",
       "      <td>False</td>\n",
       "      <td>False</td>\n",
       "      <td>False</td>\n",
       "      <td>False</td>\n",
       "      <td>False</td>\n",
       "      <td>False</td>\n",
       "      <td>False</td>\n",
       "      <td>False</td>\n",
       "      <td>False</td>\n",
       "      <td>False</td>\n",
       "      <td>True</td>\n",
       "      <td>False</td>\n",
       "      <td>False</td>\n",
       "      <td>False</td>\n",
       "      <td>False</td>\n",
       "    </tr>\n",
       "    <tr>\n",
       "      <th>19</th>\n",
       "      <td>False</td>\n",
       "      <td>False</td>\n",
       "      <td>False</td>\n",
       "      <td>False</td>\n",
       "      <td>False</td>\n",
       "      <td>False</td>\n",
       "      <td>False</td>\n",
       "      <td>False</td>\n",
       "      <td>False</td>\n",
       "      <td>False</td>\n",
       "      <td>False</td>\n",
       "      <td>False</td>\n",
       "      <td>False</td>\n",
       "      <td>False</td>\n",
       "      <td>False</td>\n",
       "      <td>False</td>\n",
       "      <td>False</td>\n",
       "      <td>False</td>\n",
       "      <td>False</td>\n",
       "      <td>False</td>\n",
       "      <td>False</td>\n",
       "      <td>False</td>\n",
       "      <td>False</td>\n",
       "      <td>False</td>\n",
       "      <td>False</td>\n",
       "      <td>False</td>\n",
       "      <td>False</td>\n",
       "      <td>False</td>\n",
       "      <td>False</td>\n",
       "      <td>False</td>\n",
       "      <td>False</td>\n",
       "      <td>False</td>\n",
       "      <td>False</td>\n",
       "      <td>False</td>\n",
       "      <td>False</td>\n",
       "      <td>False</td>\n",
       "      <td>False</td>\n",
       "      <td>False</td>\n",
       "      <td>False</td>\n",
       "      <td>False</td>\n",
       "      <td>...</td>\n",
       "      <td>False</td>\n",
       "      <td>False</td>\n",
       "      <td>False</td>\n",
       "      <td>False</td>\n",
       "      <td>False</td>\n",
       "      <td>False</td>\n",
       "      <td>False</td>\n",
       "      <td>False</td>\n",
       "      <td>False</td>\n",
       "      <td>False</td>\n",
       "      <td>False</td>\n",
       "      <td>False</td>\n",
       "      <td>False</td>\n",
       "      <td>False</td>\n",
       "      <td>False</td>\n",
       "      <td>False</td>\n",
       "      <td>False</td>\n",
       "      <td>False</td>\n",
       "      <td>False</td>\n",
       "      <td>False</td>\n",
       "      <td>False</td>\n",
       "      <td>False</td>\n",
       "      <td>False</td>\n",
       "      <td>False</td>\n",
       "      <td>False</td>\n",
       "      <td>False</td>\n",
       "      <td>False</td>\n",
       "      <td>False</td>\n",
       "      <td>False</td>\n",
       "      <td>False</td>\n",
       "      <td>False</td>\n",
       "      <td>False</td>\n",
       "      <td>False</td>\n",
       "      <td>False</td>\n",
       "      <td>False</td>\n",
       "      <td>True</td>\n",
       "      <td>True</td>\n",
       "      <td>False</td>\n",
       "      <td>False</td>\n",
       "      <td>False</td>\n",
       "    </tr>\n",
       "  </tbody>\n",
       "</table>\n",
       "<p>20 rows × 156 columns</p>\n",
       "</div>"
      ],
      "text/plain": [
       "    0002:BARBER RETAIL  ...  0999:UNSCANNED ITEMS\n",
       "0                False  ...                 False\n",
       "1                False  ...                 False\n",
       "2                False  ...                 False\n",
       "3                False  ...                 False\n",
       "4                False  ...                 False\n",
       "5                False  ...                 False\n",
       "6                False  ...                 False\n",
       "7                False  ...                 False\n",
       "8                False  ...                 False\n",
       "9                False  ...                 False\n",
       "10               False  ...                 False\n",
       "11               False  ...                 False\n",
       "12               False  ...                 False\n",
       "13               False  ...                 False\n",
       "14               False  ...                 False\n",
       "15               False  ...                 False\n",
       "16               False  ...                 False\n",
       "17               False  ...                 False\n",
       "18               False  ...                 False\n",
       "19               False  ...                 False\n",
       "\n",
       "[20 rows x 156 columns]"
      ]
     },
     "execution_count": 40,
     "metadata": {},
     "output_type": "execute_result"
    }
   ],
   "source": [
    "# Verificar os primeiros registros\n",
    "df_transacoes_pivot.head(20)"
   ]
  }
 ],
 "metadata": {
  "kernelspec": {
   "display_name": "regras_associacao_market_basket_analysis-_irIEj8Q",
   "language": "python",
   "name": "python3"
  },
  "language_info": {
   "codemirror_mode": {
    "name": "ipython",
    "version": 3
   },
   "file_extension": ".py",
   "mimetype": "text/x-python",
   "name": "python",
   "nbconvert_exporter": "python",
   "pygments_lexer": "ipython3",
   "version": "3.12.1"
  }
 },
 "nbformat": 4,
 "nbformat_minor": 2
}
